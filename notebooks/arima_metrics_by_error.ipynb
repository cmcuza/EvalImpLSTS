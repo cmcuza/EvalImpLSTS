{
 "cells": [
  {
   "cell_type": "code",
   "execution_count": 1,
   "outputs": [
    {
     "data": {
      "text/plain": "<Figure size 432x288 with 0 Axes>"
     },
     "metadata": {},
     "output_type": "display_data"
    }
   ],
   "source": [
    "%matplotlib inline\n",
    "import os\n",
    "import pandas as pd\n",
    "import re\n",
    "import matplotlib.pyplot as plt\n",
    "import pickle as pkl\n",
    "import seaborn as sns\n",
    "from utils.metrics import *\n",
    "\n",
    "width = 6\n",
    "height = 4\n",
    "plt.figure(figsize=(width,height))\n",
    "sns.set(rc={\"figure.figsize\":(width, height)})\n",
    "root_baseline_data_path = '../output/%s/%s/%s/'\n",
    "seq_len = 96\n",
    "\n",
    "def get_borders(data_name, data_len):\n",
    "    border1s = [0, 12 * 30 * 24 * 4 - seq_len, 12 * 30 * 24 * 4 + 4 * 30 * 24 * 4 - seq_len]\n",
    "    border2s = [12 * 30 * 24 * 4, 12 * 30 * 24 * 4 + 4 * 30 * 24 * 4, 12 * 30 * 24 * 4 + 8 * 30 * 24 * 4]\n",
    "\n",
    "    if data_name.find('ett') != -1:\n",
    "        return border1s, border2s\n",
    "\n",
    "    num_train = int(data_len * 0.7)\n",
    "    num_test = int(data_len * 0.2)\n",
    "    num_vali = data_len - num_train - num_test\n",
    "    border1s = [0, num_train - seq_len, data_len - num_test - seq_len]\n",
    "    border2s = [num_train, num_train + num_vali, data_len]\n",
    "\n",
    "    return border1s, border2s\n",
    "\n",
    "def get_raw_columns(columns):\n",
    "    return [col for col in columns if 'R' in col]\n",
    "\n",
    "\n",
    "def get_eb_columns(columns, eb):\n",
    "    return [col for col in columns if col.endswith(f'E{eb}')]\n",
    "\n",
    "\n",
    "def get_eb(exp_str):\n",
    "    eb = re.findall('eb[_.0-9]+', exp_str)[0]\n",
    "    eb = eb.replace('eb', '')\n",
    "    eb = eb.replace('_', '')\n",
    "    eb = float(eb)\n",
    "    if eb >= 1:\n",
    "        eb *= 0.01\n",
    "\n",
    "    return eb\n",
    "\n",
    "\n",
    "def load(path):\n",
    "    with open(path, 'rb') as f:\n",
    "        return pkl.load(f)\n",
    "\n",
    "\n",
    "def metrics_ensemble(pred, true):\n",
    "    mae = MAE(pred, true)\n",
    "    rmse = RMSE(pred, true)\n",
    "    rse = RSE(pred, true)\n",
    "    nrmse = NRMSE(pred, true)\n",
    "    corr = CORR(pred, true)\n",
    "    psnr = PSNR(pred, true)\n",
    "\n",
    "    return {'mae': mae,\n",
    "            'rmse': rmse,\n",
    "            'nrmse': nrmse,\n",
    "            'rse': rse,\n",
    "            'corr': corr,\n",
    "            'psnr': psnr}\n",
    "\n",
    "\n",
    "def load_pkl(path):\n",
    "    with open(path, 'rb') as f:\n",
    "        return pkl.load(f)\n",
    "\n",
    "\n",
    "def get_baseline(model:str, data:str):\n",
    "    raw_data_path = root_baseline_data_path%(model, data, 'raw') + 'true.pkl'\n",
    "    raw_data = load(raw_data_path)\n",
    "\n",
    "    predictions_path = root_baseline_data_path%(model, data, 'raw') + 'output.pkl'\n",
    "    pred_data = load(predictions_path)\n",
    "    results = metrics_ensemble(pred_data, raw_data)\n",
    "    df = pd.DataFrame(results, index=[0.0])\n",
    "    df.index.name = 'eb'\n",
    "    return df\n",
    "\n",
    "\n",
    "def get_forecasting_results(model: str, data_file: str, data_name: str,\n",
    "                            eblc_name: str, target_ot: str, ebs_values: tuple):\n",
    "    df = pd.read_parquet(f'../data/compressed/{eblc_name}/{data_file}')\n",
    "    tmetrics = []\n",
    "    ebs = []\n",
    "    border1s, border2s = get_borders(data_name, len(df))\n",
    "    raw_df = df[f'{target_ot}-R'].values[border1s[2]:border2s[2]]\n",
    "    for eb in ebs_values:\n",
    "        decomp_target_var = df[[f'{target_ot}-E{eb}']].values[border1s[2]:border2s[2]][:, 0]\n",
    "        results = metrics_ensemble(decomp_target_var, raw_df)\n",
    "        tmetrics.append(results)\n",
    "        ebs.append(eb)\n",
    "\n",
    "    df = pd.DataFrame(tmetrics)\n",
    "    df['eb'] = ebs\n",
    "    de = df.groupby(['eb']).median()\n",
    "\n",
    "    raw_data_path = root_baseline_data_path%(model, data_name, 'raw') + 'true.pkl'\n",
    "    raw_data = load(raw_data_path)\n",
    "\n",
    "    tmetrics = []\n",
    "    ebs = []\n",
    "    for root, dr, files in os.walk(root_baseline_data_path%(model, data_name, eblc_name)+ 'predictions'):\n",
    "        for file in files:\n",
    "            results = metrics_ensemble(load(root+os.sep+file), raw_data)\n",
    "            tmetrics.append(results)\n",
    "            ebs.append(get_eb(file))\n",
    "\n",
    "    df = pd.DataFrame(tmetrics)\n",
    "    df['eb'] = ebs\n",
    "    fr = df.groupby(['eb']).median()\n",
    "    fr.sort_index(inplace=True)\n",
    "    return fr, de\n",
    "\n",
    "\n",
    "def get_solar_baseline_true():\n",
    "    var_map = dict()\n",
    "    all_results = list()\n",
    "    all_true = dict()\n",
    "    for root, dr, files in os.walk('../output/arima/solar/raw/'):\n",
    "        for file in files:\n",
    "            t, var = file.strip('.pkl').split('_')\n",
    "            if var in var_map:\n",
    "                ifile = var_map[var]\n",
    "                pf = load_pkl(f'../output/arima/solar/raw/{ifile}')\n",
    "                nf = load_pkl(f'../output/arima/solar/raw/{file}')\n",
    "                if 'true' in ifile:\n",
    "                    all_true[var] = pf\n",
    "                    results = metrics_ensemble(nf, pf)\n",
    "                else:\n",
    "                    all_true[var] = nf\n",
    "                    results = metrics_ensemble(pf, nf)\n",
    "                all_results.append(results)\n",
    "            else:\n",
    "                var_map[var] = file\n",
    "    df = pd.DataFrame(all_results)\n",
    "    df = df.mean().to_frame().T\n",
    "    df.index._name = 'eb'\n",
    "    return df, all_true\n",
    "\n",
    "def get_forecasting_results_solar(model: str, eblc_name: str, ebs_values: tuple):\n",
    "    df = pd.read_parquet(f'../data/compressed/{eblc_name}/solar_output_data_points.parquet')\n",
    "    tmetrics = []\n",
    "    ebs = []\n",
    "    border1s, border2s = get_borders('solar', len(df))\n",
    "    raw_columns = get_raw_columns(df.columns)\n",
    "    raw_df = df[raw_columns].values[border1s[2]:border2s[2]]\n",
    "    for eb in ebs_values:\n",
    "        eb_columns = get_eb_columns(df.columns, eb)\n",
    "        decomp_target_var = df[eb_columns].values[border1s[2]:border2s[2]]\n",
    "        results = metrics_ensemble(decomp_target_var, raw_df)\n",
    "        tmetrics.append(results)\n",
    "        ebs.append(eb)\n",
    "\n",
    "    df = pd.DataFrame(tmetrics)\n",
    "    df['eb'] = ebs\n",
    "    de = df.groupby(['eb']).mean()\n",
    "\n",
    "    solar_baseline, raw_data_map = get_solar_baseline_true()\n",
    "    all_results = []\n",
    "    ebs = []\n",
    "    # tvars = []\n",
    "    for root, dr, files in os.walk(root_baseline_data_path%(model, 'solar', eblc_name)+ 'predictions'):\n",
    "        for file in files:\n",
    "            var = re.findall('v[0-9]+', file)[0]\n",
    "            results = metrics_ensemble(load(root+os.sep+file), raw_data_map[var])\n",
    "            all_results.append(results)\n",
    "            ebs.append(get_eb(file))\n",
    "            # tvars.append(var)\n",
    "\n",
    "    df = pd.DataFrame(all_results)\n",
    "    df['eb'] = ebs\n",
    "    fr = df.groupby(['eb']).mean()\n",
    "    fr.sort_index(inplace=True)\n",
    "    return solar_baseline, fr, de\n",
    "\n",
    "\n",
    "def get_transformation_error(data_file: str, data_name: str,\n",
    "                            eblc_name: str, target_ot: str, ebs_values: tuple):\n",
    "    df = pd.read_parquet(f'../data/compressed/{eblc_name}/{data_file}')\n",
    "    tmetrics = []\n",
    "    ebs = []\n",
    "    border1s, border2s = get_borders(data_name, len(df))\n",
    "    raw_df = df[f'{target_ot}-R'].values[border1s[2]:border2s[2]]\n",
    "    for eb in ebs_values:\n",
    "        decomp_target_var = df[[f'{target_ot}-E{eb}']].values[border1s[2]:border2s[2]][:, 0]\n",
    "        results = metrics_ensemble(decomp_target_var, raw_df)\n",
    "        tmetrics.append(results)\n",
    "        ebs.append(eb)\n",
    "\n",
    "    df = pd.DataFrame(tmetrics)\n",
    "    df['eb'] = ebs\n",
    "    return df\n",
    "\n",
    "\n",
    "def concat_baseline_forecasting_result(br, fr, de):\n",
    "    concat_forecasting_results = pd.concat([br, fr], axis=0)\n",
    "    metric_indexed_results = pd.DataFrame()\n",
    "    metric_indexed_results['error'] = [0.0]+list(de['nrmse'].values)\n",
    "    metric_indexed_results['mae'] = concat_forecasting_results['mae'].values\n",
    "    metric_indexed_results['rmse'] = concat_forecasting_results['rmse'].values\n",
    "    metric_indexed_results['nrmse'] = concat_forecasting_results['nrmse'].values\n",
    "    metric_indexed_results['rse'] = concat_forecasting_results['rse'].values\n",
    "    metric_indexed_results['corr'] = concat_forecasting_results['corr'].values\n",
    "    metric_indexed_results['data_corr'] = [1.0]+list(de['corr'].values)\n",
    "    metric_indexed_results.set_index('error', inplace=True)\n",
    "    metric_indexed_results['eb'] = [0.0]+list(de.index)\n",
    "    return metric_indexed_results\n",
    "\n"
   ],
   "metadata": {
    "collapsed": false,
    "ExecuteTime": {
     "end_time": "2023-09-22T10:23:19.323350700Z",
     "start_time": "2023-09-22T10:23:19.304341500Z"
    }
   }
  },
  {
   "cell_type": "code",
   "execution_count": 20,
   "outputs": [
    {
     "name": "stdout",
     "output_type": "stream",
     "text": [
      "pmc ettm1\n",
      "swing ettm1\n",
      "sz ettm1\n",
      "pmc ettm2\n",
      "swing ettm2\n",
      "sz ettm2\n",
      "pmc pweather\n",
      "swing pweather\n",
      "sz pweather\n",
      "pmc aus\n",
      "swing aus\n",
      "sz aus\n",
      "pmc solar\n",
      "swing solar\n",
      "sz solar\n",
      "pmc wind\n",
      "swing wind\n",
      "sz wind\n"
     ]
    }
   ],
   "source": [
    "target_variables_map = {'ettm1':'OT', 'ettm2': 'OT', 'aus_electrical_demand': 'y', 'pweather': 'OT', 'wind': 'active power'}\n",
    "bounds = [(0.01, 0.03, 0.05, 0.07, 0.10, 0.15, 0.20, 0.25, 0.30, 0.40, 0.50, 0.65, 0.8), (1, 3, 5, 7, 10, 15, 20, 25, 30, 40, 50, 65, 80),\n",
    "          (1.0, 1.3, 1.5, 1.7, 2.0, 2.3, 2.5, 2.7, 3.0, 5.0, 7.0, 10.0), (0.01, 0.013, 0.015, 0.017, 0.02, 0.023, 0.025, 0.027, 0.03, 0.05, 0.07, 0.1)]\n",
    "all_results = pd.DataFrame()\n",
    "for data in ['ettm1', 'ettm2', 'pweather', 'aus', 'solar', 'wind']:\n",
    "    data_results = pd.DataFrame()\n",
    "    for eblc in ['pmc', 'swing', 'sz']:\n",
    "        print(eblc, data)\n",
    "        if 'solar' in data:\n",
    "            if eblc == 'sz':\n",
    "                continue\n",
    "            baseline_results, forecasting_results, dec_error = get_forecasting_results_solar(model='arima', eblc_name=eblc, ebs_values=bounds[0] if eblc == 'sz' else bounds[1])\n",
    "        elif 'aus' in data:\n",
    "            baseline_results = get_baseline('arima', 'aus')\n",
    "            forecasting_results, dec_error = get_forecasting_results(model='arima',\n",
    "                                                                     data_file=f'aus_electrical_demand_points.parquet',\n",
    "                                                                     data_name='aus',\n",
    "                                                                     eblc_name=eblc,\n",
    "                                                                     target_ot='y',\n",
    "                                                                     ebs_values=bounds[0] if eblc == 'sz' else np.asarray(bounds[1])*1.0)\n",
    "        elif 'weather' in data:\n",
    "            baseline_results = get_baseline('arima', data)\n",
    "            forecasting_results, dec_error = get_forecasting_results(model='arima',\n",
    "                                                                     data_file=f'{data}_output_data_points.parquet',\n",
    "                                                                     data_name=data,\n",
    "                                                                     eblc_name=eblc,\n",
    "                                                                     target_ot=target_variables_map[data] if eblc == 'sz' else target_variables_map[data].replace(' ', '_'),\n",
    "                                                                     ebs_values=bounds[3] if eblc == 'sz' else bounds[2])\n",
    "        elif 'wind' in data:\n",
    "            if eblc == 'sz':\n",
    "                continue\n",
    "            baseline_results = get_baseline('arima', data)\n",
    "            forecasting_results, dec_error = get_forecasting_results(model='arima',\n",
    "                                                                     data_file=f'{data}_output_data_points.parquet',\n",
    "                                                                     data_name=data,\n",
    "                                                                     eblc_name=eblc,\n",
    "                                                                     target_ot=target_variables_map[data] if eblc == 'sz' else target_variables_map[data].replace(' ', '_'),\n",
    "                                                                     ebs_values=bounds[0] if eblc == 'sz' else bounds[1])\n",
    "        else:\n",
    "            baseline_results = get_baseline('arima', data)\n",
    "            forecasting_results, dec_error = get_forecasting_results(model='arima',\n",
    "                                                                     data_file=f'{data}_output_data_points.parquet',\n",
    "                                                                     data_name=data,\n",
    "                                                                     eblc_name=eblc,\n",
    "                                                                     target_ot=target_variables_map[data] if eblc == 'sz' else target_variables_map[data].replace(' ', '_'),\n",
    "                                                                     ebs_values=bounds[0] if eblc == 'sz' else bounds[1])\n",
    "\n",
    "        concatenated = concat_baseline_forecasting_result(baseline_results, forecasting_results, dec_error)\n",
    "        concatenated['eblc'] = eblc\n",
    "        concatenated.at[0, 'eblc'] = 'baseline'\n",
    "        data_results = pd.concat([data_results, concatenated])\n",
    "        data_results.drop_duplicates(inplace=True)\n",
    "\n",
    "    data_results['data'] = data\n",
    "    all_results = pd.concat([all_results, data_results])\n",
    "all_results.to_csv('../results/tfe/per_model/arima_results.csv')"
   ],
   "metadata": {
    "collapsed": false,
    "ExecuteTime": {
     "end_time": "2023-09-22T14:44:15.914004100Z",
     "start_time": "2023-09-22T14:44:08.447809300Z"
    }
   }
  },
  {
   "cell_type": "code",
   "execution_count": 28,
   "outputs": [
    {
     "name": "stdout",
     "output_type": "stream",
     "text": [
      "sz ettm1\n",
      "pmc ettm1\n",
      "swing ettm1\n",
      "sz ettm2\n",
      "pmc ettm2\n",
      "swing ettm2\n"
     ]
    }
   ],
   "source": [
    "bounds = [(0.01, 0.03, 0.05, 0.07, 0.10, 0.15, 0.20, 0.25, 0.30, 0.40), (1, 3, 5, 7, 10, 15, 20, 25, 30, 40)]\n",
    "all_results = pd.DataFrame()\n",
    "for data in ['ettm1', 'ettm2']:\n",
    "    data_results = pd.DataFrame()\n",
    "    for eblc in ['sz', 'pmc', 'swing']:\n",
    "        print(eblc, data)\n",
    "        baseline_results = get_baseline('arima', data)\n",
    "        forecasting_results, dec_error = get_forecasting_results(model='arima_retrain',\n",
    "                                                                     data_file=f'{data}_output_data_points.parquet',\n",
    "                                                                     data_name=data,\n",
    "                                                                     eblc_name=eblc,\n",
    "                                                                     target_ot='OT',\n",
    "                                                                     ebs_values=bounds[0] if eblc == 'sz' else bounds[1])\n",
    "\n",
    "        concatenated = concat_baseline_forecasting_result(baseline_results, forecasting_results, dec_error)\n",
    "        concatenated['eblc'] = eblc\n",
    "        concatenated.at[0, 'eblc'] = 'baseline'\n",
    "        data_results = pd.concat([data_results, concatenated])\n",
    "        data_results.drop_duplicates(inplace=True)\n",
    "\n",
    "    data_results['data'] = data\n",
    "    all_results = pd.concat([all_results, data_results])\n",
    "\n",
    "all_results.to_csv('../results/tfe/arima_retrain_results.csv')"
   ],
   "metadata": {
    "collapsed": false,
    "ExecuteTime": {
     "end_time": "2023-09-24T11:42:32.735672Z",
     "start_time": "2023-09-24T11:42:32.318808700Z"
    }
   }
  },
  {
   "cell_type": "code",
   "execution_count": 25,
   "outputs": [
    {
     "data": {
      "text/plain": "               mae      rmse     nrmse       rse      corr  data_corr     eb  \\\nerror                                                                          \n0.000000  0.089124  0.120130  0.054187  0.315744  0.950305   1.000000   0.00   \n0.001670  0.089440  0.121257  0.054695  0.318705  0.949550   0.999953   0.01   \n0.005031  0.089944  0.122301  0.055166  0.321449  0.948914   0.999572   0.03   \n0.008321  0.090756  0.122911  0.055441  0.323053  0.948343   0.998839   0.05   \n0.011922  0.093041  0.124886  0.056332  0.328245  0.946184   0.997638   0.07   \n0.016981  0.097073  0.130055  0.058663  0.341830  0.941835   0.995373   0.10   \n0.023518  0.098091  0.129586  0.058452  0.340598  0.942471   0.991099   0.15   \n0.030747  0.106569  0.139752  0.063037  0.367315  0.935686   0.984847   0.20   \n0.041330  0.106376  0.138694  0.062560  0.364536  0.940724   0.974098   0.25   \n0.044618  0.113283  0.147266  0.066427  0.387066  0.933076   0.972347   0.30   \n0.071355  0.112050  0.145171  0.065481  0.381559  0.927196   0.948822   0.40   \n0.001384  0.089497  0.122046  0.055051  0.320778  0.949272   0.999968   1.00   \n0.004637  0.088744  0.120031  0.054142  0.315484  0.950615   0.999635   3.00   \n0.007517  0.088360  0.119868  0.054068  0.315055  0.950738   0.999041   5.00   \n0.009971  0.086975  0.117788  0.053130  0.309587  0.952508   0.998312   7.00   \n0.013367  0.083727  0.114176  0.051501  0.300094  0.955667   0.996965  10.00   \n0.019534  0.081221  0.112550  0.050768  0.295822  0.957196   0.993508  15.00   \n0.025014  0.083975  0.116509  0.052553  0.306227  0.954893   0.989332  20.00   \n0.031257  0.089479  0.124586  0.056197  0.327456  0.948958   0.983292  25.00   \n0.035938  0.095010  0.129779  0.058539  0.341105  0.945844   0.977854  30.00   \n0.044556  0.105705  0.139909  0.063108  0.367729  0.939693   0.965756  40.00   \n0.000000  0.102163  0.150611  0.044731  0.242830  0.971026   1.000000   0.00   \n0.002304  0.103870  0.152182  0.045198  0.245363  0.970568   0.999923   0.01   \n0.006608  0.109902  0.156696  0.046538  0.252641  0.968832   0.999359   0.03   \n0.011047  0.120884  0.165289  0.049091  0.266496  0.964436   0.998234   0.05   \n0.015360  0.126203  0.168990  0.050190  0.272463  0.963047   0.996554   0.07   \n0.021435  0.134575  0.174754  0.051902  0.281757  0.959783   0.993504   0.10   \n0.032490  0.146489  0.186671  0.055441  0.300970  0.954307   0.985727   0.15   \n0.043671  0.165238  0.208681  0.061978  0.336456  0.947216   0.973996   0.20   \n0.055875  0.191491  0.236249  0.070165  0.380905  0.937983   0.961821   0.25   \n0.063506  0.200639  0.248226  0.073723  0.400216  0.936782   0.954120   0.30   \n0.090346  0.207276  0.258924  0.076900  0.417465  0.916733   0.924322   0.40   \n0.001944  0.104300  0.152601  0.045322  0.246039  0.970372   0.999944   1.00   \n0.006423  0.109824  0.155421  0.046160  0.250587  0.968977   0.999391   3.00   \n0.010461  0.114698  0.159249  0.047297  0.256758  0.967169   0.998385   5.00   \n0.014395  0.120107  0.163752  0.048634  0.264018  0.964890   0.996940   7.00   \n0.019738  0.128824  0.171790  0.051021  0.276978  0.961362   0.994239  10.00   \n0.028233  0.149158  0.204651  0.060781  0.329960  0.947017   0.988177  15.00   \n0.037129  0.162291  0.226028  0.067130  0.364426  0.935496   0.979463  20.00   \n0.045877  0.186470  0.260212  0.077282  0.419540  0.914449   0.968470  25.00   \n0.056183  0.208275  0.285436  0.084774  0.460210  0.897460   0.952328  30.00   \n0.072028  0.247327  0.326174  0.096873  0.525891  0.872422   0.920332  40.00   \n\n              eblc   data  \nerror                      \n0.000000  baseline  ettm1  \n0.001670        sz  ettm1  \n0.005031        sz  ettm1  \n0.008321        sz  ettm1  \n0.011922        sz  ettm1  \n0.016981        sz  ettm1  \n0.023518        sz  ettm1  \n0.030747        sz  ettm1  \n0.041330        sz  ettm1  \n0.044618        sz  ettm1  \n0.071355        sz  ettm1  \n0.001384       pmc  ettm1  \n0.004637       pmc  ettm1  \n0.007517       pmc  ettm1  \n0.009971       pmc  ettm1  \n0.013367       pmc  ettm1  \n0.019534       pmc  ettm1  \n0.025014       pmc  ettm1  \n0.031257       pmc  ettm1  \n0.035938       pmc  ettm1  \n0.044556       pmc  ettm1  \n0.000000  baseline  ettm2  \n0.002304        sz  ettm2  \n0.006608        sz  ettm2  \n0.011047        sz  ettm2  \n0.015360        sz  ettm2  \n0.021435        sz  ettm2  \n0.032490        sz  ettm2  \n0.043671        sz  ettm2  \n0.055875        sz  ettm2  \n0.063506        sz  ettm2  \n0.090346        sz  ettm2  \n0.001944       pmc  ettm2  \n0.006423       pmc  ettm2  \n0.010461       pmc  ettm2  \n0.014395       pmc  ettm2  \n0.019738       pmc  ettm2  \n0.028233       pmc  ettm2  \n0.037129       pmc  ettm2  \n0.045877       pmc  ettm2  \n0.056183       pmc  ettm2  \n0.072028       pmc  ettm2  ",
      "text/html": "<div>\n<style scoped>\n    .dataframe tbody tr th:only-of-type {\n        vertical-align: middle;\n    }\n\n    .dataframe tbody tr th {\n        vertical-align: top;\n    }\n\n    .dataframe thead th {\n        text-align: right;\n    }\n</style>\n<table border=\"1\" class=\"dataframe\">\n  <thead>\n    <tr style=\"text-align: right;\">\n      <th></th>\n      <th>mae</th>\n      <th>rmse</th>\n      <th>nrmse</th>\n      <th>rse</th>\n      <th>corr</th>\n      <th>data_corr</th>\n      <th>eb</th>\n      <th>eblc</th>\n      <th>data</th>\n    </tr>\n    <tr>\n      <th>error</th>\n      <th></th>\n      <th></th>\n      <th></th>\n      <th></th>\n      <th></th>\n      <th></th>\n      <th></th>\n      <th></th>\n      <th></th>\n    </tr>\n  </thead>\n  <tbody>\n    <tr>\n      <th>0.000000</th>\n      <td>0.089124</td>\n      <td>0.120130</td>\n      <td>0.054187</td>\n      <td>0.315744</td>\n      <td>0.950305</td>\n      <td>1.000000</td>\n      <td>0.00</td>\n      <td>baseline</td>\n      <td>ettm1</td>\n    </tr>\n    <tr>\n      <th>0.001670</th>\n      <td>0.089440</td>\n      <td>0.121257</td>\n      <td>0.054695</td>\n      <td>0.318705</td>\n      <td>0.949550</td>\n      <td>0.999953</td>\n      <td>0.01</td>\n      <td>sz</td>\n      <td>ettm1</td>\n    </tr>\n    <tr>\n      <th>0.005031</th>\n      <td>0.089944</td>\n      <td>0.122301</td>\n      <td>0.055166</td>\n      <td>0.321449</td>\n      <td>0.948914</td>\n      <td>0.999572</td>\n      <td>0.03</td>\n      <td>sz</td>\n      <td>ettm1</td>\n    </tr>\n    <tr>\n      <th>0.008321</th>\n      <td>0.090756</td>\n      <td>0.122911</td>\n      <td>0.055441</td>\n      <td>0.323053</td>\n      <td>0.948343</td>\n      <td>0.998839</td>\n      <td>0.05</td>\n      <td>sz</td>\n      <td>ettm1</td>\n    </tr>\n    <tr>\n      <th>0.011922</th>\n      <td>0.093041</td>\n      <td>0.124886</td>\n      <td>0.056332</td>\n      <td>0.328245</td>\n      <td>0.946184</td>\n      <td>0.997638</td>\n      <td>0.07</td>\n      <td>sz</td>\n      <td>ettm1</td>\n    </tr>\n    <tr>\n      <th>0.016981</th>\n      <td>0.097073</td>\n      <td>0.130055</td>\n      <td>0.058663</td>\n      <td>0.341830</td>\n      <td>0.941835</td>\n      <td>0.995373</td>\n      <td>0.10</td>\n      <td>sz</td>\n      <td>ettm1</td>\n    </tr>\n    <tr>\n      <th>0.023518</th>\n      <td>0.098091</td>\n      <td>0.129586</td>\n      <td>0.058452</td>\n      <td>0.340598</td>\n      <td>0.942471</td>\n      <td>0.991099</td>\n      <td>0.15</td>\n      <td>sz</td>\n      <td>ettm1</td>\n    </tr>\n    <tr>\n      <th>0.030747</th>\n      <td>0.106569</td>\n      <td>0.139752</td>\n      <td>0.063037</td>\n      <td>0.367315</td>\n      <td>0.935686</td>\n      <td>0.984847</td>\n      <td>0.20</td>\n      <td>sz</td>\n      <td>ettm1</td>\n    </tr>\n    <tr>\n      <th>0.041330</th>\n      <td>0.106376</td>\n      <td>0.138694</td>\n      <td>0.062560</td>\n      <td>0.364536</td>\n      <td>0.940724</td>\n      <td>0.974098</td>\n      <td>0.25</td>\n      <td>sz</td>\n      <td>ettm1</td>\n    </tr>\n    <tr>\n      <th>0.044618</th>\n      <td>0.113283</td>\n      <td>0.147266</td>\n      <td>0.066427</td>\n      <td>0.387066</td>\n      <td>0.933076</td>\n      <td>0.972347</td>\n      <td>0.30</td>\n      <td>sz</td>\n      <td>ettm1</td>\n    </tr>\n    <tr>\n      <th>0.071355</th>\n      <td>0.112050</td>\n      <td>0.145171</td>\n      <td>0.065481</td>\n      <td>0.381559</td>\n      <td>0.927196</td>\n      <td>0.948822</td>\n      <td>0.40</td>\n      <td>sz</td>\n      <td>ettm1</td>\n    </tr>\n    <tr>\n      <th>0.001384</th>\n      <td>0.089497</td>\n      <td>0.122046</td>\n      <td>0.055051</td>\n      <td>0.320778</td>\n      <td>0.949272</td>\n      <td>0.999968</td>\n      <td>1.00</td>\n      <td>pmc</td>\n      <td>ettm1</td>\n    </tr>\n    <tr>\n      <th>0.004637</th>\n      <td>0.088744</td>\n      <td>0.120031</td>\n      <td>0.054142</td>\n      <td>0.315484</td>\n      <td>0.950615</td>\n      <td>0.999635</td>\n      <td>3.00</td>\n      <td>pmc</td>\n      <td>ettm1</td>\n    </tr>\n    <tr>\n      <th>0.007517</th>\n      <td>0.088360</td>\n      <td>0.119868</td>\n      <td>0.054068</td>\n      <td>0.315055</td>\n      <td>0.950738</td>\n      <td>0.999041</td>\n      <td>5.00</td>\n      <td>pmc</td>\n      <td>ettm1</td>\n    </tr>\n    <tr>\n      <th>0.009971</th>\n      <td>0.086975</td>\n      <td>0.117788</td>\n      <td>0.053130</td>\n      <td>0.309587</td>\n      <td>0.952508</td>\n      <td>0.998312</td>\n      <td>7.00</td>\n      <td>pmc</td>\n      <td>ettm1</td>\n    </tr>\n    <tr>\n      <th>0.013367</th>\n      <td>0.083727</td>\n      <td>0.114176</td>\n      <td>0.051501</td>\n      <td>0.300094</td>\n      <td>0.955667</td>\n      <td>0.996965</td>\n      <td>10.00</td>\n      <td>pmc</td>\n      <td>ettm1</td>\n    </tr>\n    <tr>\n      <th>0.019534</th>\n      <td>0.081221</td>\n      <td>0.112550</td>\n      <td>0.050768</td>\n      <td>0.295822</td>\n      <td>0.957196</td>\n      <td>0.993508</td>\n      <td>15.00</td>\n      <td>pmc</td>\n      <td>ettm1</td>\n    </tr>\n    <tr>\n      <th>0.025014</th>\n      <td>0.083975</td>\n      <td>0.116509</td>\n      <td>0.052553</td>\n      <td>0.306227</td>\n      <td>0.954893</td>\n      <td>0.989332</td>\n      <td>20.00</td>\n      <td>pmc</td>\n      <td>ettm1</td>\n    </tr>\n    <tr>\n      <th>0.031257</th>\n      <td>0.089479</td>\n      <td>0.124586</td>\n      <td>0.056197</td>\n      <td>0.327456</td>\n      <td>0.948958</td>\n      <td>0.983292</td>\n      <td>25.00</td>\n      <td>pmc</td>\n      <td>ettm1</td>\n    </tr>\n    <tr>\n      <th>0.035938</th>\n      <td>0.095010</td>\n      <td>0.129779</td>\n      <td>0.058539</td>\n      <td>0.341105</td>\n      <td>0.945844</td>\n      <td>0.977854</td>\n      <td>30.00</td>\n      <td>pmc</td>\n      <td>ettm1</td>\n    </tr>\n    <tr>\n      <th>0.044556</th>\n      <td>0.105705</td>\n      <td>0.139909</td>\n      <td>0.063108</td>\n      <td>0.367729</td>\n      <td>0.939693</td>\n      <td>0.965756</td>\n      <td>40.00</td>\n      <td>pmc</td>\n      <td>ettm1</td>\n    </tr>\n    <tr>\n      <th>0.000000</th>\n      <td>0.102163</td>\n      <td>0.150611</td>\n      <td>0.044731</td>\n      <td>0.242830</td>\n      <td>0.971026</td>\n      <td>1.000000</td>\n      <td>0.00</td>\n      <td>baseline</td>\n      <td>ettm2</td>\n    </tr>\n    <tr>\n      <th>0.002304</th>\n      <td>0.103870</td>\n      <td>0.152182</td>\n      <td>0.045198</td>\n      <td>0.245363</td>\n      <td>0.970568</td>\n      <td>0.999923</td>\n      <td>0.01</td>\n      <td>sz</td>\n      <td>ettm2</td>\n    </tr>\n    <tr>\n      <th>0.006608</th>\n      <td>0.109902</td>\n      <td>0.156696</td>\n      <td>0.046538</td>\n      <td>0.252641</td>\n      <td>0.968832</td>\n      <td>0.999359</td>\n      <td>0.03</td>\n      <td>sz</td>\n      <td>ettm2</td>\n    </tr>\n    <tr>\n      <th>0.011047</th>\n      <td>0.120884</td>\n      <td>0.165289</td>\n      <td>0.049091</td>\n      <td>0.266496</td>\n      <td>0.964436</td>\n      <td>0.998234</td>\n      <td>0.05</td>\n      <td>sz</td>\n      <td>ettm2</td>\n    </tr>\n    <tr>\n      <th>0.015360</th>\n      <td>0.126203</td>\n      <td>0.168990</td>\n      <td>0.050190</td>\n      <td>0.272463</td>\n      <td>0.963047</td>\n      <td>0.996554</td>\n      <td>0.07</td>\n      <td>sz</td>\n      <td>ettm2</td>\n    </tr>\n    <tr>\n      <th>0.021435</th>\n      <td>0.134575</td>\n      <td>0.174754</td>\n      <td>0.051902</td>\n      <td>0.281757</td>\n      <td>0.959783</td>\n      <td>0.993504</td>\n      <td>0.10</td>\n      <td>sz</td>\n      <td>ettm2</td>\n    </tr>\n    <tr>\n      <th>0.032490</th>\n      <td>0.146489</td>\n      <td>0.186671</td>\n      <td>0.055441</td>\n      <td>0.300970</td>\n      <td>0.954307</td>\n      <td>0.985727</td>\n      <td>0.15</td>\n      <td>sz</td>\n      <td>ettm2</td>\n    </tr>\n    <tr>\n      <th>0.043671</th>\n      <td>0.165238</td>\n      <td>0.208681</td>\n      <td>0.061978</td>\n      <td>0.336456</td>\n      <td>0.947216</td>\n      <td>0.973996</td>\n      <td>0.20</td>\n      <td>sz</td>\n      <td>ettm2</td>\n    </tr>\n    <tr>\n      <th>0.055875</th>\n      <td>0.191491</td>\n      <td>0.236249</td>\n      <td>0.070165</td>\n      <td>0.380905</td>\n      <td>0.937983</td>\n      <td>0.961821</td>\n      <td>0.25</td>\n      <td>sz</td>\n      <td>ettm2</td>\n    </tr>\n    <tr>\n      <th>0.063506</th>\n      <td>0.200639</td>\n      <td>0.248226</td>\n      <td>0.073723</td>\n      <td>0.400216</td>\n      <td>0.936782</td>\n      <td>0.954120</td>\n      <td>0.30</td>\n      <td>sz</td>\n      <td>ettm2</td>\n    </tr>\n    <tr>\n      <th>0.090346</th>\n      <td>0.207276</td>\n      <td>0.258924</td>\n      <td>0.076900</td>\n      <td>0.417465</td>\n      <td>0.916733</td>\n      <td>0.924322</td>\n      <td>0.40</td>\n      <td>sz</td>\n      <td>ettm2</td>\n    </tr>\n    <tr>\n      <th>0.001944</th>\n      <td>0.104300</td>\n      <td>0.152601</td>\n      <td>0.045322</td>\n      <td>0.246039</td>\n      <td>0.970372</td>\n      <td>0.999944</td>\n      <td>1.00</td>\n      <td>pmc</td>\n      <td>ettm2</td>\n    </tr>\n    <tr>\n      <th>0.006423</th>\n      <td>0.109824</td>\n      <td>0.155421</td>\n      <td>0.046160</td>\n      <td>0.250587</td>\n      <td>0.968977</td>\n      <td>0.999391</td>\n      <td>3.00</td>\n      <td>pmc</td>\n      <td>ettm2</td>\n    </tr>\n    <tr>\n      <th>0.010461</th>\n      <td>0.114698</td>\n      <td>0.159249</td>\n      <td>0.047297</td>\n      <td>0.256758</td>\n      <td>0.967169</td>\n      <td>0.998385</td>\n      <td>5.00</td>\n      <td>pmc</td>\n      <td>ettm2</td>\n    </tr>\n    <tr>\n      <th>0.014395</th>\n      <td>0.120107</td>\n      <td>0.163752</td>\n      <td>0.048634</td>\n      <td>0.264018</td>\n      <td>0.964890</td>\n      <td>0.996940</td>\n      <td>7.00</td>\n      <td>pmc</td>\n      <td>ettm2</td>\n    </tr>\n    <tr>\n      <th>0.019738</th>\n      <td>0.128824</td>\n      <td>0.171790</td>\n      <td>0.051021</td>\n      <td>0.276978</td>\n      <td>0.961362</td>\n      <td>0.994239</td>\n      <td>10.00</td>\n      <td>pmc</td>\n      <td>ettm2</td>\n    </tr>\n    <tr>\n      <th>0.028233</th>\n      <td>0.149158</td>\n      <td>0.204651</td>\n      <td>0.060781</td>\n      <td>0.329960</td>\n      <td>0.947017</td>\n      <td>0.988177</td>\n      <td>15.00</td>\n      <td>pmc</td>\n      <td>ettm2</td>\n    </tr>\n    <tr>\n      <th>0.037129</th>\n      <td>0.162291</td>\n      <td>0.226028</td>\n      <td>0.067130</td>\n      <td>0.364426</td>\n      <td>0.935496</td>\n      <td>0.979463</td>\n      <td>20.00</td>\n      <td>pmc</td>\n      <td>ettm2</td>\n    </tr>\n    <tr>\n      <th>0.045877</th>\n      <td>0.186470</td>\n      <td>0.260212</td>\n      <td>0.077282</td>\n      <td>0.419540</td>\n      <td>0.914449</td>\n      <td>0.968470</td>\n      <td>25.00</td>\n      <td>pmc</td>\n      <td>ettm2</td>\n    </tr>\n    <tr>\n      <th>0.056183</th>\n      <td>0.208275</td>\n      <td>0.285436</td>\n      <td>0.084774</td>\n      <td>0.460210</td>\n      <td>0.897460</td>\n      <td>0.952328</td>\n      <td>30.00</td>\n      <td>pmc</td>\n      <td>ettm2</td>\n    </tr>\n    <tr>\n      <th>0.072028</th>\n      <td>0.247327</td>\n      <td>0.326174</td>\n      <td>0.096873</td>\n      <td>0.525891</td>\n      <td>0.872422</td>\n      <td>0.920332</td>\n      <td>40.00</td>\n      <td>pmc</td>\n      <td>ettm2</td>\n    </tr>\n  </tbody>\n</table>\n</div>"
     },
     "execution_count": 25,
     "metadata": {},
     "output_type": "execute_result"
    }
   ],
   "source": [
    "all_results"
   ],
   "metadata": {
    "collapsed": false,
    "ExecuteTime": {
     "end_time": "2023-09-24T10:07:15.819632900Z",
     "start_time": "2023-09-24T10:07:15.757810800Z"
    }
   }
  },
  {
   "cell_type": "code",
   "execution_count": 16,
   "outputs": [],
   "source": [
    "# compression,eb,data,metric,decompression error\n",
    "# sz,0.01,ettm1,mae,0.023257426917552948\n",
    "data_results = pd.DataFrame()\n",
    "for eblc in ['sz', 'pmc', 'swing']:\n",
    "    te = get_transformation_error(data_file=f'aus_electrical_demand_points.parquet',\n",
    "                                 data_name='aus',\n",
    "                                 eblc_name=eblc,\n",
    "                                 target_ot='y',\n",
    "                                 ebs_values=bounds[0] if eblc == 'sz' else np.asarray(bounds[1])*1.0)\n",
    "    te['compression'] = eblc\n",
    "    te.eb = te.eb if eblc == 'sz' else (te.eb*0.01)\n",
    "    data_results = pd.concat([data_results, te])\n",
    "\n",
    "data_results['data'] = 'aus'"
   ],
   "metadata": {
    "collapsed": false,
    "ExecuteTime": {
     "end_time": "2023-09-11T15:39:55.815921500Z",
     "start_time": "2023-09-11T15:39:55.581511200Z"
    }
   }
  },
  {
   "cell_type": "code",
   "execution_count": 34,
   "outputs": [],
   "source": [
    "melted_te_results = data_results.melt(id_vars=['compression', 'eb', 'data'], value_vars=None, var_name='metric', value_name=\"decompression error\")\n",
    "df = pd.read_csv('../results/te/transformation_error.csv')\n",
    "all_results = pd.concat([df, melted_te_results], axis=0)"
   ],
   "metadata": {
    "collapsed": false,
    "ExecuteTime": {
     "end_time": "2023-09-11T15:50:00.231738400Z",
     "start_time": "2023-09-11T15:50:00.198682600Z"
    }
   }
  },
  {
   "cell_type": "code",
   "execution_count": 37,
   "outputs": [],
   "source": [
    "all_results.to_csv('../results/te/transformation_error.csv', index=None)"
   ],
   "metadata": {
    "collapsed": false,
    "ExecuteTime": {
     "end_time": "2023-09-11T15:57:32.808078Z",
     "start_time": "2023-09-11T15:57:32.746300700Z"
    }
   }
  },
  {
   "cell_type": "code",
   "execution_count": 32,
   "outputs": [],
   "source": [],
   "metadata": {
    "collapsed": false,
    "ExecuteTime": {
     "end_time": "2023-09-11T15:49:27.720106200Z",
     "start_time": "2023-09-11T15:49:27.676143500Z"
    }
   }
  },
  {
   "cell_type": "code",
   "execution_count": null,
   "outputs": [],
   "source": [],
   "metadata": {
    "collapsed": false
   }
  }
 ],
 "metadata": {
  "kernelspec": {
   "display_name": "Python 3 (ipykernel)",
   "language": "python",
   "name": "python3"
  },
  "language_info": {
   "codemirror_mode": {
    "name": "ipython",
    "version": 3
   },
   "file_extension": ".py",
   "mimetype": "text/x-python",
   "name": "python",
   "nbconvert_exporter": "python",
   "pygments_lexer": "ipython3",
   "version": "3.7.11"
  }
 },
 "nbformat": 4,
 "nbformat_minor": 4
}
