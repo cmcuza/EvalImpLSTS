{
 "cells": [
  {
   "cell_type": "code",
   "execution_count": 1,
   "outputs": [
    {
     "data": {
      "text/plain": "<Figure size 432x288 with 0 Axes>"
     },
     "metadata": {},
     "output_type": "display_data"
    }
   ],
   "source": [
    "%matplotlib inline\n",
    "import os\n",
    "import pandas as pd\n",
    "import re\n",
    "import matplotlib.pyplot as plt\n",
    "import pickle as pkl\n",
    "import seaborn as sns\n",
    "from utils.metrics import *\n",
    "\n",
    "width = 6\n",
    "height = 4\n",
    "plt.figure(figsize=(width,height))\n",
    "sns.set(rc={\"figure.figsize\":(width, height)})\n",
    "root_baseline_data_path = '../output/%s/%s/%s/'\n",
    "seq_len = 96\n",
    "\n",
    "def get_borders(data_name, data_len):\n",
    "    border1s = [0, 12 * 30 * 24 * 4 - seq_len, 12 * 30 * 24 * 4 + 4 * 30 * 24 * 4 - seq_len]\n",
    "    border2s = [12 * 30 * 24 * 4, 12 * 30 * 24 * 4 + 4 * 30 * 24 * 4, 12 * 30 * 24 * 4 + 8 * 30 * 24 * 4]\n",
    "\n",
    "    if data_name.find('ett') != -1:\n",
    "        return border1s, border2s\n",
    "\n",
    "    num_train = int(data_len * 0.7)\n",
    "    num_test = int(data_len * 0.2)\n",
    "    num_vali = data_len - num_train - num_test\n",
    "    border1s = [0, num_train - seq_len, data_len - num_test - seq_len]\n",
    "    border2s = [num_train, num_train + num_vali, data_len]\n",
    "\n",
    "    return border1s, border2s\n",
    "\n",
    "def get_raw_columns(columns):\n",
    "    return [col for col in columns if 'R' in col]\n",
    "\n",
    "\n",
    "def get_eb_columns(columns, eb):\n",
    "    return [col for col in columns if col.endswith(f'E{eb}')]\n",
    "\n",
    "\n",
    "def get_eb(exp_str):\n",
    "    eb = re.findall('eb[_.0-9]+', exp_str)[0]\n",
    "    eb = eb.replace('eb', '')\n",
    "    eb = eb.replace('_', '')\n",
    "    eb = float(eb)\n",
    "    if eb >= 1:\n",
    "        eb *= 0.01\n",
    "\n",
    "    return eb\n",
    "\n",
    "\n",
    "def load(path):\n",
    "    with open(path, 'rb') as f:\n",
    "        return pkl.load(f)\n",
    "\n",
    "\n",
    "def metrics_ensemble(pred, true):\n",
    "    mae = MAE(pred, true)\n",
    "    rmse = RMSE(pred, true)\n",
    "    rse = RSE(pred, true)\n",
    "    nrmse = NRMSE(pred, true)\n",
    "    corr = CORR(pred, true)\n",
    "    psnr = PSNR(pred, true)\n",
    "\n",
    "    return {'mae': mae,\n",
    "            'rmse': rmse,\n",
    "            'nrmse': nrmse,\n",
    "            'rse': rse,\n",
    "            'corr': corr,\n",
    "            'psnr': psnr}\n",
    "\n",
    "\n",
    "def load_pkl(path):\n",
    "    with open(path, 'rb') as f:\n",
    "        return pkl.load(f)\n",
    "\n",
    "\n",
    "def get_baseline(model:str, data:str):\n",
    "    raw_data_path = root_baseline_data_path%(model, data, 'raw') + 'true.pkl'\n",
    "    raw_data = load(raw_data_path)\n",
    "\n",
    "    predictions_path = root_baseline_data_path%(model, data, 'raw') + 'output.pkl'\n",
    "    pred_data = load(predictions_path)\n",
    "    results = metrics_ensemble(pred_data, raw_data)\n",
    "    df = pd.DataFrame(results, index=[0.0])\n",
    "    df.index.name = 'eb'\n",
    "    return df\n",
    "\n",
    "\n",
    "def get_forecasting_results(model: str, data_file: str, data_name: str,\n",
    "                            eblc_name: str, target_ot: str, ebs_values: tuple):\n",
    "    df = pd.read_parquet(f'../data/compressed/{eblc_name}/{data_file}')\n",
    "    tmetrics = []\n",
    "    ebs = []\n",
    "    border1s, border2s = get_borders(data_name, len(df))\n",
    "    raw_df = df[f'{target_ot}-R'].values[border1s[2]:border2s[2]]\n",
    "    for eb in ebs_values:\n",
    "        decomp_target_var = df[[f'{target_ot}-E{eb}']].values[border1s[2]:border2s[2]][:, 0]\n",
    "        results = metrics_ensemble(decomp_target_var, raw_df)\n",
    "        tmetrics.append(results)\n",
    "        ebs.append(eb)\n",
    "\n",
    "    df = pd.DataFrame(tmetrics)\n",
    "    df['eb'] = ebs\n",
    "    de = df.groupby(['eb']).median()\n",
    "\n",
    "    raw_data_path = root_baseline_data_path%(model, data_name, 'raw') + 'true.pkl'\n",
    "    raw_data = load(raw_data_path)\n",
    "\n",
    "    tmetrics = []\n",
    "    ebs = []\n",
    "    for root, dr, files in os.walk(root_baseline_data_path%(model, data_name, eblc_name)+ 'predictions'):\n",
    "        for file in files:\n",
    "            results = metrics_ensemble(load(root+os.sep+file), raw_data)\n",
    "            tmetrics.append(results)\n",
    "            ebs.append(get_eb(file))\n",
    "\n",
    "    df = pd.DataFrame(tmetrics)\n",
    "    df['eb'] = ebs\n",
    "    fr = df.groupby(['eb']).median()\n",
    "    fr.sort_index(inplace=True)\n",
    "    return fr, de\n",
    "\n",
    "\n",
    "def get_solar_baseline_true():\n",
    "    var_map = dict()\n",
    "    all_results = list()\n",
    "    all_true = dict()\n",
    "    for root, dr, files in os.walk('../output/arima/solar/raw/'):\n",
    "        for file in files:\n",
    "            t, var = file.strip('.pkl').split('_')\n",
    "            if var in var_map:\n",
    "                ifile = var_map[var]\n",
    "                pf = load_pkl(f'../output/arima/solar/raw/{ifile}')\n",
    "                nf = load_pkl(f'../output/arima/solar/raw/{file}')\n",
    "                if 'true' in ifile:\n",
    "                    all_true[var] = pf\n",
    "                    results = metrics_ensemble(nf, pf)\n",
    "                else:\n",
    "                    all_true[var] = nf\n",
    "                    results = metrics_ensemble(pf, nf)\n",
    "                all_results.append(results)\n",
    "            else:\n",
    "                var_map[var] = file\n",
    "    df = pd.DataFrame(all_results)\n",
    "    df = df.mean().to_frame().T\n",
    "    df.index._name = 'eb'\n",
    "    return df, all_true\n",
    "\n",
    "def get_forecasting_results_solar(model: str, eblc_name: str, ebs_values: tuple):\n",
    "    df = pd.read_parquet(f'../data/compressed/{eblc_name}/solar_output_data_points.parquet')\n",
    "    tmetrics = []\n",
    "    ebs = []\n",
    "    border1s, border2s = get_borders('solar', len(df))\n",
    "    raw_columns = get_raw_columns(df.columns)\n",
    "    raw_df = df[raw_columns].values[border1s[2]:border2s[2]]\n",
    "    for eb in ebs_values:\n",
    "        eb_columns = get_eb_columns(df.columns, eb)\n",
    "        decomp_target_var = df[eb_columns].values[border1s[2]:border2s[2]]\n",
    "        results = metrics_ensemble(decomp_target_var, raw_df)\n",
    "        tmetrics.append(results)\n",
    "        ebs.append(eb)\n",
    "\n",
    "    df = pd.DataFrame(tmetrics)\n",
    "    df['eb'] = ebs\n",
    "    de = df.groupby(['eb']).mean()\n",
    "\n",
    "    solar_baseline, raw_data_map = get_solar_baseline_true()\n",
    "    all_results = []\n",
    "    ebs = []\n",
    "    # tvars = []\n",
    "    for root, dr, files in os.walk(root_baseline_data_path%(model, 'solar', eblc_name)+ 'predictions'):\n",
    "        for file in files:\n",
    "            var = re.findall('v[0-9]+', file)[0]\n",
    "            results = metrics_ensemble(load(root+os.sep+file), raw_data_map[var])\n",
    "            all_results.append(results)\n",
    "            ebs.append(get_eb(file))\n",
    "            # tvars.append(var)\n",
    "\n",
    "    df = pd.DataFrame(all_results)\n",
    "    df['eb'] = ebs\n",
    "    fr = df.groupby(['eb']).mean()\n",
    "    fr.sort_index(inplace=True)\n",
    "    return solar_baseline, fr, de\n",
    "\n",
    "\n",
    "def get_transformation_error(data_file: str, data_name: str,\n",
    "                            eblc_name: str, target_ot: str, ebs_values: tuple):\n",
    "    df = pd.read_parquet(f'../data/compressed/{eblc_name}/{data_file}')\n",
    "    tmetrics = []\n",
    "    ebs = []\n",
    "    border1s, border2s = get_borders(data_name, len(df))\n",
    "    raw_df = df[f'{target_ot}-R'].values[border1s[2]:border2s[2]]\n",
    "    for eb in ebs_values:\n",
    "        decomp_target_var = df[[f'{target_ot}-E{eb}']].values[border1s[2]:border2s[2]][:, 0]\n",
    "        results = metrics_ensemble(decomp_target_var, raw_df)\n",
    "        tmetrics.append(results)\n",
    "        ebs.append(eb)\n",
    "\n",
    "    df = pd.DataFrame(tmetrics)\n",
    "    df['eb'] = ebs\n",
    "    return df\n",
    "\n",
    "\n",
    "def concat_baseline_forecasting_result(br, fr, de):\n",
    "    concat_forecasting_results = pd.concat([br, fr], axis=0)\n",
    "    metric_indexed_results = pd.DataFrame()\n",
    "    metric_indexed_results['error'] = [0.0]+list(de['nrmse'].values)\n",
    "    metric_indexed_results['mae'] = concat_forecasting_results['mae'].values\n",
    "    metric_indexed_results['rmse'] = concat_forecasting_results['rmse'].values\n",
    "    metric_indexed_results['nrmse'] = concat_forecasting_results['nrmse'].values\n",
    "    metric_indexed_results['rse'] = concat_forecasting_results['rse'].values\n",
    "    metric_indexed_results['corr'] = concat_forecasting_results['corr'].values\n",
    "    metric_indexed_results['data_corr'] = [1.0]+list(de['corr'].values)\n",
    "    metric_indexed_results.set_index('error', inplace=True)\n",
    "    metric_indexed_results['eb'] = [0.0]+list(de.index)\n",
    "    return metric_indexed_results\n",
    "\n"
   ],
   "metadata": {
    "collapsed": false,
    "ExecuteTime": {
     "end_time": "2023-09-14T09:14:37.497746400Z",
     "start_time": "2023-09-14T09:14:37.420426400Z"
    }
   }
  },
  {
   "cell_type": "code",
   "execution_count": 2,
   "outputs": [
    {
     "name": "stdout",
     "output_type": "stream",
     "text": [
      "sz ettm1\n",
      "pmc ettm1\n",
      "swing ettm1\n",
      "sz ettm2\n",
      "pmc ettm2\n",
      "swing ettm2\n",
      "sz weather\n"
     ]
    },
    {
     "name": "stderr",
     "output_type": "stream",
     "text": [
      "D:\\PycharmProjects\\EvalImpLSTS\\utils\\metrics.py:21: RuntimeWarning: invalid value encountered in float_scalars\n",
      "  return (u/d).mean()\n"
     ]
    },
    {
     "name": "stdout",
     "output_type": "stream",
     "text": [
      "pmc weather\n",
      "swing weather\n",
      "sz aus_electrical_demand\n",
      "pmc aus_electrical_demand\n",
      "swing aus_electrical_demand\n",
      "sz solar\n",
      "pmc solar\n",
      "swing solar\n"
     ]
    }
   ],
   "source": [
    "target_variables_map = {'ettm1':'OT', 'ettm2': 'OT', 'aus_electrical_demand': 'y', 'weather': 'OT', 'wind': 'active power'}\n",
    "bounds = [(0.01, 0.03, 0.05, 0.07, 0.10, 0.15, 0.20, 0.25, 0.30, 0.40, 0.50, 0.65, 0.8), (1, 3, 5, 7, 10, 15, 20, 25, 30, 40, 50, 65, 80)]\n",
    "all_results = pd.DataFrame()\n",
    "for data in ['ettm1', 'ettm2', 'weather', 'aus_electrical_demand', 'solar']:\n",
    "    data_results = pd.DataFrame()\n",
    "    for eblc in ['sz', 'pmc', 'swing']:\n",
    "        print(eblc, data)\n",
    "        if 'solar' in data:\n",
    "            baseline_results, forecasting_results, dec_error = get_forecasting_results_solar(model='arima', eblc_name=eblc, ebs_values=bounds[0] if eblc == 'sz' else bounds[1])\n",
    "        elif 'aus' in data:\n",
    "            baseline_results = get_baseline('arima', 'aus')\n",
    "            forecasting_results, dec_error = get_forecasting_results(model='arima',\n",
    "                                                                     data_file=f'{data}_points.parquet',\n",
    "                                                                     data_name='aus',\n",
    "                                                                     eblc_name=eblc,\n",
    "                                                                     target_ot='y',\n",
    "                                                                     ebs_values=bounds[0] if eblc == 'sz' else np.asarray(bounds[1])*1.0)\n",
    "        else:\n",
    "            baseline_results = get_baseline('arima', data)\n",
    "            forecasting_results, dec_error = get_forecasting_results(model='arima',\n",
    "                                                                     data_file=f'{data}_output_data_points.parquet',\n",
    "                                                                     data_name=data,\n",
    "                                                                     eblc_name=eblc,\n",
    "                                                                     target_ot=target_variables_map[data] if eblc == 'sz' else target_variables_map[data].replace(' ', '_'),\n",
    "                                                                     ebs_values=bounds[0] if eblc == 'sz' else bounds[1])\n",
    "        concatenated = concat_baseline_forecasting_result(baseline_results, forecasting_results, dec_error)\n",
    "        concatenated['eblc'] = eblc\n",
    "        concatenated.at[0, 'eblc'] = 'baseline'\n",
    "        data_results = pd.concat([data_results, concatenated])\n",
    "        data_results.drop_duplicates(inplace=True)\n",
    "\n",
    "    data_results['data'] = data\n",
    "    all_results = pd.concat([all_results, data_results])\n",
    "all_results.to_csv('../results/tfe/arima_results.csv')"
   ],
   "metadata": {
    "collapsed": false,
    "ExecuteTime": {
     "end_time": "2023-09-14T09:14:54.582505300Z",
     "start_time": "2023-09-14T09:14:39.832240700Z"
    }
   }
  },
  {
   "cell_type": "code",
   "execution_count": 3,
   "outputs": [
    {
     "data": {
      "text/plain": "          mae      rmse     nrmse       rse      corr       psnr\neb                                                              \n0.0  0.089336  0.161029  0.035564  0.189757  0.981988  28.979742",
      "text/html": "<div>\n<style scoped>\n    .dataframe tbody tr th:only-of-type {\n        vertical-align: middle;\n    }\n\n    .dataframe tbody tr th {\n        vertical-align: top;\n    }\n\n    .dataframe thead th {\n        text-align: right;\n    }\n</style>\n<table border=\"1\" class=\"dataframe\">\n  <thead>\n    <tr style=\"text-align: right;\">\n      <th></th>\n      <th>mae</th>\n      <th>rmse</th>\n      <th>nrmse</th>\n      <th>rse</th>\n      <th>corr</th>\n      <th>psnr</th>\n    </tr>\n    <tr>\n      <th>eb</th>\n      <th></th>\n      <th></th>\n      <th></th>\n      <th></th>\n      <th></th>\n      <th></th>\n    </tr>\n  </thead>\n  <tbody>\n    <tr>\n      <th>0.0</th>\n      <td>0.089336</td>\n      <td>0.161029</td>\n      <td>0.035564</td>\n      <td>0.189757</td>\n      <td>0.981988</td>\n      <td>28.979742</td>\n    </tr>\n  </tbody>\n</table>\n</div>"
     },
     "execution_count": 3,
     "metadata": {},
     "output_type": "execute_result"
    }
   ],
   "source": [
    "get_baseline('arima', 'aus')"
   ],
   "metadata": {
    "collapsed": false,
    "ExecuteTime": {
     "end_time": "2023-09-14T10:17:52.080717Z",
     "start_time": "2023-09-14T10:17:52.006094400Z"
    }
   }
  },
  {
   "cell_type": "code",
   "execution_count": 4,
   "outputs": [
    {
     "data": {
      "text/plain": "          mae      rmse     nrmse       rse      corr       psnr\neb                                                              \n0.0  0.088439  0.151244  0.033403  0.178219  0.984094  29.524227",
      "text/html": "<div>\n<style scoped>\n    .dataframe tbody tr th:only-of-type {\n        vertical-align: middle;\n    }\n\n    .dataframe tbody tr th {\n        vertical-align: top;\n    }\n\n    .dataframe thead th {\n        text-align: right;\n    }\n</style>\n<table border=\"1\" class=\"dataframe\">\n  <thead>\n    <tr style=\"text-align: right;\">\n      <th></th>\n      <th>mae</th>\n      <th>rmse</th>\n      <th>nrmse</th>\n      <th>rse</th>\n      <th>corr</th>\n      <th>psnr</th>\n    </tr>\n    <tr>\n      <th>eb</th>\n      <th></th>\n      <th></th>\n      <th></th>\n      <th></th>\n      <th></th>\n      <th></th>\n    </tr>\n  </thead>\n  <tbody>\n    <tr>\n      <th>0.0</th>\n      <td>0.088439</td>\n      <td>0.151244</td>\n      <td>0.033403</td>\n      <td>0.178219</td>\n      <td>0.984094</td>\n      <td>29.524227</td>\n    </tr>\n  </tbody>\n</table>\n</div>"
     },
     "execution_count": 4,
     "metadata": {},
     "output_type": "execute_result"
    }
   ],
   "source": [
    "get_baseline('arima', 'wind')"
   ],
   "metadata": {
    "collapsed": false,
    "ExecuteTime": {
     "end_time": "2023-09-14T10:21:01.722801400Z",
     "start_time": "2023-09-14T10:21:01.651512200Z"
    }
   }
  },
  {
   "cell_type": "code",
   "execution_count": 16,
   "outputs": [],
   "source": [
    "# compression,eb,data,metric,decompression error\n",
    "# sz,0.01,ettm1,mae,0.023257426917552948\n",
    "data_results = pd.DataFrame()\n",
    "for eblc in ['sz', 'pmc', 'swing']:\n",
    "    te = get_transformation_error(data_file=f'aus_electrical_demand_points.parquet',\n",
    "                                 data_name='aus',\n",
    "                                 eblc_name=eblc,\n",
    "                                 target_ot='y',\n",
    "                                 ebs_values=bounds[0] if eblc == 'sz' else np.asarray(bounds[1])*1.0)\n",
    "    te['compression'] = eblc\n",
    "    te.eb = te.eb if eblc == 'sz' else (te.eb*0.01)\n",
    "    data_results = pd.concat([data_results, te])\n",
    "\n",
    "data_results['data'] = 'aus'"
   ],
   "metadata": {
    "collapsed": false,
    "ExecuteTime": {
     "end_time": "2023-09-11T15:39:55.815921500Z",
     "start_time": "2023-09-11T15:39:55.581511200Z"
    }
   }
  },
  {
   "cell_type": "code",
   "execution_count": 34,
   "outputs": [],
   "source": [
    "melted_te_results = data_results.melt(id_vars=['compression', 'eb', 'data'], value_vars=None, var_name='metric', value_name=\"decompression error\")\n",
    "df = pd.read_csv('../results/te/transformation_error.csv')\n",
    "all_results = pd.concat([df, melted_te_results], axis=0)"
   ],
   "metadata": {
    "collapsed": false,
    "ExecuteTime": {
     "end_time": "2023-09-11T15:50:00.231738400Z",
     "start_time": "2023-09-11T15:50:00.198682600Z"
    }
   }
  },
  {
   "cell_type": "code",
   "execution_count": 37,
   "outputs": [],
   "source": [
    "all_results.to_csv('../results/te/transformation_error.csv', index=None)"
   ],
   "metadata": {
    "collapsed": false,
    "ExecuteTime": {
     "end_time": "2023-09-11T15:57:32.808078Z",
     "start_time": "2023-09-11T15:57:32.746300700Z"
    }
   }
  },
  {
   "cell_type": "code",
   "execution_count": 32,
   "outputs": [],
   "source": [],
   "metadata": {
    "collapsed": false,
    "ExecuteTime": {
     "end_time": "2023-09-11T15:49:27.720106200Z",
     "start_time": "2023-09-11T15:49:27.676143500Z"
    }
   }
  },
  {
   "cell_type": "code",
   "execution_count": null,
   "outputs": [],
   "source": [],
   "metadata": {
    "collapsed": false
   }
  }
 ],
 "metadata": {
  "kernelspec": {
   "display_name": "Python 3 (ipykernel)",
   "language": "python",
   "name": "python3"
  },
  "language_info": {
   "codemirror_mode": {
    "name": "ipython",
    "version": 3
   },
   "file_extension": ".py",
   "mimetype": "text/x-python",
   "name": "python",
   "nbconvert_exporter": "python",
   "pygments_lexer": "ipython3",
   "version": "3.7.11"
  }
 },
 "nbformat": 4,
 "nbformat_minor": 4
}
