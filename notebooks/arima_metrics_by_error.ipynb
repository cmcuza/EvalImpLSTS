{
 "cells": [
  {
   "cell_type": "code",
   "execution_count": 34,
   "outputs": [
    {
     "data": {
      "text/plain": "<Figure size 432x288 with 0 Axes>"
     },
     "metadata": {},
     "output_type": "display_data"
    }
   ],
   "source": [
    "%matplotlib inline\n",
    "import os\n",
    "import pandas as pd\n",
    "import re\n",
    "import matplotlib.pyplot as plt\n",
    "import pickle as pkl\n",
    "import seaborn as sns\n",
    "from utils.metrics import *\n",
    "\n",
    "width = 6\n",
    "height = 4\n",
    "plt.figure(figsize=(width,height))\n",
    "sns.set(rc={\"figure.figsize\":(width, height)})\n",
    "root_baseline_data_path = '../output/%s/%s/%s/'\n",
    "seq_len = 96\n",
    "\n",
    "def load(path):\n",
    "    with open(path, 'wr') as f:\n",
    "        return pkl.load(f)\n",
    "\n",
    "\n",
    "def get_borders(data_name, data_len):\n",
    "    border1s = [0, 12 * 30 * 24 * 4 - seq_len, 12 * 30 * 24 * 4 + 4 * 30 * 24 * 4 - seq_len]\n",
    "    border2s = [12 * 30 * 24 * 4, 12 * 30 * 24 * 4 + 4 * 30 * 24 * 4, 12 * 30 * 24 * 4 + 8 * 30 * 24 * 4]\n",
    "\n",
    "    if data_name.find('ett') != -1:\n",
    "        return border1s, border2s\n",
    "\n",
    "    num_train = int(data_len * 0.7)\n",
    "    num_test = int(data_len * 0.2)\n",
    "    num_vali = data_len - num_train - num_test\n",
    "    border1s = [0, num_train - seq_len, data_len - num_test - seq_len]\n",
    "    border2s = [num_train, num_train + num_vali, data_len]\n",
    "\n",
    "    return border1s, border2s\n",
    "\n",
    "\n",
    "def get_eb(exp_str):\n",
    "    eb = re.findall('eb[_.0-9]+', exp_str)[0]\n",
    "    eb = eb.replace('eb', '')\n",
    "    eb = eb.replace('_', '')\n",
    "    eb = float(eb)\n",
    "    if eb >= 1:\n",
    "        eb *= 0.01\n",
    "\n",
    "    return eb\n",
    "\n",
    "\n",
    "def load(path):\n",
    "    with open(path, 'rb') as f:\n",
    "        return pkl.load(f)\n",
    "\n",
    "\n",
    "def metrics_ensemble(pred, true):\n",
    "    mae = MAE(pred, true)\n",
    "    rmse = RMSE(pred, true)\n",
    "    rse = RSE(pred, true)\n",
    "    nrmse = NRMSE(pred, true)\n",
    "    corr = CORR(pred, true)\n",
    "    psnr = PSNR(pred, true)\n",
    "\n",
    "    return {'mae': mae,\n",
    "            'rmse': rmse,\n",
    "            'nrmse': nrmse,\n",
    "            'rse': rse,\n",
    "            'corr': corr,\n",
    "            'psnr': psnr}\n",
    "\n",
    "\n",
    "def load_pkl(path):\n",
    "    with open(path, 'rb') as f:\n",
    "        return pkl.load(f)\n",
    "\n",
    "\n",
    "def get_baseline(model:str, data:str):\n",
    "    raw_data_path = root_baseline_data_path%(model, data, 'raw') + 'true.pkl'\n",
    "    raw_data = load(raw_data_path)\n",
    "\n",
    "    predictions_path = root_baseline_data_path%(model, data, 'raw') + 'output.pkl'\n",
    "    pred_data = load(predictions_path)\n",
    "    results = metrics_ensemble(pred_data, raw_data)\n",
    "    df = pd.DataFrame(results, index=[0.0])\n",
    "    df.index.name = 'eb'\n",
    "    return df\n",
    "\n",
    "\n",
    "def get_forecasting_results(model: str, data_file: str, data_name: str,\n",
    "                            eblc_name: str, target_ot: str, ebs_values: tuple):\n",
    "    df = pd.read_parquet(f'../data/compressed/{eblc_name}/{data_file}')\n",
    "    metrics = []\n",
    "    ebs = []\n",
    "    border1s, border2s = get_borders(data_name, len(df))\n",
    "    raw_df = df[f'{target_ot}-R'].values[border1s[2]:border2s[2]]\n",
    "    for eb in ebs_values:\n",
    "        decomp_target_var = df[[f'{target_ot}-E{eb}']].values[border1s[2]:border2s[2]][:, 0]\n",
    "        results = metrics_ensemble(decomp_target_var, raw_df)\n",
    "        metrics.append(results)\n",
    "        ebs.append(eb)\n",
    "\n",
    "    df = pd.DataFrame(metrics)\n",
    "    df['eb'] = ebs\n",
    "    dec_error = df.groupby(['eb']).median()\n",
    "    dec_error.plot()\n",
    "    plt.show()\n",
    "\n",
    "    raw_data_path = root_baseline_data_path%(model, data_name, 'raw') + 'true.pkl'\n",
    "    raw_data = load(raw_data_path)\n",
    "\n",
    "    metrics = []\n",
    "    ebs = []\n",
    "    for root, dr, files in os.walk(root_baseline_data_path%(model, data_name, eblc_name)+ 'predictions'):\n",
    "        for file in files:\n",
    "            results = metrics_ensemble(load(root+os.sep+file), raw_data)\n",
    "            metrics.append(results)\n",
    "            ebs.append(get_eb(file))\n",
    "\n",
    "    df = pd.DataFrame(metrics)\n",
    "    df['eb'] = ebs\n",
    "    forecasting_results = df.groupby(['eb']).median()\n",
    "    forecasting_results.sort_index(inplace=True)\n",
    "    return forecasting_results, dec_error\n",
    "\n",
    "\n",
    "def concat_baseline_forecasting_result(baseline_results, forecasting_results, dec_error):\n",
    "    concat_forecasting_results = pd.concat([baseline_results, forecasting_results], axis=0)\n",
    "    metric_indexed_results = pd.DataFrame()\n",
    "    metric_indexed_results['error'] = [0.0]+list(dec_error['mae'].values)\n",
    "    metric_indexed_results['mae'] = concat_forecasting_results['mae'].values\n",
    "    metric_indexed_results['rmse'] = concat_forecasting_results['rmse'].values\n",
    "    metric_indexed_results['nrmse'] = concat_forecasting_results['nrmse'].values\n",
    "    metric_indexed_results['rse'] = concat_forecasting_results['rse'].values\n",
    "    metric_indexed_results['corr'] = concat_forecasting_results['corr'].values\n",
    "    metric_indexed_results['data_corr'] = [1.0]+list(dec_error['corr'].values)\n",
    "    metric_indexed_results.set_index('error', inplace=True)\n",
    "    metric_indexed_results['eb'] = [0.0]+list(dec_error.index)\n",
    "    sns.lineplot(data=metric_indexed_results)\n",
    "    plt.show()\n",
    "    return concat_forecasting_results\n",
    "\n"
   ],
   "metadata": {
    "collapsed": false,
    "ExecuteTime": {
     "end_time": "2023-08-24T10:19:53.339011900Z",
     "start_time": "2023-08-24T10:19:53.304967600Z"
    }
   }
  },
  {
   "cell_type": "code",
   "execution_count": 36,
   "metadata": {
    "ExecuteTime": {
     "end_time": "2023-08-24T10:28:59.602505500Z",
     "start_time": "2023-08-24T10:28:59.105747100Z"
    }
   },
   "outputs": [
    {
     "data": {
      "text/plain": "<Figure size 432x288 with 1 Axes>",
      "image/png": "[encoded data removed]"
     },
     "metadata": {},
     "output_type": "display_data"
    }
   ],
   "source": [
    "ettm1_baseline_results = get_baseline('arima', 'ettm1')\n",
    "ettm1_forecasting_results, dec_error = get_forecasting_results(model='arima',\n",
    "                                                         data_name='ettm1',\n",
    "                                                         data_file='ettm1_output_data_points.parquet',\n",
    "                                                         eblc_name='sz',\n",
    "                                                         target_ot='OT',\n",
    "                                                         ebs_values=(0.01, 0.03, 0.05, 0.07, 0.10, 0.15, 0.20, 0.25, 0.30, 0.40, 0.50, 0.65, 0.8))\n",
    "# concat_baseline_forecasting_result(baseline_results, forecasting_results, dec_error)"
   ]
  },
  {
   "cell_type": "code",
   "execution_count": 37,
   "outputs": [
    {
     "data": {
      "text/plain": "           mae      rmse     nrmse       rse      corr       psnr\neb                                                               \n0.01  0.085255  0.120754  0.059871  0.348868  0.941305  24.455642\n0.03  0.085570  0.120839  0.059913  0.349114  0.941154  24.449519\n0.05  0.086736  0.122213  0.060595  0.353085  0.939612  24.351271\n0.07  0.087642  0.122768  0.060870  0.354688  0.938883  24.311931\n0.10  0.090576  0.125923  0.062434  0.363804  0.935576  24.091517\n0.15  0.096545  0.130552  0.064729  0.377176  0.931906  23.777989\n0.20  0.099515  0.134685  0.066779  0.389118  0.927116  23.507242\n0.25  0.107034  0.141998  0.070404  0.410244  0.920612  23.048021\n0.30  0.109838  0.145430  0.072106  0.420160  0.918270  22.840578\n0.40  0.142295  0.183132  0.090799  0.529083  0.890446  20.838380\n0.50  0.156622  0.203651  0.100973  0.588366  0.876924  19.915913\n0.65  0.229469  0.282077  0.139858  0.814947  0.827077  17.086282\n0.80  0.366657  0.439817  0.218067  1.270670  0.638276  13.228208",
      "text/html": "<div>\n<style scoped>\n    .dataframe tbody tr th:only-of-type {\n        vertical-align: middle;\n    }\n\n    .dataframe tbody tr th {\n        vertical-align: top;\n    }\n\n    .dataframe thead th {\n        text-align: right;\n    }\n</style>\n<table border=\"1\" class=\"dataframe\">\n  <thead>\n    <tr style=\"text-align: right;\">\n      <th></th>\n      <th>mae</th>\n      <th>rmse</th>\n      <th>nrmse</th>\n      <th>rse</th>\n      <th>corr</th>\n      <th>psnr</th>\n    </tr>\n    <tr>\n      <th>eb</th>\n      <th></th>\n      <th></th>\n      <th></th>\n      <th></th>\n      <th></th>\n      <th></th>\n    </tr>\n  </thead>\n  <tbody>\n    <tr>\n      <th>0.01</th>\n      <td>0.085255</td>\n      <td>0.120754</td>\n      <td>0.059871</td>\n      <td>0.348868</td>\n      <td>0.941305</td>\n      <td>24.455642</td>\n    </tr>\n    <tr>\n      <th>0.03</th>\n      <td>0.085570</td>\n      <td>0.120839</td>\n      <td>0.059913</td>\n      <td>0.349114</td>\n      <td>0.941154</td>\n      <td>24.449519</td>\n    </tr>\n    <tr>\n      <th>0.05</th>\n      <td>0.086736</td>\n      <td>0.122213</td>\n      <td>0.060595</td>\n      <td>0.353085</td>\n      <td>0.939612</td>\n      <td>24.351271</td>\n    </tr>\n    <tr>\n      <th>0.07</th>\n      <td>0.087642</td>\n      <td>0.122768</td>\n      <td>0.060870</td>\n      <td>0.354688</td>\n      <td>0.938883</td>\n      <td>24.311931</td>\n    </tr>\n    <tr>\n      <th>0.10</th>\n      <td>0.090576</td>\n      <td>0.125923</td>\n      <td>0.062434</td>\n      <td>0.363804</td>\n      <td>0.935576</td>\n      <td>24.091517</td>\n    </tr>\n    <tr>\n      <th>0.15</th>\n      <td>0.096545</td>\n      <td>0.130552</td>\n      <td>0.064729</td>\n      <td>0.377176</td>\n      <td>0.931906</td>\n      <td>23.777989</td>\n    </tr>\n    <tr>\n      <th>0.20</th>\n      <td>0.099515</td>\n      <td>0.134685</td>\n      <td>0.066779</td>\n      <td>0.389118</td>\n      <td>0.927116</td>\n      <td>23.507242</td>\n    </tr>\n    <tr>\n      <th>0.25</th>\n      <td>0.107034</td>\n      <td>0.141998</td>\n      <td>0.070404</td>\n      <td>0.410244</td>\n      <td>0.920612</td>\n      <td>23.048021</td>\n    </tr>\n    <tr>\n      <th>0.30</th>\n      <td>0.109838</td>\n      <td>0.145430</td>\n      <td>0.072106</td>\n      <td>0.420160</td>\n      <td>0.918270</td>\n      <td>22.840578</td>\n    </tr>\n    <tr>\n      <th>0.40</th>\n      <td>0.142295</td>\n      <td>0.183132</td>\n      <td>0.090799</td>\n      <td>0.529083</td>\n      <td>0.890446</td>\n      <td>20.838380</td>\n    </tr>\n    <tr>\n      <th>0.50</th>\n      <td>0.156622</td>\n      <td>0.203651</td>\n      <td>0.100973</td>\n      <td>0.588366</td>\n      <td>0.876924</td>\n      <td>19.915913</td>\n    </tr>\n    <tr>\n      <th>0.65</th>\n      <td>0.229469</td>\n      <td>0.282077</td>\n      <td>0.139858</td>\n      <td>0.814947</td>\n      <td>0.827077</td>\n      <td>17.086282</td>\n    </tr>\n    <tr>\n      <th>0.80</th>\n      <td>0.366657</td>\n      <td>0.439817</td>\n      <td>0.218067</td>\n      <td>1.270670</td>\n      <td>0.638276</td>\n      <td>13.228208</td>\n    </tr>\n  </tbody>\n</table>\n</div>"
     },
     "execution_count": 37,
     "metadata": {},
     "output_type": "execute_result"
    }
   ],
   "source": [
    "# ettm2_baseline_results = get_baseline('arima', 'ettm2')\n",
    "ettm1_forecasting_results"
   ],
   "metadata": {
    "collapsed": false,
    "ExecuteTime": {
     "end_time": "2023-08-24T10:29:05.404885300Z",
     "start_time": "2023-08-24T10:29:05.347965200Z"
    }
   }
  },
  {
   "cell_type": "code",
   "execution_count": null,
   "outputs": [],
   "source": [],
   "metadata": {
    "collapsed": false
   }
  }
 ],
 "metadata": {
  "kernelspec": {
   "display_name": "Python 3 (ipykernel)",
   "language": "python",
   "name": "python3"
  },
  "language_info": {
   "codemirror_mode": {
    "name": "ipython",
    "version": 3
   },
   "file_extension": ".py",
   "mimetype": "text/x-python",
   "name": "python",
   "nbconvert_exporter": "python",
   "pygments_lexer": "ipython3",
   "version": "3.7.11"
  }
 },
 "nbformat": 4,
 "nbformat_minor": 4
}
