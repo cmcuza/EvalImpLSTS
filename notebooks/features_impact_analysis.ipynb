{
 "cells": [
  {
   "cell_type": "code",
   "execution_count": 1,
   "metadata": {
    "collapsed": true,
    "ExecuteTime": {
     "end_time": "2023-12-11T14:33:46.923488800Z",
     "start_time": "2023-12-11T14:33:46.910419900Z"
    }
   },
   "outputs": [],
   "source": [
    "import pandas as pd\n",
    "IMPORTANT_FEATURES = [\"mean\", \"var\", \"max_kl_shift\", \"x_acf1\", \"x_acf10\", \"entropy\", \"x_pacf5\", \"lumpiness\", \"stability\"]"
   ]
  },
  {
   "cell_type": "code",
   "execution_count": 43,
   "outputs": [
    {
     "data": {
      "text/plain": "     compression   eb         mean           var  max_kl_shift  time_kl_shift  \\\n0            PMC  0.0    14.487689  5.129617e+01      4.339038    8106.000000   \n1             SZ  0.0    14.487689  5.129617e+01      4.339038    8106.000000   \n2          SWING  0.0    14.487689  5.129617e+01      4.339038    8106.000000   \n233          PMC  0.0     4.892097  1.009243e+01     15.078146    6955.000000   \n234           SZ  0.0     4.892097  1.009243e+01     15.078146    6955.000000   \n235        SWING  0.0     4.892097  1.009243e+01     15.078146    6955.000000   \n470          PMC  0.0   368.609457  8.344369e+04     46.054520   38067.000000   \n471           SZ  0.0   368.609457  8.344369e+04     46.054520   38067.000000   \n472        SWING  0.0   368.609457  8.344369e+04     46.054520   38067.000000   \n694          PMC  0.0     4.849557  6.800000e+01     14.870596    4202.817518   \n695           SZ  0.0     4.849557  6.800000e+01     14.870596    4202.817518   \n696        SWING  0.0     4.849557  6.800000e+01     14.870596    4202.817518   \n918          PMC  0.0  6344.613347  1.453830e+06     41.820245    9230.000000   \n919           SZ  0.0  6344.613347  1.453830e+06     41.820245    9230.000000   \n920        SWING  0.0  6344.613347  1.453830e+06     41.820245    9230.000000   \n1155         PMC  0.0   437.132352  2.649270e+02     21.289337    6425.000000   \n1156          SZ  0.0   437.132352  2.649270e+02     21.289337    6425.000000   \n1157       SWING  0.0   437.132352  2.649270e+02     21.289337    6425.000000   \n\n      max_level_shift  time_level_shift  max_var_shift  time_var_shift  ...  \\\n0            1.260713       6864.000000       1.115841     8062.000000  ...   \n1            1.260713       6864.000000       1.115841     8062.000000  ...   \n2            1.260713       6864.000000       1.115841     8062.000000  ...   \n233          1.773768       6849.000000       0.721608     2333.000000  ...   \n234          1.773768       6849.000000       0.721608     2333.000000  ...   \n235          1.773768       6849.000000       0.721608     2333.000000  ...   \n470          2.156944      37916.000000       0.839604    37841.000000  ...   \n471          2.156944      37916.000000       0.839604    37841.000000  ...   \n472          2.156944      37916.000000       0.839604    37841.000000  ...   \n694          0.771448       2140.226277       1.597397     1874.627737  ...   \n695          0.771448       2140.226277       1.597397     1874.627737  ...   \n696          0.771448       2140.226277       1.597397     1874.627737  ...   \n918          2.409852       9199.000000       4.755056     9209.000000  ...   \n919          2.409852       9199.000000       4.755056     9209.000000  ...   \n920          2.409852       9199.000000       4.755056     9209.000000  ...   \n1155         2.173070       6935.000000       1.728578     6887.000000  ...   \n1156         2.173070       6935.000000       1.728578     6887.000000  ...   \n1157         2.173070       6935.000000       1.728578     6887.000000  ...   \n\n      linearity   curvature    e_acf1   e_acf10  seasonal_strength  \\\n0    -67.789699   27.281865  0.993917  7.548032           0.637575   \n1    -67.789699   27.281865  0.993917  7.548032           0.637575   \n2    -67.789699   27.281865  0.993917  7.548032           0.637575   \n233  -73.350990   36.903097  0.928888  4.806327           0.249983   \n234  -73.350990   36.903097  0.928888  4.806327           0.249983   \n235  -73.350990   36.903097  0.928888  4.806327           0.249983   \n470   12.858508 -126.548086  0.985714  7.472253           0.000132   \n471   12.858508 -126.548086  0.985714  7.472253           0.000132   \n472   12.858508 -126.548086  0.985714  7.472253           0.000132   \n694   -2.485923   -0.021688  0.928858  6.619893           0.393618   \n695   -2.485923   -0.021688  0.928858  6.619893           0.393618   \n696   -2.485923   -0.021688  0.928858  6.619893           0.393618   \n918  -17.090118    5.323332  0.965368  3.268570           0.801326   \n919  -17.090118    5.323332  0.965368  3.268570           0.801326   \n920  -17.090118    5.323332  0.965368  3.268570           0.801326   \n1155  13.191661  -35.797783  0.946650  6.592558           0.304561   \n1156  13.191661  -35.797783  0.946650  6.592558           0.304561   \n1157  13.191661  -35.797783  0.946650  6.592558           0.304561   \n\n            peak     trough     data   te  TFE  \n0      57.000000  31.000000    ettm2  0.0  0.0  \n1      57.000000  31.000000    ettm2  0.0  0.0  \n2      57.000000  31.000000    ettm2  0.0  0.0  \n233    58.000000  29.000000    ettm1  0.0  0.0  \n234    58.000000  29.000000    ettm1  0.0  0.0  \n235    58.000000  29.000000    ettm1  0.0  0.0  \n470   131.000000  65.000000     wind  0.0  0.0  \n471   131.000000  65.000000     wind  0.0  0.0  \n472   131.000000  65.000000     wind  0.0  0.0  \n694    20.321168  97.131387    solar  0.0  0.0  \n695    20.321168  97.131387    solar  0.0  0.0  \n696    20.321168  97.131387    solar  0.0  0.0  \n918     8.000000  27.000000      aus  0.0  0.0  \n919     8.000000  27.000000      aus  0.0  0.0  \n920     8.000000  27.000000      aus  0.0  0.0  \n1155   33.000000  68.000000  weather  0.0  0.0  \n1156   33.000000  68.000000  weather  0.0  0.0  \n1157   33.000000  68.000000  weather  0.0  0.0  \n\n[18 rows x 47 columns]",
      "text/html": "<div>\n<style scoped>\n    .dataframe tbody tr th:only-of-type {\n        vertical-align: middle;\n    }\n\n    .dataframe tbody tr th {\n        vertical-align: top;\n    }\n\n    .dataframe thead th {\n        text-align: right;\n    }\n</style>\n<table border=\"1\" class=\"dataframe\">\n  <thead>\n    <tr style=\"text-align: right;\">\n      <th></th>\n      <th>compression</th>\n      <th>eb</th>\n      <th>mean</th>\n      <th>var</th>\n      <th>max_kl_shift</th>\n      <th>time_kl_shift</th>\n      <th>max_level_shift</th>\n      <th>time_level_shift</th>\n      <th>max_var_shift</th>\n      <th>time_var_shift</th>\n      <th>...</th>\n      <th>linearity</th>\n      <th>curvature</th>\n      <th>e_acf1</th>\n      <th>e_acf10</th>\n      <th>seasonal_strength</th>\n      <th>peak</th>\n      <th>trough</th>\n      <th>data</th>\n      <th>te</th>\n      <th>TFE</th>\n    </tr>\n  </thead>\n  <tbody>\n    <tr>\n      <th>0</th>\n      <td>PMC</td>\n      <td>0.0</td>\n      <td>14.487689</td>\n      <td>5.129617e+01</td>\n      <td>4.339038</td>\n      <td>8106.000000</td>\n      <td>1.260713</td>\n      <td>6864.000000</td>\n      <td>1.115841</td>\n      <td>8062.000000</td>\n      <td>...</td>\n      <td>-67.789699</td>\n      <td>27.281865</td>\n      <td>0.993917</td>\n      <td>7.548032</td>\n      <td>0.637575</td>\n      <td>57.000000</td>\n      <td>31.000000</td>\n      <td>ettm2</td>\n      <td>0.0</td>\n      <td>0.0</td>\n    </tr>\n    <tr>\n      <th>1</th>\n      <td>SZ</td>\n      <td>0.0</td>\n      <td>14.487689</td>\n      <td>5.129617e+01</td>\n      <td>4.339038</td>\n      <td>8106.000000</td>\n      <td>1.260713</td>\n      <td>6864.000000</td>\n      <td>1.115841</td>\n      <td>8062.000000</td>\n      <td>...</td>\n      <td>-67.789699</td>\n      <td>27.281865</td>\n      <td>0.993917</td>\n      <td>7.548032</td>\n      <td>0.637575</td>\n      <td>57.000000</td>\n      <td>31.000000</td>\n      <td>ettm2</td>\n      <td>0.0</td>\n      <td>0.0</td>\n    </tr>\n    <tr>\n      <th>2</th>\n      <td>SWING</td>\n      <td>0.0</td>\n      <td>14.487689</td>\n      <td>5.129617e+01</td>\n      <td>4.339038</td>\n      <td>8106.000000</td>\n      <td>1.260713</td>\n      <td>6864.000000</td>\n      <td>1.115841</td>\n      <td>8062.000000</td>\n      <td>...</td>\n      <td>-67.789699</td>\n      <td>27.281865</td>\n      <td>0.993917</td>\n      <td>7.548032</td>\n      <td>0.637575</td>\n      <td>57.000000</td>\n      <td>31.000000</td>\n      <td>ettm2</td>\n      <td>0.0</td>\n      <td>0.0</td>\n    </tr>\n    <tr>\n      <th>233</th>\n      <td>PMC</td>\n      <td>0.0</td>\n      <td>4.892097</td>\n      <td>1.009243e+01</td>\n      <td>15.078146</td>\n      <td>6955.000000</td>\n      <td>1.773768</td>\n      <td>6849.000000</td>\n      <td>0.721608</td>\n      <td>2333.000000</td>\n      <td>...</td>\n      <td>-73.350990</td>\n      <td>36.903097</td>\n      <td>0.928888</td>\n      <td>4.806327</td>\n      <td>0.249983</td>\n      <td>58.000000</td>\n      <td>29.000000</td>\n      <td>ettm1</td>\n      <td>0.0</td>\n      <td>0.0</td>\n    </tr>\n    <tr>\n      <th>234</th>\n      <td>SZ</td>\n      <td>0.0</td>\n      <td>4.892097</td>\n      <td>1.009243e+01</td>\n      <td>15.078146</td>\n      <td>6955.000000</td>\n      <td>1.773768</td>\n      <td>6849.000000</td>\n      <td>0.721608</td>\n      <td>2333.000000</td>\n      <td>...</td>\n      <td>-73.350990</td>\n      <td>36.903097</td>\n      <td>0.928888</td>\n      <td>4.806327</td>\n      <td>0.249983</td>\n      <td>58.000000</td>\n      <td>29.000000</td>\n      <td>ettm1</td>\n      <td>0.0</td>\n      <td>0.0</td>\n    </tr>\n    <tr>\n      <th>235</th>\n      <td>SWING</td>\n      <td>0.0</td>\n      <td>4.892097</td>\n      <td>1.009243e+01</td>\n      <td>15.078146</td>\n      <td>6955.000000</td>\n      <td>1.773768</td>\n      <td>6849.000000</td>\n      <td>0.721608</td>\n      <td>2333.000000</td>\n      <td>...</td>\n      <td>-73.350990</td>\n      <td>36.903097</td>\n      <td>0.928888</td>\n      <td>4.806327</td>\n      <td>0.249983</td>\n      <td>58.000000</td>\n      <td>29.000000</td>\n      <td>ettm1</td>\n      <td>0.0</td>\n      <td>0.0</td>\n    </tr>\n    <tr>\n      <th>470</th>\n      <td>PMC</td>\n      <td>0.0</td>\n      <td>368.609457</td>\n      <td>8.344369e+04</td>\n      <td>46.054520</td>\n      <td>38067.000000</td>\n      <td>2.156944</td>\n      <td>37916.000000</td>\n      <td>0.839604</td>\n      <td>37841.000000</td>\n      <td>...</td>\n      <td>12.858508</td>\n      <td>-126.548086</td>\n      <td>0.985714</td>\n      <td>7.472253</td>\n      <td>0.000132</td>\n      <td>131.000000</td>\n      <td>65.000000</td>\n      <td>wind</td>\n      <td>0.0</td>\n      <td>0.0</td>\n    </tr>\n    <tr>\n      <th>471</th>\n      <td>SZ</td>\n      <td>0.0</td>\n      <td>368.609457</td>\n      <td>8.344369e+04</td>\n      <td>46.054520</td>\n      <td>38067.000000</td>\n      <td>2.156944</td>\n      <td>37916.000000</td>\n      <td>0.839604</td>\n      <td>37841.000000</td>\n      <td>...</td>\n      <td>12.858508</td>\n      <td>-126.548086</td>\n      <td>0.985714</td>\n      <td>7.472253</td>\n      <td>0.000132</td>\n      <td>131.000000</td>\n      <td>65.000000</td>\n      <td>wind</td>\n      <td>0.0</td>\n      <td>0.0</td>\n    </tr>\n    <tr>\n      <th>472</th>\n      <td>SWING</td>\n      <td>0.0</td>\n      <td>368.609457</td>\n      <td>8.344369e+04</td>\n      <td>46.054520</td>\n      <td>38067.000000</td>\n      <td>2.156944</td>\n      <td>37916.000000</td>\n      <td>0.839604</td>\n      <td>37841.000000</td>\n      <td>...</td>\n      <td>12.858508</td>\n      <td>-126.548086</td>\n      <td>0.985714</td>\n      <td>7.472253</td>\n      <td>0.000132</td>\n      <td>131.000000</td>\n      <td>65.000000</td>\n      <td>wind</td>\n      <td>0.0</td>\n      <td>0.0</td>\n    </tr>\n    <tr>\n      <th>694</th>\n      <td>PMC</td>\n      <td>0.0</td>\n      <td>4.849557</td>\n      <td>6.800000e+01</td>\n      <td>14.870596</td>\n      <td>4202.817518</td>\n      <td>0.771448</td>\n      <td>2140.226277</td>\n      <td>1.597397</td>\n      <td>1874.627737</td>\n      <td>...</td>\n      <td>-2.485923</td>\n      <td>-0.021688</td>\n      <td>0.928858</td>\n      <td>6.619893</td>\n      <td>0.393618</td>\n      <td>20.321168</td>\n      <td>97.131387</td>\n      <td>solar</td>\n      <td>0.0</td>\n      <td>0.0</td>\n    </tr>\n    <tr>\n      <th>695</th>\n      <td>SZ</td>\n      <td>0.0</td>\n      <td>4.849557</td>\n      <td>6.800000e+01</td>\n      <td>14.870596</td>\n      <td>4202.817518</td>\n      <td>0.771448</td>\n      <td>2140.226277</td>\n      <td>1.597397</td>\n      <td>1874.627737</td>\n      <td>...</td>\n      <td>-2.485923</td>\n      <td>-0.021688</td>\n      <td>0.928858</td>\n      <td>6.619893</td>\n      <td>0.393618</td>\n      <td>20.321168</td>\n      <td>97.131387</td>\n      <td>solar</td>\n      <td>0.0</td>\n      <td>0.0</td>\n    </tr>\n    <tr>\n      <th>696</th>\n      <td>SWING</td>\n      <td>0.0</td>\n      <td>4.849557</td>\n      <td>6.800000e+01</td>\n      <td>14.870596</td>\n      <td>4202.817518</td>\n      <td>0.771448</td>\n      <td>2140.226277</td>\n      <td>1.597397</td>\n      <td>1874.627737</td>\n      <td>...</td>\n      <td>-2.485923</td>\n      <td>-0.021688</td>\n      <td>0.928858</td>\n      <td>6.619893</td>\n      <td>0.393618</td>\n      <td>20.321168</td>\n      <td>97.131387</td>\n      <td>solar</td>\n      <td>0.0</td>\n      <td>0.0</td>\n    </tr>\n    <tr>\n      <th>918</th>\n      <td>PMC</td>\n      <td>0.0</td>\n      <td>6344.613347</td>\n      <td>1.453830e+06</td>\n      <td>41.820245</td>\n      <td>9230.000000</td>\n      <td>2.409852</td>\n      <td>9199.000000</td>\n      <td>4.755056</td>\n      <td>9209.000000</td>\n      <td>...</td>\n      <td>-17.090118</td>\n      <td>5.323332</td>\n      <td>0.965368</td>\n      <td>3.268570</td>\n      <td>0.801326</td>\n      <td>8.000000</td>\n      <td>27.000000</td>\n      <td>aus</td>\n      <td>0.0</td>\n      <td>0.0</td>\n    </tr>\n    <tr>\n      <th>919</th>\n      <td>SZ</td>\n      <td>0.0</td>\n      <td>6344.613347</td>\n      <td>1.453830e+06</td>\n      <td>41.820245</td>\n      <td>9230.000000</td>\n      <td>2.409852</td>\n      <td>9199.000000</td>\n      <td>4.755056</td>\n      <td>9209.000000</td>\n      <td>...</td>\n      <td>-17.090118</td>\n      <td>5.323332</td>\n      <td>0.965368</td>\n      <td>3.268570</td>\n      <td>0.801326</td>\n      <td>8.000000</td>\n      <td>27.000000</td>\n      <td>aus</td>\n      <td>0.0</td>\n      <td>0.0</td>\n    </tr>\n    <tr>\n      <th>920</th>\n      <td>SWING</td>\n      <td>0.0</td>\n      <td>6344.613347</td>\n      <td>1.453830e+06</td>\n      <td>41.820245</td>\n      <td>9230.000000</td>\n      <td>2.409852</td>\n      <td>9199.000000</td>\n      <td>4.755056</td>\n      <td>9209.000000</td>\n      <td>...</td>\n      <td>-17.090118</td>\n      <td>5.323332</td>\n      <td>0.965368</td>\n      <td>3.268570</td>\n      <td>0.801326</td>\n      <td>8.000000</td>\n      <td>27.000000</td>\n      <td>aus</td>\n      <td>0.0</td>\n      <td>0.0</td>\n    </tr>\n    <tr>\n      <th>1155</th>\n      <td>PMC</td>\n      <td>0.0</td>\n      <td>437.132352</td>\n      <td>2.649270e+02</td>\n      <td>21.289337</td>\n      <td>6425.000000</td>\n      <td>2.173070</td>\n      <td>6935.000000</td>\n      <td>1.728578</td>\n      <td>6887.000000</td>\n      <td>...</td>\n      <td>13.191661</td>\n      <td>-35.797783</td>\n      <td>0.946650</td>\n      <td>6.592558</td>\n      <td>0.304561</td>\n      <td>33.000000</td>\n      <td>68.000000</td>\n      <td>weather</td>\n      <td>0.0</td>\n      <td>0.0</td>\n    </tr>\n    <tr>\n      <th>1156</th>\n      <td>SZ</td>\n      <td>0.0</td>\n      <td>437.132352</td>\n      <td>2.649270e+02</td>\n      <td>21.289337</td>\n      <td>6425.000000</td>\n      <td>2.173070</td>\n      <td>6935.000000</td>\n      <td>1.728578</td>\n      <td>6887.000000</td>\n      <td>...</td>\n      <td>13.191661</td>\n      <td>-35.797783</td>\n      <td>0.946650</td>\n      <td>6.592558</td>\n      <td>0.304561</td>\n      <td>33.000000</td>\n      <td>68.000000</td>\n      <td>weather</td>\n      <td>0.0</td>\n      <td>0.0</td>\n    </tr>\n    <tr>\n      <th>1157</th>\n      <td>SWING</td>\n      <td>0.0</td>\n      <td>437.132352</td>\n      <td>2.649270e+02</td>\n      <td>21.289337</td>\n      <td>6425.000000</td>\n      <td>2.173070</td>\n      <td>6935.000000</td>\n      <td>1.728578</td>\n      <td>6887.000000</td>\n      <td>...</td>\n      <td>13.191661</td>\n      <td>-35.797783</td>\n      <td>0.946650</td>\n      <td>6.592558</td>\n      <td>0.304561</td>\n      <td>33.000000</td>\n      <td>68.000000</td>\n      <td>weather</td>\n      <td>0.0</td>\n      <td>0.0</td>\n    </tr>\n  </tbody>\n</table>\n<p>18 rows × 47 columns</p>\n</div>"
     },
     "execution_count": 43,
     "metadata": {},
     "output_type": "execute_result"
    }
   ],
   "source": [
    "features = pd.read_csv('../results/features/all_datasets_features.csv')\n",
    "raw_features = features[features.eb == 0.]\n",
    "raw_features.head(20)"
   ],
   "metadata": {
    "collapsed": false,
    "ExecuteTime": {
     "end_time": "2023-12-13T17:01:24.207130600Z",
     "start_time": "2023-12-13T17:01:24.146914300Z"
    }
   }
  },
  {
   "cell_type": "code",
   "execution_count": 44,
   "outputs": [
    {
     "data": {
      "text/plain": "(TFE             0.864414\n max_kl_shift    0.714951\n eb              0.617027\n beta            0.571614\n diff1_acf1      0.571517\n seas_pacf       0.545195\n flat_spots      0.519279\n x_pacf5         0.510618\n diff1_acf10     0.507153\n diff1x_pacf5    0.466127\n Name: te, dtype: float64,\n te                 0.864414\n max_kl_shift       0.608894\n eb                 0.546951\n diff1_acf1         0.418048\n x_pacf5            0.408942\n mean               0.406166\n ARCH.LM            0.405667\n beta               0.382979\n max_var_shift      0.381488\n max_level_shift    0.380580\n Name: TFE, dtype: float64)"
     },
     "execution_count": 44,
     "metadata": {},
     "output_type": "execute_result"
    }
   ],
   "source": [
    "filtered_data = features[features['eb'] <= 0.5]\n",
    "filtered_correlation_matrix = filtered_data.corr(\"spearman\").abs()\n",
    "\n",
    "# Recalculate the correlations with the 'TE' and 'TFE' columns\n",
    "filtered_te_correlations = filtered_correlation_matrix['te'].sort_values(ascending=False).drop(labels=['te'])\n",
    "filtered_tfe_correlations = filtered_correlation_matrix['TFE'].sort_values(ascending=False).drop(labels=['TFE'])\n",
    "\n",
    "# Display the top 10 correlated features for both 'TE' and 'TFE'\n",
    "filtered_te_correlations.head(10), filtered_tfe_correlations.head(10)"
   ],
   "metadata": {
    "collapsed": false,
    "ExecuteTime": {
     "end_time": "2023-12-13T17:01:33.301021900Z",
     "start_time": "2023-12-13T17:01:33.269013Z"
    }
   }
  },
  {
   "cell_type": "code",
   "execution_count": 45,
   "outputs": [
    {
     "data": {
      "text/plain": "TFE                0.812490\nmax_kl_shift       0.752672\ndiff1_acf1         0.699416\ndiff1_acf10        0.662916\ndiff1x_pacf5       0.633990\neb                 0.617416\nbeta               0.610379\nmax_level_shift    0.578087\nflat_spots         0.553102\nx_pacf5            0.527883\nseas_pacf          0.502836\nmean               0.492315\nName: te, dtype: float64"
     },
     "execution_count": 45,
     "metadata": {},
     "output_type": "execute_result"
    }
   ],
   "source": [
    "pmc_data = filtered_data[filtered_data.compression == 'PMC']\n",
    "filtered_correlation_matrix = pmc_data.corr(\"spearman\").abs()\n",
    "filtered_te_correlations = filtered_correlation_matrix['te'].sort_values(ascending=False).drop(labels=['te'])\n",
    "filtered_te_correlations.head(12)"
   ],
   "metadata": {
    "collapsed": false,
    "ExecuteTime": {
     "end_time": "2023-12-13T17:01:36.123782600Z",
     "start_time": "2023-12-13T17:01:36.092951800Z"
    }
   }
  },
  {
   "cell_type": "code",
   "execution_count": 46,
   "outputs": [
    {
     "data": {
      "text/plain": "TFE                  0.859587\ndiff2_acf10          0.747056\ndiff2x_pacf5         0.723109\ndiff2_acf1           0.686298\neb                   0.673959\ndiff1_acf1           0.634290\nmax_kl_shift         0.632837\nbeta                 0.588057\ndiff1x_pacf5         0.584381\nseasonal_strength    0.574264\ndiff1_acf10          0.572488\nflat_spots           0.571500\nName: te, dtype: float64"
     },
     "execution_count": 46,
     "metadata": {},
     "output_type": "execute_result"
    }
   ],
   "source": [
    "swing_data = filtered_data[filtered_data.compression == 'SWING']\n",
    "filtered_correlation_matrix = swing_data.corr(\"spearman\").abs()\n",
    "filtered_te_correlations = filtered_correlation_matrix['te'].sort_values(ascending=False).drop(labels=['te'])\n",
    "filtered_te_correlations.head(12)"
   ],
   "metadata": {
    "collapsed": false,
    "ExecuteTime": {
     "end_time": "2023-12-13T17:01:43.541403600Z",
     "start_time": "2023-12-13T17:01:43.518387100Z"
    }
   }
  },
  {
   "cell_type": "code",
   "execution_count": 33,
   "outputs": [
    {
     "data": {
      "text/plain": "TFE             0.925656\nmax_kl_shift    0.821102\nARCH.LM         0.730538\nseas_pacf       0.648428\nx_acf1          0.647495\ne_acf1          0.590060\neb              0.578981\ndiff1_acf1      0.572647\nx_pacf5         0.559381\nbeta            0.558783\nseas_acf1       0.499408\ne_acf10         0.494808\nName: te, dtype: float64"
     },
     "execution_count": 33,
     "metadata": {},
     "output_type": "execute_result"
    }
   ],
   "source": [
    "sz_data = filtered_data[filtered_data.compression == 'SZ']\n",
    "filtered_correlation_matrix = sz_data.corr(\"spearman\").abs()\n",
    "filtered_te_correlations = filtered_correlation_matrix['te'].sort_values(ascending=False).drop(labels=['te'])\n",
    "filtered_te_correlations.head(12)"
   ],
   "metadata": {
    "collapsed": false,
    "ExecuteTime": {
     "end_time": "2023-12-13T16:47:41.755255300Z",
     "start_time": "2023-12-13T16:47:41.731909800Z"
    }
   }
  },
  {
   "cell_type": "code",
   "execution_count": 49,
   "outputs": [
    {
     "name": "stderr",
     "output_type": "stream",
     "text": [
      "D:\\Anaconda\\envs\\dart\\lib\\site-packages\\pandas\\core\\generic.py:6392: SettingWithCopyWarning: \n",
      "A value is trying to be set on a copy of a slice from a DataFrame\n",
      "\n",
      "See the caveats in the documentation: https://pandas.pydata.org/pandas-docs/stable/user_guide/indexing.html#returning-a-view-versus-a-copy\n",
      "  return self._update_inplace(result)\n"
     ]
    },
    {
     "data": {
      "text/plain": "{'max_kl_shift': 8.921314824071768e-05,\n 'diff1_acf1': -0.02131636206789626,\n 'diff1_acf10': -0.02004561316519749,\n 'diff1x_pacf5': 0.10815899526856049,\n 'eb': 0.09341350063234921,\n 'beta': -0.05154508892355196,\n 'max_level_shift': 0.013307199557526742,\n 'flat_spots': 4.935940603537888e-07,\n 'x_pacf5': 0.02335929103413333,\n 'seas_pacf': 0.05011095270901692}"
     },
     "execution_count": 49,
     "metadata": {},
     "output_type": "execute_result"
    }
   ],
   "source": [
    "from sklearn.linear_model import LinearRegression\n",
    "import numpy as np\n",
    "\n",
    "# Filter data for PMC compression method\n",
    "# pmc_data = data[data['compression'] == 'PMC']\n",
    "pmc_data = filtered_data[filtered_data.compression == 'PMC']\n",
    "filtered_correlation_matrix = pmc_data.corr(\"spearman\").abs()\n",
    "filtered_te_correlations = filtered_correlation_matrix['te'].sort_values(ascending=False).drop(labels=['te', 'TFE'])\n",
    "\n",
    "\n",
    "# Identify the top 10 correlated features to TE, including eb (previously calculated)\n",
    "top_10_features = filtered_te_correlations.head(10).index\n",
    "\n",
    "# Prepare data for regression\n",
    "X_pmc = pmc_data[top_10_features]  # Predictor variables\n",
    "y_pmc = pmc_data['te']             # Target variable\n",
    "\n",
    "# Check for any NaN values and fill them if necessary\n",
    "X_pmc.fillna(X_pmc.mean(), inplace=True)\n",
    "\n",
    "# Perform linear regression\n",
    "regression_model_pmc = LinearRegression()\n",
    "regression_model_pmc.fit(X_pmc, y_pmc)\n",
    "\n",
    "# Analyze the results - Output the coefficients for each feature\n",
    "feature_coefficients = dict(zip(top_10_features, regression_model_pmc.coef_))\n",
    "\n",
    "feature_coefficients\n"
   ],
   "metadata": {
    "collapsed": false,
    "ExecuteTime": {
     "end_time": "2023-12-13T17:02:48.464997800Z",
     "start_time": "2023-12-13T17:02:48.436642900Z"
    }
   }
  },
  {
   "cell_type": "code",
   "execution_count": 48,
   "outputs": [
    {
     "data": {
      "text/plain": "     compression    eb        mean        var  max_kl_shift  time_kl_shift  \\\n0            PMC  0.00   14.487689  51.296173      4.339038         8106.0   \n77           PMC  0.01   14.487689  51.290458      4.355191         8106.0   \n78           PMC  0.01   14.487689  51.290458      4.355191         8106.0   \n79           PMC  0.01   14.487689  51.290458      4.355191         8106.0   \n80           PMC  0.01   14.487689  51.290458      4.355191         8106.0   \n...          ...   ...         ...        ...           ...            ...   \n1285         PMC  0.10  437.132347  71.366568    121.879091         3293.0   \n1286         PMC  0.10  437.132347  71.366568    121.879091         3293.0   \n1287         PMC  0.10  437.132347  71.366568    121.879091         3293.0   \n1288         PMC  0.10  437.132347  71.366568    121.879091         3293.0   \n1289         PMC  0.10  437.132347  71.366568    121.879091         3293.0   \n\n      max_level_shift  time_level_shift  max_var_shift  time_var_shift  ...  \\\n0            1.260713            6864.0       1.115841          8062.0  ...   \n77           1.260783            6864.0       1.114266          8062.0  ...   \n78           1.260783            6864.0       1.114266          8062.0  ...   \n79           1.260783            6864.0       1.114266          8062.0  ...   \n80           1.260783            6864.0       1.114266          8062.0  ...   \n...               ...               ...            ...             ...  ...   \n1285         5.421708            2909.0       9.527773          2837.0  ...   \n1286         5.421708            2909.0       9.527773          2837.0  ...   \n1287         5.421708            2909.0       9.527773          2837.0  ...   \n1288         5.421708            2909.0       9.527773          2837.0  ...   \n1289         5.421708            2909.0       9.527773          2837.0  ...   \n\n      linearity  curvature    e_acf1   e_acf10  seasonal_strength  peak  \\\n0    -67.789699  27.281865  0.993917  7.548032       6.375753e-01  57.0   \n77   -67.820292  27.288412  0.992020  7.526387       6.382716e-01  57.0   \n78   -67.820292  27.288412  0.992020  7.526387       6.382716e-01  57.0   \n79   -67.820292  27.288412  0.992020  7.526387       6.382716e-01  57.0   \n80   -67.820292  27.288412  0.992020  7.526387       6.382716e-01  57.0   \n...         ...        ...       ...       ...                ...   ...   \n1285  33.440895 -39.248615  0.976146  8.283602       5.551115e-16  72.0   \n1286  33.440895 -39.248615  0.976146  8.283602       5.551115e-16  72.0   \n1287  33.440895 -39.248615  0.976146  8.283602       5.551115e-16  72.0   \n1288  33.440895 -39.248615  0.976146  8.283602       5.551115e-16  72.0   \n1289  33.440895 -39.248615  0.976146  8.283602       5.551115e-16  72.0   \n\n      trough     data        te       TFE  \n0       31.0    ettm2  0.000000  0.000000  \n77      31.0    ettm2  0.001944  0.000087  \n78      31.0    ettm2  0.001944  0.002615  \n79      31.0    ettm2  0.001944 -0.000013  \n80      31.0    ettm2  0.001944  0.000106  \n...      ...      ...       ...       ...  \n1285   143.0  weather  0.117526  0.442402  \n1286   143.0  weather  0.117526  0.479250  \n1287   143.0  weather  0.117526  0.484222  \n1288   143.0  weather  0.117526  0.453585  \n1289   143.0  weather  0.130697  0.845136  \n\n[396 rows x 47 columns]",
      "text/html": "<div>\n<style scoped>\n    .dataframe tbody tr th:only-of-type {\n        vertical-align: middle;\n    }\n\n    .dataframe tbody tr th {\n        vertical-align: top;\n    }\n\n    .dataframe thead th {\n        text-align: right;\n    }\n</style>\n<table border=\"1\" class=\"dataframe\">\n  <thead>\n    <tr style=\"text-align: right;\">\n      <th></th>\n      <th>compression</th>\n      <th>eb</th>\n      <th>mean</th>\n      <th>var</th>\n      <th>max_kl_shift</th>\n      <th>time_kl_shift</th>\n      <th>max_level_shift</th>\n      <th>time_level_shift</th>\n      <th>max_var_shift</th>\n      <th>time_var_shift</th>\n      <th>...</th>\n      <th>linearity</th>\n      <th>curvature</th>\n      <th>e_acf1</th>\n      <th>e_acf10</th>\n      <th>seasonal_strength</th>\n      <th>peak</th>\n      <th>trough</th>\n      <th>data</th>\n      <th>te</th>\n      <th>TFE</th>\n    </tr>\n  </thead>\n  <tbody>\n    <tr>\n      <th>0</th>\n      <td>PMC</td>\n      <td>0.00</td>\n      <td>14.487689</td>\n      <td>51.296173</td>\n      <td>4.339038</td>\n      <td>8106.0</td>\n      <td>1.260713</td>\n      <td>6864.0</td>\n      <td>1.115841</td>\n      <td>8062.0</td>\n      <td>...</td>\n      <td>-67.789699</td>\n      <td>27.281865</td>\n      <td>0.993917</td>\n      <td>7.548032</td>\n      <td>6.375753e-01</td>\n      <td>57.0</td>\n      <td>31.0</td>\n      <td>ettm2</td>\n      <td>0.000000</td>\n      <td>0.000000</td>\n    </tr>\n    <tr>\n      <th>77</th>\n      <td>PMC</td>\n      <td>0.01</td>\n      <td>14.487689</td>\n      <td>51.290458</td>\n      <td>4.355191</td>\n      <td>8106.0</td>\n      <td>1.260783</td>\n      <td>6864.0</td>\n      <td>1.114266</td>\n      <td>8062.0</td>\n      <td>...</td>\n      <td>-67.820292</td>\n      <td>27.288412</td>\n      <td>0.992020</td>\n      <td>7.526387</td>\n      <td>6.382716e-01</td>\n      <td>57.0</td>\n      <td>31.0</td>\n      <td>ettm2</td>\n      <td>0.001944</td>\n      <td>0.000087</td>\n    </tr>\n    <tr>\n      <th>78</th>\n      <td>PMC</td>\n      <td>0.01</td>\n      <td>14.487689</td>\n      <td>51.290458</td>\n      <td>4.355191</td>\n      <td>8106.0</td>\n      <td>1.260783</td>\n      <td>6864.0</td>\n      <td>1.114266</td>\n      <td>8062.0</td>\n      <td>...</td>\n      <td>-67.820292</td>\n      <td>27.288412</td>\n      <td>0.992020</td>\n      <td>7.526387</td>\n      <td>6.382716e-01</td>\n      <td>57.0</td>\n      <td>31.0</td>\n      <td>ettm2</td>\n      <td>0.001944</td>\n      <td>0.002615</td>\n    </tr>\n    <tr>\n      <th>79</th>\n      <td>PMC</td>\n      <td>0.01</td>\n      <td>14.487689</td>\n      <td>51.290458</td>\n      <td>4.355191</td>\n      <td>8106.0</td>\n      <td>1.260783</td>\n      <td>6864.0</td>\n      <td>1.114266</td>\n      <td>8062.0</td>\n      <td>...</td>\n      <td>-67.820292</td>\n      <td>27.288412</td>\n      <td>0.992020</td>\n      <td>7.526387</td>\n      <td>6.382716e-01</td>\n      <td>57.0</td>\n      <td>31.0</td>\n      <td>ettm2</td>\n      <td>0.001944</td>\n      <td>-0.000013</td>\n    </tr>\n    <tr>\n      <th>80</th>\n      <td>PMC</td>\n      <td>0.01</td>\n      <td>14.487689</td>\n      <td>51.290458</td>\n      <td>4.355191</td>\n      <td>8106.0</td>\n      <td>1.260783</td>\n      <td>6864.0</td>\n      <td>1.114266</td>\n      <td>8062.0</td>\n      <td>...</td>\n      <td>-67.820292</td>\n      <td>27.288412</td>\n      <td>0.992020</td>\n      <td>7.526387</td>\n      <td>6.382716e-01</td>\n      <td>57.0</td>\n      <td>31.0</td>\n      <td>ettm2</td>\n      <td>0.001944</td>\n      <td>0.000106</td>\n    </tr>\n    <tr>\n      <th>...</th>\n      <td>...</td>\n      <td>...</td>\n      <td>...</td>\n      <td>...</td>\n      <td>...</td>\n      <td>...</td>\n      <td>...</td>\n      <td>...</td>\n      <td>...</td>\n      <td>...</td>\n      <td>...</td>\n      <td>...</td>\n      <td>...</td>\n      <td>...</td>\n      <td>...</td>\n      <td>...</td>\n      <td>...</td>\n      <td>...</td>\n      <td>...</td>\n      <td>...</td>\n      <td>...</td>\n    </tr>\n    <tr>\n      <th>1285</th>\n      <td>PMC</td>\n      <td>0.10</td>\n      <td>437.132347</td>\n      <td>71.366568</td>\n      <td>121.879091</td>\n      <td>3293.0</td>\n      <td>5.421708</td>\n      <td>2909.0</td>\n      <td>9.527773</td>\n      <td>2837.0</td>\n      <td>...</td>\n      <td>33.440895</td>\n      <td>-39.248615</td>\n      <td>0.976146</td>\n      <td>8.283602</td>\n      <td>5.551115e-16</td>\n      <td>72.0</td>\n      <td>143.0</td>\n      <td>weather</td>\n      <td>0.117526</td>\n      <td>0.442402</td>\n    </tr>\n    <tr>\n      <th>1286</th>\n      <td>PMC</td>\n      <td>0.10</td>\n      <td>437.132347</td>\n      <td>71.366568</td>\n      <td>121.879091</td>\n      <td>3293.0</td>\n      <td>5.421708</td>\n      <td>2909.0</td>\n      <td>9.527773</td>\n      <td>2837.0</td>\n      <td>...</td>\n      <td>33.440895</td>\n      <td>-39.248615</td>\n      <td>0.976146</td>\n      <td>8.283602</td>\n      <td>5.551115e-16</td>\n      <td>72.0</td>\n      <td>143.0</td>\n      <td>weather</td>\n      <td>0.117526</td>\n      <td>0.479250</td>\n    </tr>\n    <tr>\n      <th>1287</th>\n      <td>PMC</td>\n      <td>0.10</td>\n      <td>437.132347</td>\n      <td>71.366568</td>\n      <td>121.879091</td>\n      <td>3293.0</td>\n      <td>5.421708</td>\n      <td>2909.0</td>\n      <td>9.527773</td>\n      <td>2837.0</td>\n      <td>...</td>\n      <td>33.440895</td>\n      <td>-39.248615</td>\n      <td>0.976146</td>\n      <td>8.283602</td>\n      <td>5.551115e-16</td>\n      <td>72.0</td>\n      <td>143.0</td>\n      <td>weather</td>\n      <td>0.117526</td>\n      <td>0.484222</td>\n    </tr>\n    <tr>\n      <th>1288</th>\n      <td>PMC</td>\n      <td>0.10</td>\n      <td>437.132347</td>\n      <td>71.366568</td>\n      <td>121.879091</td>\n      <td>3293.0</td>\n      <td>5.421708</td>\n      <td>2909.0</td>\n      <td>9.527773</td>\n      <td>2837.0</td>\n      <td>...</td>\n      <td>33.440895</td>\n      <td>-39.248615</td>\n      <td>0.976146</td>\n      <td>8.283602</td>\n      <td>5.551115e-16</td>\n      <td>72.0</td>\n      <td>143.0</td>\n      <td>weather</td>\n      <td>0.117526</td>\n      <td>0.453585</td>\n    </tr>\n    <tr>\n      <th>1289</th>\n      <td>PMC</td>\n      <td>0.10</td>\n      <td>437.132347</td>\n      <td>71.366568</td>\n      <td>121.879091</td>\n      <td>3293.0</td>\n      <td>5.421708</td>\n      <td>2909.0</td>\n      <td>9.527773</td>\n      <td>2837.0</td>\n      <td>...</td>\n      <td>33.440895</td>\n      <td>-39.248615</td>\n      <td>0.976146</td>\n      <td>8.283602</td>\n      <td>5.551115e-16</td>\n      <td>72.0</td>\n      <td>143.0</td>\n      <td>weather</td>\n      <td>0.130697</td>\n      <td>0.845136</td>\n    </tr>\n  </tbody>\n</table>\n<p>396 rows × 47 columns</p>\n</div>"
     },
     "execution_count": 48,
     "metadata": {},
     "output_type": "execute_result"
    }
   ],
   "source": [
    "pmc_data"
   ],
   "metadata": {
    "collapsed": false,
    "ExecuteTime": {
     "end_time": "2023-12-13T17:02:13.285435800Z",
     "start_time": "2023-12-13T17:02:13.259837800Z"
    }
   }
  },
  {
   "cell_type": "code",
   "execution_count": null,
   "outputs": [],
   "source": [],
   "metadata": {
    "collapsed": false
   }
  }
 ],
 "metadata": {
  "kernelspec": {
   "display_name": "Python 3",
   "language": "python",
   "name": "python3"
  },
  "language_info": {
   "codemirror_mode": {
    "name": "ipython",
    "version": 2
   },
   "file_extension": ".py",
   "mimetype": "text/x-python",
   "name": "python",
   "nbconvert_exporter": "python",
   "pygments_lexer": "ipython2",
   "version": "2.7.6"
  }
 },
 "nbformat": 4,
 "nbformat_minor": 0
}
