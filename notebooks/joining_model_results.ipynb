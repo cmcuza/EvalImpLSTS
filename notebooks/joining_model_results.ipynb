{
 "cells": [
  {
   "cell_type": "code",
   "execution_count": 87,
   "metadata": {
    "collapsed": true,
    "ExecuteTime": {
     "end_time": "2023-09-22T16:32:24.125211700Z",
     "start_time": "2023-09-22T16:32:24.104472600Z"
    }
   },
   "outputs": [],
   "source": [
    "import pandas as pd\n",
    "import numpy as np\n",
    "from utils.metrics import NRMSE\n",
    "import os\n",
    "\n",
    "\n",
    "def get_tfe(model_results):\n",
    "    baseline_result  = model_results[model_results.eblc == 'baseline']\n",
    "    model_results['TFE'] = (model_results.nrmse.values - baseline_result.nrmse.values)/baseline_result.nrmse.values\n",
    "    baseline_result = baseline_result.append([baseline_result]*2, ignore_index=True)\n",
    "    baseline_result.at[0, 'eblc'] = 'pmc'\n",
    "    baseline_result.at[1, 'eblc'] = 'sz'\n",
    "    baseline_result.at[2, 'eblc'] = 'swing'\n",
    "    baseline_result['TFE'] = 0.\n",
    "    return pd.concat([model_results, baseline_result])\n",
    "\n",
    "\n",
    "def join_with_aus():\n",
    "    aus_results = pd.DataFrame()\n",
    "    for root, dirs, files in os.walk('../results/tfe/per_model/'):\n",
    "        for result_file in files:\n",
    "            # if 'gru' in result_file or 'arima' in result_file:\n",
    "            #     continue\n",
    "            print(result_file)\n",
    "            model_results = pd.read_csv(os.path.join(root, result_file))\n",
    "            model_results = model_results[(model_results.data == 'aus')]\n",
    "            model_results['model'] = result_file.split('_')[0]\n",
    "            model_results = get_tfe(model_results)\n",
    "            aus_results = pd.concat([aus_results, model_results])\n",
    "\n",
    "\n",
    "    aus_results.reset_index(drop=True, inplace=True)\n",
    "    aus_results.eblc = aus_results.eblc.str.upper()\n",
    "    aus_results.model = aus_results.model.str.upper()\n",
    "    aus_results.data = aus_results.data.str.upper()\n",
    "    aus_results['tfe_metric'] = 'nrmse'\n",
    "    aus_results['te_metric'] = 'nrmse'\n",
    "    aus_results['te'] = aus_results['error']\n",
    "    x = aus_results.eb.values\n",
    "    aus_results.eb = np.where(x >= 1.0, x*0.01, x)\n",
    "    aus_results = aus_results.rename({'nrmse': 'forecasting error', 'eblc': 'compression'}, axis=1)\n",
    "    aus_results = aus_results.drop(['mae', 'rmse', 'rse', 'corr', 'data_corr'], axis=1)\n",
    "    all_model_results = pd.read_csv('../results/tfe/all_models_results.csv')\n",
    "    all_model_results = all_model_results[all_model_results.data != 'AUS']\n",
    "    cr_df = pd.read_csv('../results/cr/all_cr.csv')\n",
    "    cr_df = cr_df[(cr_df.data == 'aus')]\n",
    "    cr_df.compression = cr_df.compression.str.upper()\n",
    "    cr_df.data = cr_df.data.str.upper()\n",
    "    cr_df.rename({'gzip': 'compression ratio', 'error_bound': 'eb'}, axis=1, inplace=True)\n",
    "    cr_df.set_index(['data', 'compression', 'eb'], inplace=True)\n",
    "    joined = cr_df.merge(aus_results, on=['data', 'compression', 'eb'])\n",
    "    namr = pd.concat([all_model_results, joined]).reset_index(drop=True)\n",
    "    namr.to_csv('../results/tfe/all_models_results_.csv', index=False)\n"
   ]
  },
  {
   "cell_type": "code",
   "execution_count": 88,
   "outputs": [
    {
     "name": "stdout",
     "output_type": "stream",
     "text": [
      "arima_results.csv\n",
      "dlinear_results.csv\n",
      "gru_results.csv\n",
      "informer_results.csv\n",
      "nbeats_results.csv\n",
      "transformer_results.csv\n"
     ]
    }
   ],
   "source": [
    "join_with_aus()"
   ],
   "metadata": {
    "collapsed": false,
    "ExecuteTime": {
     "end_time": "2023-09-22T16:32:24.411587200Z",
     "start_time": "2023-09-22T16:32:24.266557Z"
    }
   }
  },
  {
   "cell_type": "code",
   "execution_count": 89,
   "outputs": [],
   "source": [
    "def join_with_arima():\n",
    "    df = pd.read_csv('../results/tfe/per_model/arima_results.csv')\n",
    "    df = df[['error', 'nrmse', 'eblc', 'data', 'eb']]\n",
    "    arima_results = pd.DataFrame()\n",
    "    for data in df.data.unique():\n",
    "        data_results = df[df.data == data]\n",
    "        get_tfe(data_results)\n",
    "        arima_results = pd.concat([arima_results, data_results])\n",
    "    arima_results.reset_index(drop=True, inplace=True)\n",
    "    arima_results.eblc = arima_results.eblc.str.upper()\n",
    "    arima_results['model'] = 'ARIMA'\n",
    "    arima_results.data = arima_results.data.str.upper()\n",
    "    arima_results['tfe_metric'] = 'nrmse'\n",
    "    arima_results['te_metric'] = 'nrmse'\n",
    "    arima_results['te'] = arima_results['error']\n",
    "    x = arima_results.eb.values\n",
    "    arima_results.eb = np.where(x >= 1.0, x*0.01, x)\n",
    "    arima_results = arima_results.rename({'nrmse': 'forecasting error', 'eblc': 'compression'}, axis=1)\n",
    "    all_model_results = pd.read_csv('../results/tfe/all_models_results_.csv')\n",
    "    cr_df = pd.read_csv('../results/cr/all_cr.csv')\n",
    "    cr_df.compression = cr_df.compression.str.upper()\n",
    "    cr_df.data = cr_df.data.str.upper()\n",
    "    cr_df.rename({'gzip': 'compression ratio', 'error_bound': 'eb'}, axis=1, inplace=True)\n",
    "    cr_df.set_index(['data', 'compression', 'eb'], inplace=True)\n",
    "    joined = cr_df.merge(arima_results, on=['data', 'compression', 'eb'])\n",
    "    namr = pd.concat([all_model_results, joined]).reset_index(drop=True)\n",
    "    namr.to_csv('../results/tfe/all_models_results_.csv', index=False)"
   ],
   "metadata": {
    "collapsed": false,
    "ExecuteTime": {
     "end_time": "2023-09-22T16:32:29.929493400Z",
     "start_time": "2023-09-22T16:32:29.912496200Z"
    }
   }
  },
  {
   "cell_type": "code",
   "execution_count": 90,
   "outputs": [
    {
     "name": "stderr",
     "output_type": "stream",
     "text": [
      "D:\\Anaconda\\envs\\dart\\lib\\site-packages\\ipykernel_launcher.py:8: SettingWithCopyWarning: \n",
      "A value is trying to be set on a copy of a slice from a DataFrame.\n",
      "Try using .loc[row_indexer,col_indexer] = value instead\n",
      "\n",
      "See the caveats in the documentation: https://pandas.pydata.org/pandas-docs/stable/user_guide/indexing.html#returning-a-view-versus-a-copy\n",
      "  \n"
     ]
    }
   ],
   "source": [
    "join_with_arima()"
   ],
   "metadata": {
    "collapsed": false,
    "ExecuteTime": {
     "end_time": "2023-09-22T16:32:30.610424900Z",
     "start_time": "2023-09-22T16:32:30.442510600Z"
    }
   }
  },
  {
   "cell_type": "code",
   "execution_count": 79,
   "outputs": [],
   "source": [
    "def join_arima_pweather():\n",
    "    df = pd.read_csv('../results/tfe/per_model/arima_results.csv')\n",
    "    df = df[['error', 'nrmse', 'eblc', 'data', 'eb']]\n",
    "    arima_results = df[df.data == 'pweather']\n",
    "    arima_results = get_tfe(arima_results)\n",
    "    arima_results = arima_results[arima_results.eblc != 'baseline']\n",
    "    arima_results.reset_index(drop=True, inplace=True)\n",
    "    arima_results.eblc = arima_results.eblc.str.upper()\n",
    "    arima_results['model'] = 'ARIMA'\n",
    "    arima_results.data = arima_results.data.str.upper()\n",
    "    arima_results['tfe_metric'] = 'nrmse'\n",
    "    arima_results['te_metric'] = 'nrmse'\n",
    "    arima_results['te'] = arima_results['error']\n",
    "    x = arima_results.eb.values\n",
    "    arima_results.eb = np.round(np.where(x >= 1.0, x*0.01, x), 3)\n",
    "    arima_results = arima_results.rename({'nrmse': 'forecasting error', 'eblc': 'compression'}, axis=1)\n",
    "    arima_results.drop('error', axis=1, inplace=True)\n",
    "    pweather_results = pd.read_csv('../results/tfe/pprocessed_weather.csv')\n",
    "    cr_df = pd.read_csv('../results/cr/pweather_cr.csv')\n",
    "    cr_df.compression = cr_df.compression.str.upper()\n",
    "    cr_df.data = cr_df.data.str.upper()\n",
    "    cr_df.rename({'gzip': 'cr', 'error_bound': 'eb'}, axis=1, inplace=True)\n",
    "    cr_df.set_index(['data', 'compression', 'eb'], inplace=True)\n",
    "    joined = cr_df.merge(arima_results, on=['data', 'compression', 'eb'])\n",
    "    concatenated = pd.concat([pweather_results, joined])\n",
    "    concatenated['data'] = 'WEATHER'\n",
    "    concatenated.to_csv('../results/tfe/pweather_results.csv', index=False)"
   ],
   "metadata": {
    "collapsed": false,
    "ExecuteTime": {
     "end_time": "2023-09-22T15:18:53.736593800Z",
     "start_time": "2023-09-22T15:18:53.707592200Z"
    }
   }
  },
  {
   "cell_type": "code",
   "execution_count": 80,
   "outputs": [
    {
     "name": "stderr",
     "output_type": "stream",
     "text": [
      "D:\\Anaconda\\envs\\dart\\lib\\site-packages\\ipykernel_launcher.py:8: SettingWithCopyWarning: \n",
      "A value is trying to be set on a copy of a slice from a DataFrame.\n",
      "Try using .loc[row_indexer,col_indexer] = value instead\n",
      "\n",
      "See the caveats in the documentation: https://pandas.pydata.org/pandas-docs/stable/user_guide/indexing.html#returning-a-view-versus-a-copy\n",
      "  \n"
     ]
    }
   ],
   "source": [
    "join_arima_pweather()"
   ],
   "metadata": {
    "collapsed": false,
    "ExecuteTime": {
     "end_time": "2023-09-22T15:18:54.590953400Z",
     "start_time": "2023-09-22T15:18:54.515377Z"
    }
   }
  },
  {
   "cell_type": "code",
   "execution_count": 134,
   "outputs": [],
   "source": [
    "all_models_results = pd.read_csv('../results/tfe/all_models_results_.csv')\n",
    "all_models_results = all_models_results[all_models_results.data != 'WEATHER']\n",
    "all_models_results.drop('error', axis=1, inplace=True)\n",
    "all_models_results.rename({'compression ratio': 'cr'}, axis=1, inplace=True)\n",
    "pweather_results = pd.read_csv('../results/tfe/pweather_results.csv')\n",
    "pd.concat([all_models_results, pweather_results]).to_csv('../results/tfe/models_results.csv', index=False)"
   ],
   "metadata": {
    "collapsed": false,
    "ExecuteTime": {
     "end_time": "2023-09-23T16:25:37.075020800Z",
     "start_time": "2023-09-23T16:25:37.010360300Z"
    }
   }
  },
  {
   "cell_type": "code",
   "execution_count": 130,
   "outputs": [
    {
     "data": {
      "text/plain": "  compression   data   eb tfe_metric  forecasting error    model   cr  TFE  \\\n0          SZ  ETTM2  0.0      nrmse           0.048568  DLINEAR  1.0  0.0   \n1          SZ  ETTM2  0.0      nrmse           0.048568  DLINEAR  1.0  0.0   \n2          SZ  ETTM1  0.0      nrmse           0.064241      GRU  1.0  0.0   \n3          SZ  ETTM1  0.0      nrmse           0.064241      GRU  1.0  0.0   \n4          SZ   WIND  0.0      nrmse           0.032543      GRU  1.0  0.0   \n\n  te_metric   te  \n0     nrmse  0.0  \n1       rse  0.0  \n2     nrmse  0.0  \n3       rse  0.0  \n4     nrmse  0.0  ",
      "text/html": "<div>\n<style scoped>\n    .dataframe tbody tr th:only-of-type {\n        vertical-align: middle;\n    }\n\n    .dataframe tbody tr th {\n        vertical-align: top;\n    }\n\n    .dataframe thead th {\n        text-align: right;\n    }\n</style>\n<table border=\"1\" class=\"dataframe\">\n  <thead>\n    <tr style=\"text-align: right;\">\n      <th></th>\n      <th>compression</th>\n      <th>data</th>\n      <th>eb</th>\n      <th>tfe_metric</th>\n      <th>forecasting error</th>\n      <th>model</th>\n      <th>cr</th>\n      <th>TFE</th>\n      <th>te_metric</th>\n      <th>te</th>\n    </tr>\n  </thead>\n  <tbody>\n    <tr>\n      <th>0</th>\n      <td>SZ</td>\n      <td>ETTM2</td>\n      <td>0.0</td>\n      <td>nrmse</td>\n      <td>0.048568</td>\n      <td>DLINEAR</td>\n      <td>1.0</td>\n      <td>0.0</td>\n      <td>nrmse</td>\n      <td>0.0</td>\n    </tr>\n    <tr>\n      <th>1</th>\n      <td>SZ</td>\n      <td>ETTM2</td>\n      <td>0.0</td>\n      <td>nrmse</td>\n      <td>0.048568</td>\n      <td>DLINEAR</td>\n      <td>1.0</td>\n      <td>0.0</td>\n      <td>rse</td>\n      <td>0.0</td>\n    </tr>\n    <tr>\n      <th>2</th>\n      <td>SZ</td>\n      <td>ETTM1</td>\n      <td>0.0</td>\n      <td>nrmse</td>\n      <td>0.064241</td>\n      <td>GRU</td>\n      <td>1.0</td>\n      <td>0.0</td>\n      <td>nrmse</td>\n      <td>0.0</td>\n    </tr>\n    <tr>\n      <th>3</th>\n      <td>SZ</td>\n      <td>ETTM1</td>\n      <td>0.0</td>\n      <td>nrmse</td>\n      <td>0.064241</td>\n      <td>GRU</td>\n      <td>1.0</td>\n      <td>0.0</td>\n      <td>rse</td>\n      <td>0.0</td>\n    </tr>\n    <tr>\n      <th>4</th>\n      <td>SZ</td>\n      <td>WIND</td>\n      <td>0.0</td>\n      <td>nrmse</td>\n      <td>0.032543</td>\n      <td>GRU</td>\n      <td>1.0</td>\n      <td>0.0</td>\n      <td>nrmse</td>\n      <td>0.0</td>\n    </tr>\n  </tbody>\n</table>\n</div>"
     },
     "execution_count": 130,
     "metadata": {},
     "output_type": "execute_result"
    }
   ],
   "source": [
    "all_models_results.head()"
   ],
   "metadata": {
    "collapsed": false,
    "ExecuteTime": {
     "end_time": "2023-09-23T16:23:56.898843700Z",
     "start_time": "2023-09-23T16:23:56.861885Z"
    }
   }
  },
  {
   "cell_type": "code",
   "execution_count": 131,
   "outputs": [
    {
     "data": {
      "text/plain": "    eb compression tfe_metric  forecasting error        model  TFE     data  \\\n0  0.0         PMC      nrmse           0.069624      DLINEAR  0.0  WEATHER   \n1  0.0         PMC      nrmse           0.069108          GRU  0.0  WEATHER   \n2  0.0         PMC      nrmse           0.070381     INFORMER  0.0  WEATHER   \n3  0.0         PMC      nrmse           0.073630       NBEATS  0.0  WEATHER   \n4  0.0         PMC      nrmse           0.086052  TRANSFORMER  0.0  WEATHER   \n\n  te_metric   te   cr  \n0     nrmse  0.0  1.0  \n1     nrmse  0.0  1.0  \n2     nrmse  0.0  1.0  \n3     nrmse  0.0  1.0  \n4     nrmse  0.0  1.0  ",
      "text/html": "<div>\n<style scoped>\n    .dataframe tbody tr th:only-of-type {\n        vertical-align: middle;\n    }\n\n    .dataframe tbody tr th {\n        vertical-align: top;\n    }\n\n    .dataframe thead th {\n        text-align: right;\n    }\n</style>\n<table border=\"1\" class=\"dataframe\">\n  <thead>\n    <tr style=\"text-align: right;\">\n      <th></th>\n      <th>eb</th>\n      <th>compression</th>\n      <th>tfe_metric</th>\n      <th>forecasting error</th>\n      <th>model</th>\n      <th>TFE</th>\n      <th>data</th>\n      <th>te_metric</th>\n      <th>te</th>\n      <th>cr</th>\n    </tr>\n  </thead>\n  <tbody>\n    <tr>\n      <th>0</th>\n      <td>0.0</td>\n      <td>PMC</td>\n      <td>nrmse</td>\n      <td>0.069624</td>\n      <td>DLINEAR</td>\n      <td>0.0</td>\n      <td>WEATHER</td>\n      <td>nrmse</td>\n      <td>0.0</td>\n      <td>1.0</td>\n    </tr>\n    <tr>\n      <th>1</th>\n      <td>0.0</td>\n      <td>PMC</td>\n      <td>nrmse</td>\n      <td>0.069108</td>\n      <td>GRU</td>\n      <td>0.0</td>\n      <td>WEATHER</td>\n      <td>nrmse</td>\n      <td>0.0</td>\n      <td>1.0</td>\n    </tr>\n    <tr>\n      <th>2</th>\n      <td>0.0</td>\n      <td>PMC</td>\n      <td>nrmse</td>\n      <td>0.070381</td>\n      <td>INFORMER</td>\n      <td>0.0</td>\n      <td>WEATHER</td>\n      <td>nrmse</td>\n      <td>0.0</td>\n      <td>1.0</td>\n    </tr>\n    <tr>\n      <th>3</th>\n      <td>0.0</td>\n      <td>PMC</td>\n      <td>nrmse</td>\n      <td>0.073630</td>\n      <td>NBEATS</td>\n      <td>0.0</td>\n      <td>WEATHER</td>\n      <td>nrmse</td>\n      <td>0.0</td>\n      <td>1.0</td>\n    </tr>\n    <tr>\n      <th>4</th>\n      <td>0.0</td>\n      <td>PMC</td>\n      <td>nrmse</td>\n      <td>0.086052</td>\n      <td>TRANSFORMER</td>\n      <td>0.0</td>\n      <td>WEATHER</td>\n      <td>nrmse</td>\n      <td>0.0</td>\n      <td>1.0</td>\n    </tr>\n  </tbody>\n</table>\n</div>"
     },
     "execution_count": 131,
     "metadata": {},
     "output_type": "execute_result"
    }
   ],
   "source": [
    "pweather_results.head()"
   ],
   "metadata": {
    "collapsed": false,
    "ExecuteTime": {
     "end_time": "2023-09-23T16:23:57.498974300Z",
     "start_time": "2023-09-23T16:23:57.480662100Z"
    }
   }
  },
  {
   "cell_type": "code",
   "execution_count": 133,
   "outputs": [
    {
     "data": {
      "text/plain": "      index compression     data    eb tfe_metric  forecasting error    model  \\\n0         0          SZ    ETTM2  0.00      nrmse           0.048568  DLINEAR   \n1         1          SZ    ETTM2  0.00      nrmse           0.048568  DLINEAR   \n2         2          SZ    ETTM1  0.00      nrmse           0.064241      GRU   \n3         3          SZ    ETTM1  0.00      nrmse           0.064241      GRU   \n4         4          SZ     WIND  0.00      nrmse           0.032543      GRU   \n...     ...         ...      ...   ...        ...                ...      ...   \n4670    229       SWING  WEATHER  0.07      nrmse           0.142801    ARIMA   \n4671    230         PMC  WEATHER  0.07      nrmse           0.119142    ARIMA   \n4672    231       SWING  WEATHER  0.10      nrmse           0.186287    ARIMA   \n4673    232         PMC  WEATHER  0.10      nrmse           0.148237    ARIMA   \n4674    233          SZ  WEATHER  0.10      nrmse           0.223256    ARIMA   \n\n          cr       TFE te_metric        te  \n0       1.00  0.000000     nrmse  0.000000  \n1       1.00  0.000000       rse  0.000000  \n2       1.00  0.000000     nrmse  0.000000  \n3       1.00  0.000000       rse  0.000000  \n4       1.00  0.000000     nrmse  0.000000  \n...      ...       ...       ...       ...  \n4670  135.14  0.777471     nrmse  0.125848  \n4671  221.58  0.482981     nrmse  0.096297  \n4672  349.21  1.318749     nrmse  0.173962  \n4673  432.19  0.845136     nrmse  0.130697  \n4674   79.10  1.778909     nrmse  0.203317  \n\n[4675 rows x 11 columns]",
      "text/html": "<div>\n<style scoped>\n    .dataframe tbody tr th:only-of-type {\n        vertical-align: middle;\n    }\n\n    .dataframe tbody tr th {\n        vertical-align: top;\n    }\n\n    .dataframe thead th {\n        text-align: right;\n    }\n</style>\n<table border=\"1\" class=\"dataframe\">\n  <thead>\n    <tr style=\"text-align: right;\">\n      <th></th>\n      <th>index</th>\n      <th>compression</th>\n      <th>data</th>\n      <th>eb</th>\n      <th>tfe_metric</th>\n      <th>forecasting error</th>\n      <th>model</th>\n      <th>cr</th>\n      <th>TFE</th>\n      <th>te_metric</th>\n      <th>te</th>\n    </tr>\n  </thead>\n  <tbody>\n    <tr>\n      <th>0</th>\n      <td>0</td>\n      <td>SZ</td>\n      <td>ETTM2</td>\n      <td>0.00</td>\n      <td>nrmse</td>\n      <td>0.048568</td>\n      <td>DLINEAR</td>\n      <td>1.00</td>\n      <td>0.000000</td>\n      <td>nrmse</td>\n      <td>0.000000</td>\n    </tr>\n    <tr>\n      <th>1</th>\n      <td>1</td>\n      <td>SZ</td>\n      <td>ETTM2</td>\n      <td>0.00</td>\n      <td>nrmse</td>\n      <td>0.048568</td>\n      <td>DLINEAR</td>\n      <td>1.00</td>\n      <td>0.000000</td>\n      <td>rse</td>\n      <td>0.000000</td>\n    </tr>\n    <tr>\n      <th>2</th>\n      <td>2</td>\n      <td>SZ</td>\n      <td>ETTM1</td>\n      <td>0.00</td>\n      <td>nrmse</td>\n      <td>0.064241</td>\n      <td>GRU</td>\n      <td>1.00</td>\n      <td>0.000000</td>\n      <td>nrmse</td>\n      <td>0.000000</td>\n    </tr>\n    <tr>\n      <th>3</th>\n      <td>3</td>\n      <td>SZ</td>\n      <td>ETTM1</td>\n      <td>0.00</td>\n      <td>nrmse</td>\n      <td>0.064241</td>\n      <td>GRU</td>\n      <td>1.00</td>\n      <td>0.000000</td>\n      <td>rse</td>\n      <td>0.000000</td>\n    </tr>\n    <tr>\n      <th>4</th>\n      <td>4</td>\n      <td>SZ</td>\n      <td>WIND</td>\n      <td>0.00</td>\n      <td>nrmse</td>\n      <td>0.032543</td>\n      <td>GRU</td>\n      <td>1.00</td>\n      <td>0.000000</td>\n      <td>nrmse</td>\n      <td>0.000000</td>\n    </tr>\n    <tr>\n      <th>...</th>\n      <td>...</td>\n      <td>...</td>\n      <td>...</td>\n      <td>...</td>\n      <td>...</td>\n      <td>...</td>\n      <td>...</td>\n      <td>...</td>\n      <td>...</td>\n      <td>...</td>\n      <td>...</td>\n    </tr>\n    <tr>\n      <th>4670</th>\n      <td>229</td>\n      <td>SWING</td>\n      <td>WEATHER</td>\n      <td>0.07</td>\n      <td>nrmse</td>\n      <td>0.142801</td>\n      <td>ARIMA</td>\n      <td>135.14</td>\n      <td>0.777471</td>\n      <td>nrmse</td>\n      <td>0.125848</td>\n    </tr>\n    <tr>\n      <th>4671</th>\n      <td>230</td>\n      <td>PMC</td>\n      <td>WEATHER</td>\n      <td>0.07</td>\n      <td>nrmse</td>\n      <td>0.119142</td>\n      <td>ARIMA</td>\n      <td>221.58</td>\n      <td>0.482981</td>\n      <td>nrmse</td>\n      <td>0.096297</td>\n    </tr>\n    <tr>\n      <th>4672</th>\n      <td>231</td>\n      <td>SWING</td>\n      <td>WEATHER</td>\n      <td>0.10</td>\n      <td>nrmse</td>\n      <td>0.186287</td>\n      <td>ARIMA</td>\n      <td>349.21</td>\n      <td>1.318749</td>\n      <td>nrmse</td>\n      <td>0.173962</td>\n    </tr>\n    <tr>\n      <th>4673</th>\n      <td>232</td>\n      <td>PMC</td>\n      <td>WEATHER</td>\n      <td>0.10</td>\n      <td>nrmse</td>\n      <td>0.148237</td>\n      <td>ARIMA</td>\n      <td>432.19</td>\n      <td>0.845136</td>\n      <td>nrmse</td>\n      <td>0.130697</td>\n    </tr>\n    <tr>\n      <th>4674</th>\n      <td>233</td>\n      <td>SZ</td>\n      <td>WEATHER</td>\n      <td>0.10</td>\n      <td>nrmse</td>\n      <td>0.223256</td>\n      <td>ARIMA</td>\n      <td>79.10</td>\n      <td>1.778909</td>\n      <td>nrmse</td>\n      <td>0.203317</td>\n    </tr>\n  </tbody>\n</table>\n<p>4675 rows × 11 columns</p>\n</div>"
     },
     "execution_count": 133,
     "metadata": {},
     "output_type": "execute_result"
    }
   ],
   "source": [],
   "metadata": {
    "collapsed": false,
    "ExecuteTime": {
     "end_time": "2023-09-23T16:24:12.988248900Z",
     "start_time": "2023-09-23T16:24:12.950942600Z"
    }
   }
  },
  {
   "cell_type": "code",
   "execution_count": null,
   "outputs": [],
   "source": [],
   "metadata": {
    "collapsed": false
   }
  }
 ],
 "metadata": {
  "kernelspec": {
   "display_name": "Python 3",
   "language": "python",
   "name": "python3"
  },
  "language_info": {
   "codemirror_mode": {
    "name": "ipython",
    "version": 2
   },
   "file_extension": ".py",
   "mimetype": "text/x-python",
   "name": "python",
   "nbconvert_exporter": "python",
   "pygments_lexer": "ipython2",
   "version": "2.7.6"
  }
 },
 "nbformat": 4,
 "nbformat_minor": 0
}
