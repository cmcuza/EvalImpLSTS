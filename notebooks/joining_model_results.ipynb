{
 "cells": [
  {
   "cell_type": "code",
   "execution_count": 70,
   "metadata": {
    "collapsed": true,
    "ExecuteTime": {
     "end_time": "2023-09-18T09:11:47.047115100Z",
     "start_time": "2023-09-18T09:11:47.029112500Z"
    }
   },
   "outputs": [],
   "source": [
    "import pandas as pd\n",
    "import numpy as np\n",
    "import os\n",
    "\n",
    "\n",
    "def get_tfe(model_results):\n",
    "    baseline_result  = model_results[model_results.eblc == 'baseline']\n",
    "    model_results['TFE'] = (model_results.nrmse.values - baseline_result.nrmse.values)/baseline_result.nrmse.values\n",
    "    baseline_result = baseline_result.append([baseline_result]*2, ignore_index=True)\n",
    "    baseline_result.at[0, 'eblc'] = 'pmc'\n",
    "    baseline_result.at[1, 'eblc'] = 'sz'\n",
    "    baseline_result.at[2, 'eblc'] = 'swing'\n",
    "    baseline_result['TFE'] = 0.\n",
    "    return pd.concat([model_results, baseline_result])\n",
    "\n",
    "\n",
    "def join_with_aus():\n",
    "    aus_results = pd.DataFrame()\n",
    "    for root, dirs, files in os.walk('../results/tfe/per_model/'):\n",
    "        for result_file in files:\n",
    "            if 'gru' in result_file or 'arima' in result_file:\n",
    "                continue\n",
    "            print(result_file)\n",
    "            model_results = pd.read_csv(os.path.join(root, result_file))\n",
    "            model_results = model_results[(model_results.data == 'aus')]\n",
    "            model_results['model'] = result_file.split('_')[0]\n",
    "            model_results = get_tfe(model_results)\n",
    "            aus_results = pd.concat([aus_results, model_results])\n",
    "\n",
    "\n",
    "    aus_results.reset_index(drop=True, inplace=True)\n",
    "    aus_results.eblc = aus_results.eblc.str.upper()\n",
    "    aus_results.model = aus_results.model.str.upper()\n",
    "    aus_results.data = aus_results.data.str.upper()\n",
    "    aus_results['tfe_metric'] = 'nrmse'\n",
    "    aus_results['te_metric'] = 'nrmse'\n",
    "    aus_results['te'] = aus_results['error']\n",
    "    x = aus_results.eb.values\n",
    "    aus_results.eb = np.where(x >= 1.0, x*0.01, x)\n",
    "    aus_results = aus_results.rename({'nrmse': 'forecasting error', 'eblc': 'compression'}, axis=1)\n",
    "    aus_results = aus_results.drop(['mae', 'rmse', 'rse', 'corr', 'data_corr'], axis=1)\n",
    "    all_model_results = pd.read_csv('../results/tfe/all_models_results.csv')\n",
    "    cr_df = pd.read_csv('../results/cr/all_cr.csv')\n",
    "    cr_df = cr_df[(cr_df.data == 'aus')]\n",
    "    cr_df.compression = cr_df.compression.str.upper()\n",
    "    cr_df.data = cr_df.data.str.upper()\n",
    "    cr_df.rename({'gzip': 'compression ratio', 'error_bound': 'eb'}, axis=1, inplace=True)\n",
    "    cr_df.set_index(['data', 'compression', 'eb'], inplace=True)\n",
    "    joined = cr_df.merge(aus_results, on=['data', 'compression', 'eb'])\n",
    "    namr = pd.concat([all_model_results, joined]).reset_index(drop=True)\n",
    "    namr.to_csv('../results/tfe/all_models_results.csv', index=False)\n"
   ]
  }
 ],
 "metadata": {
  "kernelspec": {
   "display_name": "Python 3",
   "language": "python",
   "name": "python3"
  },
  "language_info": {
   "codemirror_mode": {
    "name": "ipython",
    "version": 2
   },
   "file_extension": ".py",
   "mimetype": "text/x-python",
   "name": "python",
   "nbconvert_exporter": "python",
   "pygments_lexer": "ipython2",
   "version": "2.7.6"
  }
 },
 "nbformat": 4,
 "nbformat_minor": 0
}
