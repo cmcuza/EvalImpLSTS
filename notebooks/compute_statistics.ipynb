{
 "cells": [
  {
   "cell_type": "code",
   "execution_count": 1,
   "metadata": {
    "collapsed": true,
    "ExecuteTime": {
     "end_time": "2023-09-12T15:43:04.107549800Z",
     "start_time": "2023-09-12T15:43:03.592458100Z"
    }
   },
   "outputs": [],
   "source": [
    "import pandas as pd\n",
    "import numpy as np"
   ]
  },
  {
   "cell_type": "code",
   "execution_count": 61,
   "outputs": [],
   "source": [
    "def compute_rho_eb_te_cr(data_name):\n",
    "    cr_df = pd.read_csv('../results/cr/all_cr.csv')\n",
    "    cr_df = cr_df[cr_df.data == data_name]\n",
    "    te_df = pd.read_csv('../results/te/transformation_error.csv')\n",
    "    te_df = te_df[te_df.data == data_name]\n",
    "    te_df = te_df[te_df.metric == 'nrmse']\n",
    "    cr_df = cr_df.rename({'error_bound': 'eb', 'gzip': 'cr'}, axis=1)\n",
    "    te_df = te_df.rename({'decompression error': 'te'}, axis=1)\n",
    "    cr_df = cr_df[cr_df.eb.isin(te_df.eb)]\n",
    "    cr_df.set_index(['eb', 'compression'], inplace=True)\n",
    "    te_df.set_index(['eb', 'compression'], inplace=True)\n",
    "    cr_df.drop(['data'], axis=1, inplace=True)\n",
    "    te_df.drop(['data'], axis=1, inplace=True)\n",
    "    joined = cr_df.join(te_df)\n",
    "    joined.reset_index(inplace=True)\n",
    "    display(joined.groupby('compression').corr())\n",
    "    return joined"
   ],
   "metadata": {
    "collapsed": false,
    "ExecuteTime": {
     "end_time": "2023-09-12T16:07:53.649521500Z",
     "start_time": "2023-09-12T16:07:53.627164800Z"
    }
   }
  },
  {
   "cell_type": "code",
   "execution_count": 62,
   "outputs": [
    {
     "data": {
      "text/plain": "                      eb        cr        te\ncompression                                 \npmc         eb  1.000000  0.785108  0.953444\n            cr  0.785108  1.000000  0.579409\n            te  0.953444  0.579409  1.000000\nswing       eb  1.000000  0.849640  0.979876\n            cr  0.849640  1.000000  0.771676\n            te  0.979876  0.771676  1.000000\nsz          eb  1.000000  0.779702  0.988782\n            cr  0.779702  1.000000  0.701564\n            te  0.988782  0.701564  1.000000",
      "text/html": "<div>\n<style scoped>\n    .dataframe tbody tr th:only-of-type {\n        vertical-align: middle;\n    }\n\n    .dataframe tbody tr th {\n        vertical-align: top;\n    }\n\n    .dataframe thead th {\n        text-align: right;\n    }\n</style>\n<table border=\"1\" class=\"dataframe\">\n  <thead>\n    <tr style=\"text-align: right;\">\n      <th></th>\n      <th></th>\n      <th>eb</th>\n      <th>cr</th>\n      <th>te</th>\n    </tr>\n    <tr>\n      <th>compression</th>\n      <th></th>\n      <th></th>\n      <th></th>\n      <th></th>\n    </tr>\n  </thead>\n  <tbody>\n    <tr>\n      <th rowspan=\"3\" valign=\"top\">pmc</th>\n      <th>eb</th>\n      <td>1.000000</td>\n      <td>0.785108</td>\n      <td>0.953444</td>\n    </tr>\n    <tr>\n      <th>cr</th>\n      <td>0.785108</td>\n      <td>1.000000</td>\n      <td>0.579409</td>\n    </tr>\n    <tr>\n      <th>te</th>\n      <td>0.953444</td>\n      <td>0.579409</td>\n      <td>1.000000</td>\n    </tr>\n    <tr>\n      <th rowspan=\"3\" valign=\"top\">swing</th>\n      <th>eb</th>\n      <td>1.000000</td>\n      <td>0.849640</td>\n      <td>0.979876</td>\n    </tr>\n    <tr>\n      <th>cr</th>\n      <td>0.849640</td>\n      <td>1.000000</td>\n      <td>0.771676</td>\n    </tr>\n    <tr>\n      <th>te</th>\n      <td>0.979876</td>\n      <td>0.771676</td>\n      <td>1.000000</td>\n    </tr>\n    <tr>\n      <th rowspan=\"3\" valign=\"top\">sz</th>\n      <th>eb</th>\n      <td>1.000000</td>\n      <td>0.779702</td>\n      <td>0.988782</td>\n    </tr>\n    <tr>\n      <th>cr</th>\n      <td>0.779702</td>\n      <td>1.000000</td>\n      <td>0.701564</td>\n    </tr>\n    <tr>\n      <th>te</th>\n      <td>0.988782</td>\n      <td>0.701564</td>\n      <td>1.000000</td>\n    </tr>\n  </tbody>\n</table>\n</div>"
     },
     "metadata": {},
     "output_type": "display_data"
    }
   ],
   "source": [
    "joined = compute_rho_eb_te_cr('aus')"
   ],
   "metadata": {
    "collapsed": false,
    "ExecuteTime": {
     "end_time": "2023-09-12T16:07:54.486574400Z",
     "start_time": "2023-09-12T16:07:54.430577800Z"
    }
   }
  },
  {
   "cell_type": "code",
   "execution_count": 66,
   "outputs": [
    {
     "name": "stdout",
     "output_type": "stream",
     "text": [
      "pmc\n"
     ]
    },
    {
     "name": "stderr",
     "output_type": "stream",
     "text": [
      "D:\\Anaconda\\envs\\dart\\lib\\site-packages\\scipy\\stats\\stats.py:1542: UserWarning: kurtosistest only valid for n>=20 ... continuing anyway, n=13\n",
      "  \"anyway, n=%i\" % int(n))\n"
     ]
    },
    {
     "data": {
      "text/plain": "<class 'statsmodels.iolib.summary.Summary'>\n\"\"\"\n                            OLS Regression Results                            \n==============================================================================\nDep. Variable:                     cr   R-squared:                       0.336\nModel:                            OLS   Adj. R-squared:                  0.275\nMethod:                 Least Squares   F-statistic:                     5.559\nDate:                Tue, 12 Sep 2023   Prob (F-statistic):             0.0380\nTime:                        18:11:54   Log-Likelihood:                -115.76\nNo. Observations:                  13   AIC:                             235.5\nDf Residuals:                      11   BIC:                             236.7\nDf Model:                           1                                         \nCovariance Type:            nonrobust                                         \n==============================================================================\n                 coef    std err          t      P>|t|      [0.025      0.975]\n------------------------------------------------------------------------------\nIntercept   -968.9107    948.828     -1.021      0.329   -3057.268    1119.446\nte          2.652e+04   1.12e+04      2.358      0.038    1763.935    5.13e+04\n==============================================================================\nOmnibus:                       13.955   Durbin-Watson:                   0.744\nProb(Omnibus):                  0.001   Jarque-Bera (JB):                9.446\nSkew:                           1.557   Prob(JB):                      0.00889\nKurtosis:                       5.781   Cond. No.                         21.0\n==============================================================================\n\nNotes:\n[1] Standard Errors assume that the covariance matrix of the errors is correctly specified.\n\"\"\"",
      "text/html": "<table class=\"simpletable\">\n<caption>OLS Regression Results</caption>\n<tr>\n  <th>Dep. Variable:</th>           <td>cr</td>        <th>  R-squared:         </th> <td>   0.336</td>\n</tr>\n<tr>\n  <th>Model:</th>                   <td>OLS</td>       <th>  Adj. R-squared:    </th> <td>   0.275</td>\n</tr>\n<tr>\n  <th>Method:</th>             <td>Least Squares</td>  <th>  F-statistic:       </th> <td>   5.559</td>\n</tr>\n<tr>\n  <th>Date:</th>             <td>Tue, 12 Sep 2023</td> <th>  Prob (F-statistic):</th>  <td>0.0380</td> \n</tr>\n<tr>\n  <th>Time:</th>                 <td>18:11:54</td>     <th>  Log-Likelihood:    </th> <td> -115.76</td>\n</tr>\n<tr>\n  <th>No. Observations:</th>      <td>    13</td>      <th>  AIC:               </th> <td>   235.5</td>\n</tr>\n<tr>\n  <th>Df Residuals:</th>          <td>    11</td>      <th>  BIC:               </th> <td>   236.7</td>\n</tr>\n<tr>\n  <th>Df Model:</th>              <td>     1</td>      <th>                     </th>     <td> </td>   \n</tr>\n<tr>\n  <th>Covariance Type:</th>      <td>nonrobust</td>    <th>                     </th>     <td> </td>   \n</tr>\n</table>\n<table class=\"simpletable\">\n<tr>\n      <td></td>         <th>coef</th>     <th>std err</th>      <th>t</th>      <th>P>|t|</th>  <th>[0.025</th>    <th>0.975]</th>  \n</tr>\n<tr>\n  <th>Intercept</th> <td> -968.9107</td> <td>  948.828</td> <td>   -1.021</td> <td> 0.329</td> <td>-3057.268</td> <td> 1119.446</td>\n</tr>\n<tr>\n  <th>te</th>        <td> 2.652e+04</td> <td> 1.12e+04</td> <td>    2.358</td> <td> 0.038</td> <td> 1763.935</td> <td> 5.13e+04</td>\n</tr>\n</table>\n<table class=\"simpletable\">\n<tr>\n  <th>Omnibus:</th>       <td>13.955</td> <th>  Durbin-Watson:     </th> <td>   0.744</td>\n</tr>\n<tr>\n  <th>Prob(Omnibus):</th> <td> 0.001</td> <th>  Jarque-Bera (JB):  </th> <td>   9.446</td>\n</tr>\n<tr>\n  <th>Skew:</th>          <td> 1.557</td> <th>  Prob(JB):          </th> <td> 0.00889</td>\n</tr>\n<tr>\n  <th>Kurtosis:</th>      <td> 5.781</td> <th>  Cond. No.          </th> <td>    21.0</td>\n</tr>\n</table><br/><br/>Notes:<br/>[1] Standard Errors assume that the covariance matrix of the errors is correctly specified."
     },
     "metadata": {},
     "output_type": "display_data"
    },
    {
     "name": "stdout",
     "output_type": "stream",
     "text": [
      "swing\n"
     ]
    },
    {
     "name": "stderr",
     "output_type": "stream",
     "text": [
      "D:\\Anaconda\\envs\\dart\\lib\\site-packages\\scipy\\stats\\stats.py:1542: UserWarning: kurtosistest only valid for n>=20 ... continuing anyway, n=13\n",
      "  \"anyway, n=%i\" % int(n))\n"
     ]
    },
    {
     "data": {
      "text/plain": "<class 'statsmodels.iolib.summary.Summary'>\n\"\"\"\n                            OLS Regression Results                            \n==============================================================================\nDep. Variable:                     cr   R-squared:                       0.595\nModel:                            OLS   Adj. R-squared:                  0.559\nMethod:                 Least Squares   F-statistic:                     16.19\nDate:                Tue, 12 Sep 2023   Prob (F-statistic):            0.00200\nTime:                        18:11:54   Log-Likelihood:                -104.87\nNo. Observations:                  13   AIC:                             213.7\nDf Residuals:                      11   BIC:                             214.9\nDf Model:                           1                                         \nCovariance Type:            nonrobust                                         \n==============================================================================\n                 coef    std err          t      P>|t|      [0.025      0.975]\n------------------------------------------------------------------------------\nIntercept   -620.9022    378.243     -1.642      0.129   -1453.410     211.605\nte          1.184e+04   2943.105      4.024      0.002    5365.485    1.83e+04\n==============================================================================\nOmnibus:                        4.894   Durbin-Watson:                   0.781\nProb(Omnibus):                  0.087   Jarque-Bera (JB):                1.939\nSkew:                           0.803   Prob(JB):                        0.379\nKurtosis:                       3.999   Cond. No.                         12.8\n==============================================================================\n\nNotes:\n[1] Standard Errors assume that the covariance matrix of the errors is correctly specified.\n\"\"\"",
      "text/html": "<table class=\"simpletable\">\n<caption>OLS Regression Results</caption>\n<tr>\n  <th>Dep. Variable:</th>           <td>cr</td>        <th>  R-squared:         </th> <td>   0.595</td>\n</tr>\n<tr>\n  <th>Model:</th>                   <td>OLS</td>       <th>  Adj. R-squared:    </th> <td>   0.559</td>\n</tr>\n<tr>\n  <th>Method:</th>             <td>Least Squares</td>  <th>  F-statistic:       </th> <td>   16.19</td>\n</tr>\n<tr>\n  <th>Date:</th>             <td>Tue, 12 Sep 2023</td> <th>  Prob (F-statistic):</th>  <td>0.00200</td>\n</tr>\n<tr>\n  <th>Time:</th>                 <td>18:11:54</td>     <th>  Log-Likelihood:    </th> <td> -104.87</td>\n</tr>\n<tr>\n  <th>No. Observations:</th>      <td>    13</td>      <th>  AIC:               </th> <td>   213.7</td>\n</tr>\n<tr>\n  <th>Df Residuals:</th>          <td>    11</td>      <th>  BIC:               </th> <td>   214.9</td>\n</tr>\n<tr>\n  <th>Df Model:</th>              <td>     1</td>      <th>                     </th>     <td> </td>   \n</tr>\n<tr>\n  <th>Covariance Type:</th>      <td>nonrobust</td>    <th>                     </th>     <td> </td>   \n</tr>\n</table>\n<table class=\"simpletable\">\n<tr>\n      <td></td>         <th>coef</th>     <th>std err</th>      <th>t</th>      <th>P>|t|</th>  <th>[0.025</th>    <th>0.975]</th>  \n</tr>\n<tr>\n  <th>Intercept</th> <td> -620.9022</td> <td>  378.243</td> <td>   -1.642</td> <td> 0.129</td> <td>-1453.410</td> <td>  211.605</td>\n</tr>\n<tr>\n  <th>te</th>        <td> 1.184e+04</td> <td> 2943.105</td> <td>    4.024</td> <td> 0.002</td> <td> 5365.485</td> <td> 1.83e+04</td>\n</tr>\n</table>\n<table class=\"simpletable\">\n<tr>\n  <th>Omnibus:</th>       <td> 4.894</td> <th>  Durbin-Watson:     </th> <td>   0.781</td>\n</tr>\n<tr>\n  <th>Prob(Omnibus):</th> <td> 0.087</td> <th>  Jarque-Bera (JB):  </th> <td>   1.939</td>\n</tr>\n<tr>\n  <th>Skew:</th>          <td> 0.803</td> <th>  Prob(JB):          </th> <td>   0.379</td>\n</tr>\n<tr>\n  <th>Kurtosis:</th>      <td> 3.999</td> <th>  Cond. No.          </th> <td>    12.8</td>\n</tr>\n</table><br/><br/>Notes:<br/>[1] Standard Errors assume that the covariance matrix of the errors is correctly specified."
     },
     "metadata": {},
     "output_type": "display_data"
    },
    {
     "name": "stdout",
     "output_type": "stream",
     "text": [
      "sz\n"
     ]
    },
    {
     "name": "stderr",
     "output_type": "stream",
     "text": [
      "D:\\Anaconda\\envs\\dart\\lib\\site-packages\\scipy\\stats\\stats.py:1542: UserWarning: kurtosistest only valid for n>=20 ... continuing anyway, n=13\n",
      "  \"anyway, n=%i\" % int(n))\n"
     ]
    },
    {
     "data": {
      "text/plain": "<class 'statsmodels.iolib.summary.Summary'>\n\"\"\"\n                            OLS Regression Results                            \n==============================================================================\nDep. Variable:                     cr   R-squared:                       0.492\nModel:                            OLS   Adj. R-squared:                  0.446\nMethod:                 Least Squares   F-statistic:                     10.66\nDate:                Tue, 12 Sep 2023   Prob (F-statistic):            0.00753\nTime:                        18:11:54   Log-Likelihood:                -69.281\nNo. Observations:                  13   AIC:                             142.6\nDf Residuals:                      11   BIC:                             143.7\nDf Model:                           1                                         \nCovariance Type:            nonrobust                                         \n==============================================================================\n                 coef    std err          t      P>|t|      [0.025      0.975]\n------------------------------------------------------------------------------\nIntercept     34.4219     20.900      1.647      0.128     -11.579      80.423\nte           369.5957    113.191      3.265      0.008     120.464     618.728\n==============================================================================\nOmnibus:                       15.387   Durbin-Watson:                   2.568\nProb(Omnibus):                  0.000   Jarque-Bera (JB):               12.916\nSkew:                           1.413   Prob(JB):                      0.00157\nKurtosis:                       6.982   Cond. No.                         7.65\n==============================================================================\n\nNotes:\n[1] Standard Errors assume that the covariance matrix of the errors is correctly specified.\n\"\"\"",
      "text/html": "<table class=\"simpletable\">\n<caption>OLS Regression Results</caption>\n<tr>\n  <th>Dep. Variable:</th>           <td>cr</td>        <th>  R-squared:         </th> <td>   0.492</td>\n</tr>\n<tr>\n  <th>Model:</th>                   <td>OLS</td>       <th>  Adj. R-squared:    </th> <td>   0.446</td>\n</tr>\n<tr>\n  <th>Method:</th>             <td>Least Squares</td>  <th>  F-statistic:       </th> <td>   10.66</td>\n</tr>\n<tr>\n  <th>Date:</th>             <td>Tue, 12 Sep 2023</td> <th>  Prob (F-statistic):</th>  <td>0.00753</td>\n</tr>\n<tr>\n  <th>Time:</th>                 <td>18:11:54</td>     <th>  Log-Likelihood:    </th> <td> -69.281</td>\n</tr>\n<tr>\n  <th>No. Observations:</th>      <td>    13</td>      <th>  AIC:               </th> <td>   142.6</td>\n</tr>\n<tr>\n  <th>Df Residuals:</th>          <td>    11</td>      <th>  BIC:               </th> <td>   143.7</td>\n</tr>\n<tr>\n  <th>Df Model:</th>              <td>     1</td>      <th>                     </th>     <td> </td>   \n</tr>\n<tr>\n  <th>Covariance Type:</th>      <td>nonrobust</td>    <th>                     </th>     <td> </td>   \n</tr>\n</table>\n<table class=\"simpletable\">\n<tr>\n      <td></td>         <th>coef</th>     <th>std err</th>      <th>t</th>      <th>P>|t|</th>  <th>[0.025</th>    <th>0.975]</th>  \n</tr>\n<tr>\n  <th>Intercept</th> <td>   34.4219</td> <td>   20.900</td> <td>    1.647</td> <td> 0.128</td> <td>  -11.579</td> <td>   80.423</td>\n</tr>\n<tr>\n  <th>te</th>        <td>  369.5957</td> <td>  113.191</td> <td>    3.265</td> <td> 0.008</td> <td>  120.464</td> <td>  618.728</td>\n</tr>\n</table>\n<table class=\"simpletable\">\n<tr>\n  <th>Omnibus:</th>       <td>15.387</td> <th>  Durbin-Watson:     </th> <td>   2.568</td>\n</tr>\n<tr>\n  <th>Prob(Omnibus):</th> <td> 0.000</td> <th>  Jarque-Bera (JB):  </th> <td>  12.916</td>\n</tr>\n<tr>\n  <th>Skew:</th>          <td> 1.413</td> <th>  Prob(JB):          </th> <td> 0.00157</td>\n</tr>\n<tr>\n  <th>Kurtosis:</th>      <td> 6.982</td> <th>  Cond. No.          </th> <td>    7.65</td>\n</tr>\n</table><br/><br/>Notes:<br/>[1] Standard Errors assume that the covariance matrix of the errors is correctly specified."
     },
     "metadata": {},
     "output_type": "display_data"
    }
   ],
   "source": [
    "import statsmodels.formula.api as smf\n",
    "for comp in ['pmc', 'swing', 'sz']:\n",
    "    print(comp)\n",
    "    model = smf.ols(formula='cr ~ te', data=joined[(joined['compression'] == comp)]).fit()\n",
    "    display(model.summary())"
   ],
   "metadata": {
    "collapsed": false,
    "ExecuteTime": {
     "end_time": "2023-09-12T16:11:54.571410100Z",
     "start_time": "2023-09-12T16:11:54.508409300Z"
    }
   }
  },
  {
   "cell_type": "code",
   "execution_count": null,
   "outputs": [],
   "source": [],
   "metadata": {
    "collapsed": false
   }
  }
 ],
 "metadata": {
  "kernelspec": {
   "display_name": "Python 3",
   "language": "python",
   "name": "python3"
  },
  "language_info": {
   "codemirror_mode": {
    "name": "ipython",
    "version": 2
   },
   "file_extension": ".py",
   "mimetype": "text/x-python",
   "name": "python",
   "nbconvert_exporter": "python",
   "pygments_lexer": "ipython2",
   "version": "2.7.6"
  }
 },
 "nbformat": 4,
 "nbformat_minor": 0
}
