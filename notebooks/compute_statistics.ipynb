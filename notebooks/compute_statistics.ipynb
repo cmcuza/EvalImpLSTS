{
 "cells": [
  {
   "cell_type": "code",
   "execution_count": 1,
   "metadata": {
    "collapsed": true,
    "ExecuteTime": {
     "end_time": "2023-12-28T10:22:29.628737200Z",
     "start_time": "2023-12-28T10:22:29.618874700Z"
    }
   },
   "outputs": [],
   "source": [
    "import pandas as pd\n",
    "import os\n",
    "import numpy as np\n",
    "from scipy.stats import spearmanr"
   ]
  },
  {
   "cell_type": "code",
   "execution_count": 14,
   "outputs": [],
   "source": [
    "def compute_rho_eb_te_cr(data_name):\n",
    "    cr_df = pd.read_csv('../results/cr/all_cr.csv')\n",
    "    cr_df = cr_df[cr_df.data == data_name]\n",
    "    te_df = pd.read_csv('../results/te/transformation_error.csv')\n",
    "    te_df = te_df[te_df.data == data_name]\n",
    "    te_df = te_df[te_df.metric == 'nrmse']\n",
    "    cr_df = cr_df.rename({'error_bound': 'eb', 'gzip': 'cr'}, axis=1)\n",
    "    te_df = te_df.rename({'decompression error': 'te'}, axis=1)\n",
    "    cr_df = cr_df[cr_df.eb.isin(te_df.eb)]\n",
    "    cr_df.set_index(['eb', 'compression'], inplace=True)\n",
    "    te_df.set_index(['eb', 'compression'], inplace=True)\n",
    "    cr_df.drop(['data'], axis=1, inplace=True)\n",
    "    te_df.drop(['data'], axis=1, inplace=True)\n",
    "    joined = cr_df.join(te_df)\n",
    "    joined.reset_index(inplace=True)\n",
    "    display(joined.groupby('compression').corr())\n",
    "    return joined\n",
    "\n",
    "def compute_rho_tfe_te_cr(data_name):\n",
    "    all_models_results = pd.read_csv('../results/tfe/all_models_results.csv')\n",
    "    all_models_results = all_models_results[all_models_results.data == data_name]\n",
    "    all_models_results = all_models_results[all_models_results.te_metric == 'nrmse']\n",
    "    if 'SOLAR' in data_name:\n",
    "        all_models_results = all_models_results[all_models_results.model != 'GRU']\n",
    "    all_models_results.drop(['forecasting error', 'error'], axis=1, inplace=True)\n",
    "    display(all_models_results.groupby('compression').corr(method='spearman'))\n",
    "    # columns = all_models_results.columns.tolist()\n",
    "    # ['compression', 'data', 'eb', 'tfe_metric', 'model', 'compression ratio', 'TFE', 'te_metric', 'te']\n",
    "    columns = ['compression ratio', 'TFE', 'te']\n",
    "\n",
    "    all_corr_results = pd.DataFrame()\n",
    "\n",
    "    for eblc in ['PMC', 'SWING', 'SZ']:\n",
    "        correlations = {}\n",
    "        pvalues = {}\n",
    "        ebcl_results = all_models_results[all_models_results.compression == eblc]\n",
    "        for col1 in range(3):\n",
    "            for col2 in range(col1, 3):\n",
    "                if col1 != col2:\n",
    "                    corr, pvalue = spearmanr(ebcl_results[columns[col1]], ebcl_results[columns[col2]])\n",
    "                    correlations[f\"{columns[col1]}_{columns[col2]}\"] = corr\n",
    "                    pvalues[f\"{columns[col1]}_{columns[col2]}\"] = pvalue\n",
    "        eblc_corr = pd.DataFrame([correlations, pvalues], index=['correlation', 'pvalue'])\n",
    "        eblc_corr['eblc'] = eblc\n",
    "        all_corr_results = pd.concat([all_corr_results, eblc_corr])\n",
    "    return all_corr_results\n",
    "\n",
    "def compute_rho_tfe_te_cr_pweather():\n",
    "    pweather_results = pd.read_csv('../results/tfe/pprocessed_weather.csv')\n",
    "    pweather_results.drop(['forecasting error'], axis=1, inplace=True)\n",
    "    display(pweather_results.groupby('compression').corr(method='spearman'))\n",
    "\n",
    "def get_tfe(model_results):\n",
    "    baseline_result  = model_results[model_results.eblc == 'baseline']\n",
    "    model_results['tfe'] = (model_results.nrmse.values - baseline_result.nrmse.values)/baseline_result.nrmse.values\n",
    "    baseline_result = baseline_result.append([baseline_result]*2, ignore_index=True)\n",
    "    baseline_result.at[0, 'eblc'] = 'pmc'\n",
    "    baseline_result.at[1, 'eblc'] = 'sz'\n",
    "    baseline_result.at[2, 'eblc'] = 'swing'\n",
    "    baseline_result['tfe'] = 0.\n",
    "    return pd.concat([model_results, baseline_result])\n",
    "\n",
    "def compute_rho_tfe_te_cr_aus():\n",
    "    all_results = pd.DataFrame()\n",
    "    for root, dirs, files in os.walk('../results/tfe/per_model/'):\n",
    "        for result_file in files:\n",
    "            if 'gru' in result_file or 'arima' in result_file:\n",
    "                continue\n",
    "            print(result_file)\n",
    "            model_results = pd.read_csv(os.path.join(root, result_file))\n",
    "            model_results = model_results[(model_results.data == 'aus')]\n",
    "            model_results = get_tfe(model_results)\n",
    "            all_results = pd.concat([all_results, model_results])\n",
    "\n",
    "    all_results = all_results[['error', 'tfe', 'eblc']]\n",
    "\n",
    "    return all_results\n",
    "\n",
    "\n",
    "def get_feature_diff(features):\n",
    "    raw_feat = features.iloc[0]\n",
    "    num_colums = features.columns[:-3]\n",
    "    features[num_colums] = features[num_colums].astype(float)\n",
    "    features[num_colums] -= raw_feat[num_colums].astype(float)\n",
    "    features[num_colums] = features[num_colums].astype(float)\n",
    "    raw_feat = features[features.compression == 'RAW']\n",
    "    raw_feat = raw_feat.append([raw_feat], ignore_index=True)\n",
    "    features.at[0, 'compression'] = 'PMC'\n",
    "    raw_feat.at[0, 'compression'] = 'SZ'\n",
    "    raw_feat.at[1, 'compression'] = 'SWING'\n",
    "    return pd.concat([raw_feat, features])\n",
    "\n",
    "\n",
    "def get_feature_diff_percentage(features):\n",
    "    raw_feat = features.iloc[0]\n",
    "    num_colums = features.columns[:-3]\n",
    "    features[num_colums] = features[num_colums].astype(float)\n",
    "    features[num_colums] = np.abs(features[num_colums] - raw_feat[num_colums].astype(float))/raw_feat[num_colums].astype(float)*100\n",
    "    features[num_colums] = features[num_colums].astype(float)\n",
    "    raw_feat = features[features.compression == 'RAW']\n",
    "    raw_feat = raw_feat.append([raw_feat], ignore_index=True)\n",
    "    features.at[0, 'compression'] = 'PMC'\n",
    "    raw_feat.at[0, 'compression'] = 'SZ'\n",
    "    raw_feat.at[1, 'compression'] = 'SWING'\n",
    "    return pd.concat([raw_feat, features])\n",
    "\n",
    "def get_features_diff_solar(features):\n",
    "    raw_feat = features.iloc[0]\n",
    "    num_colums = features.columns[2:-1]\n",
    "    features[num_colums] = features[num_colums].astype(float)\n",
    "    features[num_colums] -= raw_feat[num_colums].astype(float)\n",
    "    features[num_colums] = features[num_colums].astype(float)\n",
    "    raw_feat = features[features.compression == 'RAW']\n",
    "    raw_feat = raw_feat.append([raw_feat], ignore_index=True)\n",
    "    features.at[0, 'compression'] = 'PMC'\n",
    "    raw_feat.at[0, 'compression'] = 'SZ'\n",
    "    raw_feat.at[1, 'compression'] = 'SWING'\n",
    "    return pd.concat([raw_feat, features])\n",
    "\n",
    "def get_features_diff_percentage_solar(features):\n",
    "    raw_feat = features.iloc[0]\n",
    "    num_colums = features.columns[2:-1]\n",
    "    features[num_colums] = features[num_colums].astype(float)\n",
    "    features[num_colums] = np.abs(features[num_colums] - raw_feat[num_colums].astype(float))/raw_feat[num_colums].astype(float)*100\n",
    "    features[num_colums] = features[num_colums].astype(float)\n",
    "    raw_feat = features[features.compression == 'RAW']\n",
    "    raw_feat = raw_feat.append([raw_feat], ignore_index=True)\n",
    "    features.at[0, 'compression'] = 'PMC'\n",
    "    raw_feat.at[0, 'compression'] = 'SZ'\n",
    "    raw_feat.at[1, 'compression'] = 'SWING'\n",
    "    return pd.concat([raw_feat, features])\n",
    "\n",
    "def get_baselines_well(features):\n",
    "    num_colums = features.columns[:-3]\n",
    "    features[num_colums] = features[num_colums].astype(float)\n",
    "    raw_feat = features[features.compression == 'RAW']\n",
    "    raw_feat = raw_feat.append([raw_feat, raw_feat], ignore_index=True)\n",
    "    features.drop(features[features.compression == 'RAW'].index)\n",
    "    raw_feat.at[0, 'compression'] = 'PMC'\n",
    "    raw_feat.at[1, 'compression'] = 'SZ'\n",
    "    raw_feat.at[2, 'compression'] = 'SWING'\n",
    "    return pd.concat([raw_feat, features])\n",
    "\n",
    "\n",
    "def get_baselines_well_solar(features):\n",
    "    num_colums = features.columns[2:-1]\n",
    "    features[num_colums] = features[num_colums].astype(float)\n",
    "    raw_feat = features[features.compression == 'RAW']\n",
    "    raw_feat = raw_feat.append([raw_feat, raw_feat], ignore_index=True)\n",
    "    features.drop(features[features.compression == 'RAW'].index)\n",
    "    raw_feat.at[0, 'compression'] = 'PMC'\n",
    "    raw_feat.at[1, 'compression'] = 'SZ'\n",
    "    raw_feat.at[2, 'compression'] = 'SWING'\n",
    "    return pd.concat([raw_feat, features])\n",
    "\n",
    "\n",
    "\n",
    "def compute_features():\n",
    "    all_models_results = pd.read_csv('../results/tfe/models_results.csv')\n",
    "    datasets = all_models_results.data.str.lower().unique()\n",
    "    all_datasets_features = pd.DataFrame()\n",
    "    for dataset in datasets:\n",
    "        print(dataset)\n",
    "        features = pd.read_csv(f'../results/features/test_{dataset}_features.csv')\n",
    "        x = features.eb.values\n",
    "        features.eb = np.where(x >= 1.0, x*0.01, x)\n",
    "        features.eblc = features.eblc.str.upper()\n",
    "        features.rename({'eblc': 'compression'}, axis=1, inplace=True)\n",
    "        features = get_baselines_well(features) if 'solar' not in dataset else get_baselines_well_solar(features)\n",
    "        features.set_index(['compression', 'eb'], inplace=True)\n",
    "        model_results = all_models_results[all_models_results.data == dataset.upper()]\n",
    "        model_results = model_results[model_results.te_metric == 'nrmse']\n",
    "        model_results = model_results[['eb',  'te', 'TFE', 'compression']]\n",
    "        joined_df = features.merge(model_results.reset_index(drop=True), on=['compression', 'eb']).drop_duplicates()\n",
    "        joined_df['data'] = dataset\n",
    "        all_datasets_features = pd.concat([all_datasets_features, joined_df])\n",
    "\n",
    "    all_datasets_features.to_csv('../results/features/all_datasets_features.csv', index=False)\n",
    "\n",
    "\n",
    "def compute_features_diff_percentage():\n",
    "    all_models_results = pd.read_csv('../results/tfe/models_results.csv')\n",
    "    datasets = all_models_results.data.str.lower().unique()\n",
    "    all_datasets_features = pd.DataFrame()\n",
    "    for dataset in datasets:\n",
    "        print(dataset)\n",
    "        features = pd.read_csv(f'../results/features/test_{dataset}_features.csv')\n",
    "        x = features.eb.values\n",
    "        features.eb = np.where(x >= 1.0, x*0.01, x)\n",
    "        features.eblc = features.eblc.str.upper()\n",
    "        features.rename({'eblc': 'compression'}, axis=1, inplace=True)\n",
    "        features = get_feature_diff_percentage(features) if 'solar' not in dataset else get_features_diff_percentage_solar(features)\n",
    "        features.set_index(['compression', 'eb'], inplace=True)\n",
    "        model_results = all_models_results[all_models_results.data == dataset.upper()]\n",
    "        model_results = model_results[model_results.te_metric == 'nrmse']\n",
    "        model_results = model_results[['eb', 'te', 'TFE', 'compression']]\n",
    "        joined_df = features.merge(model_results.reset_index(drop=True), on=['compression', 'eb']).drop_duplicates()\n",
    "        joined_df['data'] = dataset\n",
    "        all_datasets_features = pd.concat([all_datasets_features, joined_df])\n",
    "\n",
    "    all_datasets_features.to_csv('../results/features/all_datasets_features_diff_percentage.csv', index=False)\n",
    "    return all_datasets_features.corr('spearman')\n",
    "\n",
    "\n",
    "def compute_features_tfe_corr():\n",
    "    all_models_results = pd.read_csv('../results/tfe/models_results.csv')\n",
    "    datasets = all_models_results.data.str.lower().unique()\n",
    "    all_datasets_features = pd.DataFrame()\n",
    "    for dataset in datasets:\n",
    "        print(dataset)\n",
    "        features = pd.read_csv(f'../results/features/test_{dataset}_features.csv')\n",
    "        x = features.eb.values\n",
    "        features.eb = np.where(x >= 1.0, x*0.01, x)\n",
    "        features.eblc = features.eblc.str.upper()\n",
    "        features.rename({'eblc': 'compression'}, axis=1, inplace=True)\n",
    "        features = get_feature_diff(features) if 'solar' not in dataset else get_features_diff_solar(features)\n",
    "        features.set_index(['compression', 'eb'], inplace=True)\n",
    "        model_results = all_models_results[all_models_results.data == dataset.upper()]\n",
    "        model_results = model_results[model_results.te_metric == 'nrmse']\n",
    "        model_results = model_results[['eb',  'te', 'TFE', 'compression']]\n",
    "        joined_df = features.merge(model_results.reset_index(drop=True), on=['compression', 'eb']).drop_duplicates()\n",
    "        joined_df['data'] = dataset\n",
    "        all_datasets_features = pd.concat([all_datasets_features, joined_df])\n",
    "\n",
    "    all_datasets_features.to_csv('../results/features/all_datasets_features_diff.csv', index=False)\n",
    "    return all_datasets_features.corr('spearman')\n",
    "\n",
    "\n",
    "def compute_features_tfe_corr_xg():\n",
    "    all_models_results = pd.read_csv('../results/tfe/models_results_xg.csv')\n",
    "    datasets = all_models_results.data.str.lower().unique()\n",
    "    all_datasets_features = pd.DataFrame()\n",
    "    for dataset in datasets:\n",
    "        print(dataset)\n",
    "        features = pd.read_csv(f'../results/features/test_{dataset}_features.csv')\n",
    "        x = features.eb.values\n",
    "        features.eb = np.where(x >= 1.0, x*0.01, x)\n",
    "        features.eblc = features.eblc.str.upper()\n",
    "        features.rename({'eblc': 'compression'}, axis=1, inplace=True)\n",
    "        features = get_feature_diff(features) if 'solar' not in dataset else get_features_diff_solar(features)\n",
    "        features.set_index(['compression', 'eb'], inplace=True)\n",
    "        model_results = all_models_results[all_models_results.data == dataset.upper()]\n",
    "        model_results = model_results[model_results.te_metric == 'nrmse']\n",
    "        model_results = model_results[['eb',  'te', 'TFE', 'compression', 'model']]\n",
    "        joined_df = features.merge(model_results.reset_index(drop=True), on=['compression', 'eb']).drop_duplicates()\n",
    "        joined_df['data'] = dataset\n",
    "        all_datasets_features = pd.concat([all_datasets_features, joined_df])\n",
    "\n",
    "    all_datasets_features.to_csv('../results/features/all_datasets_features_diff_xg.csv', index=False)\n",
    "    return all_datasets_features.corr('spearman')\n",
    "\n",
    "def compute_features_tfe_corr_xg():\n",
    "    all_models_results = pd.read_csv('../results/tfe/models_results_xg.csv')\n",
    "    datasets = all_models_results.data.str.lower().unique()\n",
    "    all_datasets_features = pd.DataFrame()\n",
    "    for dataset in datasets:\n",
    "        print(dataset)\n",
    "        features = pd.read_csv(f'../results/features/test_{dataset}_features.csv')\n",
    "        x = features.eb.values\n",
    "        features.eb = np.where(x >= 1.0, x*0.01, x)\n",
    "        features.eblc = features.eblc.str.upper()\n",
    "        features.rename({'eblc': 'compression'}, axis=1, inplace=True)\n",
    "        features = get_feature_diff(features) if 'solar' not in dataset else get_features_diff_solar(features)\n",
    "        features.set_index(['compression', 'eb'], inplace=True)\n",
    "        model_results = all_models_results[all_models_results.data == dataset.upper()]\n",
    "        model_results = model_results[model_results.te_metric == 'nrmse']\n",
    "        model_results = model_results[['eb',  'te', 'TFE', 'compression', 'model']]\n",
    "        joined_df = features.merge(model_results.reset_index(drop=True), on=['compression', 'eb']).drop_duplicates()\n",
    "        joined_df['data'] = dataset\n",
    "        all_datasets_features = pd.concat([all_datasets_features, joined_df])\n",
    "\n",
    "    all_datasets_features.to_csv('../results/features/all_datasets_features_diff_xg.csv', index=False)\n",
    "    return all_datasets_features.corr('spearman')\n",
    "\n",
    "def compute_features_with_xgboost():\n",
    "    all_models_results = pd.read_csv('../results/tfe/models_results_xg.csv')\n",
    "\n",
    "    datasets = all_models_results.data.str.lower().unique()\n",
    "    all_datasets_features = pd.DataFrame()\n",
    "    for dataset in datasets:\n",
    "        print(dataset)\n",
    "        features = pd.read_csv(f'../results/features/test_{dataset}_features.csv')\n",
    "        x = features.eb.values\n",
    "        features.eb = np.where(x >= 1.0, x*0.01, x)\n",
    "        features.eblc = features.eblc.str.upper()\n",
    "        features.rename({'eblc': 'compression'}, axis=1, inplace=True)\n",
    "        features = get_baselines_well(features) if 'solar' not in dataset else get_baselines_well_solar(features)\n",
    "        features.set_index(['compression', 'eb'], inplace=True)\n",
    "        model_results = all_models_results[all_models_results.data == dataset.upper()]\n",
    "        model_results = model_results[model_results.te_metric == 'nrmse']\n",
    "        model_results = model_results[['eb',  'te', 'TFE', 'compression', 'model']]\n",
    "        joined_df = features.merge(model_results.reset_index(drop=True), on=['compression', 'eb']).drop_duplicates()\n",
    "        joined_df['data'] = dataset\n",
    "        all_datasets_features = pd.concat([all_datasets_features, joined_df])\n",
    "\n",
    "    all_datasets_features.to_csv('../results/features/all_datasets_features_xg.csv', index=False)\n",
    "\n",
    "\n",
    "def compute_features_tfe_corr_percentage_xg():\n",
    "    all_models_results = pd.read_csv('../results/tfe/models_results_xg.csv')\n",
    "    datasets = all_models_results.data.str.lower().unique()\n",
    "    all_datasets_features = pd.DataFrame()\n",
    "    for dataset in datasets:\n",
    "        print(dataset)\n",
    "        features = pd.read_csv(f'../results/features/test_{dataset}_features.csv')\n",
    "        x = features.eb.values\n",
    "        features.eb = np.where(x >= 1.0, x*0.01, x)\n",
    "        features.eblc = features.eblc.str.upper()\n",
    "        features.rename({'eblc': 'compression'}, axis=1, inplace=True)\n",
    "        features = get_feature_diff_percentage(features) if 'solar' not in dataset else get_features_diff_percentage_solar(features)\n",
    "        features.set_index(['compression', 'eb'], inplace=True)\n",
    "        model_results = all_models_results[all_models_results.data == dataset.upper()]\n",
    "        model_results = model_results[model_results.te_metric == 'nrmse']\n",
    "        model_results = model_results[['eb',  'te', 'TFE', 'compression', 'model']]\n",
    "        joined_df = features.merge(model_results.reset_index(drop=True), on=['compression', 'eb']).drop_duplicates()\n",
    "        joined_df['data'] = dataset\n",
    "        all_datasets_features = pd.concat([all_datasets_features, joined_df])\n",
    "\n",
    "    print('HERE')\n",
    "    all_datasets_features.to_csv('../results/features/all_datasets_features_diff_percentage_xg.csv', index=False)\n",
    "    return all_datasets_features.corr('spearman')\n"
   ],
   "metadata": {
    "collapsed": false,
    "ExecuteTime": {
     "end_time": "2023-12-28T10:31:01.213741400Z",
     "start_time": "2023-12-28T10:31:01.181711200Z"
    }
   }
  },
  {
   "cell_type": "code",
   "execution_count": 15,
   "outputs": [
    {
     "name": "stdout",
     "output_type": "stream",
     "text": [
      "ettm2\n",
      "ettm1\n",
      "wind\n",
      "solar\n",
      "aus\n",
      "weather\n",
      "HERE\n"
     ]
    },
    {
     "data": {
      "text/plain": "                         eb      mean       var  max_kl_shift  time_kl_shift  \\\neb                 1.000000  0.542635  0.494557      0.661785       0.482561   \nmean               0.542635  1.000000  0.426626      0.385309       0.360480   \nvar                0.494557  0.426626  1.000000      0.772369       0.487313   \nmax_kl_shift       0.661785  0.385309  0.772369      1.000000       0.543547   \ntime_kl_shift      0.482561  0.360480  0.487313      0.543547       1.000000   \nmax_level_shift    0.695958  0.525433  0.783457      0.768497       0.533698   \ntime_level_shift   0.573828  0.447289  0.350305      0.543518       0.525560   \nmax_var_shift      0.703739  0.599639  0.800345      0.796620       0.517123   \ntime_var_shift     0.636672  0.506109  0.417379      0.585103       0.483016   \nx_acf1             0.493228  0.445917  0.492772      0.583852       0.458436   \nx_acf10            0.616961  0.571677  0.665850      0.715798       0.554226   \ndiff1_acf1         0.688343  0.388851  0.316630      0.347766       0.234496   \ndiff1_acf10        0.452121  0.363326  0.673815      0.720971       0.466964   \ndiff2_acf1        -0.083936 -0.105675  0.308047     -0.013424      -0.105842   \ndiff2_acf10        0.266048  0.191887  0.150243      0.295693       0.219322   \nseas_acf1          0.670488  0.550852  0.794001      0.810723       0.559160   \nARCH.LM            0.417197  0.413092  0.414348      0.519053       0.424355   \ncrossing_points    0.397758  0.187371  0.805667      0.632293       0.395930   \nentropy            0.687185  0.531037  0.841650      0.801197       0.522515   \nflat_spots         0.666524  0.426636  0.839411      0.798726       0.574787   \nalpha              0.143394  0.206585  0.334611      0.442218       0.382642   \nbeta               0.530243  0.295927  0.329848      0.391005       0.155958   \nhurst             -0.026336  0.063855  0.214413      0.203994       0.187043   \nlumpiness          0.707151  0.603675  0.794773      0.748684       0.526955   \nnonlinearity       0.665903  0.500678  0.312212      0.458318       0.483622   \nx_pacf5            0.558707  0.339635  0.363476      0.506596       0.332649   \ndiff1x_pacf5       0.450020  0.365737  0.661423      0.698923       0.441002   \ndiff2x_pacf5       0.504753  0.260968  0.272440      0.443616       0.201400   \nseas_pacf         -0.646612 -0.358891 -0.372321     -0.362146      -0.108323   \nstability          0.616886  0.476050  0.792637      0.757972       0.583299   \nunitroot_kpss      0.593994  0.364684  0.746399      0.742442       0.539202   \nunitroot_pp       -0.659844 -0.583376 -0.778004     -0.805202      -0.517773   \nnperiods                NaN       NaN       NaN           NaN            NaN   \nseasonal_period         NaN       NaN       NaN           NaN            NaN   \ntrend              0.568594  0.493461  0.442662      0.556606       0.413194   \nspike              0.716068  0.513696  0.758431      0.799629       0.607981   \nlinearity         -0.497860 -0.269915 -0.113946     -0.101453      -0.316844   \ncurvature          0.264061  0.136110  0.532203      0.246888       0.217502   \ne_acf1             0.424354  0.466140  0.511994      0.524481       0.411216   \ne_acf10            0.483554  0.471813  0.685682      0.638121       0.473276   \nseasonal_strength  0.632189  0.419886  0.775206      0.770638       0.436749   \npeak               0.612749  0.281957  0.609064      0.604655       0.394712   \ntrough             0.429762  0.240910  0.545791      0.508287       0.247148   \nte                 0.727003  0.558408  0.903226      0.876767       0.544511   \nTFE                0.655810  0.511321  0.818079      0.799490       0.497782   \n\n                   max_level_shift  time_level_shift  max_var_shift  \\\neb                        0.695958          0.573828       0.703739   \nmean                      0.525433          0.447289       0.599639   \nvar                       0.783457          0.350305       0.800345   \nmax_kl_shift              0.768497          0.543518       0.796620   \ntime_kl_shift             0.533698          0.525560       0.517123   \nmax_level_shift           1.000000          0.568559       0.851351   \ntime_level_shift          0.568559          1.000000       0.534408   \nmax_var_shift             0.851351          0.534408       1.000000   \ntime_var_shift            0.574226          0.714192       0.589173   \nx_acf1                    0.566476          0.403920       0.561205   \nx_acf10                   0.735840          0.508869       0.749414   \ndiff1_acf1                0.324821          0.074839       0.355438   \ndiff1_acf10               0.582354          0.343796       0.631637   \ndiff2_acf1                0.105407         -0.258380       0.092480   \ndiff2_acf10               0.312437          0.297231       0.239767   \nseas_acf1                 0.810755          0.525418       0.865972   \nARCH.LM                   0.528696          0.411854       0.521266   \ncrossing_points           0.595700          0.191172       0.615250   \nentropy                   0.807495          0.488451       0.860412   \nflat_spots                0.796700          0.519066       0.827933   \nalpha                     0.297631          0.253033       0.278529   \nbeta                      0.453145          0.270017       0.410094   \nhurst                     0.127677          0.144208       0.211057   \nlumpiness                 0.800492          0.470694       0.845364   \nnonlinearity              0.508098          0.457022       0.502521   \nx_pacf5                   0.539366          0.449963       0.482386   \ndiff1x_pacf5              0.566814          0.347522       0.618508   \ndiff2x_pacf5              0.418234          0.287387       0.391951   \nseas_pacf                -0.390000         -0.089981      -0.427182   \nstability                 0.846429          0.609059       0.804146   \nunitroot_kpss             0.792110          0.547432       0.770173   \nunitroot_pp              -0.756549         -0.438983      -0.815175   \nnperiods                       NaN               NaN            NaN   \nseasonal_period                NaN               NaN            NaN   \ntrend                     0.591936          0.674957       0.577315   \nspike                     0.790292          0.558253       0.802359   \nlinearity                -0.266938         -0.332235      -0.240911   \ncurvature                 0.345168         -0.074574       0.327265   \ne_acf1                    0.539835          0.266062       0.554393   \ne_acf10                   0.630206          0.256066       0.673773   \nseasonal_strength         0.708914          0.377325       0.766732   \npeak                      0.670183          0.388226       0.673660   \ntrough                    0.492543          0.259235       0.496529   \nte                        0.882211          0.528359       0.908661   \nTFE                       0.824095          0.520698       0.839041   \n\n                   time_var_shift    x_acf1  ...     spike  linearity  \\\neb                       0.636672  0.493228  ...  0.716068  -0.497860   \nmean                     0.506109  0.445917  ...  0.513696  -0.269915   \nvar                      0.417379  0.492772  ...  0.758431  -0.113946   \nmax_kl_shift             0.585103  0.583852  ...  0.799629  -0.101453   \ntime_kl_shift            0.483016  0.458436  ...  0.607981  -0.316844   \nmax_level_shift          0.574226  0.566476  ...  0.790292  -0.266938   \ntime_level_shift         0.714192  0.403920  ...  0.558253  -0.332235   \nmax_var_shift            0.589173  0.561205  ...  0.802359  -0.240911   \ntime_var_shift           1.000000  0.397094  ...  0.613441  -0.222858   \nx_acf1                   0.397094  1.000000  ...  0.627564  -0.388935   \nx_acf10                  0.521624  0.880266  ...  0.773456  -0.345362   \ndiff1_acf1               0.183648  0.400738  ...  0.413571  -0.457931   \ndiff1_acf10              0.408006  0.640218  ...  0.662641  -0.057946   \ndiff2_acf1              -0.276867 -0.000251  ...  0.009294  -0.252214   \ndiff2_acf10              0.193042  0.687782  ...  0.343933  -0.349055   \nseas_acf1                0.563546  0.757075  ...  0.836858  -0.247942   \nARCH.LM                  0.385861  0.922795  ...  0.599499  -0.335558   \ncrossing_points          0.293844  0.191538  ...  0.556490   0.039835   \nentropy                  0.594881  0.581975  ...  0.801245  -0.170625   \nflat_spots               0.599494  0.429705  ...  0.810734  -0.195738   \nalpha                    0.247743  0.482440  ...  0.373307  -0.050324   \nbeta                     0.215736  0.312383  ...  0.417496  -0.306248   \nhurst                    0.166994  0.322790  ...  0.188525   0.129096   \nlumpiness                0.565583  0.471598  ...  0.835484  -0.160083   \nnonlinearity             0.404519  0.580422  ...  0.617649  -0.559186   \nx_pacf5                  0.300655  0.615637  ...  0.558277  -0.506439   \ndiff1x_pacf5             0.413220  0.628869  ...  0.635888  -0.053926   \ndiff2x_pacf5             0.170438  0.624312  ...  0.463787  -0.346701   \nseas_pacf               -0.109396 -0.281063  ... -0.413602   0.350254   \nstability                0.608167  0.699592  ...  0.821265  -0.372249   \nunitroot_kpss            0.569185  0.624795  ...  0.786708  -0.317055   \nunitroot_pp             -0.534334 -0.625243  ... -0.758914   0.050408   \nnperiods                      NaN       NaN  ...       NaN        NaN   \nseasonal_period               NaN       NaN  ...       NaN        NaN   \ntrend                    0.619530  0.674253  ...  0.655611  -0.366358   \nspike                    0.613441  0.627564  ...  1.000000  -0.288816   \nlinearity               -0.222858 -0.388935  ... -0.288816   1.000000   \ncurvature               -0.079434  0.294158  ...  0.331028  -0.561548   \ne_acf1                   0.288559  0.885969  ...  0.605759  -0.358692   \ne_acf10                  0.309122  0.709960  ...  0.641928  -0.253098   \nseasonal_strength        0.489233  0.303629  ...  0.717350   0.031674   \npeak                     0.422746  0.285998  ...  0.621198  -0.129096   \ntrough                   0.342709  0.080832  ...  0.462549   0.186300   \nte                       0.600685  0.561608  ...  0.856231  -0.150108   \nTFE                      0.515821  0.612179  ...  0.806477  -0.270402   \n\n                   curvature    e_acf1   e_acf10  seasonal_strength      peak  \\\neb                  0.264061  0.424354  0.483554           0.632189  0.612749   \nmean                0.136110  0.466140  0.471813           0.419886  0.281957   \nvar                 0.532203  0.511994  0.685682           0.775206  0.609064   \nmax_kl_shift        0.246888  0.524481  0.638121           0.770638  0.604655   \ntime_kl_shift       0.217502  0.411216  0.473276           0.436749  0.394712   \nmax_level_shift     0.345168  0.539835  0.630206           0.708914  0.670183   \ntime_level_shift   -0.074574  0.266062  0.256066           0.377325  0.388226   \nmax_var_shift       0.327265  0.554393  0.673773           0.766732  0.673660   \ntime_var_shift     -0.079434  0.288559  0.309122           0.489233  0.422746   \nx_acf1              0.294158  0.885969  0.709960           0.303629  0.285998   \nx_acf10             0.280667  0.796645  0.768746           0.525436  0.452739   \ndiff1_acf1          0.500768  0.461681  0.455855           0.361792  0.312264   \ndiff1_acf10         0.251111  0.598799  0.613088           0.584885  0.432258   \ndiff2_acf1          0.664188  0.094840  0.214217          -0.014802  0.030418   \ndiff2_acf10         0.123295  0.540258  0.351717           0.037691  0.104178   \nseas_acf1           0.314690  0.726314  0.769507           0.695204  0.610705   \nARCH.LM             0.188588  0.833896  0.643792           0.239851  0.239913   \ncrossing_points     0.407486  0.247129  0.507866           0.756927  0.598256   \nentropy             0.350413  0.591337  0.692590           0.801680  0.652854   \nflat_spots          0.349700  0.434931  0.600885           0.835348  0.695950   \nalpha               0.172446  0.466629  0.342738           0.242045  0.082073   \nbeta                0.254652  0.297120  0.386068           0.370183  0.427305   \nhurst              -0.061333  0.242477  0.192117           0.125266  0.029461   \nlumpiness           0.299536  0.499978  0.612645           0.808748  0.672148   \nnonlinearity        0.327332  0.557278  0.453590           0.321858  0.318203   \nx_pacf5             0.344436  0.535547  0.504104           0.293661  0.348997   \ndiff1x_pacf5        0.245213  0.581264  0.590353           0.581994  0.420912   \ndiff2x_pacf5        0.232447  0.535469  0.478406           0.253964  0.303243   \nseas_pacf          -0.448959 -0.320184 -0.399966          -0.440011 -0.418711   \nstability           0.373312  0.651502  0.671463           0.638115  0.586972   \nunitroot_kpss       0.312380  0.571928  0.624842           0.625049  0.591423   \nunitroot_pp        -0.231930 -0.606054 -0.723769          -0.780212 -0.576634   \nnperiods                 NaN       NaN       NaN                NaN       NaN   \nseasonal_period          NaN       NaN       NaN                NaN       NaN   \ntrend               0.065008  0.578381  0.450824           0.400764  0.384717   \nspike               0.331028  0.605759  0.641928           0.717350  0.621198   \nlinearity          -0.561548 -0.358692 -0.253098           0.031674 -0.129096   \ncurvature           1.000000  0.393331  0.449927           0.203973  0.175355   \ne_acf1              0.393331  1.000000  0.788228           0.342723  0.268059   \ne_acf10             0.449927  0.788228  1.000000           0.531684  0.418210   \nseasonal_strength   0.203973  0.342723  0.531684           1.000000  0.720316   \npeak                0.175355  0.268059  0.418210           0.720316  1.000000   \ntrough              0.008025  0.082923  0.288700           0.766828  0.665166   \nte                  0.340394  0.544330  0.697285           0.867264  0.715052   \nTFE                 0.419795  0.606072  0.682176           0.684496  0.583762   \n\n                     trough        te       TFE  \neb                 0.429762  0.727003  0.655810  \nmean               0.240910  0.558408  0.511321  \nvar                0.545791  0.903226  0.818079  \nmax_kl_shift       0.508287  0.876767  0.799490  \ntime_kl_shift      0.247148  0.544511  0.497782  \nmax_level_shift    0.492543  0.882211  0.824095  \ntime_level_shift   0.259235  0.528359  0.520698  \nmax_var_shift      0.496529  0.908661  0.839041  \ntime_var_shift     0.342709  0.600685  0.515821  \nx_acf1             0.080832  0.561608  0.612179  \nx_acf10            0.270785  0.769223  0.753965  \ndiff1_acf1         0.201785  0.369515  0.348691  \ndiff1_acf10        0.376302  0.696758  0.621658  \ndiff2_acf1        -0.100984  0.101984  0.210641  \ndiff2_acf10       -0.039272  0.227899  0.296561  \nseas_acf1          0.443915  0.891424  0.848065  \nARCH.LM            0.027891  0.505011  0.579471  \ncrossing_points    0.616699  0.733419  0.555927  \nentropy            0.552268  0.916429  0.810801  \nflat_spots         0.606784  0.902409  0.765339  \nalpha              0.064366  0.320844  0.332349  \nbeta               0.296323  0.436567  0.386814  \nhurst              0.002703  0.209049  0.176158  \nlumpiness          0.587869  0.887193  0.758293  \nnonlinearity       0.145484  0.457248  0.503852  \nx_pacf5            0.113999  0.484058  0.590977  \ndiff1x_pacf5       0.386420  0.680137  0.588597  \ndiff2x_pacf5       0.117337  0.404237  0.498213  \nseas_pacf         -0.326275 -0.460645 -0.457775  \nstability          0.391917  0.852573  0.809792  \nunitroot_kpss      0.404047  0.816747  0.771484  \nunitroot_pp       -0.527012 -0.884756 -0.755258  \nnperiods                NaN       NaN       NaN  \nseasonal_period         NaN       NaN       NaN  \ntrend              0.219547  0.598159  0.625132  \nspike              0.462549  0.856231  0.806477  \nlinearity          0.186300 -0.150108 -0.270402  \ncurvature          0.008025  0.340394  0.419795  \ne_acf1             0.082923  0.544330  0.606072  \ne_acf10            0.288700  0.697285  0.682176  \nseasonal_strength  0.766828  0.867264  0.684496  \npeak               0.665166  0.715052  0.583762  \ntrough             1.000000  0.623618  0.420933  \nte                 0.623618  1.000000  0.891370  \nTFE                0.420933  0.891370  1.000000  \n\n[45 rows x 45 columns]",
      "text/html": "<div>\n<style scoped>\n    .dataframe tbody tr th:only-of-type {\n        vertical-align: middle;\n    }\n\n    .dataframe tbody tr th {\n        vertical-align: top;\n    }\n\n    .dataframe thead th {\n        text-align: right;\n    }\n</style>\n<table border=\"1\" class=\"dataframe\">\n  <thead>\n    <tr style=\"text-align: right;\">\n      <th></th>\n      <th>eb</th>\n      <th>mean</th>\n      <th>var</th>\n      <th>max_kl_shift</th>\n      <th>time_kl_shift</th>\n      <th>max_level_shift</th>\n      <th>time_level_shift</th>\n      <th>max_var_shift</th>\n      <th>time_var_shift</th>\n      <th>x_acf1</th>\n      <th>...</th>\n      <th>spike</th>\n      <th>linearity</th>\n      <th>curvature</th>\n      <th>e_acf1</th>\n      <th>e_acf10</th>\n      <th>seasonal_strength</th>\n      <th>peak</th>\n      <th>trough</th>\n      <th>te</th>\n      <th>TFE</th>\n    </tr>\n  </thead>\n  <tbody>\n    <tr>\n      <th>eb</th>\n      <td>1.000000</td>\n      <td>0.542635</td>\n      <td>0.494557</td>\n      <td>0.661785</td>\n      <td>0.482561</td>\n      <td>0.695958</td>\n      <td>0.573828</td>\n      <td>0.703739</td>\n      <td>0.636672</td>\n      <td>0.493228</td>\n      <td>...</td>\n      <td>0.716068</td>\n      <td>-0.497860</td>\n      <td>0.264061</td>\n      <td>0.424354</td>\n      <td>0.483554</td>\n      <td>0.632189</td>\n      <td>0.612749</td>\n      <td>0.429762</td>\n      <td>0.727003</td>\n      <td>0.655810</td>\n    </tr>\n    <tr>\n      <th>mean</th>\n      <td>0.542635</td>\n      <td>1.000000</td>\n      <td>0.426626</td>\n      <td>0.385309</td>\n      <td>0.360480</td>\n      <td>0.525433</td>\n      <td>0.447289</td>\n      <td>0.599639</td>\n      <td>0.506109</td>\n      <td>0.445917</td>\n      <td>...</td>\n      <td>0.513696</td>\n      <td>-0.269915</td>\n      <td>0.136110</td>\n      <td>0.466140</td>\n      <td>0.471813</td>\n      <td>0.419886</td>\n      <td>0.281957</td>\n      <td>0.240910</td>\n      <td>0.558408</td>\n      <td>0.511321</td>\n    </tr>\n    <tr>\n      <th>var</th>\n      <td>0.494557</td>\n      <td>0.426626</td>\n      <td>1.000000</td>\n      <td>0.772369</td>\n      <td>0.487313</td>\n      <td>0.783457</td>\n      <td>0.350305</td>\n      <td>0.800345</td>\n      <td>0.417379</td>\n      <td>0.492772</td>\n      <td>...</td>\n      <td>0.758431</td>\n      <td>-0.113946</td>\n      <td>0.532203</td>\n      <td>0.511994</td>\n      <td>0.685682</td>\n      <td>0.775206</td>\n      <td>0.609064</td>\n      <td>0.545791</td>\n      <td>0.903226</td>\n      <td>0.818079</td>\n    </tr>\n    <tr>\n      <th>max_kl_shift</th>\n      <td>0.661785</td>\n      <td>0.385309</td>\n      <td>0.772369</td>\n      <td>1.000000</td>\n      <td>0.543547</td>\n      <td>0.768497</td>\n      <td>0.543518</td>\n      <td>0.796620</td>\n      <td>0.585103</td>\n      <td>0.583852</td>\n      <td>...</td>\n      <td>0.799629</td>\n      <td>-0.101453</td>\n      <td>0.246888</td>\n      <td>0.524481</td>\n      <td>0.638121</td>\n      <td>0.770638</td>\n      <td>0.604655</td>\n      <td>0.508287</td>\n      <td>0.876767</td>\n      <td>0.799490</td>\n    </tr>\n    <tr>\n      <th>time_kl_shift</th>\n      <td>0.482561</td>\n      <td>0.360480</td>\n      <td>0.487313</td>\n      <td>0.543547</td>\n      <td>1.000000</td>\n      <td>0.533698</td>\n      <td>0.525560</td>\n      <td>0.517123</td>\n      <td>0.483016</td>\n      <td>0.458436</td>\n      <td>...</td>\n      <td>0.607981</td>\n      <td>-0.316844</td>\n      <td>0.217502</td>\n      <td>0.411216</td>\n      <td>0.473276</td>\n      <td>0.436749</td>\n      <td>0.394712</td>\n      <td>0.247148</td>\n      <td>0.544511</td>\n      <td>0.497782</td>\n    </tr>\n    <tr>\n      <th>max_level_shift</th>\n      <td>0.695958</td>\n      <td>0.525433</td>\n      <td>0.783457</td>\n      <td>0.768497</td>\n      <td>0.533698</td>\n      <td>1.000000</td>\n      <td>0.568559</td>\n      <td>0.851351</td>\n      <td>0.574226</td>\n      <td>0.566476</td>\n      <td>...</td>\n      <td>0.790292</td>\n      <td>-0.266938</td>\n      <td>0.345168</td>\n      <td>0.539835</td>\n      <td>0.630206</td>\n      <td>0.708914</td>\n      <td>0.670183</td>\n      <td>0.492543</td>\n      <td>0.882211</td>\n      <td>0.824095</td>\n    </tr>\n    <tr>\n      <th>time_level_shift</th>\n      <td>0.573828</td>\n      <td>0.447289</td>\n      <td>0.350305</td>\n      <td>0.543518</td>\n      <td>0.525560</td>\n      <td>0.568559</td>\n      <td>1.000000</td>\n      <td>0.534408</td>\n      <td>0.714192</td>\n      <td>0.403920</td>\n      <td>...</td>\n      <td>0.558253</td>\n      <td>-0.332235</td>\n      <td>-0.074574</td>\n      <td>0.266062</td>\n      <td>0.256066</td>\n      <td>0.377325</td>\n      <td>0.388226</td>\n      <td>0.259235</td>\n      <td>0.528359</td>\n      <td>0.520698</td>\n    </tr>\n    <tr>\n      <th>max_var_shift</th>\n      <td>0.703739</td>\n      <td>0.599639</td>\n      <td>0.800345</td>\n      <td>0.796620</td>\n      <td>0.517123</td>\n      <td>0.851351</td>\n      <td>0.534408</td>\n      <td>1.000000</td>\n      <td>0.589173</td>\n      <td>0.561205</td>\n      <td>...</td>\n      <td>0.802359</td>\n      <td>-0.240911</td>\n      <td>0.327265</td>\n      <td>0.554393</td>\n      <td>0.673773</td>\n      <td>0.766732</td>\n      <td>0.673660</td>\n      <td>0.496529</td>\n      <td>0.908661</td>\n      <td>0.839041</td>\n    </tr>\n    <tr>\n      <th>time_var_shift</th>\n      <td>0.636672</td>\n      <td>0.506109</td>\n      <td>0.417379</td>\n      <td>0.585103</td>\n      <td>0.483016</td>\n      <td>0.574226</td>\n      <td>0.714192</td>\n      <td>0.589173</td>\n      <td>1.000000</td>\n      <td>0.397094</td>\n      <td>...</td>\n      <td>0.613441</td>\n      <td>-0.222858</td>\n      <td>-0.079434</td>\n      <td>0.288559</td>\n      <td>0.309122</td>\n      <td>0.489233</td>\n      <td>0.422746</td>\n      <td>0.342709</td>\n      <td>0.600685</td>\n      <td>0.515821</td>\n    </tr>\n    <tr>\n      <th>x_acf1</th>\n      <td>0.493228</td>\n      <td>0.445917</td>\n      <td>0.492772</td>\n      <td>0.583852</td>\n      <td>0.458436</td>\n      <td>0.566476</td>\n      <td>0.403920</td>\n      <td>0.561205</td>\n      <td>0.397094</td>\n      <td>1.000000</td>\n      <td>...</td>\n      <td>0.627564</td>\n      <td>-0.388935</td>\n      <td>0.294158</td>\n      <td>0.885969</td>\n      <td>0.709960</td>\n      <td>0.303629</td>\n      <td>0.285998</td>\n      <td>0.080832</td>\n      <td>0.561608</td>\n      <td>0.612179</td>\n    </tr>\n    <tr>\n      <th>x_acf10</th>\n      <td>0.616961</td>\n      <td>0.571677</td>\n      <td>0.665850</td>\n      <td>0.715798</td>\n      <td>0.554226</td>\n      <td>0.735840</td>\n      <td>0.508869</td>\n      <td>0.749414</td>\n      <td>0.521624</td>\n      <td>0.880266</td>\n      <td>...</td>\n      <td>0.773456</td>\n      <td>-0.345362</td>\n      <td>0.280667</td>\n      <td>0.796645</td>\n      <td>0.768746</td>\n      <td>0.525436</td>\n      <td>0.452739</td>\n      <td>0.270785</td>\n      <td>0.769223</td>\n      <td>0.753965</td>\n    </tr>\n    <tr>\n      <th>diff1_acf1</th>\n      <td>0.688343</td>\n      <td>0.388851</td>\n      <td>0.316630</td>\n      <td>0.347766</td>\n      <td>0.234496</td>\n      <td>0.324821</td>\n      <td>0.074839</td>\n      <td>0.355438</td>\n      <td>0.183648</td>\n      <td>0.400738</td>\n      <td>...</td>\n      <td>0.413571</td>\n      <td>-0.457931</td>\n      <td>0.500768</td>\n      <td>0.461681</td>\n      <td>0.455855</td>\n      <td>0.361792</td>\n      <td>0.312264</td>\n      <td>0.201785</td>\n      <td>0.369515</td>\n      <td>0.348691</td>\n    </tr>\n    <tr>\n      <th>diff1_acf10</th>\n      <td>0.452121</td>\n      <td>0.363326</td>\n      <td>0.673815</td>\n      <td>0.720971</td>\n      <td>0.466964</td>\n      <td>0.582354</td>\n      <td>0.343796</td>\n      <td>0.631637</td>\n      <td>0.408006</td>\n      <td>0.640218</td>\n      <td>...</td>\n      <td>0.662641</td>\n      <td>-0.057946</td>\n      <td>0.251111</td>\n      <td>0.598799</td>\n      <td>0.613088</td>\n      <td>0.584885</td>\n      <td>0.432258</td>\n      <td>0.376302</td>\n      <td>0.696758</td>\n      <td>0.621658</td>\n    </tr>\n    <tr>\n      <th>diff2_acf1</th>\n      <td>-0.083936</td>\n      <td>-0.105675</td>\n      <td>0.308047</td>\n      <td>-0.013424</td>\n      <td>-0.105842</td>\n      <td>0.105407</td>\n      <td>-0.258380</td>\n      <td>0.092480</td>\n      <td>-0.276867</td>\n      <td>-0.000251</td>\n      <td>...</td>\n      <td>0.009294</td>\n      <td>-0.252214</td>\n      <td>0.664188</td>\n      <td>0.094840</td>\n      <td>0.214217</td>\n      <td>-0.014802</td>\n      <td>0.030418</td>\n      <td>-0.100984</td>\n      <td>0.101984</td>\n      <td>0.210641</td>\n    </tr>\n    <tr>\n      <th>diff2_acf10</th>\n      <td>0.266048</td>\n      <td>0.191887</td>\n      <td>0.150243</td>\n      <td>0.295693</td>\n      <td>0.219322</td>\n      <td>0.312437</td>\n      <td>0.297231</td>\n      <td>0.239767</td>\n      <td>0.193042</td>\n      <td>0.687782</td>\n      <td>...</td>\n      <td>0.343933</td>\n      <td>-0.349055</td>\n      <td>0.123295</td>\n      <td>0.540258</td>\n      <td>0.351717</td>\n      <td>0.037691</td>\n      <td>0.104178</td>\n      <td>-0.039272</td>\n      <td>0.227899</td>\n      <td>0.296561</td>\n    </tr>\n    <tr>\n      <th>seas_acf1</th>\n      <td>0.670488</td>\n      <td>0.550852</td>\n      <td>0.794001</td>\n      <td>0.810723</td>\n      <td>0.559160</td>\n      <td>0.810755</td>\n      <td>0.525418</td>\n      <td>0.865972</td>\n      <td>0.563546</td>\n      <td>0.757075</td>\n      <td>...</td>\n      <td>0.836858</td>\n      <td>-0.247942</td>\n      <td>0.314690</td>\n      <td>0.726314</td>\n      <td>0.769507</td>\n      <td>0.695204</td>\n      <td>0.610705</td>\n      <td>0.443915</td>\n      <td>0.891424</td>\n      <td>0.848065</td>\n    </tr>\n    <tr>\n      <th>ARCH.LM</th>\n      <td>0.417197</td>\n      <td>0.413092</td>\n      <td>0.414348</td>\n      <td>0.519053</td>\n      <td>0.424355</td>\n      <td>0.528696</td>\n      <td>0.411854</td>\n      <td>0.521266</td>\n      <td>0.385861</td>\n      <td>0.922795</td>\n      <td>...</td>\n      <td>0.599499</td>\n      <td>-0.335558</td>\n      <td>0.188588</td>\n      <td>0.833896</td>\n      <td>0.643792</td>\n      <td>0.239851</td>\n      <td>0.239913</td>\n      <td>0.027891</td>\n      <td>0.505011</td>\n      <td>0.579471</td>\n    </tr>\n    <tr>\n      <th>crossing_points</th>\n      <td>0.397758</td>\n      <td>0.187371</td>\n      <td>0.805667</td>\n      <td>0.632293</td>\n      <td>0.395930</td>\n      <td>0.595700</td>\n      <td>0.191172</td>\n      <td>0.615250</td>\n      <td>0.293844</td>\n      <td>0.191538</td>\n      <td>...</td>\n      <td>0.556490</td>\n      <td>0.039835</td>\n      <td>0.407486</td>\n      <td>0.247129</td>\n      <td>0.507866</td>\n      <td>0.756927</td>\n      <td>0.598256</td>\n      <td>0.616699</td>\n      <td>0.733419</td>\n      <td>0.555927</td>\n    </tr>\n    <tr>\n      <th>entropy</th>\n      <td>0.687185</td>\n      <td>0.531037</td>\n      <td>0.841650</td>\n      <td>0.801197</td>\n      <td>0.522515</td>\n      <td>0.807495</td>\n      <td>0.488451</td>\n      <td>0.860412</td>\n      <td>0.594881</td>\n      <td>0.581975</td>\n      <td>...</td>\n      <td>0.801245</td>\n      <td>-0.170625</td>\n      <td>0.350413</td>\n      <td>0.591337</td>\n      <td>0.692590</td>\n      <td>0.801680</td>\n      <td>0.652854</td>\n      <td>0.552268</td>\n      <td>0.916429</td>\n      <td>0.810801</td>\n    </tr>\n    <tr>\n      <th>flat_spots</th>\n      <td>0.666524</td>\n      <td>0.426636</td>\n      <td>0.839411</td>\n      <td>0.798726</td>\n      <td>0.574787</td>\n      <td>0.796700</td>\n      <td>0.519066</td>\n      <td>0.827933</td>\n      <td>0.599494</td>\n      <td>0.429705</td>\n      <td>...</td>\n      <td>0.810734</td>\n      <td>-0.195738</td>\n      <td>0.349700</td>\n      <td>0.434931</td>\n      <td>0.600885</td>\n      <td>0.835348</td>\n      <td>0.695950</td>\n      <td>0.606784</td>\n      <td>0.902409</td>\n      <td>0.765339</td>\n    </tr>\n    <tr>\n      <th>alpha</th>\n      <td>0.143394</td>\n      <td>0.206585</td>\n      <td>0.334611</td>\n      <td>0.442218</td>\n      <td>0.382642</td>\n      <td>0.297631</td>\n      <td>0.253033</td>\n      <td>0.278529</td>\n      <td>0.247743</td>\n      <td>0.482440</td>\n      <td>...</td>\n      <td>0.373307</td>\n      <td>-0.050324</td>\n      <td>0.172446</td>\n      <td>0.466629</td>\n      <td>0.342738</td>\n      <td>0.242045</td>\n      <td>0.082073</td>\n      <td>0.064366</td>\n      <td>0.320844</td>\n      <td>0.332349</td>\n    </tr>\n    <tr>\n      <th>beta</th>\n      <td>0.530243</td>\n      <td>0.295927</td>\n      <td>0.329848</td>\n      <td>0.391005</td>\n      <td>0.155958</td>\n      <td>0.453145</td>\n      <td>0.270017</td>\n      <td>0.410094</td>\n      <td>0.215736</td>\n      <td>0.312383</td>\n      <td>...</td>\n      <td>0.417496</td>\n      <td>-0.306248</td>\n      <td>0.254652</td>\n      <td>0.297120</td>\n      <td>0.386068</td>\n      <td>0.370183</td>\n      <td>0.427305</td>\n      <td>0.296323</td>\n      <td>0.436567</td>\n      <td>0.386814</td>\n    </tr>\n    <tr>\n      <th>hurst</th>\n      <td>-0.026336</td>\n      <td>0.063855</td>\n      <td>0.214413</td>\n      <td>0.203994</td>\n      <td>0.187043</td>\n      <td>0.127677</td>\n      <td>0.144208</td>\n      <td>0.211057</td>\n      <td>0.166994</td>\n      <td>0.322790</td>\n      <td>...</td>\n      <td>0.188525</td>\n      <td>0.129096</td>\n      <td>-0.061333</td>\n      <td>0.242477</td>\n      <td>0.192117</td>\n      <td>0.125266</td>\n      <td>0.029461</td>\n      <td>0.002703</td>\n      <td>0.209049</td>\n      <td>0.176158</td>\n    </tr>\n    <tr>\n      <th>lumpiness</th>\n      <td>0.707151</td>\n      <td>0.603675</td>\n      <td>0.794773</td>\n      <td>0.748684</td>\n      <td>0.526955</td>\n      <td>0.800492</td>\n      <td>0.470694</td>\n      <td>0.845364</td>\n      <td>0.565583</td>\n      <td>0.471598</td>\n      <td>...</td>\n      <td>0.835484</td>\n      <td>-0.160083</td>\n      <td>0.299536</td>\n      <td>0.499978</td>\n      <td>0.612645</td>\n      <td>0.808748</td>\n      <td>0.672148</td>\n      <td>0.587869</td>\n      <td>0.887193</td>\n      <td>0.758293</td>\n    </tr>\n    <tr>\n      <th>nonlinearity</th>\n      <td>0.665903</td>\n      <td>0.500678</td>\n      <td>0.312212</td>\n      <td>0.458318</td>\n      <td>0.483622</td>\n      <td>0.508098</td>\n      <td>0.457022</td>\n      <td>0.502521</td>\n      <td>0.404519</td>\n      <td>0.580422</td>\n      <td>...</td>\n      <td>0.617649</td>\n      <td>-0.559186</td>\n      <td>0.327332</td>\n      <td>0.557278</td>\n      <td>0.453590</td>\n      <td>0.321858</td>\n      <td>0.318203</td>\n      <td>0.145484</td>\n      <td>0.457248</td>\n      <td>0.503852</td>\n    </tr>\n    <tr>\n      <th>x_pacf5</th>\n      <td>0.558707</td>\n      <td>0.339635</td>\n      <td>0.363476</td>\n      <td>0.506596</td>\n      <td>0.332649</td>\n      <td>0.539366</td>\n      <td>0.449963</td>\n      <td>0.482386</td>\n      <td>0.300655</td>\n      <td>0.615637</td>\n      <td>...</td>\n      <td>0.558277</td>\n      <td>-0.506439</td>\n      <td>0.344436</td>\n      <td>0.535547</td>\n      <td>0.504104</td>\n      <td>0.293661</td>\n      <td>0.348997</td>\n      <td>0.113999</td>\n      <td>0.484058</td>\n      <td>0.590977</td>\n    </tr>\n    <tr>\n      <th>diff1x_pacf5</th>\n      <td>0.450020</td>\n      <td>0.365737</td>\n      <td>0.661423</td>\n      <td>0.698923</td>\n      <td>0.441002</td>\n      <td>0.566814</td>\n      <td>0.347522</td>\n      <td>0.618508</td>\n      <td>0.413220</td>\n      <td>0.628869</td>\n      <td>...</td>\n      <td>0.635888</td>\n      <td>-0.053926</td>\n      <td>0.245213</td>\n      <td>0.581264</td>\n      <td>0.590353</td>\n      <td>0.581994</td>\n      <td>0.420912</td>\n      <td>0.386420</td>\n      <td>0.680137</td>\n      <td>0.588597</td>\n    </tr>\n    <tr>\n      <th>diff2x_pacf5</th>\n      <td>0.504753</td>\n      <td>0.260968</td>\n      <td>0.272440</td>\n      <td>0.443616</td>\n      <td>0.201400</td>\n      <td>0.418234</td>\n      <td>0.287387</td>\n      <td>0.391951</td>\n      <td>0.170438</td>\n      <td>0.624312</td>\n      <td>...</td>\n      <td>0.463787</td>\n      <td>-0.346701</td>\n      <td>0.232447</td>\n      <td>0.535469</td>\n      <td>0.478406</td>\n      <td>0.253964</td>\n      <td>0.303243</td>\n      <td>0.117337</td>\n      <td>0.404237</td>\n      <td>0.498213</td>\n    </tr>\n    <tr>\n      <th>seas_pacf</th>\n      <td>-0.646612</td>\n      <td>-0.358891</td>\n      <td>-0.372321</td>\n      <td>-0.362146</td>\n      <td>-0.108323</td>\n      <td>-0.390000</td>\n      <td>-0.089981</td>\n      <td>-0.427182</td>\n      <td>-0.109396</td>\n      <td>-0.281063</td>\n      <td>...</td>\n      <td>-0.413602</td>\n      <td>0.350254</td>\n      <td>-0.448959</td>\n      <td>-0.320184</td>\n      <td>-0.399966</td>\n      <td>-0.440011</td>\n      <td>-0.418711</td>\n      <td>-0.326275</td>\n      <td>-0.460645</td>\n      <td>-0.457775</td>\n    </tr>\n    <tr>\n      <th>stability</th>\n      <td>0.616886</td>\n      <td>0.476050</td>\n      <td>0.792637</td>\n      <td>0.757972</td>\n      <td>0.583299</td>\n      <td>0.846429</td>\n      <td>0.609059</td>\n      <td>0.804146</td>\n      <td>0.608167</td>\n      <td>0.699592</td>\n      <td>...</td>\n      <td>0.821265</td>\n      <td>-0.372249</td>\n      <td>0.373312</td>\n      <td>0.651502</td>\n      <td>0.671463</td>\n      <td>0.638115</td>\n      <td>0.586972</td>\n      <td>0.391917</td>\n      <td>0.852573</td>\n      <td>0.809792</td>\n    </tr>\n    <tr>\n      <th>unitroot_kpss</th>\n      <td>0.593994</td>\n      <td>0.364684</td>\n      <td>0.746399</td>\n      <td>0.742442</td>\n      <td>0.539202</td>\n      <td>0.792110</td>\n      <td>0.547432</td>\n      <td>0.770173</td>\n      <td>0.569185</td>\n      <td>0.624795</td>\n      <td>...</td>\n      <td>0.786708</td>\n      <td>-0.317055</td>\n      <td>0.312380</td>\n      <td>0.571928</td>\n      <td>0.624842</td>\n      <td>0.625049</td>\n      <td>0.591423</td>\n      <td>0.404047</td>\n      <td>0.816747</td>\n      <td>0.771484</td>\n    </tr>\n    <tr>\n      <th>unitroot_pp</th>\n      <td>-0.659844</td>\n      <td>-0.583376</td>\n      <td>-0.778004</td>\n      <td>-0.805202</td>\n      <td>-0.517773</td>\n      <td>-0.756549</td>\n      <td>-0.438983</td>\n      <td>-0.815175</td>\n      <td>-0.534334</td>\n      <td>-0.625243</td>\n      <td>...</td>\n      <td>-0.758914</td>\n      <td>0.050408</td>\n      <td>-0.231930</td>\n      <td>-0.606054</td>\n      <td>-0.723769</td>\n      <td>-0.780212</td>\n      <td>-0.576634</td>\n      <td>-0.527012</td>\n      <td>-0.884756</td>\n      <td>-0.755258</td>\n    </tr>\n    <tr>\n      <th>nperiods</th>\n      <td>NaN</td>\n      <td>NaN</td>\n      <td>NaN</td>\n      <td>NaN</td>\n      <td>NaN</td>\n      <td>NaN</td>\n      <td>NaN</td>\n      <td>NaN</td>\n      <td>NaN</td>\n      <td>NaN</td>\n      <td>...</td>\n      <td>NaN</td>\n      <td>NaN</td>\n      <td>NaN</td>\n      <td>NaN</td>\n      <td>NaN</td>\n      <td>NaN</td>\n      <td>NaN</td>\n      <td>NaN</td>\n      <td>NaN</td>\n      <td>NaN</td>\n    </tr>\n    <tr>\n      <th>seasonal_period</th>\n      <td>NaN</td>\n      <td>NaN</td>\n      <td>NaN</td>\n      <td>NaN</td>\n      <td>NaN</td>\n      <td>NaN</td>\n      <td>NaN</td>\n      <td>NaN</td>\n      <td>NaN</td>\n      <td>NaN</td>\n      <td>...</td>\n      <td>NaN</td>\n      <td>NaN</td>\n      <td>NaN</td>\n      <td>NaN</td>\n      <td>NaN</td>\n      <td>NaN</td>\n      <td>NaN</td>\n      <td>NaN</td>\n      <td>NaN</td>\n      <td>NaN</td>\n    </tr>\n    <tr>\n      <th>trend</th>\n      <td>0.568594</td>\n      <td>0.493461</td>\n      <td>0.442662</td>\n      <td>0.556606</td>\n      <td>0.413194</td>\n      <td>0.591936</td>\n      <td>0.674957</td>\n      <td>0.577315</td>\n      <td>0.619530</td>\n      <td>0.674253</td>\n      <td>...</td>\n      <td>0.655611</td>\n      <td>-0.366358</td>\n      <td>0.065008</td>\n      <td>0.578381</td>\n      <td>0.450824</td>\n      <td>0.400764</td>\n      <td>0.384717</td>\n      <td>0.219547</td>\n      <td>0.598159</td>\n      <td>0.625132</td>\n    </tr>\n    <tr>\n      <th>spike</th>\n      <td>0.716068</td>\n      <td>0.513696</td>\n      <td>0.758431</td>\n      <td>0.799629</td>\n      <td>0.607981</td>\n      <td>0.790292</td>\n      <td>0.558253</td>\n      <td>0.802359</td>\n      <td>0.613441</td>\n      <td>0.627564</td>\n      <td>...</td>\n      <td>1.000000</td>\n      <td>-0.288816</td>\n      <td>0.331028</td>\n      <td>0.605759</td>\n      <td>0.641928</td>\n      <td>0.717350</td>\n      <td>0.621198</td>\n      <td>0.462549</td>\n      <td>0.856231</td>\n      <td>0.806477</td>\n    </tr>\n    <tr>\n      <th>linearity</th>\n      <td>-0.497860</td>\n      <td>-0.269915</td>\n      <td>-0.113946</td>\n      <td>-0.101453</td>\n      <td>-0.316844</td>\n      <td>-0.266938</td>\n      <td>-0.332235</td>\n      <td>-0.240911</td>\n      <td>-0.222858</td>\n      <td>-0.388935</td>\n      <td>...</td>\n      <td>-0.288816</td>\n      <td>1.000000</td>\n      <td>-0.561548</td>\n      <td>-0.358692</td>\n      <td>-0.253098</td>\n      <td>0.031674</td>\n      <td>-0.129096</td>\n      <td>0.186300</td>\n      <td>-0.150108</td>\n      <td>-0.270402</td>\n    </tr>\n    <tr>\n      <th>curvature</th>\n      <td>0.264061</td>\n      <td>0.136110</td>\n      <td>0.532203</td>\n      <td>0.246888</td>\n      <td>0.217502</td>\n      <td>0.345168</td>\n      <td>-0.074574</td>\n      <td>0.327265</td>\n      <td>-0.079434</td>\n      <td>0.294158</td>\n      <td>...</td>\n      <td>0.331028</td>\n      <td>-0.561548</td>\n      <td>1.000000</td>\n      <td>0.393331</td>\n      <td>0.449927</td>\n      <td>0.203973</td>\n      <td>0.175355</td>\n      <td>0.008025</td>\n      <td>0.340394</td>\n      <td>0.419795</td>\n    </tr>\n    <tr>\n      <th>e_acf1</th>\n      <td>0.424354</td>\n      <td>0.466140</td>\n      <td>0.511994</td>\n      <td>0.524481</td>\n      <td>0.411216</td>\n      <td>0.539835</td>\n      <td>0.266062</td>\n      <td>0.554393</td>\n      <td>0.288559</td>\n      <td>0.885969</td>\n      <td>...</td>\n      <td>0.605759</td>\n      <td>-0.358692</td>\n      <td>0.393331</td>\n      <td>1.000000</td>\n      <td>0.788228</td>\n      <td>0.342723</td>\n      <td>0.268059</td>\n      <td>0.082923</td>\n      <td>0.544330</td>\n      <td>0.606072</td>\n    </tr>\n    <tr>\n      <th>e_acf10</th>\n      <td>0.483554</td>\n      <td>0.471813</td>\n      <td>0.685682</td>\n      <td>0.638121</td>\n      <td>0.473276</td>\n      <td>0.630206</td>\n      <td>0.256066</td>\n      <td>0.673773</td>\n      <td>0.309122</td>\n      <td>0.709960</td>\n      <td>...</td>\n      <td>0.641928</td>\n      <td>-0.253098</td>\n      <td>0.449927</td>\n      <td>0.788228</td>\n      <td>1.000000</td>\n      <td>0.531684</td>\n      <td>0.418210</td>\n      <td>0.288700</td>\n      <td>0.697285</td>\n      <td>0.682176</td>\n    </tr>\n    <tr>\n      <th>seasonal_strength</th>\n      <td>0.632189</td>\n      <td>0.419886</td>\n      <td>0.775206</td>\n      <td>0.770638</td>\n      <td>0.436749</td>\n      <td>0.708914</td>\n      <td>0.377325</td>\n      <td>0.766732</td>\n      <td>0.489233</td>\n      <td>0.303629</td>\n      <td>...</td>\n      <td>0.717350</td>\n      <td>0.031674</td>\n      <td>0.203973</td>\n      <td>0.342723</td>\n      <td>0.531684</td>\n      <td>1.000000</td>\n      <td>0.720316</td>\n      <td>0.766828</td>\n      <td>0.867264</td>\n      <td>0.684496</td>\n    </tr>\n    <tr>\n      <th>peak</th>\n      <td>0.612749</td>\n      <td>0.281957</td>\n      <td>0.609064</td>\n      <td>0.604655</td>\n      <td>0.394712</td>\n      <td>0.670183</td>\n      <td>0.388226</td>\n      <td>0.673660</td>\n      <td>0.422746</td>\n      <td>0.285998</td>\n      <td>...</td>\n      <td>0.621198</td>\n      <td>-0.129096</td>\n      <td>0.175355</td>\n      <td>0.268059</td>\n      <td>0.418210</td>\n      <td>0.720316</td>\n      <td>1.000000</td>\n      <td>0.665166</td>\n      <td>0.715052</td>\n      <td>0.583762</td>\n    </tr>\n    <tr>\n      <th>trough</th>\n      <td>0.429762</td>\n      <td>0.240910</td>\n      <td>0.545791</td>\n      <td>0.508287</td>\n      <td>0.247148</td>\n      <td>0.492543</td>\n      <td>0.259235</td>\n      <td>0.496529</td>\n      <td>0.342709</td>\n      <td>0.080832</td>\n      <td>...</td>\n      <td>0.462549</td>\n      <td>0.186300</td>\n      <td>0.008025</td>\n      <td>0.082923</td>\n      <td>0.288700</td>\n      <td>0.766828</td>\n      <td>0.665166</td>\n      <td>1.000000</td>\n      <td>0.623618</td>\n      <td>0.420933</td>\n    </tr>\n    <tr>\n      <th>te</th>\n      <td>0.727003</td>\n      <td>0.558408</td>\n      <td>0.903226</td>\n      <td>0.876767</td>\n      <td>0.544511</td>\n      <td>0.882211</td>\n      <td>0.528359</td>\n      <td>0.908661</td>\n      <td>0.600685</td>\n      <td>0.561608</td>\n      <td>...</td>\n      <td>0.856231</td>\n      <td>-0.150108</td>\n      <td>0.340394</td>\n      <td>0.544330</td>\n      <td>0.697285</td>\n      <td>0.867264</td>\n      <td>0.715052</td>\n      <td>0.623618</td>\n      <td>1.000000</td>\n      <td>0.891370</td>\n    </tr>\n    <tr>\n      <th>TFE</th>\n      <td>0.655810</td>\n      <td>0.511321</td>\n      <td>0.818079</td>\n      <td>0.799490</td>\n      <td>0.497782</td>\n      <td>0.824095</td>\n      <td>0.520698</td>\n      <td>0.839041</td>\n      <td>0.515821</td>\n      <td>0.612179</td>\n      <td>...</td>\n      <td>0.806477</td>\n      <td>-0.270402</td>\n      <td>0.419795</td>\n      <td>0.606072</td>\n      <td>0.682176</td>\n      <td>0.684496</td>\n      <td>0.583762</td>\n      <td>0.420933</td>\n      <td>0.891370</td>\n      <td>1.000000</td>\n    </tr>\n  </tbody>\n</table>\n<p>45 rows × 45 columns</p>\n</div>"
     },
     "execution_count": 15,
     "metadata": {},
     "output_type": "execute_result"
    }
   ],
   "source": [
    "compute_features_tfe_corr_percentage_xg()"
   ],
   "metadata": {
    "collapsed": false,
    "ExecuteTime": {
     "end_time": "2023-12-28T10:31:02.417484300Z",
     "start_time": "2023-12-28T10:31:01.985150600Z"
    }
   }
  },
  {
   "cell_type": "code",
   "execution_count": 16,
   "outputs": [
    {
     "name": "stdout",
     "output_type": "stream",
     "text": [
      "ettm2\n",
      "ettm1\n",
      "wind\n",
      "solar\n",
      "aus\n",
      "weather\n"
     ]
    }
   ],
   "source": [
    "compute_features_with_xgboost()"
   ],
   "metadata": {
    "collapsed": false,
    "ExecuteTime": {
     "end_time": "2023-12-23T19:20:12.091701900Z",
     "start_time": "2023-12-23T19:20:11.853661100Z"
    }
   }
  },
  {
   "cell_type": "code",
   "execution_count": 18,
   "outputs": [
    {
     "name": "stdout",
     "output_type": "stream",
     "text": [
      "ettm2\n",
      "ettm1\n",
      "wind\n",
      "solar\n",
      "aus\n",
      "weather\n"
     ]
    },
    {
     "data": {
      "text/plain": "                         eb      mean       var  max_kl_shift  time_kl_shift  \\\neb                 1.000000 -0.408551 -0.289032      0.551681      -0.060784   \nmean              -0.408551  1.000000  0.058416     -0.262006      -0.107750   \nvar               -0.289032  0.058416  1.000000     -0.419322       0.172827   \nmax_kl_shift       0.551681 -0.262006 -0.419322      1.000000      -0.090835   \ntime_kl_shift     -0.060784 -0.107750  0.172827     -0.090835       1.000000   \nmax_level_shift    0.108595  0.091838 -0.422675      0.280378      -0.184651   \ntime_level_shift  -0.044212 -0.055521  0.158233     -0.074885       0.260477   \nmax_var_shift      0.186682 -0.133257 -0.302041      0.275936      -0.019377   \ntime_var_shift     0.065579 -0.059369  0.099713     -0.108011       0.217405   \nx_acf1            -0.192129  0.393393 -0.185176     -0.234855      -0.006474   \nx_acf10           -0.007733  0.268061 -0.479173     -0.002952      -0.046998   \ndiff1_acf1        -0.564805  0.397048  0.227817     -0.520099       0.068610   \ndiff1_acf10       -0.461186  0.226170  0.160993     -0.116023      -0.040889   \ndiff2_acf1        -0.150508  0.294353 -0.039468     -0.270316      -0.188757   \ndiff2_acf10        0.140858 -0.138644  0.119724      0.335565       0.072373   \nseas_acf1         -0.179334  0.418405 -0.059485     -0.232854       0.056157   \nARCH.LM           -0.239561  0.460277 -0.157236     -0.175633      -0.041977   \ncrossing_points   -0.324129  0.027628  0.542121     -0.526113       0.033639   \nentropy           -0.006597 -0.389518  0.284415      0.063039       0.089554   \nflat_spots         0.593852 -0.167069 -0.538500      0.661192      -0.167190   \nalpha              0.127800  0.078951 -0.127439     -0.195421       0.040504   \nbeta              -0.578229  0.384974  0.215971     -0.308624      -0.081935   \nhurst              0.026336  0.132701 -0.105063     -0.170050       0.136019   \nlumpiness          0.077260 -0.106069 -0.227721      0.295138      -0.094075   \nnonlinearity       0.299417 -0.108927 -0.048106      0.132486      -0.155974   \nx_pacf5           -0.462458  0.331147  0.136581     -0.212910      -0.124546   \ndiff1x_pacf5      -0.485269  0.273252  0.186660     -0.178520      -0.094698   \ndiff2x_pacf5       0.507677 -0.356232 -0.201320      0.549225      -0.002992   \nseas_pacf          0.422637 -0.300876 -0.357695      0.322693       0.050198   \nstability          0.118982  0.351845 -0.484237      0.127827      -0.107741   \nunitroot_kpss      0.118281  0.321090 -0.287859      0.077650      -0.113111   \nunitroot_pp        0.072200  0.255076 -0.449253      0.016197      -0.091490   \nnperiods                NaN       NaN       NaN           NaN            NaN   \nseasonal_period         NaN       NaN       NaN           NaN            NaN   \ntrend              0.026150  0.235756 -0.205097     -0.159125       0.053248   \nspike              0.340081 -0.249716 -0.249734      0.370137      -0.039661   \nlinearity         -0.041176 -0.084645  0.031119      0.038251       0.107841   \ncurvature          0.146757 -0.036176 -0.122105      0.221519      -0.108872   \ne_acf1            -0.135709  0.379280  0.102731     -0.361782       0.081100   \ne_acf10           -0.104297  0.313434 -0.161749     -0.145654       0.072864   \nseasonal_strength -0.449649  0.228252  0.290595     -0.563691       0.242369   \npeak               0.202057  0.025750  0.074633     -0.054525      -0.163083   \ntrough             0.057897  0.008387 -0.350232      0.219359      -0.032257   \nte                 0.727003 -0.438359 -0.494624      0.817835      -0.154501   \nTFE                0.655810 -0.454449 -0.392740      0.753394      -0.125208   \n\n                   max_level_shift  time_level_shift  max_var_shift  \\\neb                        0.108595         -0.044212       0.186682   \nmean                      0.091838         -0.055521      -0.133257   \nvar                      -0.422675          0.158233      -0.302041   \nmax_kl_shift              0.280378         -0.074885       0.275936   \ntime_kl_shift            -0.184651          0.260477      -0.019377   \nmax_level_shift           1.000000         -0.213531       0.427182   \ntime_level_shift         -0.213531          1.000000      -0.042100   \nmax_var_shift             0.427182         -0.042100       1.000000   \ntime_var_shift           -0.089341          0.322538       0.049324   \nx_acf1                    0.089414         -0.026018      -0.055945   \nx_acf10                   0.353015         -0.041113      -0.012875   \ndiff1_acf1               -0.138390          0.053598      -0.086839   \ndiff1_acf10              -0.133442          0.075017      -0.025011   \ndiff2_acf1                0.020770         -0.164217      -0.058608   \ndiff2_acf10              -0.017281          0.121640       0.100772   \nseas_acf1                -0.054640         -0.051401      -0.211492   \nARCH.LM                   0.094639         -0.028938      -0.099798   \ncrossing_points          -0.301843          0.120612      -0.103207   \nentropy                  -0.210749          0.055708       0.136906   \nflat_spots                0.282583         -0.122605       0.212201   \nalpha                     0.061238         -0.139045       0.011636   \nbeta                     -0.099000          0.092003      -0.080812   \nhurst                     0.023628          0.084689      -0.030816   \nlumpiness                 0.366781         -0.082228       0.695935   \nnonlinearity              0.188412          0.054184       0.253129   \nx_pacf5                  -0.123890          0.076236      -0.067160   \ndiff1x_pacf5             -0.143731          0.062144      -0.038206   \ndiff2x_pacf5              0.064800          0.003016       0.116053   \nseas_pacf                 0.153170          0.003415       0.008664   \nstability                 0.417739         -0.028279       0.000575   \nunitroot_kpss             0.192140         -0.057761      -0.159504   \nunitroot_pp               0.314745         -0.094323      -0.048656   \nnperiods                       NaN               NaN            NaN   \nseasonal_period                NaN               NaN            NaN   \ntrend                     0.126462          0.000611       0.035529   \nspike                     0.283563         -0.017123       0.296542   \nlinearity                -0.261201         -0.042134       0.111659   \ncurvature                 0.219932          0.092409       0.076549   \ne_acf1                    0.016234          0.067869      -0.011310   \ne_acf10                   0.096097         -0.026259       0.001725   \nseasonal_strength        -0.322450          0.111473      -0.120095   \npeak                      0.121724         -0.084858       0.028725   \ntrough                    0.078032          0.043751       0.070212   \nte                        0.262524         -0.077646       0.231297   \nTFE                       0.223344         -0.061312       0.216684   \n\n                   time_var_shift    x_acf1  ...     spike  linearity  \\\neb                       0.065579 -0.192129  ...  0.340081  -0.041176   \nmean                    -0.059369  0.393393  ... -0.249716  -0.084645   \nvar                      0.099713 -0.185176  ... -0.249734   0.031119   \nmax_kl_shift            -0.108011 -0.234855  ...  0.370137   0.038251   \ntime_kl_shift            0.217405 -0.006474  ... -0.039661   0.107841   \nmax_level_shift         -0.089341  0.089414  ...  0.283563  -0.261201   \ntime_level_shift         0.322538 -0.026018  ... -0.017123  -0.042134   \nmax_var_shift            0.049324 -0.055945  ...  0.296542   0.111659   \ntime_var_shift           1.000000  0.039966  ... -0.062334  -0.097815   \nx_acf1                   0.039966  1.000000  ... -0.091945  -0.115281   \nx_acf10                  0.046750  0.745635  ...  0.045569  -0.370598   \ndiff1_acf1               0.025725  0.637644  ... -0.137646   0.067487   \ndiff1_acf10             -0.027366  0.330053  ...  0.030648   0.224454   \ndiff2_acf1              -0.097194  0.433880  ... -0.055292  -0.131117   \ndiff2_acf10              0.064506 -0.387639  ...  0.122436   0.133211   \nseas_acf1                0.083517  0.812709  ... -0.271268   0.011958   \nARCH.LM                 -0.003805  0.935901  ... -0.097884  -0.104553   \ncrossing_points          0.149045 -0.243742  ... -0.270538   0.129782   \nentropy                 -0.026583 -0.807663  ...  0.064212   0.291459   \nflat_spots              -0.129467  0.163371  ...  0.428538  -0.065035   \nalpha                    0.014178  0.285025  ... -0.051526  -0.205653   \nbeta                    -0.014336  0.518908  ... -0.076949   0.060568   \nhurst                    0.128175  0.323085  ...  0.005473   0.010118   \nlumpiness               -0.015667 -0.129247  ...  0.496223   0.134598   \nnonlinearity             0.046393 -0.313603  ...  0.422557  -0.125354   \nx_pacf5                  0.003077  0.472754  ... -0.028508   0.154049   \ndiff1x_pacf5            -0.029086  0.341896  ... -0.011195   0.205106   \ndiff2x_pacf5             0.025841 -0.601864  ...  0.092374   0.058874   \nseas_pacf               -0.035011 -0.283885  ...  0.251924  -0.047492   \nstability                0.015089  0.566375  ...  0.057680  -0.463355   \nunitroot_kpss           -0.048323  0.380088  ...  0.007925  -0.420320   \nunitroot_pp              0.041277  0.726036  ...  0.022478  -0.380629   \nnperiods                      NaN       NaN  ...       NaN        NaN   \nseasonal_period               NaN       NaN  ...       NaN        NaN   \ntrend                    0.126210  0.616244  ... -0.345878  -0.235272   \nspike                   -0.062334 -0.091945  ...  1.000000  -0.040188   \nlinearity               -0.097815 -0.115281  ... -0.040188   1.000000   \ncurvature                0.144056  0.010530  ...  0.131207  -0.481638   \ne_acf1                   0.094405  0.747641  ... -0.040376  -0.096183   \ne_acf10                  0.067411  0.811712  ...  0.021535  -0.086888   \nseasonal_strength        0.158885  0.124065  ... -0.658750   0.208268   \npeak                    -0.084710 -0.179402  ...  0.244667  -0.351503   \ntrough                  -0.013771  0.333589  ...  0.033048   0.032558   \nte                      -0.140894 -0.181223  ...  0.483075  -0.062925   \nTFE                     -0.129979 -0.324587  ...  0.401579  -0.062003   \n\n                   curvature    e_acf1   e_acf10  seasonal_strength      peak  \\\neb                  0.146757 -0.135709 -0.104297          -0.449649  0.202057   \nmean               -0.036176  0.379280  0.313434           0.228252  0.025750   \nvar                -0.122105  0.102731 -0.161749           0.290595  0.074633   \nmax_kl_shift        0.221519 -0.361782 -0.145654          -0.563691 -0.054525   \ntime_kl_shift      -0.108872  0.081100  0.072864           0.242369 -0.163083   \nmax_level_shift     0.219932  0.016234  0.096097          -0.322450  0.121724   \ntime_level_shift    0.092409  0.067869 -0.026259           0.111473 -0.084858   \nmax_var_shift       0.076549 -0.011310  0.001725          -0.120095  0.028725   \ntime_var_shift      0.144056  0.094405  0.067411           0.158885 -0.084710   \nx_acf1              0.010530  0.747641  0.811712           0.124065 -0.179402   \nx_acf10             0.184742  0.451111  0.663367          -0.174260  0.037433   \ndiff1_acf1         -0.095010  0.669429  0.542096           0.341401 -0.112700   \ndiff1_acf10        -0.049778  0.319817  0.316332           0.075095 -0.224088   \ndiff2_acf1          0.052904  0.307829  0.144719           0.043350  0.126296   \ndiff2_acf10         0.008973 -0.259564 -0.142241          -0.151061 -0.080718   \nseas_acf1          -0.113878  0.658094  0.679502           0.271542 -0.249141   \nARCH.LM             0.025243  0.724882  0.747312           0.119423 -0.246481   \ncrossing_points    -0.135983 -0.003181 -0.341471           0.528638 -0.006965   \nentropy            -0.167512 -0.526377 -0.625243           0.096362  0.052037   \nflat_spots          0.155332  0.007844  0.186728          -0.600871 -0.025306   \nalpha               0.012944  0.194831  0.118988           0.062317  0.155371   \nbeta               -0.011703  0.514223  0.409395           0.201233 -0.198055   \nhurst              -0.071214  0.253627  0.228800           0.169442 -0.072859   \nlumpiness           0.095765 -0.032318 -0.036426          -0.260696  0.072191   \nnonlinearity        0.100537 -0.142023 -0.297280          -0.253336  0.395008   \nx_pacf5            -0.025791  0.440819  0.384638           0.122191 -0.204000   \ndiff1x_pacf5       -0.043718  0.347027  0.281845           0.130399 -0.214440   \ndiff2x_pacf5        0.030944 -0.622171 -0.432237          -0.250464 -0.015715   \nseas_pacf           0.072176 -0.367790 -0.141616          -0.316843  0.037834   \nstability           0.294889  0.338616  0.499198          -0.255422  0.143005   \nunitroot_kpss       0.214960  0.193656  0.345286          -0.259339  0.268508   \nunitroot_pp         0.146263  0.438686  0.627802          -0.154839  0.034181   \nnperiods                 NaN       NaN       NaN                NaN       NaN   \nseasonal_period          NaN       NaN       NaN                NaN       NaN   \ntrend               0.031736  0.369394  0.424050           0.279055 -0.096929   \nspike               0.131207 -0.040376  0.021535          -0.658750  0.244667   \nlinearity          -0.481638 -0.096183 -0.086888           0.208268 -0.351503   \ncurvature           1.000000 -0.027704 -0.025466          -0.285314  0.225086   \ne_acf1             -0.027704  1.000000  0.828235           0.271807 -0.079124   \ne_acf10            -0.025466  0.828235  1.000000           0.088684 -0.143927   \nseasonal_strength  -0.285314  0.271807  0.088684           1.000000 -0.332506   \npeak                0.225086 -0.079124 -0.143927          -0.332506  1.000000   \ntrough             -0.009689  0.205569  0.364403          -0.054978 -0.339519   \nte                  0.252415 -0.326428 -0.143943          -0.734421  0.093011   \nTFE                 0.236846 -0.467183 -0.303244          -0.672952  0.177823   \n\n                     trough        te       TFE  \neb                 0.057897  0.727003  0.655810  \nmean               0.008387 -0.438359 -0.454449  \nvar               -0.350232 -0.494624 -0.392740  \nmax_kl_shift       0.219359  0.817835  0.753394  \ntime_kl_shift     -0.032257 -0.154501 -0.125208  \nmax_level_shift    0.078032  0.262524  0.223344  \ntime_level_shift   0.043751 -0.077646 -0.061312  \nmax_var_shift      0.070212  0.231297  0.216684  \ntime_var_shift    -0.013771 -0.140894 -0.129979  \nx_acf1             0.333589 -0.181223 -0.324587  \nx_acf10            0.351728  0.107466  0.002414  \ndiff1_acf1         0.057262 -0.527603 -0.625725  \ndiff1_acf10        0.136185 -0.213582 -0.358849  \ndiff2_acf1         0.044443 -0.107227 -0.173280  \ndiff2_acf10       -0.035762  0.144485  0.159547  \nseas_acf1          0.333981 -0.255193 -0.382873  \nARCH.LM            0.344905 -0.173042 -0.341226  \ncrossing_points   -0.301635 -0.613665 -0.493681  \nentropy           -0.339981 -0.027077  0.079811  \nflat_spots         0.361703  0.810061  0.621516  \nalpha              0.038310 -0.022606 -0.013654  \nbeta               0.113107 -0.376734 -0.506102  \nhurst              0.074849 -0.209049 -0.176158  \nlumpiness         -0.027439  0.191104  0.163659  \nnonlinearity      -0.140170  0.189777  0.239600  \nx_pacf5            0.162517 -0.266840 -0.424709  \ndiff1x_pacf5       0.128146 -0.255117 -0.396899  \ndiff2x_pacf5      -0.006810  0.459275  0.534077  \nseas_pacf          0.031123  0.392455  0.442204  \nstability          0.310654  0.186608  0.115426  \nunitroot_kpss      0.171500  0.147916  0.117442  \nunitroot_pp        0.382700  0.147270  0.026859  \nnperiods                NaN       NaN       NaN  \nseasonal_period         NaN       NaN       NaN  \ntrend              0.247316 -0.109759 -0.144801  \nspike              0.033048  0.483075  0.401579  \nlinearity          0.032558 -0.062925 -0.062003  \ncurvature         -0.009689  0.252415  0.236846  \ne_acf1             0.205569 -0.326428 -0.467183  \ne_acf10            0.364403 -0.143943 -0.303244  \nseasonal_strength -0.054978 -0.734421 -0.672952  \npeak              -0.339519  0.093011  0.177823  \ntrough             1.000000  0.232319  0.099567  \nte                 0.232319  1.000000  0.891370  \nTFE                0.099567  0.891370  1.000000  \n\n[45 rows x 45 columns]",
      "text/html": "<div>\n<style scoped>\n    .dataframe tbody tr th:only-of-type {\n        vertical-align: middle;\n    }\n\n    .dataframe tbody tr th {\n        vertical-align: top;\n    }\n\n    .dataframe thead th {\n        text-align: right;\n    }\n</style>\n<table border=\"1\" class=\"dataframe\">\n  <thead>\n    <tr style=\"text-align: right;\">\n      <th></th>\n      <th>eb</th>\n      <th>mean</th>\n      <th>var</th>\n      <th>max_kl_shift</th>\n      <th>time_kl_shift</th>\n      <th>max_level_shift</th>\n      <th>time_level_shift</th>\n      <th>max_var_shift</th>\n      <th>time_var_shift</th>\n      <th>x_acf1</th>\n      <th>...</th>\n      <th>spike</th>\n      <th>linearity</th>\n      <th>curvature</th>\n      <th>e_acf1</th>\n      <th>e_acf10</th>\n      <th>seasonal_strength</th>\n      <th>peak</th>\n      <th>trough</th>\n      <th>te</th>\n      <th>TFE</th>\n    </tr>\n  </thead>\n  <tbody>\n    <tr>\n      <th>eb</th>\n      <td>1.000000</td>\n      <td>-0.408551</td>\n      <td>-0.289032</td>\n      <td>0.551681</td>\n      <td>-0.060784</td>\n      <td>0.108595</td>\n      <td>-0.044212</td>\n      <td>0.186682</td>\n      <td>0.065579</td>\n      <td>-0.192129</td>\n      <td>...</td>\n      <td>0.340081</td>\n      <td>-0.041176</td>\n      <td>0.146757</td>\n      <td>-0.135709</td>\n      <td>-0.104297</td>\n      <td>-0.449649</td>\n      <td>0.202057</td>\n      <td>0.057897</td>\n      <td>0.727003</td>\n      <td>0.655810</td>\n    </tr>\n    <tr>\n      <th>mean</th>\n      <td>-0.408551</td>\n      <td>1.000000</td>\n      <td>0.058416</td>\n      <td>-0.262006</td>\n      <td>-0.107750</td>\n      <td>0.091838</td>\n      <td>-0.055521</td>\n      <td>-0.133257</td>\n      <td>-0.059369</td>\n      <td>0.393393</td>\n      <td>...</td>\n      <td>-0.249716</td>\n      <td>-0.084645</td>\n      <td>-0.036176</td>\n      <td>0.379280</td>\n      <td>0.313434</td>\n      <td>0.228252</td>\n      <td>0.025750</td>\n      <td>0.008387</td>\n      <td>-0.438359</td>\n      <td>-0.454449</td>\n    </tr>\n    <tr>\n      <th>var</th>\n      <td>-0.289032</td>\n      <td>0.058416</td>\n      <td>1.000000</td>\n      <td>-0.419322</td>\n      <td>0.172827</td>\n      <td>-0.422675</td>\n      <td>0.158233</td>\n      <td>-0.302041</td>\n      <td>0.099713</td>\n      <td>-0.185176</td>\n      <td>...</td>\n      <td>-0.249734</td>\n      <td>0.031119</td>\n      <td>-0.122105</td>\n      <td>0.102731</td>\n      <td>-0.161749</td>\n      <td>0.290595</td>\n      <td>0.074633</td>\n      <td>-0.350232</td>\n      <td>-0.494624</td>\n      <td>-0.392740</td>\n    </tr>\n    <tr>\n      <th>max_kl_shift</th>\n      <td>0.551681</td>\n      <td>-0.262006</td>\n      <td>-0.419322</td>\n      <td>1.000000</td>\n      <td>-0.090835</td>\n      <td>0.280378</td>\n      <td>-0.074885</td>\n      <td>0.275936</td>\n      <td>-0.108011</td>\n      <td>-0.234855</td>\n      <td>...</td>\n      <td>0.370137</td>\n      <td>0.038251</td>\n      <td>0.221519</td>\n      <td>-0.361782</td>\n      <td>-0.145654</td>\n      <td>-0.563691</td>\n      <td>-0.054525</td>\n      <td>0.219359</td>\n      <td>0.817835</td>\n      <td>0.753394</td>\n    </tr>\n    <tr>\n      <th>time_kl_shift</th>\n      <td>-0.060784</td>\n      <td>-0.107750</td>\n      <td>0.172827</td>\n      <td>-0.090835</td>\n      <td>1.000000</td>\n      <td>-0.184651</td>\n      <td>0.260477</td>\n      <td>-0.019377</td>\n      <td>0.217405</td>\n      <td>-0.006474</td>\n      <td>...</td>\n      <td>-0.039661</td>\n      <td>0.107841</td>\n      <td>-0.108872</td>\n      <td>0.081100</td>\n      <td>0.072864</td>\n      <td>0.242369</td>\n      <td>-0.163083</td>\n      <td>-0.032257</td>\n      <td>-0.154501</td>\n      <td>-0.125208</td>\n    </tr>\n    <tr>\n      <th>max_level_shift</th>\n      <td>0.108595</td>\n      <td>0.091838</td>\n      <td>-0.422675</td>\n      <td>0.280378</td>\n      <td>-0.184651</td>\n      <td>1.000000</td>\n      <td>-0.213531</td>\n      <td>0.427182</td>\n      <td>-0.089341</td>\n      <td>0.089414</td>\n      <td>...</td>\n      <td>0.283563</td>\n      <td>-0.261201</td>\n      <td>0.219932</td>\n      <td>0.016234</td>\n      <td>0.096097</td>\n      <td>-0.322450</td>\n      <td>0.121724</td>\n      <td>0.078032</td>\n      <td>0.262524</td>\n      <td>0.223344</td>\n    </tr>\n    <tr>\n      <th>time_level_shift</th>\n      <td>-0.044212</td>\n      <td>-0.055521</td>\n      <td>0.158233</td>\n      <td>-0.074885</td>\n      <td>0.260477</td>\n      <td>-0.213531</td>\n      <td>1.000000</td>\n      <td>-0.042100</td>\n      <td>0.322538</td>\n      <td>-0.026018</td>\n      <td>...</td>\n      <td>-0.017123</td>\n      <td>-0.042134</td>\n      <td>0.092409</td>\n      <td>0.067869</td>\n      <td>-0.026259</td>\n      <td>0.111473</td>\n      <td>-0.084858</td>\n      <td>0.043751</td>\n      <td>-0.077646</td>\n      <td>-0.061312</td>\n    </tr>\n    <tr>\n      <th>max_var_shift</th>\n      <td>0.186682</td>\n      <td>-0.133257</td>\n      <td>-0.302041</td>\n      <td>0.275936</td>\n      <td>-0.019377</td>\n      <td>0.427182</td>\n      <td>-0.042100</td>\n      <td>1.000000</td>\n      <td>0.049324</td>\n      <td>-0.055945</td>\n      <td>...</td>\n      <td>0.296542</td>\n      <td>0.111659</td>\n      <td>0.076549</td>\n      <td>-0.011310</td>\n      <td>0.001725</td>\n      <td>-0.120095</td>\n      <td>0.028725</td>\n      <td>0.070212</td>\n      <td>0.231297</td>\n      <td>0.216684</td>\n    </tr>\n    <tr>\n      <th>time_var_shift</th>\n      <td>0.065579</td>\n      <td>-0.059369</td>\n      <td>0.099713</td>\n      <td>-0.108011</td>\n      <td>0.217405</td>\n      <td>-0.089341</td>\n      <td>0.322538</td>\n      <td>0.049324</td>\n      <td>1.000000</td>\n      <td>0.039966</td>\n      <td>...</td>\n      <td>-0.062334</td>\n      <td>-0.097815</td>\n      <td>0.144056</td>\n      <td>0.094405</td>\n      <td>0.067411</td>\n      <td>0.158885</td>\n      <td>-0.084710</td>\n      <td>-0.013771</td>\n      <td>-0.140894</td>\n      <td>-0.129979</td>\n    </tr>\n    <tr>\n      <th>x_acf1</th>\n      <td>-0.192129</td>\n      <td>0.393393</td>\n      <td>-0.185176</td>\n      <td>-0.234855</td>\n      <td>-0.006474</td>\n      <td>0.089414</td>\n      <td>-0.026018</td>\n      <td>-0.055945</td>\n      <td>0.039966</td>\n      <td>1.000000</td>\n      <td>...</td>\n      <td>-0.091945</td>\n      <td>-0.115281</td>\n      <td>0.010530</td>\n      <td>0.747641</td>\n      <td>0.811712</td>\n      <td>0.124065</td>\n      <td>-0.179402</td>\n      <td>0.333589</td>\n      <td>-0.181223</td>\n      <td>-0.324587</td>\n    </tr>\n    <tr>\n      <th>x_acf10</th>\n      <td>-0.007733</td>\n      <td>0.268061</td>\n      <td>-0.479173</td>\n      <td>-0.002952</td>\n      <td>-0.046998</td>\n      <td>0.353015</td>\n      <td>-0.041113</td>\n      <td>-0.012875</td>\n      <td>0.046750</td>\n      <td>0.745635</td>\n      <td>...</td>\n      <td>0.045569</td>\n      <td>-0.370598</td>\n      <td>0.184742</td>\n      <td>0.451111</td>\n      <td>0.663367</td>\n      <td>-0.174260</td>\n      <td>0.037433</td>\n      <td>0.351728</td>\n      <td>0.107466</td>\n      <td>0.002414</td>\n    </tr>\n    <tr>\n      <th>diff1_acf1</th>\n      <td>-0.564805</td>\n      <td>0.397048</td>\n      <td>0.227817</td>\n      <td>-0.520099</td>\n      <td>0.068610</td>\n      <td>-0.138390</td>\n      <td>0.053598</td>\n      <td>-0.086839</td>\n      <td>0.025725</td>\n      <td>0.637644</td>\n      <td>...</td>\n      <td>-0.137646</td>\n      <td>0.067487</td>\n      <td>-0.095010</td>\n      <td>0.669429</td>\n      <td>0.542096</td>\n      <td>0.341401</td>\n      <td>-0.112700</td>\n      <td>0.057262</td>\n      <td>-0.527603</td>\n      <td>-0.625725</td>\n    </tr>\n    <tr>\n      <th>diff1_acf10</th>\n      <td>-0.461186</td>\n      <td>0.226170</td>\n      <td>0.160993</td>\n      <td>-0.116023</td>\n      <td>-0.040889</td>\n      <td>-0.133442</td>\n      <td>0.075017</td>\n      <td>-0.025011</td>\n      <td>-0.027366</td>\n      <td>0.330053</td>\n      <td>...</td>\n      <td>0.030648</td>\n      <td>0.224454</td>\n      <td>-0.049778</td>\n      <td>0.319817</td>\n      <td>0.316332</td>\n      <td>0.075095</td>\n      <td>-0.224088</td>\n      <td>0.136185</td>\n      <td>-0.213582</td>\n      <td>-0.358849</td>\n    </tr>\n    <tr>\n      <th>diff2_acf1</th>\n      <td>-0.150508</td>\n      <td>0.294353</td>\n      <td>-0.039468</td>\n      <td>-0.270316</td>\n      <td>-0.188757</td>\n      <td>0.020770</td>\n      <td>-0.164217</td>\n      <td>-0.058608</td>\n      <td>-0.097194</td>\n      <td>0.433880</td>\n      <td>...</td>\n      <td>-0.055292</td>\n      <td>-0.131117</td>\n      <td>0.052904</td>\n      <td>0.307829</td>\n      <td>0.144719</td>\n      <td>0.043350</td>\n      <td>0.126296</td>\n      <td>0.044443</td>\n      <td>-0.107227</td>\n      <td>-0.173280</td>\n    </tr>\n    <tr>\n      <th>diff2_acf10</th>\n      <td>0.140858</td>\n      <td>-0.138644</td>\n      <td>0.119724</td>\n      <td>0.335565</td>\n      <td>0.072373</td>\n      <td>-0.017281</td>\n      <td>0.121640</td>\n      <td>0.100772</td>\n      <td>0.064506</td>\n      <td>-0.387639</td>\n      <td>...</td>\n      <td>0.122436</td>\n      <td>0.133211</td>\n      <td>0.008973</td>\n      <td>-0.259564</td>\n      <td>-0.142241</td>\n      <td>-0.151061</td>\n      <td>-0.080718</td>\n      <td>-0.035762</td>\n      <td>0.144485</td>\n      <td>0.159547</td>\n    </tr>\n    <tr>\n      <th>seas_acf1</th>\n      <td>-0.179334</td>\n      <td>0.418405</td>\n      <td>-0.059485</td>\n      <td>-0.232854</td>\n      <td>0.056157</td>\n      <td>-0.054640</td>\n      <td>-0.051401</td>\n      <td>-0.211492</td>\n      <td>0.083517</td>\n      <td>0.812709</td>\n      <td>...</td>\n      <td>-0.271268</td>\n      <td>0.011958</td>\n      <td>-0.113878</td>\n      <td>0.658094</td>\n      <td>0.679502</td>\n      <td>0.271542</td>\n      <td>-0.249141</td>\n      <td>0.333981</td>\n      <td>-0.255193</td>\n      <td>-0.382873</td>\n    </tr>\n    <tr>\n      <th>ARCH.LM</th>\n      <td>-0.239561</td>\n      <td>0.460277</td>\n      <td>-0.157236</td>\n      <td>-0.175633</td>\n      <td>-0.041977</td>\n      <td>0.094639</td>\n      <td>-0.028938</td>\n      <td>-0.099798</td>\n      <td>-0.003805</td>\n      <td>0.935901</td>\n      <td>...</td>\n      <td>-0.097884</td>\n      <td>-0.104553</td>\n      <td>0.025243</td>\n      <td>0.724882</td>\n      <td>0.747312</td>\n      <td>0.119423</td>\n      <td>-0.246481</td>\n      <td>0.344905</td>\n      <td>-0.173042</td>\n      <td>-0.341226</td>\n    </tr>\n    <tr>\n      <th>crossing_points</th>\n      <td>-0.324129</td>\n      <td>0.027628</td>\n      <td>0.542121</td>\n      <td>-0.526113</td>\n      <td>0.033639</td>\n      <td>-0.301843</td>\n      <td>0.120612</td>\n      <td>-0.103207</td>\n      <td>0.149045</td>\n      <td>-0.243742</td>\n      <td>...</td>\n      <td>-0.270538</td>\n      <td>0.129782</td>\n      <td>-0.135983</td>\n      <td>-0.003181</td>\n      <td>-0.341471</td>\n      <td>0.528638</td>\n      <td>-0.006965</td>\n      <td>-0.301635</td>\n      <td>-0.613665</td>\n      <td>-0.493681</td>\n    </tr>\n    <tr>\n      <th>entropy</th>\n      <td>-0.006597</td>\n      <td>-0.389518</td>\n      <td>0.284415</td>\n      <td>0.063039</td>\n      <td>0.089554</td>\n      <td>-0.210749</td>\n      <td>0.055708</td>\n      <td>0.136906</td>\n      <td>-0.026583</td>\n      <td>-0.807663</td>\n      <td>...</td>\n      <td>0.064212</td>\n      <td>0.291459</td>\n      <td>-0.167512</td>\n      <td>-0.526377</td>\n      <td>-0.625243</td>\n      <td>0.096362</td>\n      <td>0.052037</td>\n      <td>-0.339981</td>\n      <td>-0.027077</td>\n      <td>0.079811</td>\n    </tr>\n    <tr>\n      <th>flat_spots</th>\n      <td>0.593852</td>\n      <td>-0.167069</td>\n      <td>-0.538500</td>\n      <td>0.661192</td>\n      <td>-0.167190</td>\n      <td>0.282583</td>\n      <td>-0.122605</td>\n      <td>0.212201</td>\n      <td>-0.129467</td>\n      <td>0.163371</td>\n      <td>...</td>\n      <td>0.428538</td>\n      <td>-0.065035</td>\n      <td>0.155332</td>\n      <td>0.007844</td>\n      <td>0.186728</td>\n      <td>-0.600871</td>\n      <td>-0.025306</td>\n      <td>0.361703</td>\n      <td>0.810061</td>\n      <td>0.621516</td>\n    </tr>\n    <tr>\n      <th>alpha</th>\n      <td>0.127800</td>\n      <td>0.078951</td>\n      <td>-0.127439</td>\n      <td>-0.195421</td>\n      <td>0.040504</td>\n      <td>0.061238</td>\n      <td>-0.139045</td>\n      <td>0.011636</td>\n      <td>0.014178</td>\n      <td>0.285025</td>\n      <td>...</td>\n      <td>-0.051526</td>\n      <td>-0.205653</td>\n      <td>0.012944</td>\n      <td>0.194831</td>\n      <td>0.118988</td>\n      <td>0.062317</td>\n      <td>0.155371</td>\n      <td>0.038310</td>\n      <td>-0.022606</td>\n      <td>-0.013654</td>\n    </tr>\n    <tr>\n      <th>beta</th>\n      <td>-0.578229</td>\n      <td>0.384974</td>\n      <td>0.215971</td>\n      <td>-0.308624</td>\n      <td>-0.081935</td>\n      <td>-0.099000</td>\n      <td>0.092003</td>\n      <td>-0.080812</td>\n      <td>-0.014336</td>\n      <td>0.518908</td>\n      <td>...</td>\n      <td>-0.076949</td>\n      <td>0.060568</td>\n      <td>-0.011703</td>\n      <td>0.514223</td>\n      <td>0.409395</td>\n      <td>0.201233</td>\n      <td>-0.198055</td>\n      <td>0.113107</td>\n      <td>-0.376734</td>\n      <td>-0.506102</td>\n    </tr>\n    <tr>\n      <th>hurst</th>\n      <td>0.026336</td>\n      <td>0.132701</td>\n      <td>-0.105063</td>\n      <td>-0.170050</td>\n      <td>0.136019</td>\n      <td>0.023628</td>\n      <td>0.084689</td>\n      <td>-0.030816</td>\n      <td>0.128175</td>\n      <td>0.323085</td>\n      <td>...</td>\n      <td>0.005473</td>\n      <td>0.010118</td>\n      <td>-0.071214</td>\n      <td>0.253627</td>\n      <td>0.228800</td>\n      <td>0.169442</td>\n      <td>-0.072859</td>\n      <td>0.074849</td>\n      <td>-0.209049</td>\n      <td>-0.176158</td>\n    </tr>\n    <tr>\n      <th>lumpiness</th>\n      <td>0.077260</td>\n      <td>-0.106069</td>\n      <td>-0.227721</td>\n      <td>0.295138</td>\n      <td>-0.094075</td>\n      <td>0.366781</td>\n      <td>-0.082228</td>\n      <td>0.695935</td>\n      <td>-0.015667</td>\n      <td>-0.129247</td>\n      <td>...</td>\n      <td>0.496223</td>\n      <td>0.134598</td>\n      <td>0.095765</td>\n      <td>-0.032318</td>\n      <td>-0.036426</td>\n      <td>-0.260696</td>\n      <td>0.072191</td>\n      <td>-0.027439</td>\n      <td>0.191104</td>\n      <td>0.163659</td>\n    </tr>\n    <tr>\n      <th>nonlinearity</th>\n      <td>0.299417</td>\n      <td>-0.108927</td>\n      <td>-0.048106</td>\n      <td>0.132486</td>\n      <td>-0.155974</td>\n      <td>0.188412</td>\n      <td>0.054184</td>\n      <td>0.253129</td>\n      <td>0.046393</td>\n      <td>-0.313603</td>\n      <td>...</td>\n      <td>0.422557</td>\n      <td>-0.125354</td>\n      <td>0.100537</td>\n      <td>-0.142023</td>\n      <td>-0.297280</td>\n      <td>-0.253336</td>\n      <td>0.395008</td>\n      <td>-0.140170</td>\n      <td>0.189777</td>\n      <td>0.239600</td>\n    </tr>\n    <tr>\n      <th>x_pacf5</th>\n      <td>-0.462458</td>\n      <td>0.331147</td>\n      <td>0.136581</td>\n      <td>-0.212910</td>\n      <td>-0.124546</td>\n      <td>-0.123890</td>\n      <td>0.076236</td>\n      <td>-0.067160</td>\n      <td>0.003077</td>\n      <td>0.472754</td>\n      <td>...</td>\n      <td>-0.028508</td>\n      <td>0.154049</td>\n      <td>-0.025791</td>\n      <td>0.440819</td>\n      <td>0.384638</td>\n      <td>0.122191</td>\n      <td>-0.204000</td>\n      <td>0.162517</td>\n      <td>-0.266840</td>\n      <td>-0.424709</td>\n    </tr>\n    <tr>\n      <th>diff1x_pacf5</th>\n      <td>-0.485269</td>\n      <td>0.273252</td>\n      <td>0.186660</td>\n      <td>-0.178520</td>\n      <td>-0.094698</td>\n      <td>-0.143731</td>\n      <td>0.062144</td>\n      <td>-0.038206</td>\n      <td>-0.029086</td>\n      <td>0.341896</td>\n      <td>...</td>\n      <td>-0.011195</td>\n      <td>0.205106</td>\n      <td>-0.043718</td>\n      <td>0.347027</td>\n      <td>0.281845</td>\n      <td>0.130399</td>\n      <td>-0.214440</td>\n      <td>0.128146</td>\n      <td>-0.255117</td>\n      <td>-0.396899</td>\n    </tr>\n    <tr>\n      <th>diff2x_pacf5</th>\n      <td>0.507677</td>\n      <td>-0.356232</td>\n      <td>-0.201320</td>\n      <td>0.549225</td>\n      <td>-0.002992</td>\n      <td>0.064800</td>\n      <td>0.003016</td>\n      <td>0.116053</td>\n      <td>0.025841</td>\n      <td>-0.601864</td>\n      <td>...</td>\n      <td>0.092374</td>\n      <td>0.058874</td>\n      <td>0.030944</td>\n      <td>-0.622171</td>\n      <td>-0.432237</td>\n      <td>-0.250464</td>\n      <td>-0.015715</td>\n      <td>-0.006810</td>\n      <td>0.459275</td>\n      <td>0.534077</td>\n    </tr>\n    <tr>\n      <th>seas_pacf</th>\n      <td>0.422637</td>\n      <td>-0.300876</td>\n      <td>-0.357695</td>\n      <td>0.322693</td>\n      <td>0.050198</td>\n      <td>0.153170</td>\n      <td>0.003415</td>\n      <td>0.008664</td>\n      <td>-0.035011</td>\n      <td>-0.283885</td>\n      <td>...</td>\n      <td>0.251924</td>\n      <td>-0.047492</td>\n      <td>0.072176</td>\n      <td>-0.367790</td>\n      <td>-0.141616</td>\n      <td>-0.316843</td>\n      <td>0.037834</td>\n      <td>0.031123</td>\n      <td>0.392455</td>\n      <td>0.442204</td>\n    </tr>\n    <tr>\n      <th>stability</th>\n      <td>0.118982</td>\n      <td>0.351845</td>\n      <td>-0.484237</td>\n      <td>0.127827</td>\n      <td>-0.107741</td>\n      <td>0.417739</td>\n      <td>-0.028279</td>\n      <td>0.000575</td>\n      <td>0.015089</td>\n      <td>0.566375</td>\n      <td>...</td>\n      <td>0.057680</td>\n      <td>-0.463355</td>\n      <td>0.294889</td>\n      <td>0.338616</td>\n      <td>0.499198</td>\n      <td>-0.255422</td>\n      <td>0.143005</td>\n      <td>0.310654</td>\n      <td>0.186608</td>\n      <td>0.115426</td>\n    </tr>\n    <tr>\n      <th>unitroot_kpss</th>\n      <td>0.118281</td>\n      <td>0.321090</td>\n      <td>-0.287859</td>\n      <td>0.077650</td>\n      <td>-0.113111</td>\n      <td>0.192140</td>\n      <td>-0.057761</td>\n      <td>-0.159504</td>\n      <td>-0.048323</td>\n      <td>0.380088</td>\n      <td>...</td>\n      <td>0.007925</td>\n      <td>-0.420320</td>\n      <td>0.214960</td>\n      <td>0.193656</td>\n      <td>0.345286</td>\n      <td>-0.259339</td>\n      <td>0.268508</td>\n      <td>0.171500</td>\n      <td>0.147916</td>\n      <td>0.117442</td>\n    </tr>\n    <tr>\n      <th>unitroot_pp</th>\n      <td>0.072200</td>\n      <td>0.255076</td>\n      <td>-0.449253</td>\n      <td>0.016197</td>\n      <td>-0.091490</td>\n      <td>0.314745</td>\n      <td>-0.094323</td>\n      <td>-0.048656</td>\n      <td>0.041277</td>\n      <td>0.726036</td>\n      <td>...</td>\n      <td>0.022478</td>\n      <td>-0.380629</td>\n      <td>0.146263</td>\n      <td>0.438686</td>\n      <td>0.627802</td>\n      <td>-0.154839</td>\n      <td>0.034181</td>\n      <td>0.382700</td>\n      <td>0.147270</td>\n      <td>0.026859</td>\n    </tr>\n    <tr>\n      <th>nperiods</th>\n      <td>NaN</td>\n      <td>NaN</td>\n      <td>NaN</td>\n      <td>NaN</td>\n      <td>NaN</td>\n      <td>NaN</td>\n      <td>NaN</td>\n      <td>NaN</td>\n      <td>NaN</td>\n      <td>NaN</td>\n      <td>...</td>\n      <td>NaN</td>\n      <td>NaN</td>\n      <td>NaN</td>\n      <td>NaN</td>\n      <td>NaN</td>\n      <td>NaN</td>\n      <td>NaN</td>\n      <td>NaN</td>\n      <td>NaN</td>\n      <td>NaN</td>\n    </tr>\n    <tr>\n      <th>seasonal_period</th>\n      <td>NaN</td>\n      <td>NaN</td>\n      <td>NaN</td>\n      <td>NaN</td>\n      <td>NaN</td>\n      <td>NaN</td>\n      <td>NaN</td>\n      <td>NaN</td>\n      <td>NaN</td>\n      <td>NaN</td>\n      <td>...</td>\n      <td>NaN</td>\n      <td>NaN</td>\n      <td>NaN</td>\n      <td>NaN</td>\n      <td>NaN</td>\n      <td>NaN</td>\n      <td>NaN</td>\n      <td>NaN</td>\n      <td>NaN</td>\n      <td>NaN</td>\n    </tr>\n    <tr>\n      <th>trend</th>\n      <td>0.026150</td>\n      <td>0.235756</td>\n      <td>-0.205097</td>\n      <td>-0.159125</td>\n      <td>0.053248</td>\n      <td>0.126462</td>\n      <td>0.000611</td>\n      <td>0.035529</td>\n      <td>0.126210</td>\n      <td>0.616244</td>\n      <td>...</td>\n      <td>-0.345878</td>\n      <td>-0.235272</td>\n      <td>0.031736</td>\n      <td>0.369394</td>\n      <td>0.424050</td>\n      <td>0.279055</td>\n      <td>-0.096929</td>\n      <td>0.247316</td>\n      <td>-0.109759</td>\n      <td>-0.144801</td>\n    </tr>\n    <tr>\n      <th>spike</th>\n      <td>0.340081</td>\n      <td>-0.249716</td>\n      <td>-0.249734</td>\n      <td>0.370137</td>\n      <td>-0.039661</td>\n      <td>0.283563</td>\n      <td>-0.017123</td>\n      <td>0.296542</td>\n      <td>-0.062334</td>\n      <td>-0.091945</td>\n      <td>...</td>\n      <td>1.000000</td>\n      <td>-0.040188</td>\n      <td>0.131207</td>\n      <td>-0.040376</td>\n      <td>0.021535</td>\n      <td>-0.658750</td>\n      <td>0.244667</td>\n      <td>0.033048</td>\n      <td>0.483075</td>\n      <td>0.401579</td>\n    </tr>\n    <tr>\n      <th>linearity</th>\n      <td>-0.041176</td>\n      <td>-0.084645</td>\n      <td>0.031119</td>\n      <td>0.038251</td>\n      <td>0.107841</td>\n      <td>-0.261201</td>\n      <td>-0.042134</td>\n      <td>0.111659</td>\n      <td>-0.097815</td>\n      <td>-0.115281</td>\n      <td>...</td>\n      <td>-0.040188</td>\n      <td>1.000000</td>\n      <td>-0.481638</td>\n      <td>-0.096183</td>\n      <td>-0.086888</td>\n      <td>0.208268</td>\n      <td>-0.351503</td>\n      <td>0.032558</td>\n      <td>-0.062925</td>\n      <td>-0.062003</td>\n    </tr>\n    <tr>\n      <th>curvature</th>\n      <td>0.146757</td>\n      <td>-0.036176</td>\n      <td>-0.122105</td>\n      <td>0.221519</td>\n      <td>-0.108872</td>\n      <td>0.219932</td>\n      <td>0.092409</td>\n      <td>0.076549</td>\n      <td>0.144056</td>\n      <td>0.010530</td>\n      <td>...</td>\n      <td>0.131207</td>\n      <td>-0.481638</td>\n      <td>1.000000</td>\n      <td>-0.027704</td>\n      <td>-0.025466</td>\n      <td>-0.285314</td>\n      <td>0.225086</td>\n      <td>-0.009689</td>\n      <td>0.252415</td>\n      <td>0.236846</td>\n    </tr>\n    <tr>\n      <th>e_acf1</th>\n      <td>-0.135709</td>\n      <td>0.379280</td>\n      <td>0.102731</td>\n      <td>-0.361782</td>\n      <td>0.081100</td>\n      <td>0.016234</td>\n      <td>0.067869</td>\n      <td>-0.011310</td>\n      <td>0.094405</td>\n      <td>0.747641</td>\n      <td>...</td>\n      <td>-0.040376</td>\n      <td>-0.096183</td>\n      <td>-0.027704</td>\n      <td>1.000000</td>\n      <td>0.828235</td>\n      <td>0.271807</td>\n      <td>-0.079124</td>\n      <td>0.205569</td>\n      <td>-0.326428</td>\n      <td>-0.467183</td>\n    </tr>\n    <tr>\n      <th>e_acf10</th>\n      <td>-0.104297</td>\n      <td>0.313434</td>\n      <td>-0.161749</td>\n      <td>-0.145654</td>\n      <td>0.072864</td>\n      <td>0.096097</td>\n      <td>-0.026259</td>\n      <td>0.001725</td>\n      <td>0.067411</td>\n      <td>0.811712</td>\n      <td>...</td>\n      <td>0.021535</td>\n      <td>-0.086888</td>\n      <td>-0.025466</td>\n      <td>0.828235</td>\n      <td>1.000000</td>\n      <td>0.088684</td>\n      <td>-0.143927</td>\n      <td>0.364403</td>\n      <td>-0.143943</td>\n      <td>-0.303244</td>\n    </tr>\n    <tr>\n      <th>seasonal_strength</th>\n      <td>-0.449649</td>\n      <td>0.228252</td>\n      <td>0.290595</td>\n      <td>-0.563691</td>\n      <td>0.242369</td>\n      <td>-0.322450</td>\n      <td>0.111473</td>\n      <td>-0.120095</td>\n      <td>0.158885</td>\n      <td>0.124065</td>\n      <td>...</td>\n      <td>-0.658750</td>\n      <td>0.208268</td>\n      <td>-0.285314</td>\n      <td>0.271807</td>\n      <td>0.088684</td>\n      <td>1.000000</td>\n      <td>-0.332506</td>\n      <td>-0.054978</td>\n      <td>-0.734421</td>\n      <td>-0.672952</td>\n    </tr>\n    <tr>\n      <th>peak</th>\n      <td>0.202057</td>\n      <td>0.025750</td>\n      <td>0.074633</td>\n      <td>-0.054525</td>\n      <td>-0.163083</td>\n      <td>0.121724</td>\n      <td>-0.084858</td>\n      <td>0.028725</td>\n      <td>-0.084710</td>\n      <td>-0.179402</td>\n      <td>...</td>\n      <td>0.244667</td>\n      <td>-0.351503</td>\n      <td>0.225086</td>\n      <td>-0.079124</td>\n      <td>-0.143927</td>\n      <td>-0.332506</td>\n      <td>1.000000</td>\n      <td>-0.339519</td>\n      <td>0.093011</td>\n      <td>0.177823</td>\n    </tr>\n    <tr>\n      <th>trough</th>\n      <td>0.057897</td>\n      <td>0.008387</td>\n      <td>-0.350232</td>\n      <td>0.219359</td>\n      <td>-0.032257</td>\n      <td>0.078032</td>\n      <td>0.043751</td>\n      <td>0.070212</td>\n      <td>-0.013771</td>\n      <td>0.333589</td>\n      <td>...</td>\n      <td>0.033048</td>\n      <td>0.032558</td>\n      <td>-0.009689</td>\n      <td>0.205569</td>\n      <td>0.364403</td>\n      <td>-0.054978</td>\n      <td>-0.339519</td>\n      <td>1.000000</td>\n      <td>0.232319</td>\n      <td>0.099567</td>\n    </tr>\n    <tr>\n      <th>te</th>\n      <td>0.727003</td>\n      <td>-0.438359</td>\n      <td>-0.494624</td>\n      <td>0.817835</td>\n      <td>-0.154501</td>\n      <td>0.262524</td>\n      <td>-0.077646</td>\n      <td>0.231297</td>\n      <td>-0.140894</td>\n      <td>-0.181223</td>\n      <td>...</td>\n      <td>0.483075</td>\n      <td>-0.062925</td>\n      <td>0.252415</td>\n      <td>-0.326428</td>\n      <td>-0.143943</td>\n      <td>-0.734421</td>\n      <td>0.093011</td>\n      <td>0.232319</td>\n      <td>1.000000</td>\n      <td>0.891370</td>\n    </tr>\n    <tr>\n      <th>TFE</th>\n      <td>0.655810</td>\n      <td>-0.454449</td>\n      <td>-0.392740</td>\n      <td>0.753394</td>\n      <td>-0.125208</td>\n      <td>0.223344</td>\n      <td>-0.061312</td>\n      <td>0.216684</td>\n      <td>-0.129979</td>\n      <td>-0.324587</td>\n      <td>...</td>\n      <td>0.401579</td>\n      <td>-0.062003</td>\n      <td>0.236846</td>\n      <td>-0.467183</td>\n      <td>-0.303244</td>\n      <td>-0.672952</td>\n      <td>0.177823</td>\n      <td>0.099567</td>\n      <td>0.891370</td>\n      <td>1.000000</td>\n    </tr>\n  </tbody>\n</table>\n<p>45 rows × 45 columns</p>\n</div>"
     },
     "execution_count": 18,
     "metadata": {},
     "output_type": "execute_result"
    }
   ],
   "source": [
    "compute_features_tfe_corr_xg()"
   ],
   "metadata": {
    "collapsed": false,
    "ExecuteTime": {
     "end_time": "2023-12-23T19:28:03.760892200Z",
     "start_time": "2023-12-23T19:28:03.334770500Z"
    }
   }
  },
  {
   "cell_type": "code",
   "execution_count": null,
   "outputs": [],
   "source": [
    "compute_features()"
   ],
   "metadata": {
    "collapsed": false
   }
  },
  {
   "cell_type": "code",
   "execution_count": 6,
   "outputs": [
    {
     "name": "stdout",
     "output_type": "stream",
     "text": [
      "ettm2\n",
      "ettm1\n",
      "wind\n",
      "solar\n",
      "weather\n",
      "aus\n"
     ]
    },
    {
     "data": {
      "text/plain": "                         eb      mean       var  max_kl_shift  time_kl_shift  \\\neb                 1.000000 -0.359034 -0.243797      0.601491      -0.092623   \nmean              -0.359034  1.000000  0.114055     -0.267071      -0.112175   \nvar               -0.243797  0.114055  1.000000     -0.482291       0.173313   \nmax_kl_shift       0.601491 -0.267071 -0.482291      1.000000      -0.056249   \ntime_kl_shift     -0.092623 -0.112175  0.173313     -0.056249       1.000000   \nmax_level_shift    0.111844  0.074808 -0.368105      0.267627      -0.164164   \ntime_level_shift   0.012655 -0.111260  0.159886     -0.095061       0.294844   \nmax_var_shift      0.206705 -0.182641 -0.291138      0.322158      -0.012175   \ntime_var_shift     0.096136 -0.088480  0.127246     -0.080377       0.226509   \nx_acf1            -0.198447  0.359082 -0.125419     -0.227111       0.004957   \nx_acf10           -0.039840  0.265078 -0.406538     -0.009593      -0.042717   \ndiff1_acf1        -0.484575  0.339559  0.206609     -0.483192       0.097462   \ndiff1_acf10       -0.351118  0.158497  0.094572     -0.137537       0.045884   \ndiff2_acf1        -0.115134  0.274386 -0.089566     -0.212829      -0.214144   \ndiff2_acf10        0.126458 -0.118514  0.164728      0.261712       0.112336   \nseas_acf1         -0.187885  0.435793 -0.031888     -0.209023       0.054175   \nARCH.LM           -0.200740  0.417069 -0.115345     -0.163199      -0.022134   \ncrossing_points   -0.310248  0.012245  0.536981     -0.491983       0.014000   \nentropy            0.009525 -0.402344  0.223257      0.061153       0.086963   \nflat_spots         0.602027 -0.172786 -0.555331      0.676074      -0.135518   \nalpha              0.086699  0.101253 -0.138023     -0.147338      -0.032169   \nbeta              -0.469697  0.318386  0.179795     -0.330328      -0.009378   \nhurst             -0.032259  0.105099 -0.001155     -0.154450       0.099255   \nlumpiness          0.127215 -0.190817 -0.185046      0.303856      -0.063026   \nnonlinearity       0.269675 -0.145353  0.031632      0.131620      -0.150711   \nx_pacf5           -0.365455  0.267400  0.094442     -0.242543      -0.031887   \ndiff1x_pacf5      -0.381776  0.212152  0.125655     -0.209188      -0.005656   \ndiff2x_pacf5       0.416759 -0.299738 -0.170613      0.511803      -0.011617   \nseas_pacf          0.409882 -0.344222 -0.278092      0.341383       0.011334   \nstability          0.097989  0.372926 -0.397389      0.117109      -0.105644   \nunitroot_kpss      0.077482  0.375830 -0.209421      0.030233      -0.107704   \nunitroot_pp        0.044447  0.267857 -0.386764      0.015687      -0.088686   \nnperiods                NaN       NaN       NaN           NaN            NaN   \nseasonal_period         NaN       NaN       NaN           NaN            NaN   \ntrend             -0.044222  0.284385 -0.177712     -0.116810       0.024801   \nspike              0.396365 -0.356634 -0.182867      0.402394      -0.026763   \nlinearity         -0.025559 -0.117547 -0.037653      0.091374       0.087307   \ncurvature          0.179940 -0.061338 -0.112462      0.186993      -0.067795   \ne_acf1            -0.123872  0.355210  0.209516     -0.357020       0.094092   \ne_acf10           -0.117021  0.295988 -0.062643     -0.145459       0.082439   \nseasonal_strength -0.492407  0.238303  0.298927     -0.542245       0.211817   \npeak               0.147704  0.101138  0.095142     -0.049538      -0.211141   \ntrough             0.058067  0.002329 -0.357770      0.195874       0.022521   \nte                 0.755653 -0.443750 -0.544091      0.818096      -0.113032   \nTFE                0.660665 -0.448635 -0.471729      0.766695      -0.106192   \n\n                   max_level_shift  time_level_shift  max_var_shift  \\\neb                        0.111844          0.012655       0.206705   \nmean                      0.074808         -0.111260      -0.182641   \nvar                      -0.368105          0.159886      -0.291138   \nmax_kl_shift              0.267627         -0.095061       0.322158   \ntime_kl_shift            -0.164164          0.294844      -0.012175   \nmax_level_shift           1.000000         -0.266466       0.400592   \ntime_level_shift         -0.266466          1.000000      -0.039405   \nmax_var_shift             0.400592         -0.039405       1.000000   \ntime_var_shift           -0.121363          0.355796       0.037879   \nx_acf1                    0.040686         -0.049701      -0.094117   \nx_acf10                   0.304925         -0.061538      -0.060465   \ndiff1_acf1               -0.147616          0.038527      -0.086560   \ndiff1_acf10              -0.157780          0.035163      -0.001374   \ndiff2_acf1                0.052606         -0.180920      -0.072854   \ndiff2_acf10              -0.050703          0.131113       0.113508   \nseas_acf1                -0.052544         -0.043332      -0.234302   \nARCH.LM                   0.045432         -0.069865      -0.137789   \ncrossing_points          -0.244476          0.155383      -0.077244   \nentropy                  -0.180245          0.074394       0.180429   \nflat_spots                0.230293         -0.153926       0.208305   \nalpha                     0.089548         -0.128445      -0.023476   \nbeta                     -0.133039          0.039782      -0.077290   \nhurst                     0.012931          0.168162      -0.069594   \nlumpiness                 0.302079         -0.107977       0.708346   \nnonlinearity              0.155242          0.067619       0.265426   \nx_pacf5                  -0.156017          0.033279      -0.052228   \ndiff1x_pacf5             -0.170249          0.023262      -0.020276   \ndiff2x_pacf5              0.049378          0.038611       0.121351   \nseas_pacf                 0.091033          0.001016      -0.012276   \nstability                 0.363818         -0.043480      -0.049711   \nunitroot_kpss             0.158670         -0.054485      -0.204787   \nunitroot_pp               0.277360         -0.108643      -0.094597   \nnperiods                       NaN               NaN            NaN   \nseasonal_period                NaN               NaN            NaN   \ntrend                     0.139070          0.026079      -0.003706   \nspike                     0.233039         -0.016593       0.308884   \nlinearity                -0.213934         -0.022319       0.147684   \ncurvature                 0.181885          0.084425       0.066448   \ne_acf1                   -0.013215          0.044529      -0.033382   \ne_acf10                   0.050439         -0.037906      -0.032224   \nseasonal_strength        -0.285418          0.142394      -0.125600   \npeak                      0.153042         -0.075600       0.001061   \ntrough                    0.022053          0.031703       0.054160   \nte                        0.230332         -0.094383       0.259570   \nTFE                       0.231704         -0.085664       0.252370   \n\n                   time_var_shift    x_acf1  ...     spike  linearity  \\\neb                       0.096136 -0.198447  ...  0.396365  -0.025559   \nmean                    -0.088480  0.359082  ... -0.356634  -0.117547   \nvar                      0.127246 -0.125419  ... -0.182867  -0.037653   \nmax_kl_shift            -0.080377 -0.227111  ...  0.402394   0.091374   \ntime_kl_shift            0.226509  0.004957  ... -0.026763   0.087307   \nmax_level_shift         -0.121363  0.040686  ...  0.233039  -0.213934   \ntime_level_shift         0.355796 -0.049701  ... -0.016593  -0.022319   \nmax_var_shift            0.037879 -0.094117  ...  0.308884   0.147684   \ntime_var_shift           1.000000  0.005830  ... -0.051957  -0.110798   \nx_acf1                   0.005830  1.000000  ... -0.214675  -0.098622   \nx_acf10                  0.013867  0.750099  ... -0.070680  -0.352158   \ndiff1_acf1               0.015421  0.667360  ... -0.146172   0.086801   \ndiff1_acf10             -0.010750  0.391756  ...  0.049498   0.263780   \ndiff2_acf1              -0.137920  0.436208  ... -0.041785  -0.172841   \ndiff2_acf10              0.104162 -0.387144  ...  0.123544   0.165947   \nseas_acf1                0.072567  0.844862  ... -0.334068   0.016172   \nARCH.LM                 -0.029589  0.942499  ... -0.229470  -0.069841   \ncrossing_points          0.162834 -0.281468  ... -0.219437   0.077125   \nentropy                 -0.002427 -0.804551  ...  0.160687   0.286812   \nflat_spots              -0.118531  0.160227  ...  0.410635   0.014956   \nalpha                   -0.023043  0.292252  ... -0.073453  -0.256578   \nbeta                    -0.019406  0.570842  ... -0.082346   0.098169   \nhurst                    0.136557  0.286397  ... -0.155518  -0.005390   \nlumpiness               -0.010097 -0.223591  ...  0.476886   0.220418   \nnonlinearity             0.048885 -0.408094  ...  0.421663  -0.112353   \nx_pacf5                  0.013178  0.526912  ... -0.029426   0.198236   \ndiff1x_pacf5            -0.013921  0.408783  ...  0.005598   0.242588   \ndiff2x_pacf5             0.054761 -0.628153  ...  0.087819   0.066622   \nseas_pacf               -0.047872 -0.408721  ...  0.187428  -0.000420   \nstability               -0.009141  0.560597  ... -0.058773  -0.448334   \nunitroot_kpss           -0.059737  0.393024  ... -0.057351  -0.437522   \nunitroot_pp              0.010365  0.724847  ... -0.080486  -0.365183   \nnperiods                      NaN       NaN  ...       NaN        NaN   \nseasonal_period               NaN       NaN  ...       NaN        NaN   \ntrend                    0.085381  0.654489  ... -0.378913  -0.273910   \nspike                   -0.051957 -0.214675  ...  1.000000   0.016037   \nlinearity               -0.110798 -0.098622  ...  0.016037   1.000000   \ncurvature                0.160414 -0.005033  ...  0.116749  -0.504658   \ne_acf1                   0.076564  0.725630  ... -0.148347  -0.077472   \ne_acf10                  0.053022  0.795162  ... -0.098284  -0.051017   \nseasonal_strength        0.148567  0.147952  ... -0.679465   0.165908   \npeak                    -0.099034 -0.142212  ...  0.294265  -0.413570   \ntrough                  -0.027053  0.355550  ... -0.003661   0.084891   \nte                      -0.135018 -0.175202  ...  0.513353  -0.007492   \nTFE                     -0.133507 -0.305901  ...  0.443070  -0.040620   \n\n                   curvature    e_acf1   e_acf10  seasonal_strength      peak  \\\neb                  0.179940 -0.123872 -0.117021          -0.492407  0.147704   \nmean               -0.061338  0.355210  0.295988           0.238303  0.101138   \nvar                -0.112462  0.209516 -0.062643           0.298927  0.095142   \nmax_kl_shift        0.186993 -0.357020 -0.145459          -0.542245 -0.049538   \ntime_kl_shift      -0.067795  0.094092  0.082439           0.211817 -0.211141   \nmax_level_shift     0.181885 -0.013215  0.050439          -0.285418  0.153042   \ntime_level_shift    0.084425  0.044529 -0.037906           0.142394 -0.075600   \nmax_var_shift       0.066448 -0.033382 -0.032224          -0.125600  0.001061   \ntime_var_shift      0.160414  0.076564  0.053022           0.148567 -0.099034   \nx_acf1             -0.005033  0.725630  0.795162           0.147952 -0.142212   \nx_acf10             0.163236  0.429366  0.639411          -0.155722  0.074362   \ndiff1_acf1         -0.092053  0.693848  0.592370           0.334688 -0.083626   \ndiff1_acf10        -0.084897  0.364590  0.399331           0.102971 -0.173157   \ndiff2_acf1          0.110583  0.275071  0.116152          -0.023881  0.170152   \ndiff2_acf10        -0.051170 -0.225595 -0.113294          -0.084229 -0.096787   \nseas_acf1          -0.116423  0.661741  0.698841           0.260377 -0.227451   \nARCH.LM            -0.001799  0.687776  0.727078           0.139820 -0.185205   \ncrossing_points    -0.104384 -0.018997 -0.354915           0.493601 -0.039373   \nentropy            -0.152367 -0.496892 -0.595638           0.097396  0.002552   \nflat_spots          0.139041 -0.017400  0.162643          -0.580971 -0.014769   \nalpha               0.079635  0.182829  0.092355           0.000945  0.124513   \nbeta               -0.041645  0.546555  0.475306           0.224627 -0.123012   \nhurst              -0.080696  0.205748  0.153276           0.204427 -0.113307   \nlumpiness           0.076802 -0.097886 -0.112746          -0.228870  0.091675   \nnonlinearity        0.087785 -0.205167 -0.379530          -0.236365  0.374384   \nx_pacf5            -0.068190  0.475175  0.454072           0.161499 -0.151915   \ndiff1x_pacf5       -0.078153  0.395215  0.363883           0.163739 -0.161948   \ndiff2x_pacf5        0.000681 -0.634676 -0.450571          -0.209413 -0.078173   \nseas_pacf           0.044362 -0.479895 -0.263178          -0.307711  0.052084   \nstability           0.267572  0.316131  0.468030          -0.238252  0.189194   \nunitroot_kpss       0.171913  0.200133  0.334237          -0.244470  0.302901   \nunitroot_pp         0.126933  0.412911  0.600233          -0.141071  0.065635   \nnperiods                 NaN       NaN       NaN                NaN       NaN   \nseasonal_period          NaN       NaN       NaN                NaN       NaN   \ntrend               0.054033  0.368927  0.430019           0.236181 -0.121491   \nspike               0.116749 -0.148347 -0.098284          -0.679465  0.294265   \nlinearity          -0.504658 -0.077472 -0.051017           0.165908 -0.413570   \ncurvature           1.000000 -0.046873 -0.060909          -0.255455  0.263456   \ne_acf1             -0.046873  1.000000  0.827927           0.300784 -0.040175   \ne_acf10            -0.060909  0.827927  1.000000           0.123990 -0.113008   \nseasonal_strength  -0.255455  0.300784  0.123990           1.000000 -0.392818   \npeak                0.263456 -0.040175 -0.113008          -0.392818  1.000000   \ntrough             -0.057177  0.208142  0.374873          -0.007416 -0.317257   \nte                  0.236790 -0.338056 -0.162191          -0.710672  0.102924   \nTFE                 0.241974 -0.472125 -0.292113          -0.675489  0.170651   \n\n                     trough        te       TFE  \neb                 0.058067  0.755653  0.660665  \nmean               0.002329 -0.443750 -0.448635  \nvar               -0.357770 -0.544091 -0.471729  \nmax_kl_shift       0.195874  0.818096  0.766695  \ntime_kl_shift      0.022521 -0.113032 -0.106192  \nmax_level_shift    0.022053  0.230332  0.231704  \ntime_level_shift   0.031703 -0.094383 -0.085664  \nmax_var_shift      0.054160  0.259570  0.252370  \ntime_var_shift    -0.027053 -0.135018 -0.133507  \nx_acf1             0.355550 -0.175202 -0.305901  \nx_acf10            0.355670  0.095492  0.031070  \ndiff1_acf1         0.095587 -0.477096 -0.596351  \ndiff1_acf10        0.134436 -0.216290 -0.362869  \ndiff2_acf1         0.061065 -0.017835 -0.129355  \ndiff2_acf10       -0.068102  0.048168  0.096088  \nseas_acf1          0.371773 -0.230198 -0.363005  \nARCH.LM            0.355568 -0.152009 -0.307496  \ncrossing_points   -0.281270 -0.584658 -0.505479  \nentropy           -0.344491 -0.029037  0.071870  \nflat_spots         0.344264  0.812840  0.637209  \nalpha              0.105886  0.051966  0.029842  \nbeta               0.105798 -0.369374 -0.510966  \nhurst              0.123224 -0.206658 -0.173043  \nlumpiness         -0.076425  0.183033  0.173686  \nnonlinearity      -0.164845  0.162675  0.207414  \nx_pacf5            0.155728 -0.280376 -0.445620  \ndiff1x_pacf5       0.120947 -0.265585 -0.420329  \ndiff2x_pacf5      -0.027933  0.386811  0.483996  \nseas_pacf         -0.015717  0.388500  0.475499  \nstability          0.302994  0.174314  0.140394  \nunitroot_kpss      0.146242  0.101532  0.104821  \nunitroot_pp        0.383000  0.138246  0.050612  \nnperiods                NaN       NaN       NaN  \nseasonal_period         NaN       NaN       NaN  \ntrend              0.282511 -0.069521 -0.119068  \nspike             -0.003661  0.513353  0.443070  \nlinearity          0.084891 -0.007492 -0.040620  \ncurvature         -0.057177  0.236790  0.241974  \ne_acf1             0.208142 -0.338056 -0.472125  \ne_acf10            0.374873 -0.162191 -0.292113  \nseasonal_strength -0.007416 -0.710672 -0.675489  \npeak              -0.317257  0.102924  0.170651  \ntrough             1.000000  0.191233  0.084229  \nte                 0.191233  1.000000  0.901793  \nTFE                0.084229  0.901793  1.000000  \n\n[45 rows x 45 columns]",
      "text/html": "<div>\n<style scoped>\n    .dataframe tbody tr th:only-of-type {\n        vertical-align: middle;\n    }\n\n    .dataframe tbody tr th {\n        vertical-align: top;\n    }\n\n    .dataframe thead th {\n        text-align: right;\n    }\n</style>\n<table border=\"1\" class=\"dataframe\">\n  <thead>\n    <tr style=\"text-align: right;\">\n      <th></th>\n      <th>eb</th>\n      <th>mean</th>\n      <th>var</th>\n      <th>max_kl_shift</th>\n      <th>time_kl_shift</th>\n      <th>max_level_shift</th>\n      <th>time_level_shift</th>\n      <th>max_var_shift</th>\n      <th>time_var_shift</th>\n      <th>x_acf1</th>\n      <th>...</th>\n      <th>spike</th>\n      <th>linearity</th>\n      <th>curvature</th>\n      <th>e_acf1</th>\n      <th>e_acf10</th>\n      <th>seasonal_strength</th>\n      <th>peak</th>\n      <th>trough</th>\n      <th>te</th>\n      <th>TFE</th>\n    </tr>\n  </thead>\n  <tbody>\n    <tr>\n      <th>eb</th>\n      <td>1.000000</td>\n      <td>-0.359034</td>\n      <td>-0.243797</td>\n      <td>0.601491</td>\n      <td>-0.092623</td>\n      <td>0.111844</td>\n      <td>0.012655</td>\n      <td>0.206705</td>\n      <td>0.096136</td>\n      <td>-0.198447</td>\n      <td>...</td>\n      <td>0.396365</td>\n      <td>-0.025559</td>\n      <td>0.179940</td>\n      <td>-0.123872</td>\n      <td>-0.117021</td>\n      <td>-0.492407</td>\n      <td>0.147704</td>\n      <td>0.058067</td>\n      <td>0.755653</td>\n      <td>0.660665</td>\n    </tr>\n    <tr>\n      <th>mean</th>\n      <td>-0.359034</td>\n      <td>1.000000</td>\n      <td>0.114055</td>\n      <td>-0.267071</td>\n      <td>-0.112175</td>\n      <td>0.074808</td>\n      <td>-0.111260</td>\n      <td>-0.182641</td>\n      <td>-0.088480</td>\n      <td>0.359082</td>\n      <td>...</td>\n      <td>-0.356634</td>\n      <td>-0.117547</td>\n      <td>-0.061338</td>\n      <td>0.355210</td>\n      <td>0.295988</td>\n      <td>0.238303</td>\n      <td>0.101138</td>\n      <td>0.002329</td>\n      <td>-0.443750</td>\n      <td>-0.448635</td>\n    </tr>\n    <tr>\n      <th>var</th>\n      <td>-0.243797</td>\n      <td>0.114055</td>\n      <td>1.000000</td>\n      <td>-0.482291</td>\n      <td>0.173313</td>\n      <td>-0.368105</td>\n      <td>0.159886</td>\n      <td>-0.291138</td>\n      <td>0.127246</td>\n      <td>-0.125419</td>\n      <td>...</td>\n      <td>-0.182867</td>\n      <td>-0.037653</td>\n      <td>-0.112462</td>\n      <td>0.209516</td>\n      <td>-0.062643</td>\n      <td>0.298927</td>\n      <td>0.095142</td>\n      <td>-0.357770</td>\n      <td>-0.544091</td>\n      <td>-0.471729</td>\n    </tr>\n    <tr>\n      <th>max_kl_shift</th>\n      <td>0.601491</td>\n      <td>-0.267071</td>\n      <td>-0.482291</td>\n      <td>1.000000</td>\n      <td>-0.056249</td>\n      <td>0.267627</td>\n      <td>-0.095061</td>\n      <td>0.322158</td>\n      <td>-0.080377</td>\n      <td>-0.227111</td>\n      <td>...</td>\n      <td>0.402394</td>\n      <td>0.091374</td>\n      <td>0.186993</td>\n      <td>-0.357020</td>\n      <td>-0.145459</td>\n      <td>-0.542245</td>\n      <td>-0.049538</td>\n      <td>0.195874</td>\n      <td>0.818096</td>\n      <td>0.766695</td>\n    </tr>\n    <tr>\n      <th>time_kl_shift</th>\n      <td>-0.092623</td>\n      <td>-0.112175</td>\n      <td>0.173313</td>\n      <td>-0.056249</td>\n      <td>1.000000</td>\n      <td>-0.164164</td>\n      <td>0.294844</td>\n      <td>-0.012175</td>\n      <td>0.226509</td>\n      <td>0.004957</td>\n      <td>...</td>\n      <td>-0.026763</td>\n      <td>0.087307</td>\n      <td>-0.067795</td>\n      <td>0.094092</td>\n      <td>0.082439</td>\n      <td>0.211817</td>\n      <td>-0.211141</td>\n      <td>0.022521</td>\n      <td>-0.113032</td>\n      <td>-0.106192</td>\n    </tr>\n    <tr>\n      <th>max_level_shift</th>\n      <td>0.111844</td>\n      <td>0.074808</td>\n      <td>-0.368105</td>\n      <td>0.267627</td>\n      <td>-0.164164</td>\n      <td>1.000000</td>\n      <td>-0.266466</td>\n      <td>0.400592</td>\n      <td>-0.121363</td>\n      <td>0.040686</td>\n      <td>...</td>\n      <td>0.233039</td>\n      <td>-0.213934</td>\n      <td>0.181885</td>\n      <td>-0.013215</td>\n      <td>0.050439</td>\n      <td>-0.285418</td>\n      <td>0.153042</td>\n      <td>0.022053</td>\n      <td>0.230332</td>\n      <td>0.231704</td>\n    </tr>\n    <tr>\n      <th>time_level_shift</th>\n      <td>0.012655</td>\n      <td>-0.111260</td>\n      <td>0.159886</td>\n      <td>-0.095061</td>\n      <td>0.294844</td>\n      <td>-0.266466</td>\n      <td>1.000000</td>\n      <td>-0.039405</td>\n      <td>0.355796</td>\n      <td>-0.049701</td>\n      <td>...</td>\n      <td>-0.016593</td>\n      <td>-0.022319</td>\n      <td>0.084425</td>\n      <td>0.044529</td>\n      <td>-0.037906</td>\n      <td>0.142394</td>\n      <td>-0.075600</td>\n      <td>0.031703</td>\n      <td>-0.094383</td>\n      <td>-0.085664</td>\n    </tr>\n    <tr>\n      <th>max_var_shift</th>\n      <td>0.206705</td>\n      <td>-0.182641</td>\n      <td>-0.291138</td>\n      <td>0.322158</td>\n      <td>-0.012175</td>\n      <td>0.400592</td>\n      <td>-0.039405</td>\n      <td>1.000000</td>\n      <td>0.037879</td>\n      <td>-0.094117</td>\n      <td>...</td>\n      <td>0.308884</td>\n      <td>0.147684</td>\n      <td>0.066448</td>\n      <td>-0.033382</td>\n      <td>-0.032224</td>\n      <td>-0.125600</td>\n      <td>0.001061</td>\n      <td>0.054160</td>\n      <td>0.259570</td>\n      <td>0.252370</td>\n    </tr>\n    <tr>\n      <th>time_var_shift</th>\n      <td>0.096136</td>\n      <td>-0.088480</td>\n      <td>0.127246</td>\n      <td>-0.080377</td>\n      <td>0.226509</td>\n      <td>-0.121363</td>\n      <td>0.355796</td>\n      <td>0.037879</td>\n      <td>1.000000</td>\n      <td>0.005830</td>\n      <td>...</td>\n      <td>-0.051957</td>\n      <td>-0.110798</td>\n      <td>0.160414</td>\n      <td>0.076564</td>\n      <td>0.053022</td>\n      <td>0.148567</td>\n      <td>-0.099034</td>\n      <td>-0.027053</td>\n      <td>-0.135018</td>\n      <td>-0.133507</td>\n    </tr>\n    <tr>\n      <th>x_acf1</th>\n      <td>-0.198447</td>\n      <td>0.359082</td>\n      <td>-0.125419</td>\n      <td>-0.227111</td>\n      <td>0.004957</td>\n      <td>0.040686</td>\n      <td>-0.049701</td>\n      <td>-0.094117</td>\n      <td>0.005830</td>\n      <td>1.000000</td>\n      <td>...</td>\n      <td>-0.214675</td>\n      <td>-0.098622</td>\n      <td>-0.005033</td>\n      <td>0.725630</td>\n      <td>0.795162</td>\n      <td>0.147952</td>\n      <td>-0.142212</td>\n      <td>0.355550</td>\n      <td>-0.175202</td>\n      <td>-0.305901</td>\n    </tr>\n    <tr>\n      <th>x_acf10</th>\n      <td>-0.039840</td>\n      <td>0.265078</td>\n      <td>-0.406538</td>\n      <td>-0.009593</td>\n      <td>-0.042717</td>\n      <td>0.304925</td>\n      <td>-0.061538</td>\n      <td>-0.060465</td>\n      <td>0.013867</td>\n      <td>0.750099</td>\n      <td>...</td>\n      <td>-0.070680</td>\n      <td>-0.352158</td>\n      <td>0.163236</td>\n      <td>0.429366</td>\n      <td>0.639411</td>\n      <td>-0.155722</td>\n      <td>0.074362</td>\n      <td>0.355670</td>\n      <td>0.095492</td>\n      <td>0.031070</td>\n    </tr>\n    <tr>\n      <th>diff1_acf1</th>\n      <td>-0.484575</td>\n      <td>0.339559</td>\n      <td>0.206609</td>\n      <td>-0.483192</td>\n      <td>0.097462</td>\n      <td>-0.147616</td>\n      <td>0.038527</td>\n      <td>-0.086560</td>\n      <td>0.015421</td>\n      <td>0.667360</td>\n      <td>...</td>\n      <td>-0.146172</td>\n      <td>0.086801</td>\n      <td>-0.092053</td>\n      <td>0.693848</td>\n      <td>0.592370</td>\n      <td>0.334688</td>\n      <td>-0.083626</td>\n      <td>0.095587</td>\n      <td>-0.477096</td>\n      <td>-0.596351</td>\n    </tr>\n    <tr>\n      <th>diff1_acf10</th>\n      <td>-0.351118</td>\n      <td>0.158497</td>\n      <td>0.094572</td>\n      <td>-0.137537</td>\n      <td>0.045884</td>\n      <td>-0.157780</td>\n      <td>0.035163</td>\n      <td>-0.001374</td>\n      <td>-0.010750</td>\n      <td>0.391756</td>\n      <td>...</td>\n      <td>0.049498</td>\n      <td>0.263780</td>\n      <td>-0.084897</td>\n      <td>0.364590</td>\n      <td>0.399331</td>\n      <td>0.102971</td>\n      <td>-0.173157</td>\n      <td>0.134436</td>\n      <td>-0.216290</td>\n      <td>-0.362869</td>\n    </tr>\n    <tr>\n      <th>diff2_acf1</th>\n      <td>-0.115134</td>\n      <td>0.274386</td>\n      <td>-0.089566</td>\n      <td>-0.212829</td>\n      <td>-0.214144</td>\n      <td>0.052606</td>\n      <td>-0.180920</td>\n      <td>-0.072854</td>\n      <td>-0.137920</td>\n      <td>0.436208</td>\n      <td>...</td>\n      <td>-0.041785</td>\n      <td>-0.172841</td>\n      <td>0.110583</td>\n      <td>0.275071</td>\n      <td>0.116152</td>\n      <td>-0.023881</td>\n      <td>0.170152</td>\n      <td>0.061065</td>\n      <td>-0.017835</td>\n      <td>-0.129355</td>\n    </tr>\n    <tr>\n      <th>diff2_acf10</th>\n      <td>0.126458</td>\n      <td>-0.118514</td>\n      <td>0.164728</td>\n      <td>0.261712</td>\n      <td>0.112336</td>\n      <td>-0.050703</td>\n      <td>0.131113</td>\n      <td>0.113508</td>\n      <td>0.104162</td>\n      <td>-0.387144</td>\n      <td>...</td>\n      <td>0.123544</td>\n      <td>0.165947</td>\n      <td>-0.051170</td>\n      <td>-0.225595</td>\n      <td>-0.113294</td>\n      <td>-0.084229</td>\n      <td>-0.096787</td>\n      <td>-0.068102</td>\n      <td>0.048168</td>\n      <td>0.096088</td>\n    </tr>\n    <tr>\n      <th>seas_acf1</th>\n      <td>-0.187885</td>\n      <td>0.435793</td>\n      <td>-0.031888</td>\n      <td>-0.209023</td>\n      <td>0.054175</td>\n      <td>-0.052544</td>\n      <td>-0.043332</td>\n      <td>-0.234302</td>\n      <td>0.072567</td>\n      <td>0.844862</td>\n      <td>...</td>\n      <td>-0.334068</td>\n      <td>0.016172</td>\n      <td>-0.116423</td>\n      <td>0.661741</td>\n      <td>0.698841</td>\n      <td>0.260377</td>\n      <td>-0.227451</td>\n      <td>0.371773</td>\n      <td>-0.230198</td>\n      <td>-0.363005</td>\n    </tr>\n    <tr>\n      <th>ARCH.LM</th>\n      <td>-0.200740</td>\n      <td>0.417069</td>\n      <td>-0.115345</td>\n      <td>-0.163199</td>\n      <td>-0.022134</td>\n      <td>0.045432</td>\n      <td>-0.069865</td>\n      <td>-0.137789</td>\n      <td>-0.029589</td>\n      <td>0.942499</td>\n      <td>...</td>\n      <td>-0.229470</td>\n      <td>-0.069841</td>\n      <td>-0.001799</td>\n      <td>0.687776</td>\n      <td>0.727078</td>\n      <td>0.139820</td>\n      <td>-0.185205</td>\n      <td>0.355568</td>\n      <td>-0.152009</td>\n      <td>-0.307496</td>\n    </tr>\n    <tr>\n      <th>crossing_points</th>\n      <td>-0.310248</td>\n      <td>0.012245</td>\n      <td>0.536981</td>\n      <td>-0.491983</td>\n      <td>0.014000</td>\n      <td>-0.244476</td>\n      <td>0.155383</td>\n      <td>-0.077244</td>\n      <td>0.162834</td>\n      <td>-0.281468</td>\n      <td>...</td>\n      <td>-0.219437</td>\n      <td>0.077125</td>\n      <td>-0.104384</td>\n      <td>-0.018997</td>\n      <td>-0.354915</td>\n      <td>0.493601</td>\n      <td>-0.039373</td>\n      <td>-0.281270</td>\n      <td>-0.584658</td>\n      <td>-0.505479</td>\n    </tr>\n    <tr>\n      <th>entropy</th>\n      <td>0.009525</td>\n      <td>-0.402344</td>\n      <td>0.223257</td>\n      <td>0.061153</td>\n      <td>0.086963</td>\n      <td>-0.180245</td>\n      <td>0.074394</td>\n      <td>0.180429</td>\n      <td>-0.002427</td>\n      <td>-0.804551</td>\n      <td>...</td>\n      <td>0.160687</td>\n      <td>0.286812</td>\n      <td>-0.152367</td>\n      <td>-0.496892</td>\n      <td>-0.595638</td>\n      <td>0.097396</td>\n      <td>0.002552</td>\n      <td>-0.344491</td>\n      <td>-0.029037</td>\n      <td>0.071870</td>\n    </tr>\n    <tr>\n      <th>flat_spots</th>\n      <td>0.602027</td>\n      <td>-0.172786</td>\n      <td>-0.555331</td>\n      <td>0.676074</td>\n      <td>-0.135518</td>\n      <td>0.230293</td>\n      <td>-0.153926</td>\n      <td>0.208305</td>\n      <td>-0.118531</td>\n      <td>0.160227</td>\n      <td>...</td>\n      <td>0.410635</td>\n      <td>0.014956</td>\n      <td>0.139041</td>\n      <td>-0.017400</td>\n      <td>0.162643</td>\n      <td>-0.580971</td>\n      <td>-0.014769</td>\n      <td>0.344264</td>\n      <td>0.812840</td>\n      <td>0.637209</td>\n    </tr>\n    <tr>\n      <th>alpha</th>\n      <td>0.086699</td>\n      <td>0.101253</td>\n      <td>-0.138023</td>\n      <td>-0.147338</td>\n      <td>-0.032169</td>\n      <td>0.089548</td>\n      <td>-0.128445</td>\n      <td>-0.023476</td>\n      <td>-0.023043</td>\n      <td>0.292252</td>\n      <td>...</td>\n      <td>-0.073453</td>\n      <td>-0.256578</td>\n      <td>0.079635</td>\n      <td>0.182829</td>\n      <td>0.092355</td>\n      <td>0.000945</td>\n      <td>0.124513</td>\n      <td>0.105886</td>\n      <td>0.051966</td>\n      <td>0.029842</td>\n    </tr>\n    <tr>\n      <th>beta</th>\n      <td>-0.469697</td>\n      <td>0.318386</td>\n      <td>0.179795</td>\n      <td>-0.330328</td>\n      <td>-0.009378</td>\n      <td>-0.133039</td>\n      <td>0.039782</td>\n      <td>-0.077290</td>\n      <td>-0.019406</td>\n      <td>0.570842</td>\n      <td>...</td>\n      <td>-0.082346</td>\n      <td>0.098169</td>\n      <td>-0.041645</td>\n      <td>0.546555</td>\n      <td>0.475306</td>\n      <td>0.224627</td>\n      <td>-0.123012</td>\n      <td>0.105798</td>\n      <td>-0.369374</td>\n      <td>-0.510966</td>\n    </tr>\n    <tr>\n      <th>hurst</th>\n      <td>-0.032259</td>\n      <td>0.105099</td>\n      <td>-0.001155</td>\n      <td>-0.154450</td>\n      <td>0.099255</td>\n      <td>0.012931</td>\n      <td>0.168162</td>\n      <td>-0.069594</td>\n      <td>0.136557</td>\n      <td>0.286397</td>\n      <td>...</td>\n      <td>-0.155518</td>\n      <td>-0.005390</td>\n      <td>-0.080696</td>\n      <td>0.205748</td>\n      <td>0.153276</td>\n      <td>0.204427</td>\n      <td>-0.113307</td>\n      <td>0.123224</td>\n      <td>-0.206658</td>\n      <td>-0.173043</td>\n    </tr>\n    <tr>\n      <th>lumpiness</th>\n      <td>0.127215</td>\n      <td>-0.190817</td>\n      <td>-0.185046</td>\n      <td>0.303856</td>\n      <td>-0.063026</td>\n      <td>0.302079</td>\n      <td>-0.107977</td>\n      <td>0.708346</td>\n      <td>-0.010097</td>\n      <td>-0.223591</td>\n      <td>...</td>\n      <td>0.476886</td>\n      <td>0.220418</td>\n      <td>0.076802</td>\n      <td>-0.097886</td>\n      <td>-0.112746</td>\n      <td>-0.228870</td>\n      <td>0.091675</td>\n      <td>-0.076425</td>\n      <td>0.183033</td>\n      <td>0.173686</td>\n    </tr>\n    <tr>\n      <th>nonlinearity</th>\n      <td>0.269675</td>\n      <td>-0.145353</td>\n      <td>0.031632</td>\n      <td>0.131620</td>\n      <td>-0.150711</td>\n      <td>0.155242</td>\n      <td>0.067619</td>\n      <td>0.265426</td>\n      <td>0.048885</td>\n      <td>-0.408094</td>\n      <td>...</td>\n      <td>0.421663</td>\n      <td>-0.112353</td>\n      <td>0.087785</td>\n      <td>-0.205167</td>\n      <td>-0.379530</td>\n      <td>-0.236365</td>\n      <td>0.374384</td>\n      <td>-0.164845</td>\n      <td>0.162675</td>\n      <td>0.207414</td>\n    </tr>\n    <tr>\n      <th>x_pacf5</th>\n      <td>-0.365455</td>\n      <td>0.267400</td>\n      <td>0.094442</td>\n      <td>-0.242543</td>\n      <td>-0.031887</td>\n      <td>-0.156017</td>\n      <td>0.033279</td>\n      <td>-0.052228</td>\n      <td>0.013178</td>\n      <td>0.526912</td>\n      <td>...</td>\n      <td>-0.029426</td>\n      <td>0.198236</td>\n      <td>-0.068190</td>\n      <td>0.475175</td>\n      <td>0.454072</td>\n      <td>0.161499</td>\n      <td>-0.151915</td>\n      <td>0.155728</td>\n      <td>-0.280376</td>\n      <td>-0.445620</td>\n    </tr>\n    <tr>\n      <th>diff1x_pacf5</th>\n      <td>-0.381776</td>\n      <td>0.212152</td>\n      <td>0.125655</td>\n      <td>-0.209188</td>\n      <td>-0.005656</td>\n      <td>-0.170249</td>\n      <td>0.023262</td>\n      <td>-0.020276</td>\n      <td>-0.013921</td>\n      <td>0.408783</td>\n      <td>...</td>\n      <td>0.005598</td>\n      <td>0.242588</td>\n      <td>-0.078153</td>\n      <td>0.395215</td>\n      <td>0.363883</td>\n      <td>0.163739</td>\n      <td>-0.161948</td>\n      <td>0.120947</td>\n      <td>-0.265585</td>\n      <td>-0.420329</td>\n    </tr>\n    <tr>\n      <th>diff2x_pacf5</th>\n      <td>0.416759</td>\n      <td>-0.299738</td>\n      <td>-0.170613</td>\n      <td>0.511803</td>\n      <td>-0.011617</td>\n      <td>0.049378</td>\n      <td>0.038611</td>\n      <td>0.121351</td>\n      <td>0.054761</td>\n      <td>-0.628153</td>\n      <td>...</td>\n      <td>0.087819</td>\n      <td>0.066622</td>\n      <td>0.000681</td>\n      <td>-0.634676</td>\n      <td>-0.450571</td>\n      <td>-0.209413</td>\n      <td>-0.078173</td>\n      <td>-0.027933</td>\n      <td>0.386811</td>\n      <td>0.483996</td>\n    </tr>\n    <tr>\n      <th>seas_pacf</th>\n      <td>0.409882</td>\n      <td>-0.344222</td>\n      <td>-0.278092</td>\n      <td>0.341383</td>\n      <td>0.011334</td>\n      <td>0.091033</td>\n      <td>0.001016</td>\n      <td>-0.012276</td>\n      <td>-0.047872</td>\n      <td>-0.408721</td>\n      <td>...</td>\n      <td>0.187428</td>\n      <td>-0.000420</td>\n      <td>0.044362</td>\n      <td>-0.479895</td>\n      <td>-0.263178</td>\n      <td>-0.307711</td>\n      <td>0.052084</td>\n      <td>-0.015717</td>\n      <td>0.388500</td>\n      <td>0.475499</td>\n    </tr>\n    <tr>\n      <th>stability</th>\n      <td>0.097989</td>\n      <td>0.372926</td>\n      <td>-0.397389</td>\n      <td>0.117109</td>\n      <td>-0.105644</td>\n      <td>0.363818</td>\n      <td>-0.043480</td>\n      <td>-0.049711</td>\n      <td>-0.009141</td>\n      <td>0.560597</td>\n      <td>...</td>\n      <td>-0.058773</td>\n      <td>-0.448334</td>\n      <td>0.267572</td>\n      <td>0.316131</td>\n      <td>0.468030</td>\n      <td>-0.238252</td>\n      <td>0.189194</td>\n      <td>0.302994</td>\n      <td>0.174314</td>\n      <td>0.140394</td>\n    </tr>\n    <tr>\n      <th>unitroot_kpss</th>\n      <td>0.077482</td>\n      <td>0.375830</td>\n      <td>-0.209421</td>\n      <td>0.030233</td>\n      <td>-0.107704</td>\n      <td>0.158670</td>\n      <td>-0.054485</td>\n      <td>-0.204787</td>\n      <td>-0.059737</td>\n      <td>0.393024</td>\n      <td>...</td>\n      <td>-0.057351</td>\n      <td>-0.437522</td>\n      <td>0.171913</td>\n      <td>0.200133</td>\n      <td>0.334237</td>\n      <td>-0.244470</td>\n      <td>0.302901</td>\n      <td>0.146242</td>\n      <td>0.101532</td>\n      <td>0.104821</td>\n    </tr>\n    <tr>\n      <th>unitroot_pp</th>\n      <td>0.044447</td>\n      <td>0.267857</td>\n      <td>-0.386764</td>\n      <td>0.015687</td>\n      <td>-0.088686</td>\n      <td>0.277360</td>\n      <td>-0.108643</td>\n      <td>-0.094597</td>\n      <td>0.010365</td>\n      <td>0.724847</td>\n      <td>...</td>\n      <td>-0.080486</td>\n      <td>-0.365183</td>\n      <td>0.126933</td>\n      <td>0.412911</td>\n      <td>0.600233</td>\n      <td>-0.141071</td>\n      <td>0.065635</td>\n      <td>0.383000</td>\n      <td>0.138246</td>\n      <td>0.050612</td>\n    </tr>\n    <tr>\n      <th>nperiods</th>\n      <td>NaN</td>\n      <td>NaN</td>\n      <td>NaN</td>\n      <td>NaN</td>\n      <td>NaN</td>\n      <td>NaN</td>\n      <td>NaN</td>\n      <td>NaN</td>\n      <td>NaN</td>\n      <td>NaN</td>\n      <td>...</td>\n      <td>NaN</td>\n      <td>NaN</td>\n      <td>NaN</td>\n      <td>NaN</td>\n      <td>NaN</td>\n      <td>NaN</td>\n      <td>NaN</td>\n      <td>NaN</td>\n      <td>NaN</td>\n      <td>NaN</td>\n    </tr>\n    <tr>\n      <th>seasonal_period</th>\n      <td>NaN</td>\n      <td>NaN</td>\n      <td>NaN</td>\n      <td>NaN</td>\n      <td>NaN</td>\n      <td>NaN</td>\n      <td>NaN</td>\n      <td>NaN</td>\n      <td>NaN</td>\n      <td>NaN</td>\n      <td>...</td>\n      <td>NaN</td>\n      <td>NaN</td>\n      <td>NaN</td>\n      <td>NaN</td>\n      <td>NaN</td>\n      <td>NaN</td>\n      <td>NaN</td>\n      <td>NaN</td>\n      <td>NaN</td>\n      <td>NaN</td>\n    </tr>\n    <tr>\n      <th>trend</th>\n      <td>-0.044222</td>\n      <td>0.284385</td>\n      <td>-0.177712</td>\n      <td>-0.116810</td>\n      <td>0.024801</td>\n      <td>0.139070</td>\n      <td>0.026079</td>\n      <td>-0.003706</td>\n      <td>0.085381</td>\n      <td>0.654489</td>\n      <td>...</td>\n      <td>-0.378913</td>\n      <td>-0.273910</td>\n      <td>0.054033</td>\n      <td>0.368927</td>\n      <td>0.430019</td>\n      <td>0.236181</td>\n      <td>-0.121491</td>\n      <td>0.282511</td>\n      <td>-0.069521</td>\n      <td>-0.119068</td>\n    </tr>\n    <tr>\n      <th>spike</th>\n      <td>0.396365</td>\n      <td>-0.356634</td>\n      <td>-0.182867</td>\n      <td>0.402394</td>\n      <td>-0.026763</td>\n      <td>0.233039</td>\n      <td>-0.016593</td>\n      <td>0.308884</td>\n      <td>-0.051957</td>\n      <td>-0.214675</td>\n      <td>...</td>\n      <td>1.000000</td>\n      <td>0.016037</td>\n      <td>0.116749</td>\n      <td>-0.148347</td>\n      <td>-0.098284</td>\n      <td>-0.679465</td>\n      <td>0.294265</td>\n      <td>-0.003661</td>\n      <td>0.513353</td>\n      <td>0.443070</td>\n    </tr>\n    <tr>\n      <th>linearity</th>\n      <td>-0.025559</td>\n      <td>-0.117547</td>\n      <td>-0.037653</td>\n      <td>0.091374</td>\n      <td>0.087307</td>\n      <td>-0.213934</td>\n      <td>-0.022319</td>\n      <td>0.147684</td>\n      <td>-0.110798</td>\n      <td>-0.098622</td>\n      <td>...</td>\n      <td>0.016037</td>\n      <td>1.000000</td>\n      <td>-0.504658</td>\n      <td>-0.077472</td>\n      <td>-0.051017</td>\n      <td>0.165908</td>\n      <td>-0.413570</td>\n      <td>0.084891</td>\n      <td>-0.007492</td>\n      <td>-0.040620</td>\n    </tr>\n    <tr>\n      <th>curvature</th>\n      <td>0.179940</td>\n      <td>-0.061338</td>\n      <td>-0.112462</td>\n      <td>0.186993</td>\n      <td>-0.067795</td>\n      <td>0.181885</td>\n      <td>0.084425</td>\n      <td>0.066448</td>\n      <td>0.160414</td>\n      <td>-0.005033</td>\n      <td>...</td>\n      <td>0.116749</td>\n      <td>-0.504658</td>\n      <td>1.000000</td>\n      <td>-0.046873</td>\n      <td>-0.060909</td>\n      <td>-0.255455</td>\n      <td>0.263456</td>\n      <td>-0.057177</td>\n      <td>0.236790</td>\n      <td>0.241974</td>\n    </tr>\n    <tr>\n      <th>e_acf1</th>\n      <td>-0.123872</td>\n      <td>0.355210</td>\n      <td>0.209516</td>\n      <td>-0.357020</td>\n      <td>0.094092</td>\n      <td>-0.013215</td>\n      <td>0.044529</td>\n      <td>-0.033382</td>\n      <td>0.076564</td>\n      <td>0.725630</td>\n      <td>...</td>\n      <td>-0.148347</td>\n      <td>-0.077472</td>\n      <td>-0.046873</td>\n      <td>1.000000</td>\n      <td>0.827927</td>\n      <td>0.300784</td>\n      <td>-0.040175</td>\n      <td>0.208142</td>\n      <td>-0.338056</td>\n      <td>-0.472125</td>\n    </tr>\n    <tr>\n      <th>e_acf10</th>\n      <td>-0.117021</td>\n      <td>0.295988</td>\n      <td>-0.062643</td>\n      <td>-0.145459</td>\n      <td>0.082439</td>\n      <td>0.050439</td>\n      <td>-0.037906</td>\n      <td>-0.032224</td>\n      <td>0.053022</td>\n      <td>0.795162</td>\n      <td>...</td>\n      <td>-0.098284</td>\n      <td>-0.051017</td>\n      <td>-0.060909</td>\n      <td>0.827927</td>\n      <td>1.000000</td>\n      <td>0.123990</td>\n      <td>-0.113008</td>\n      <td>0.374873</td>\n      <td>-0.162191</td>\n      <td>-0.292113</td>\n    </tr>\n    <tr>\n      <th>seasonal_strength</th>\n      <td>-0.492407</td>\n      <td>0.238303</td>\n      <td>0.298927</td>\n      <td>-0.542245</td>\n      <td>0.211817</td>\n      <td>-0.285418</td>\n      <td>0.142394</td>\n      <td>-0.125600</td>\n      <td>0.148567</td>\n      <td>0.147952</td>\n      <td>...</td>\n      <td>-0.679465</td>\n      <td>0.165908</td>\n      <td>-0.255455</td>\n      <td>0.300784</td>\n      <td>0.123990</td>\n      <td>1.000000</td>\n      <td>-0.392818</td>\n      <td>-0.007416</td>\n      <td>-0.710672</td>\n      <td>-0.675489</td>\n    </tr>\n    <tr>\n      <th>peak</th>\n      <td>0.147704</td>\n      <td>0.101138</td>\n      <td>0.095142</td>\n      <td>-0.049538</td>\n      <td>-0.211141</td>\n      <td>0.153042</td>\n      <td>-0.075600</td>\n      <td>0.001061</td>\n      <td>-0.099034</td>\n      <td>-0.142212</td>\n      <td>...</td>\n      <td>0.294265</td>\n      <td>-0.413570</td>\n      <td>0.263456</td>\n      <td>-0.040175</td>\n      <td>-0.113008</td>\n      <td>-0.392818</td>\n      <td>1.000000</td>\n      <td>-0.317257</td>\n      <td>0.102924</td>\n      <td>0.170651</td>\n    </tr>\n    <tr>\n      <th>trough</th>\n      <td>0.058067</td>\n      <td>0.002329</td>\n      <td>-0.357770</td>\n      <td>0.195874</td>\n      <td>0.022521</td>\n      <td>0.022053</td>\n      <td>0.031703</td>\n      <td>0.054160</td>\n      <td>-0.027053</td>\n      <td>0.355550</td>\n      <td>...</td>\n      <td>-0.003661</td>\n      <td>0.084891</td>\n      <td>-0.057177</td>\n      <td>0.208142</td>\n      <td>0.374873</td>\n      <td>-0.007416</td>\n      <td>-0.317257</td>\n      <td>1.000000</td>\n      <td>0.191233</td>\n      <td>0.084229</td>\n    </tr>\n    <tr>\n      <th>te</th>\n      <td>0.755653</td>\n      <td>-0.443750</td>\n      <td>-0.544091</td>\n      <td>0.818096</td>\n      <td>-0.113032</td>\n      <td>0.230332</td>\n      <td>-0.094383</td>\n      <td>0.259570</td>\n      <td>-0.135018</td>\n      <td>-0.175202</td>\n      <td>...</td>\n      <td>0.513353</td>\n      <td>-0.007492</td>\n      <td>0.236790</td>\n      <td>-0.338056</td>\n      <td>-0.162191</td>\n      <td>-0.710672</td>\n      <td>0.102924</td>\n      <td>0.191233</td>\n      <td>1.000000</td>\n      <td>0.901793</td>\n    </tr>\n    <tr>\n      <th>TFE</th>\n      <td>0.660665</td>\n      <td>-0.448635</td>\n      <td>-0.471729</td>\n      <td>0.766695</td>\n      <td>-0.106192</td>\n      <td>0.231704</td>\n      <td>-0.085664</td>\n      <td>0.252370</td>\n      <td>-0.133507</td>\n      <td>-0.305901</td>\n      <td>...</td>\n      <td>0.443070</td>\n      <td>-0.040620</td>\n      <td>0.241974</td>\n      <td>-0.472125</td>\n      <td>-0.292113</td>\n      <td>-0.675489</td>\n      <td>0.170651</td>\n      <td>0.084229</td>\n      <td>0.901793</td>\n      <td>1.000000</td>\n    </tr>\n  </tbody>\n</table>\n<p>45 rows × 45 columns</p>\n</div>"
     },
     "execution_count": 6,
     "metadata": {},
     "output_type": "execute_result"
    }
   ],
   "source": [
    "compute_features_tfe_corr()"
   ],
   "metadata": {
    "collapsed": false,
    "ExecuteTime": {
     "end_time": "2023-09-18T20:55:38.426258300Z",
     "start_time": "2023-09-18T20:55:37.276168300Z"
    }
   }
  },
  {
   "cell_type": "code",
   "execution_count": 200,
   "outputs": [
    {
     "name": "stdout",
     "output_type": "stream",
     "text": [
      "ettm2\n",
      "ettm1\n",
      "wind\n",
      "solar\n",
      "weather\n",
      "aus\n"
     ]
    }
   ],
   "source": [
    "features_corr = compute_features_tfe_corr()\n",
    "features_corr = features_corr[['TFE']].abs()\n",
    "features_corr.drop(['eb', 'TFE'], inplace=True)\n",
    "r = features_corr.sort_values(by='TFE', ascending=False)\n",
    "r.index.name = 'ts_feature'\n",
    "r.to_csv('../results/features/spearman_correlation.csv')"
   ],
   "metadata": {
    "collapsed": false,
    "ExecuteTime": {
     "end_time": "2023-09-18T10:06:08.671965100Z",
     "start_time": "2023-09-18T10:06:08.240928900Z"
    }
   }
  },
  {
   "cell_type": "code",
   "execution_count": 204,
   "outputs": [
    {
     "name": "stdout",
     "output_type": "stream",
     "text": [
      "ettm2\n",
      "ettm1\n",
      "wind\n",
      "solar\n",
      "weather\n",
      "aus\n"
     ]
    }
   ],
   "source": [
    "compute_features()"
   ],
   "metadata": {
    "collapsed": false,
    "ExecuteTime": {
     "end_time": "2023-09-18T10:08:35.606402400Z",
     "start_time": "2023-09-18T10:08:35.333505500Z"
    }
   }
  },
  {
   "cell_type": "code",
   "execution_count": 151,
   "outputs": [
    {
     "name": "stdout",
     "output_type": "stream",
     "text": [
      "Correlations with TFE:\n",
      "                        TFE\n",
      "seasonal_strength  0.916137\n",
      "var                0.869453\n",
      "max_kl_shift       0.851600\n",
      "flat_spots         0.798266\n",
      "spike              0.701500\n",
      "diff2x_pacf5       0.694868\n",
      "nonlinearity       0.691763\n",
      "diff1_acf1         0.671335\n",
      "diff2_acf10        0.638921\n",
      "alpha              0.638266\n",
      "-----\n",
      "Correlations with forecasting error:\n",
      "                   forecasting error\n",
      "seasonal_strength           0.735805\n",
      "var                         0.731819\n",
      "max_kl_shift                0.702418\n",
      "flat_spots                  0.687810\n",
      "nonlinearity                0.528525\n",
      "spike                       0.504212\n",
      "diff2x_pacf5                0.486277\n",
      "mean                        0.474727\n",
      "diff1_acf1                  0.467007\n",
      "alpha                       0.460499\n",
      "-----\n"
     ]
    }
   ],
   "source": [
    "corr = compute_features_tfe_corr('test_ettm1', 'ETTM1')\n",
    "# corr = corr[['TFE', 'te', 'compression ratio']]\n",
    "features_of_interest = ['TFE', 'forecasting error']\n",
    "\n",
    "for feature in features_of_interest:\n",
    "    # for eblc in corr.compression.unique():\n",
    "    print(f\"Correlations with {feature}:\")\n",
    "    # Get correlations with the specific feature for each 'compression' group\n",
    "    corr_feature = corr[[feature]] # .xs(key=feature, level=1, axis=1)[feature]\n",
    "\n",
    "    # Drop the correlation of the feature with itself (it's always 1)\n",
    "    corr_feature = corr_feature.drop(index=['eb', 'TFE', 'forecasting error', 'te', 'compression ratio'], errors='ignore')\n",
    "    corr_feature[feature] = np.abs(corr_feature[feature].values)\n",
    "    # Sort the correlations in descending order to get most correlated features first\n",
    "    sorted_corr = corr_feature.sort_values(by=feature, ascending=False)\n",
    "\n",
    "    # Display the top correlated features (e.g., top 5)\n",
    "    print(sorted_corr.head(10))\n",
    "    print(\"-----\")"
   ],
   "metadata": {
    "collapsed": false,
    "ExecuteTime": {
     "end_time": "2023-09-17T14:00:42.474671900Z",
     "start_time": "2023-09-17T14:00:42.345627Z"
    }
   }
  },
  {
   "cell_type": "code",
   "execution_count": 147,
   "outputs": [
    {
     "data": {
      "text/plain": "                        TFE\nmean              -0.929065\nvar               -0.933789\nmax_kl_shift       0.759507\ntime_kl_shift     -0.229471\nmax_level_shift    0.165456\ntime_level_shift  -0.430137\nmax_var_shift      0.596724\ntime_var_shift    -0.137290\nx_acf1            -0.468551\nx_acf10           -0.444785\ndiff1_acf1        -0.326358\ndiff1_acf10        0.234615\ndiff2_acf1        -0.287338\ndiff2_acf10        0.307649\nseas_acf1         -0.205141\nARCH.LM           -0.336696\ncrossing_points   -0.486414\nentropy           -0.168851\nflat_spots         0.793214\nalpha             -0.295344\nbeta              -0.202231\nhurst             -0.389473\nlumpiness          0.636892\nnonlinearity       0.450597\nx_pacf5           -0.062340\ndiff1x_pacf5       0.228859\ndiff2x_pacf5       0.309244\nseas_pacf          0.556418\nstability         -0.253473\nunitroot_kpss     -0.476412\nunitroot_pp       -0.487068\nnperiods                NaN\nseasonal_period         NaN\ntrend             -0.506062\nspike              0.572043\nlinearity          0.439149\ncurvature         -0.007140\ne_acf1            -0.151268\ne_acf10           -0.005407\nseasonal_strength -0.775066\npeak              -0.227222\ntrough             0.493422",
      "text/html": "<div>\n<style scoped>\n    .dataframe tbody tr th:only-of-type {\n        vertical-align: middle;\n    }\n\n    .dataframe tbody tr th {\n        vertical-align: top;\n    }\n\n    .dataframe thead th {\n        text-align: right;\n    }\n</style>\n<table border=\"1\" class=\"dataframe\">\n  <thead>\n    <tr style=\"text-align: right;\">\n      <th></th>\n      <th>TFE</th>\n    </tr>\n  </thead>\n  <tbody>\n    <tr>\n      <th>mean</th>\n      <td>-0.929065</td>\n    </tr>\n    <tr>\n      <th>var</th>\n      <td>-0.933789</td>\n    </tr>\n    <tr>\n      <th>max_kl_shift</th>\n      <td>0.759507</td>\n    </tr>\n    <tr>\n      <th>time_kl_shift</th>\n      <td>-0.229471</td>\n    </tr>\n    <tr>\n      <th>max_level_shift</th>\n      <td>0.165456</td>\n    </tr>\n    <tr>\n      <th>time_level_shift</th>\n      <td>-0.430137</td>\n    </tr>\n    <tr>\n      <th>max_var_shift</th>\n      <td>0.596724</td>\n    </tr>\n    <tr>\n      <th>time_var_shift</th>\n      <td>-0.137290</td>\n    </tr>\n    <tr>\n      <th>x_acf1</th>\n      <td>-0.468551</td>\n    </tr>\n    <tr>\n      <th>x_acf10</th>\n      <td>-0.444785</td>\n    </tr>\n    <tr>\n      <th>diff1_acf1</th>\n      <td>-0.326358</td>\n    </tr>\n    <tr>\n      <th>diff1_acf10</th>\n      <td>0.234615</td>\n    </tr>\n    <tr>\n      <th>diff2_acf1</th>\n      <td>-0.287338</td>\n    </tr>\n    <tr>\n      <th>diff2_acf10</th>\n      <td>0.307649</td>\n    </tr>\n    <tr>\n      <th>seas_acf1</th>\n      <td>-0.205141</td>\n    </tr>\n    <tr>\n      <th>ARCH.LM</th>\n      <td>-0.336696</td>\n    </tr>\n    <tr>\n      <th>crossing_points</th>\n      <td>-0.486414</td>\n    </tr>\n    <tr>\n      <th>entropy</th>\n      <td>-0.168851</td>\n    </tr>\n    <tr>\n      <th>flat_spots</th>\n      <td>0.793214</td>\n    </tr>\n    <tr>\n      <th>alpha</th>\n      <td>-0.295344</td>\n    </tr>\n    <tr>\n      <th>beta</th>\n      <td>-0.202231</td>\n    </tr>\n    <tr>\n      <th>hurst</th>\n      <td>-0.389473</td>\n    </tr>\n    <tr>\n      <th>lumpiness</th>\n      <td>0.636892</td>\n    </tr>\n    <tr>\n      <th>nonlinearity</th>\n      <td>0.450597</td>\n    </tr>\n    <tr>\n      <th>x_pacf5</th>\n      <td>-0.062340</td>\n    </tr>\n    <tr>\n      <th>diff1x_pacf5</th>\n      <td>0.228859</td>\n    </tr>\n    <tr>\n      <th>diff2x_pacf5</th>\n      <td>0.309244</td>\n    </tr>\n    <tr>\n      <th>seas_pacf</th>\n      <td>0.556418</td>\n    </tr>\n    <tr>\n      <th>stability</th>\n      <td>-0.253473</td>\n    </tr>\n    <tr>\n      <th>unitroot_kpss</th>\n      <td>-0.476412</td>\n    </tr>\n    <tr>\n      <th>unitroot_pp</th>\n      <td>-0.487068</td>\n    </tr>\n    <tr>\n      <th>nperiods</th>\n      <td>NaN</td>\n    </tr>\n    <tr>\n      <th>seasonal_period</th>\n      <td>NaN</td>\n    </tr>\n    <tr>\n      <th>trend</th>\n      <td>-0.506062</td>\n    </tr>\n    <tr>\n      <th>spike</th>\n      <td>0.572043</td>\n    </tr>\n    <tr>\n      <th>linearity</th>\n      <td>0.439149</td>\n    </tr>\n    <tr>\n      <th>curvature</th>\n      <td>-0.007140</td>\n    </tr>\n    <tr>\n      <th>e_acf1</th>\n      <td>-0.151268</td>\n    </tr>\n    <tr>\n      <th>e_acf10</th>\n      <td>-0.005407</td>\n    </tr>\n    <tr>\n      <th>seasonal_strength</th>\n      <td>-0.775066</td>\n    </tr>\n    <tr>\n      <th>peak</th>\n      <td>-0.227222</td>\n    </tr>\n    <tr>\n      <th>trough</th>\n      <td>0.493422</td>\n    </tr>\n  </tbody>\n</table>\n</div>"
     },
     "execution_count": 147,
     "metadata": {},
     "output_type": "execute_result"
    }
   ],
   "source": [
    "corr_feature"
   ],
   "metadata": {
    "collapsed": false,
    "ExecuteTime": {
     "end_time": "2023-09-17T13:58:26.846619200Z",
     "start_time": "2023-09-17T13:58:26.720032600Z"
    }
   }
  },
  {
   "cell_type": "code",
   "execution_count": 122,
   "outputs": [
    {
     "data": {
      "text/plain": "                                                          TFE\ncompression                                                  \nPMC         TFE                                      1.000000\nSZ          TFE                                      1.000000\nSWING       TFE                                      1.000000\nPMC         max_kl_shift                             0.986813\nSWING       CO_FirstMin_ac                           0.984505\n...                                                       ...\n            nperiods                                      NaN\n            seasonal_period                               NaN\nSZ          IN_AutoMutualInfoStats_40_gaussian_fmmi       NaN\n            nperiods                                      NaN\n            seasonal_period                               NaN\n\n[204 rows x 1 columns]",
      "text/html": "<div>\n<style scoped>\n    .dataframe tbody tr th:only-of-type {\n        vertical-align: middle;\n    }\n\n    .dataframe tbody tr th {\n        vertical-align: top;\n    }\n\n    .dataframe thead th {\n        text-align: right;\n    }\n</style>\n<table border=\"1\" class=\"dataframe\">\n  <thead>\n    <tr style=\"text-align: right;\">\n      <th></th>\n      <th></th>\n      <th>TFE</th>\n    </tr>\n    <tr>\n      <th>compression</th>\n      <th></th>\n      <th></th>\n    </tr>\n  </thead>\n  <tbody>\n    <tr>\n      <th>PMC</th>\n      <th>TFE</th>\n      <td>1.000000</td>\n    </tr>\n    <tr>\n      <th>SZ</th>\n      <th>TFE</th>\n      <td>1.000000</td>\n    </tr>\n    <tr>\n      <th>SWING</th>\n      <th>TFE</th>\n      <td>1.000000</td>\n    </tr>\n    <tr>\n      <th>PMC</th>\n      <th>max_kl_shift</th>\n      <td>0.986813</td>\n    </tr>\n    <tr>\n      <th rowspan=\"4\" valign=\"top\">SWING</th>\n      <th>CO_FirstMin_ac</th>\n      <td>0.984505</td>\n    </tr>\n    <tr>\n      <th>...</th>\n      <td>...</td>\n    </tr>\n    <tr>\n      <th>nperiods</th>\n      <td>NaN</td>\n    </tr>\n    <tr>\n      <th>seasonal_period</th>\n      <td>NaN</td>\n    </tr>\n    <tr>\n      <th rowspan=\"3\" valign=\"top\">SZ</th>\n      <th>IN_AutoMutualInfoStats_40_gaussian_fmmi</th>\n      <td>NaN</td>\n    </tr>\n    <tr>\n      <th>nperiods</th>\n      <td>NaN</td>\n    </tr>\n    <tr>\n      <th>seasonal_period</th>\n      <td>NaN</td>\n    </tr>\n  </tbody>\n</table>\n<p>204 rows × 1 columns</p>\n</div>"
     },
     "execution_count": 122,
     "metadata": {},
     "output_type": "execute_result"
    }
   ],
   "source": [
    "corr[[feature]].sort_values(by='TFE', ascending=False)"
   ],
   "metadata": {
    "collapsed": false,
    "ExecuteTime": {
     "end_time": "2023-09-17T12:48:25.265005400Z",
     "start_time": "2023-09-17T12:48:25.257986300Z"
    }
   }
  },
  {
   "cell_type": "code",
   "execution_count": 113,
   "outputs": [
    {
     "name": "stdout",
     "output_type": "stream",
     "text": [
      "dlinear_results.csv\n",
      "informer_results.csv\n",
      "nbeats_results.csv\n",
      "transformer_results.csv\n"
     ]
    },
    {
     "data": {
      "text/plain": "                   error       tfe\neblc                              \nbaseline error       NaN       NaN\n         tfe         NaN       NaN\npmc      error  1.000000  0.970638\n         tfe    0.970638  1.000000\nswing    error  1.000000  0.980232\n         tfe    0.980232  1.000000\nsz       error  1.000000  0.973927\n         tfe    0.973927  1.000000",
      "text/html": "<div>\n<style scoped>\n    .dataframe tbody tr th:only-of-type {\n        vertical-align: middle;\n    }\n\n    .dataframe tbody tr th {\n        vertical-align: top;\n    }\n\n    .dataframe thead th {\n        text-align: right;\n    }\n</style>\n<table border=\"1\" class=\"dataframe\">\n  <thead>\n    <tr style=\"text-align: right;\">\n      <th></th>\n      <th></th>\n      <th>error</th>\n      <th>tfe</th>\n    </tr>\n    <tr>\n      <th>eblc</th>\n      <th></th>\n      <th></th>\n      <th></th>\n    </tr>\n  </thead>\n  <tbody>\n    <tr>\n      <th rowspan=\"2\" valign=\"top\">baseline</th>\n      <th>error</th>\n      <td>NaN</td>\n      <td>NaN</td>\n    </tr>\n    <tr>\n      <th>tfe</th>\n      <td>NaN</td>\n      <td>NaN</td>\n    </tr>\n    <tr>\n      <th rowspan=\"2\" valign=\"top\">pmc</th>\n      <th>error</th>\n      <td>1.000000</td>\n      <td>0.970638</td>\n    </tr>\n    <tr>\n      <th>tfe</th>\n      <td>0.970638</td>\n      <td>1.000000</td>\n    </tr>\n    <tr>\n      <th rowspan=\"2\" valign=\"top\">swing</th>\n      <th>error</th>\n      <td>1.000000</td>\n      <td>0.980232</td>\n    </tr>\n    <tr>\n      <th>tfe</th>\n      <td>0.980232</td>\n      <td>1.000000</td>\n    </tr>\n    <tr>\n      <th rowspan=\"2\" valign=\"top\">sz</th>\n      <th>error</th>\n      <td>1.000000</td>\n      <td>0.973927</td>\n    </tr>\n    <tr>\n      <th>tfe</th>\n      <td>0.973927</td>\n      <td>1.000000</td>\n    </tr>\n  </tbody>\n</table>\n</div>"
     },
     "execution_count": 113,
     "metadata": {},
     "output_type": "execute_result"
    }
   ],
   "source": [
    "aus_results = compute_rho_tfe_te_cr_aus()\n",
    "aus_results.groupby('eblc').corr(method='spearman')"
   ],
   "metadata": {
    "collapsed": false,
    "ExecuteTime": {
     "end_time": "2023-09-17T10:21:56.271038Z",
     "start_time": "2023-09-17T10:21:56.156714500Z"
    }
   }
  },
  {
   "cell_type": "code",
   "execution_count": 44,
   "outputs": [
    {
     "data": {
      "text/plain": "                                     eb  compression ratio       TFE        te\ncompression                                                                   \nPMC         eb                 1.000000           1.000000  0.902292  1.000000\n            compression ratio  1.000000           1.000000  0.902292  1.000000\n            TFE                0.902292           0.902292  1.000000  0.902292\n            te                 1.000000           1.000000  0.902292  1.000000\nSWING       eb                 1.000000           1.000000  0.929307  1.000000\n            compression ratio  1.000000           1.000000  0.929307  1.000000\n            TFE                0.929307           0.929307  1.000000  0.929307\n            te                 1.000000           1.000000  0.929307  1.000000\nSZ          eb                 1.000000           1.000000  0.996319  0.995604\n            compression ratio  1.000000           1.000000  0.996319  0.995604\n            TFE                0.996319           0.996319  1.000000  0.991933\n            te                 0.995604           0.995604  0.991933  1.000000",
      "text/html": "<div>\n<style scoped>\n    .dataframe tbody tr th:only-of-type {\n        vertical-align: middle;\n    }\n\n    .dataframe tbody tr th {\n        vertical-align: top;\n    }\n\n    .dataframe thead th {\n        text-align: right;\n    }\n</style>\n<table border=\"1\" class=\"dataframe\">\n  <thead>\n    <tr style=\"text-align: right;\">\n      <th></th>\n      <th></th>\n      <th>eb</th>\n      <th>compression ratio</th>\n      <th>TFE</th>\n      <th>te</th>\n    </tr>\n    <tr>\n      <th>compression</th>\n      <th></th>\n      <th></th>\n      <th></th>\n      <th></th>\n      <th></th>\n    </tr>\n  </thead>\n  <tbody>\n    <tr>\n      <th rowspan=\"4\" valign=\"top\">PMC</th>\n      <th>eb</th>\n      <td>1.000000</td>\n      <td>1.000000</td>\n      <td>0.902292</td>\n      <td>1.000000</td>\n    </tr>\n    <tr>\n      <th>compression ratio</th>\n      <td>1.000000</td>\n      <td>1.000000</td>\n      <td>0.902292</td>\n      <td>1.000000</td>\n    </tr>\n    <tr>\n      <th>TFE</th>\n      <td>0.902292</td>\n      <td>0.902292</td>\n      <td>1.000000</td>\n      <td>0.902292</td>\n    </tr>\n    <tr>\n      <th>te</th>\n      <td>1.000000</td>\n      <td>1.000000</td>\n      <td>0.902292</td>\n      <td>1.000000</td>\n    </tr>\n    <tr>\n      <th rowspan=\"4\" valign=\"top\">SWING</th>\n      <th>eb</th>\n      <td>1.000000</td>\n      <td>1.000000</td>\n      <td>0.929307</td>\n      <td>1.000000</td>\n    </tr>\n    <tr>\n      <th>compression ratio</th>\n      <td>1.000000</td>\n      <td>1.000000</td>\n      <td>0.929307</td>\n      <td>1.000000</td>\n    </tr>\n    <tr>\n      <th>TFE</th>\n      <td>0.929307</td>\n      <td>0.929307</td>\n      <td>1.000000</td>\n      <td>0.929307</td>\n    </tr>\n    <tr>\n      <th>te</th>\n      <td>1.000000</td>\n      <td>1.000000</td>\n      <td>0.929307</td>\n      <td>1.000000</td>\n    </tr>\n    <tr>\n      <th rowspan=\"4\" valign=\"top\">SZ</th>\n      <th>eb</th>\n      <td>1.000000</td>\n      <td>1.000000</td>\n      <td>0.996319</td>\n      <td>0.995604</td>\n    </tr>\n    <tr>\n      <th>compression ratio</th>\n      <td>1.000000</td>\n      <td>1.000000</td>\n      <td>0.996319</td>\n      <td>0.995604</td>\n    </tr>\n    <tr>\n      <th>TFE</th>\n      <td>0.996319</td>\n      <td>0.996319</td>\n      <td>1.000000</td>\n      <td>0.991933</td>\n    </tr>\n    <tr>\n      <th>te</th>\n      <td>0.995604</td>\n      <td>0.995604</td>\n      <td>0.991933</td>\n      <td>1.000000</td>\n    </tr>\n  </tbody>\n</table>\n</div>"
     },
     "metadata": {},
     "output_type": "display_data"
    },
    {
     "data": {
      "text/plain": "             compression ratio_TFE  compression ratio_te        TFE_te   eblc\ncorrelation           9.022916e-01          1.000000e+00  9.022916e-01    PMC\npvalue                1.515094e-26          0.000000e+00  1.515094e-26    PMC\ncorrelation           9.293069e-01          1.000000e+00  9.293069e-01  SWING\npvalue                3.957550e-31          0.000000e+00  3.957550e-31  SWING\ncorrelation           9.963187e-01          9.956044e-01  9.919331e-01     SZ\npvalue                2.738345e-74          1.124893e-71  9.791567e-63     SZ",
      "text/html": "<div>\n<style scoped>\n    .dataframe tbody tr th:only-of-type {\n        vertical-align: middle;\n    }\n\n    .dataframe tbody tr th {\n        vertical-align: top;\n    }\n\n    .dataframe thead th {\n        text-align: right;\n    }\n</style>\n<table border=\"1\" class=\"dataframe\">\n  <thead>\n    <tr style=\"text-align: right;\">\n      <th></th>\n      <th>compression ratio_TFE</th>\n      <th>compression ratio_te</th>\n      <th>TFE_te</th>\n      <th>eblc</th>\n    </tr>\n  </thead>\n  <tbody>\n    <tr>\n      <th>correlation</th>\n      <td>9.022916e-01</td>\n      <td>1.000000e+00</td>\n      <td>9.022916e-01</td>\n      <td>PMC</td>\n    </tr>\n    <tr>\n      <th>pvalue</th>\n      <td>1.515094e-26</td>\n      <td>0.000000e+00</td>\n      <td>1.515094e-26</td>\n      <td>PMC</td>\n    </tr>\n    <tr>\n      <th>correlation</th>\n      <td>9.293069e-01</td>\n      <td>1.000000e+00</td>\n      <td>9.293069e-01</td>\n      <td>SWING</td>\n    </tr>\n    <tr>\n      <th>pvalue</th>\n      <td>3.957550e-31</td>\n      <td>0.000000e+00</td>\n      <td>3.957550e-31</td>\n      <td>SWING</td>\n    </tr>\n    <tr>\n      <th>correlation</th>\n      <td>9.963187e-01</td>\n      <td>9.956044e-01</td>\n      <td>9.919331e-01</td>\n      <td>SZ</td>\n    </tr>\n    <tr>\n      <th>pvalue</th>\n      <td>2.738345e-74</td>\n      <td>1.124893e-71</td>\n      <td>9.791567e-63</td>\n      <td>SZ</td>\n    </tr>\n  </tbody>\n</table>\n</div>"
     },
     "execution_count": 44,
     "metadata": {},
     "output_type": "execute_result"
    }
   ],
   "source": [
    "compute_rho_eb_te_cr('aus')\n",
    "compute_rho_tfe_te_cr('WIND')\n",
    "compute_rho_tfe_te_cr('SOLAR')"
   ],
   "metadata": {
    "collapsed": false,
    "ExecuteTime": {
     "end_time": "2023-09-16T12:02:02.273242700Z",
     "start_time": "2023-09-16T12:02:02.114974500Z"
    }
   }
  },
  {
   "cell_type": "code",
   "execution_count": 50,
   "outputs": [
    {
     "data": {
      "text/plain": "                       eb       TFE        te        cr\ncompression                                            \nPMC         eb   1.000000  0.954628  1.000000  1.000000\n            TFE  0.954628  1.000000  0.954628  0.954628\n            te   1.000000  0.954628  1.000000  1.000000\n            cr   1.000000  0.954628  1.000000  1.000000\nSWING       eb   1.000000  0.981810  1.000000  1.000000\n            TFE  0.981810  1.000000  0.981810  0.981810\n            te   1.000000  0.981810  1.000000  1.000000\n            cr   1.000000  0.981810  1.000000  1.000000\nSZ          eb   1.000000  0.973918  1.000000  0.994505\n            TFE  0.973918  1.000000  0.973918  0.969973\n            te   1.000000  0.973918  1.000000  0.994505\n            cr   0.994505  0.969973  0.994505  1.000000",
      "text/html": "<div>\n<style scoped>\n    .dataframe tbody tr th:only-of-type {\n        vertical-align: middle;\n    }\n\n    .dataframe tbody tr th {\n        vertical-align: top;\n    }\n\n    .dataframe thead th {\n        text-align: right;\n    }\n</style>\n<table border=\"1\" class=\"dataframe\">\n  <thead>\n    <tr style=\"text-align: right;\">\n      <th></th>\n      <th></th>\n      <th>eb</th>\n      <th>TFE</th>\n      <th>te</th>\n      <th>cr</th>\n    </tr>\n    <tr>\n      <th>compression</th>\n      <th></th>\n      <th></th>\n      <th></th>\n      <th></th>\n      <th></th>\n    </tr>\n  </thead>\n  <tbody>\n    <tr>\n      <th rowspan=\"4\" valign=\"top\">PMC</th>\n      <th>eb</th>\n      <td>1.000000</td>\n      <td>0.954628</td>\n      <td>1.000000</td>\n      <td>1.000000</td>\n    </tr>\n    <tr>\n      <th>TFE</th>\n      <td>0.954628</td>\n      <td>1.000000</td>\n      <td>0.954628</td>\n      <td>0.954628</td>\n    </tr>\n    <tr>\n      <th>te</th>\n      <td>1.000000</td>\n      <td>0.954628</td>\n      <td>1.000000</td>\n      <td>1.000000</td>\n    </tr>\n    <tr>\n      <th>cr</th>\n      <td>1.000000</td>\n      <td>0.954628</td>\n      <td>1.000000</td>\n      <td>1.000000</td>\n    </tr>\n    <tr>\n      <th rowspan=\"4\" valign=\"top\">SWING</th>\n      <th>eb</th>\n      <td>1.000000</td>\n      <td>0.981810</td>\n      <td>1.000000</td>\n      <td>1.000000</td>\n    </tr>\n    <tr>\n      <th>TFE</th>\n      <td>0.981810</td>\n      <td>1.000000</td>\n      <td>0.981810</td>\n      <td>0.981810</td>\n    </tr>\n    <tr>\n      <th>te</th>\n      <td>1.000000</td>\n      <td>0.981810</td>\n      <td>1.000000</td>\n      <td>1.000000</td>\n    </tr>\n    <tr>\n      <th>cr</th>\n      <td>1.000000</td>\n      <td>0.981810</td>\n      <td>1.000000</td>\n      <td>1.000000</td>\n    </tr>\n    <tr>\n      <th rowspan=\"4\" valign=\"top\">SZ</th>\n      <th>eb</th>\n      <td>1.000000</td>\n      <td>0.973918</td>\n      <td>1.000000</td>\n      <td>0.994505</td>\n    </tr>\n    <tr>\n      <th>TFE</th>\n      <td>0.973918</td>\n      <td>1.000000</td>\n      <td>0.973918</td>\n      <td>0.969973</td>\n    </tr>\n    <tr>\n      <th>te</th>\n      <td>1.000000</td>\n      <td>0.973918</td>\n      <td>1.000000</td>\n      <td>0.994505</td>\n    </tr>\n    <tr>\n      <th>cr</th>\n      <td>0.994505</td>\n      <td>0.969973</td>\n      <td>0.994505</td>\n      <td>1.000000</td>\n    </tr>\n  </tbody>\n</table>\n</div>"
     },
     "metadata": {},
     "output_type": "display_data"
    }
   ],
   "source": [
    "compute_rho_tfe_te_cr_pweather()"
   ],
   "metadata": {
    "collapsed": false,
    "ExecuteTime": {
     "end_time": "2023-09-16T12:09:23.689750800Z",
     "start_time": "2023-09-16T12:09:23.653421600Z"
    }
   }
  },
  {
   "cell_type": "code",
   "execution_count": 38,
   "outputs": [
    {
     "data": {
      "text/plain": "             compression ratio_TFE  compression ratio_te        TFE_te   eblc\ncorrelation           5.753655e-01                   1.0  5.753655e-01    PMC\npvalue                3.507506e-06                   0.0  3.507506e-06    PMC\ncorrelation           9.802320e-01                   1.0  9.802320e-01  SWING\npvalue                1.107683e-39                   0.0  1.107683e-39  SWING\ncorrelation           9.602217e-01                   1.0  9.602217e-01     SZ\npvalue                1.359577e-31                   0.0  1.359577e-31     SZ",
      "text/html": "<div>\n<style scoped>\n    .dataframe tbody tr th:only-of-type {\n        vertical-align: middle;\n    }\n\n    .dataframe tbody tr th {\n        vertical-align: top;\n    }\n\n    .dataframe thead th {\n        text-align: right;\n    }\n</style>\n<table border=\"1\" class=\"dataframe\">\n  <thead>\n    <tr style=\"text-align: right;\">\n      <th></th>\n      <th>compression ratio_TFE</th>\n      <th>compression ratio_te</th>\n      <th>TFE_te</th>\n      <th>eblc</th>\n    </tr>\n  </thead>\n  <tbody>\n    <tr>\n      <th>correlation</th>\n      <td>5.753655e-01</td>\n      <td>1.0</td>\n      <td>5.753655e-01</td>\n      <td>PMC</td>\n    </tr>\n    <tr>\n      <th>pvalue</th>\n      <td>3.507506e-06</td>\n      <td>0.0</td>\n      <td>3.507506e-06</td>\n      <td>PMC</td>\n    </tr>\n    <tr>\n      <th>correlation</th>\n      <td>9.802320e-01</td>\n      <td>1.0</td>\n      <td>9.802320e-01</td>\n      <td>SWING</td>\n    </tr>\n    <tr>\n      <th>pvalue</th>\n      <td>1.107683e-39</td>\n      <td>0.0</td>\n      <td>1.107683e-39</td>\n      <td>SWING</td>\n    </tr>\n    <tr>\n      <th>correlation</th>\n      <td>9.602217e-01</td>\n      <td>1.0</td>\n      <td>9.602217e-01</td>\n      <td>SZ</td>\n    </tr>\n    <tr>\n      <th>pvalue</th>\n      <td>1.359577e-31</td>\n      <td>0.0</td>\n      <td>1.359577e-31</td>\n      <td>SZ</td>\n    </tr>\n  </tbody>\n</table>\n</div>"
     },
     "execution_count": 38,
     "metadata": {},
     "output_type": "execute_result"
    }
   ],
   "source": [],
   "metadata": {
    "collapsed": false,
    "ExecuteTime": {
     "end_time": "2023-09-16T11:54:31.820452700Z",
     "start_time": "2023-09-16T11:54:31.756144600Z"
    }
   }
  },
  {
   "cell_type": "code",
   "execution_count": 19,
   "outputs": [
    {
     "data": {
      "text/plain": "                                     eb  compression ratio       TFE        te\ncompression                                                                   \nPMC         eb                 1.000000           1.000000  0.575365  1.000000\n            compression ratio  1.000000           1.000000  0.575365  1.000000\n            TFE                0.575365           0.575365  1.000000  0.575365\n            te                 1.000000           1.000000  0.575365  1.000000\nSWING       eb                 1.000000           1.000000  0.980232  1.000000\n            compression ratio  1.000000           1.000000  0.980232  1.000000\n            TFE                0.980232           0.980232  1.000000  0.980232\n            te                 1.000000           1.000000  0.980232  1.000000\nSZ          eb                 1.000000           1.000000  0.960222  1.000000\n            compression ratio  1.000000           1.000000  0.960222  1.000000\n            TFE                0.960222           0.960222  1.000000  0.960222\n            te                 1.000000           1.000000  0.960222  1.000000",
      "text/html": "<div>\n<style scoped>\n    .dataframe tbody tr th:only-of-type {\n        vertical-align: middle;\n    }\n\n    .dataframe tbody tr th {\n        vertical-align: top;\n    }\n\n    .dataframe thead th {\n        text-align: right;\n    }\n</style>\n<table border=\"1\" class=\"dataframe\">\n  <thead>\n    <tr style=\"text-align: right;\">\n      <th></th>\n      <th></th>\n      <th>eb</th>\n      <th>compression ratio</th>\n      <th>TFE</th>\n      <th>te</th>\n    </tr>\n    <tr>\n      <th>compression</th>\n      <th></th>\n      <th></th>\n      <th></th>\n      <th></th>\n      <th></th>\n    </tr>\n  </thead>\n  <tbody>\n    <tr>\n      <th rowspan=\"4\" valign=\"top\">PMC</th>\n      <th>eb</th>\n      <td>1.000000</td>\n      <td>1.000000</td>\n      <td>0.575365</td>\n      <td>1.000000</td>\n    </tr>\n    <tr>\n      <th>compression ratio</th>\n      <td>1.000000</td>\n      <td>1.000000</td>\n      <td>0.575365</td>\n      <td>1.000000</td>\n    </tr>\n    <tr>\n      <th>TFE</th>\n      <td>0.575365</td>\n      <td>0.575365</td>\n      <td>1.000000</td>\n      <td>0.575365</td>\n    </tr>\n    <tr>\n      <th>te</th>\n      <td>1.000000</td>\n      <td>1.000000</td>\n      <td>0.575365</td>\n      <td>1.000000</td>\n    </tr>\n    <tr>\n      <th rowspan=\"4\" valign=\"top\">SWING</th>\n      <th>eb</th>\n      <td>1.000000</td>\n      <td>1.000000</td>\n      <td>0.980232</td>\n      <td>1.000000</td>\n    </tr>\n    <tr>\n      <th>compression ratio</th>\n      <td>1.000000</td>\n      <td>1.000000</td>\n      <td>0.980232</td>\n      <td>1.000000</td>\n    </tr>\n    <tr>\n      <th>TFE</th>\n      <td>0.980232</td>\n      <td>0.980232</td>\n      <td>1.000000</td>\n      <td>0.980232</td>\n    </tr>\n    <tr>\n      <th>te</th>\n      <td>1.000000</td>\n      <td>1.000000</td>\n      <td>0.980232</td>\n      <td>1.000000</td>\n    </tr>\n    <tr>\n      <th rowspan=\"4\" valign=\"top\">SZ</th>\n      <th>eb</th>\n      <td>1.000000</td>\n      <td>1.000000</td>\n      <td>0.960222</td>\n      <td>1.000000</td>\n    </tr>\n    <tr>\n      <th>compression ratio</th>\n      <td>1.000000</td>\n      <td>1.000000</td>\n      <td>0.960222</td>\n      <td>1.000000</td>\n    </tr>\n    <tr>\n      <th>TFE</th>\n      <td>0.960222</td>\n      <td>0.960222</td>\n      <td>1.000000</td>\n      <td>0.960222</td>\n    </tr>\n    <tr>\n      <th>te</th>\n      <td>1.000000</td>\n      <td>1.000000</td>\n      <td>0.960222</td>\n      <td>1.000000</td>\n    </tr>\n  </tbody>\n</table>\n</div>"
     },
     "execution_count": 19,
     "metadata": {},
     "output_type": "execute_result"
    }
   ],
   "source": [
    "compute_rho_tfe_te_cr('SOLAR')"
   ],
   "metadata": {
    "collapsed": false,
    "ExecuteTime": {
     "end_time": "2023-09-16T11:46:21.693255Z",
     "start_time": "2023-09-16T11:46:21.608203600Z"
    }
   }
  },
  {
   "cell_type": "code",
   "execution_count": 66,
   "outputs": [
    {
     "name": "stdout",
     "output_type": "stream",
     "text": [
      "pmc\n"
     ]
    },
    {
     "name": "stderr",
     "output_type": "stream",
     "text": [
      "D:\\Anaconda\\envs\\dart\\lib\\site-packages\\scipy\\stats\\stats.py:1542: UserWarning: kurtosistest only valid for n>=20 ... continuing anyway, n=13\n",
      "  \"anyway, n=%i\" % int(n))\n"
     ]
    },
    {
     "data": {
      "text/plain": "<class 'statsmodels.iolib.summary.Summary'>\n\"\"\"\n                            OLS Regression Results                            \n==============================================================================\nDep. Variable:                     cr   R-squared:                       0.336\nModel:                            OLS   Adj. R-squared:                  0.275\nMethod:                 Least Squares   F-statistic:                     5.559\nDate:                Tue, 12 Sep 2023   Prob (F-statistic):             0.0380\nTime:                        18:11:54   Log-Likelihood:                -115.76\nNo. Observations:                  13   AIC:                             235.5\nDf Residuals:                      11   BIC:                             236.7\nDf Model:                           1                                         \nCovariance Type:            nonrobust                                         \n==============================================================================\n                 coef    std err          t      P>|t|      [0.025      0.975]\n------------------------------------------------------------------------------\nIntercept   -968.9107    948.828     -1.021      0.329   -3057.268    1119.446\nte          2.652e+04   1.12e+04      2.358      0.038    1763.935    5.13e+04\n==============================================================================\nOmnibus:                       13.955   Durbin-Watson:                   0.744\nProb(Omnibus):                  0.001   Jarque-Bera (JB):                9.446\nSkew:                           1.557   Prob(JB):                      0.00889\nKurtosis:                       5.781   Cond. No.                         21.0\n==============================================================================\n\nNotes:\n[1] Standard Errors assume that the covariance matrix of the errors is correctly specified.\n\"\"\"",
      "text/html": "<table class=\"simpletable\">\n<caption>OLS Regression Results</caption>\n<tr>\n  <th>Dep. Variable:</th>           <td>cr</td>        <th>  R-squared:         </th> <td>   0.336</td>\n</tr>\n<tr>\n  <th>Model:</th>                   <td>OLS</td>       <th>  Adj. R-squared:    </th> <td>   0.275</td>\n</tr>\n<tr>\n  <th>Method:</th>             <td>Least Squares</td>  <th>  F-statistic:       </th> <td>   5.559</td>\n</tr>\n<tr>\n  <th>Date:</th>             <td>Tue, 12 Sep 2023</td> <th>  Prob (F-statistic):</th>  <td>0.0380</td> \n</tr>\n<tr>\n  <th>Time:</th>                 <td>18:11:54</td>     <th>  Log-Likelihood:    </th> <td> -115.76</td>\n</tr>\n<tr>\n  <th>No. Observations:</th>      <td>    13</td>      <th>  AIC:               </th> <td>   235.5</td>\n</tr>\n<tr>\n  <th>Df Residuals:</th>          <td>    11</td>      <th>  BIC:               </th> <td>   236.7</td>\n</tr>\n<tr>\n  <th>Df Model:</th>              <td>     1</td>      <th>                     </th>     <td> </td>   \n</tr>\n<tr>\n  <th>Covariance Type:</th>      <td>nonrobust</td>    <th>                     </th>     <td> </td>   \n</tr>\n</table>\n<table class=\"simpletable\">\n<tr>\n      <td></td>         <th>coef</th>     <th>std err</th>      <th>t</th>      <th>P>|t|</th>  <th>[0.025</th>    <th>0.975]</th>  \n</tr>\n<tr>\n  <th>Intercept</th> <td> -968.9107</td> <td>  948.828</td> <td>   -1.021</td> <td> 0.329</td> <td>-3057.268</td> <td> 1119.446</td>\n</tr>\n<tr>\n  <th>te</th>        <td> 2.652e+04</td> <td> 1.12e+04</td> <td>    2.358</td> <td> 0.038</td> <td> 1763.935</td> <td> 5.13e+04</td>\n</tr>\n</table>\n<table class=\"simpletable\">\n<tr>\n  <th>Omnibus:</th>       <td>13.955</td> <th>  Durbin-Watson:     </th> <td>   0.744</td>\n</tr>\n<tr>\n  <th>Prob(Omnibus):</th> <td> 0.001</td> <th>  Jarque-Bera (JB):  </th> <td>   9.446</td>\n</tr>\n<tr>\n  <th>Skew:</th>          <td> 1.557</td> <th>  Prob(JB):          </th> <td> 0.00889</td>\n</tr>\n<tr>\n  <th>Kurtosis:</th>      <td> 5.781</td> <th>  Cond. No.          </th> <td>    21.0</td>\n</tr>\n</table><br/><br/>Notes:<br/>[1] Standard Errors assume that the covariance matrix of the errors is correctly specified."
     },
     "metadata": {},
     "output_type": "display_data"
    },
    {
     "name": "stdout",
     "output_type": "stream",
     "text": [
      "swing\n"
     ]
    },
    {
     "name": "stderr",
     "output_type": "stream",
     "text": [
      "D:\\Anaconda\\envs\\dart\\lib\\site-packages\\scipy\\stats\\stats.py:1542: UserWarning: kurtosistest only valid for n>=20 ... continuing anyway, n=13\n",
      "  \"anyway, n=%i\" % int(n))\n"
     ]
    },
    {
     "data": {
      "text/plain": "<class 'statsmodels.iolib.summary.Summary'>\n\"\"\"\n                            OLS Regression Results                            \n==============================================================================\nDep. Variable:                     cr   R-squared:                       0.595\nModel:                            OLS   Adj. R-squared:                  0.559\nMethod:                 Least Squares   F-statistic:                     16.19\nDate:                Tue, 12 Sep 2023   Prob (F-statistic):            0.00200\nTime:                        18:11:54   Log-Likelihood:                -104.87\nNo. Observations:                  13   AIC:                             213.7\nDf Residuals:                      11   BIC:                             214.9\nDf Model:                           1                                         \nCovariance Type:            nonrobust                                         \n==============================================================================\n                 coef    std err          t      P>|t|      [0.025      0.975]\n------------------------------------------------------------------------------\nIntercept   -620.9022    378.243     -1.642      0.129   -1453.410     211.605\nte          1.184e+04   2943.105      4.024      0.002    5365.485    1.83e+04\n==============================================================================\nOmnibus:                        4.894   Durbin-Watson:                   0.781\nProb(Omnibus):                  0.087   Jarque-Bera (JB):                1.939\nSkew:                           0.803   Prob(JB):                        0.379\nKurtosis:                       3.999   Cond. No.                         12.8\n==============================================================================\n\nNotes:\n[1] Standard Errors assume that the covariance matrix of the errors is correctly specified.\n\"\"\"",
      "text/html": "<table class=\"simpletable\">\n<caption>OLS Regression Results</caption>\n<tr>\n  <th>Dep. Variable:</th>           <td>cr</td>        <th>  R-squared:         </th> <td>   0.595</td>\n</tr>\n<tr>\n  <th>Model:</th>                   <td>OLS</td>       <th>  Adj. R-squared:    </th> <td>   0.559</td>\n</tr>\n<tr>\n  <th>Method:</th>             <td>Least Squares</td>  <th>  F-statistic:       </th> <td>   16.19</td>\n</tr>\n<tr>\n  <th>Date:</th>             <td>Tue, 12 Sep 2023</td> <th>  Prob (F-statistic):</th>  <td>0.00200</td>\n</tr>\n<tr>\n  <th>Time:</th>                 <td>18:11:54</td>     <th>  Log-Likelihood:    </th> <td> -104.87</td>\n</tr>\n<tr>\n  <th>No. Observations:</th>      <td>    13</td>      <th>  AIC:               </th> <td>   213.7</td>\n</tr>\n<tr>\n  <th>Df Residuals:</th>          <td>    11</td>      <th>  BIC:               </th> <td>   214.9</td>\n</tr>\n<tr>\n  <th>Df Model:</th>              <td>     1</td>      <th>                     </th>     <td> </td>   \n</tr>\n<tr>\n  <th>Covariance Type:</th>      <td>nonrobust</td>    <th>                     </th>     <td> </td>   \n</tr>\n</table>\n<table class=\"simpletable\">\n<tr>\n      <td></td>         <th>coef</th>     <th>std err</th>      <th>t</th>      <th>P>|t|</th>  <th>[0.025</th>    <th>0.975]</th>  \n</tr>\n<tr>\n  <th>Intercept</th> <td> -620.9022</td> <td>  378.243</td> <td>   -1.642</td> <td> 0.129</td> <td>-1453.410</td> <td>  211.605</td>\n</tr>\n<tr>\n  <th>te</th>        <td> 1.184e+04</td> <td> 2943.105</td> <td>    4.024</td> <td> 0.002</td> <td> 5365.485</td> <td> 1.83e+04</td>\n</tr>\n</table>\n<table class=\"simpletable\">\n<tr>\n  <th>Omnibus:</th>       <td> 4.894</td> <th>  Durbin-Watson:     </th> <td>   0.781</td>\n</tr>\n<tr>\n  <th>Prob(Omnibus):</th> <td> 0.087</td> <th>  Jarque-Bera (JB):  </th> <td>   1.939</td>\n</tr>\n<tr>\n  <th>Skew:</th>          <td> 0.803</td> <th>  Prob(JB):          </th> <td>   0.379</td>\n</tr>\n<tr>\n  <th>Kurtosis:</th>      <td> 3.999</td> <th>  Cond. No.          </th> <td>    12.8</td>\n</tr>\n</table><br/><br/>Notes:<br/>[1] Standard Errors assume that the covariance matrix of the errors is correctly specified."
     },
     "metadata": {},
     "output_type": "display_data"
    },
    {
     "name": "stdout",
     "output_type": "stream",
     "text": [
      "sz\n"
     ]
    },
    {
     "name": "stderr",
     "output_type": "stream",
     "text": [
      "D:\\Anaconda\\envs\\dart\\lib\\site-packages\\scipy\\stats\\stats.py:1542: UserWarning: kurtosistest only valid for n>=20 ... continuing anyway, n=13\n",
      "  \"anyway, n=%i\" % int(n))\n"
     ]
    },
    {
     "data": {
      "text/plain": "<class 'statsmodels.iolib.summary.Summary'>\n\"\"\"\n                            OLS Regression Results                            \n==============================================================================\nDep. Variable:                     cr   R-squared:                       0.492\nModel:                            OLS   Adj. R-squared:                  0.446\nMethod:                 Least Squares   F-statistic:                     10.66\nDate:                Tue, 12 Sep 2023   Prob (F-statistic):            0.00753\nTime:                        18:11:54   Log-Likelihood:                -69.281\nNo. Observations:                  13   AIC:                             142.6\nDf Residuals:                      11   BIC:                             143.7\nDf Model:                           1                                         \nCovariance Type:            nonrobust                                         \n==============================================================================\n                 coef    std err          t      P>|t|      [0.025      0.975]\n------------------------------------------------------------------------------\nIntercept     34.4219     20.900      1.647      0.128     -11.579      80.423\nte           369.5957    113.191      3.265      0.008     120.464     618.728\n==============================================================================\nOmnibus:                       15.387   Durbin-Watson:                   2.568\nProb(Omnibus):                  0.000   Jarque-Bera (JB):               12.916\nSkew:                           1.413   Prob(JB):                      0.00157\nKurtosis:                       6.982   Cond. No.                         7.65\n==============================================================================\n\nNotes:\n[1] Standard Errors assume that the covariance matrix of the errors is correctly specified.\n\"\"\"",
      "text/html": "<table class=\"simpletable\">\n<caption>OLS Regression Results</caption>\n<tr>\n  <th>Dep. Variable:</th>           <td>cr</td>        <th>  R-squared:         </th> <td>   0.492</td>\n</tr>\n<tr>\n  <th>Model:</th>                   <td>OLS</td>       <th>  Adj. R-squared:    </th> <td>   0.446</td>\n</tr>\n<tr>\n  <th>Method:</th>             <td>Least Squares</td>  <th>  F-statistic:       </th> <td>   10.66</td>\n</tr>\n<tr>\n  <th>Date:</th>             <td>Tue, 12 Sep 2023</td> <th>  Prob (F-statistic):</th>  <td>0.00753</td>\n</tr>\n<tr>\n  <th>Time:</th>                 <td>18:11:54</td>     <th>  Log-Likelihood:    </th> <td> -69.281</td>\n</tr>\n<tr>\n  <th>No. Observations:</th>      <td>    13</td>      <th>  AIC:               </th> <td>   142.6</td>\n</tr>\n<tr>\n  <th>Df Residuals:</th>          <td>    11</td>      <th>  BIC:               </th> <td>   143.7</td>\n</tr>\n<tr>\n  <th>Df Model:</th>              <td>     1</td>      <th>                     </th>     <td> </td>   \n</tr>\n<tr>\n  <th>Covariance Type:</th>      <td>nonrobust</td>    <th>                     </th>     <td> </td>   \n</tr>\n</table>\n<table class=\"simpletable\">\n<tr>\n      <td></td>         <th>coef</th>     <th>std err</th>      <th>t</th>      <th>P>|t|</th>  <th>[0.025</th>    <th>0.975]</th>  \n</tr>\n<tr>\n  <th>Intercept</th> <td>   34.4219</td> <td>   20.900</td> <td>    1.647</td> <td> 0.128</td> <td>  -11.579</td> <td>   80.423</td>\n</tr>\n<tr>\n  <th>te</th>        <td>  369.5957</td> <td>  113.191</td> <td>    3.265</td> <td> 0.008</td> <td>  120.464</td> <td>  618.728</td>\n</tr>\n</table>\n<table class=\"simpletable\">\n<tr>\n  <th>Omnibus:</th>       <td>15.387</td> <th>  Durbin-Watson:     </th> <td>   2.568</td>\n</tr>\n<tr>\n  <th>Prob(Omnibus):</th> <td> 0.000</td> <th>  Jarque-Bera (JB):  </th> <td>  12.916</td>\n</tr>\n<tr>\n  <th>Skew:</th>          <td> 1.413</td> <th>  Prob(JB):          </th> <td> 0.00157</td>\n</tr>\n<tr>\n  <th>Kurtosis:</th>      <td> 6.982</td> <th>  Cond. No.          </th> <td>    7.65</td>\n</tr>\n</table><br/><br/>Notes:<br/>[1] Standard Errors assume that the covariance matrix of the errors is correctly specified."
     },
     "metadata": {},
     "output_type": "display_data"
    }
   ],
   "source": [
    "import statsmodels.formula.api as smf\n",
    "for comp in ['pmc', 'swing', 'sz']:\n",
    "    model = smf.ols(formula='cr ~ te', data=joined[(joined['compression'] == comp)]).fit()\n",
    "    display(model.summary())"
   ],
   "metadata": {
    "collapsed": false,
    "ExecuteTime": {
     "end_time": "2023-09-12T16:11:54.571410100Z",
     "start_time": "2023-09-12T16:11:54.508409300Z"
    }
   }
  },
  {
   "cell_type": "code",
   "execution_count": 4,
   "outputs": [],
   "source": [
    "ettm1 = pd.read_parquet('../data/raw/ETTm1/ETTm1.parquet')\n",
    "ettm2 = pd.read_parquet('../data/raw/ETTm2/ETTm2.parquet')\n",
    "solar = pd.read_parquet('../data/raw/Solar/solar.parquet')\n",
    "weather = pd.read_parquet('../data/raw/Weather/weather.parquet')\n",
    "wind = pd.read_parquet('../data/raw/Wind/wind.parquet')\n",
    "aus = pd.read_parquet('../data/raw/AUSElecDem/aus_electrical_demand.parquet')\n"
   ],
   "metadata": {
    "collapsed": false,
    "ExecuteTime": {
     "end_time": "2023-12-20T13:21:52.390066200Z",
     "start_time": "2023-12-20T13:21:52.262305Z"
    }
   }
  },
  {
   "cell_type": "code",
   "execution_count": 38,
   "outputs": [
    {
     "data": {
      "text/plain": "count    69680.000000\nmean        13.320642\nstd          8.564817\nmin         -4.221000\n25%          6.964000\n50%         11.396000\n75%         18.079000\nmax         46.007000\nName: OT, dtype: float64"
     },
     "metadata": {},
     "output_type": "display_data"
    },
    {
     "data": {
      "text/plain": "(35.72169515321236, 91.2785911420722, 83.44192907854226)"
     },
     "execution_count": 38,
     "metadata": {},
     "output_type": "execute_result"
    }
   ],
   "source": [
    "d = ettm1.OT.describe()\n",
    "display(d)\n",
    "(d['75%'] - d['mean'])/d['mean']*100,(d['mean'] - d['25%'])/d['25%']*100, (d['75%'] - d['25%'])/d['mean']*100"
   ],
   "metadata": {
    "collapsed": false,
    "ExecuteTime": {
     "end_time": "2023-12-20T13:34:10.821897200Z",
     "start_time": "2023-12-20T13:34:10.808436400Z"
    }
   }
  },
  {
   "cell_type": "code",
   "execution_count": 39,
   "outputs": [
    {
     "data": {
      "text/plain": "count    69680.000000\nmean        26.609798\nstd         11.886537\nmin         -2.646500\n25%         16.469500\n50%         26.577000\n75%         35.585999\nmax         58.876999\nName: OT, dtype: float64"
     },
     "metadata": {},
     "output_type": "display_data"
    },
    {
     "data": {
      "text/plain": "(33.73268732907382, 61.57016968969957, 71.84007423591866)"
     },
     "execution_count": 39,
     "metadata": {},
     "output_type": "execute_result"
    }
   ],
   "source": [
    "d = ettm2.OT.describe()\n",
    "display(d)\n",
    "(d['75%'] - d['mean'])/d['mean']*100,(d['mean'] - d['25%'])/d['25%']*100, (d['75%'] - d['25%'])/d['mean']*100"
   ],
   "metadata": {
    "collapsed": false,
    "ExecuteTime": {
     "end_time": "2023-12-20T13:34:25.112497Z",
     "start_time": "2023-12-20T13:34:25.082720400Z"
    }
   }
  },
  {
   "cell_type": "code",
   "execution_count": 48,
   "outputs": [
    {
     "data": {
      "text/plain": "         count        mean         std    min    25%    50%         75%  \\\ncount    137.0  137.000000  137.000000  137.0  137.0  137.0  137.000000   \nmean   52560.0    6.352652    9.203678    0.0    0.0    0.0   12.200821   \nstd        0.0    2.532767    3.472893    0.0    0.0    0.0    5.531961   \nmin    52560.0    1.606337    2.350481    0.0    0.0    0.0    3.050000   \n25%    52560.0    5.460884    7.929383    0.0    0.0    0.0   10.150000   \n50%    52560.0    5.746929    8.485564    0.0    0.0    0.0   11.000000   \n75%    52560.0    6.028389    8.859680    0.0    0.0    0.0   11.500000   \nmax    52560.0   19.131531   25.238678    0.0    0.0    0.0   43.299999   \n\n              max  \ncount  137.000000  \nmean    34.176642  \nstd     12.300060  \nmin      8.800000  \n25%     29.400000  \n50%     32.150002  \n75%     33.500000  \nmax     88.900002  ",
      "text/html": "<div>\n<style scoped>\n    .dataframe tbody tr th:only-of-type {\n        vertical-align: middle;\n    }\n\n    .dataframe tbody tr th {\n        vertical-align: top;\n    }\n\n    .dataframe thead th {\n        text-align: right;\n    }\n</style>\n<table border=\"1\" class=\"dataframe\">\n  <thead>\n    <tr style=\"text-align: right;\">\n      <th></th>\n      <th>count</th>\n      <th>mean</th>\n      <th>std</th>\n      <th>min</th>\n      <th>25%</th>\n      <th>50%</th>\n      <th>75%</th>\n      <th>max</th>\n    </tr>\n  </thead>\n  <tbody>\n    <tr>\n      <th>count</th>\n      <td>137.0</td>\n      <td>137.000000</td>\n      <td>137.000000</td>\n      <td>137.0</td>\n      <td>137.0</td>\n      <td>137.0</td>\n      <td>137.000000</td>\n      <td>137.000000</td>\n    </tr>\n    <tr>\n      <th>mean</th>\n      <td>52560.0</td>\n      <td>6.352652</td>\n      <td>9.203678</td>\n      <td>0.0</td>\n      <td>0.0</td>\n      <td>0.0</td>\n      <td>12.200821</td>\n      <td>34.176642</td>\n    </tr>\n    <tr>\n      <th>std</th>\n      <td>0.0</td>\n      <td>2.532767</td>\n      <td>3.472893</td>\n      <td>0.0</td>\n      <td>0.0</td>\n      <td>0.0</td>\n      <td>5.531961</td>\n      <td>12.300060</td>\n    </tr>\n    <tr>\n      <th>min</th>\n      <td>52560.0</td>\n      <td>1.606337</td>\n      <td>2.350481</td>\n      <td>0.0</td>\n      <td>0.0</td>\n      <td>0.0</td>\n      <td>3.050000</td>\n      <td>8.800000</td>\n    </tr>\n    <tr>\n      <th>25%</th>\n      <td>52560.0</td>\n      <td>5.460884</td>\n      <td>7.929383</td>\n      <td>0.0</td>\n      <td>0.0</td>\n      <td>0.0</td>\n      <td>10.150000</td>\n      <td>29.400000</td>\n    </tr>\n    <tr>\n      <th>50%</th>\n      <td>52560.0</td>\n      <td>5.746929</td>\n      <td>8.485564</td>\n      <td>0.0</td>\n      <td>0.0</td>\n      <td>0.0</td>\n      <td>11.000000</td>\n      <td>32.150002</td>\n    </tr>\n    <tr>\n      <th>75%</th>\n      <td>52560.0</td>\n      <td>6.028389</td>\n      <td>8.859680</td>\n      <td>0.0</td>\n      <td>0.0</td>\n      <td>0.0</td>\n      <td>11.500000</td>\n      <td>33.500000</td>\n    </tr>\n    <tr>\n      <th>max</th>\n      <td>52560.0</td>\n      <td>19.131531</td>\n      <td>25.238678</td>\n      <td>0.0</td>\n      <td>0.0</td>\n      <td>0.0</td>\n      <td>43.299999</td>\n      <td>88.900002</td>\n    </tr>\n  </tbody>\n</table>\n</div>"
     },
     "metadata": {},
     "output_type": "display_data"
    },
    {
     "data": {
      "text/plain": "mean     6.352652\n25%      0.000000\n75%     12.200821\nName: mean, dtype: float64"
     },
     "metadata": {},
     "output_type": "display_data"
    },
    {
     "name": "stderr",
     "output_type": "stream",
     "text": [
      "D:\\Anaconda\\envs\\dart\\lib\\site-packages\\ipykernel_launcher.py:5: RuntimeWarning: divide by zero encountered in double_scalars\n",
      "  \"\"\"\n"
     ]
    },
    {
     "data": {
      "text/plain": "(92.05869928344535, inf, 192.05869928344538)"
     },
     "execution_count": 48,
     "metadata": {},
     "output_type": "execute_result"
    }
   ],
   "source": [
    "d = solar.describe().T.describe()\n",
    "d = d[['mean', '25%', '75%']].iloc[1]\n",
    "(d['75%'] - d['mean'])/d['mean']*100,(d['mean'] - d['25%'])/d['25%']*100, (d['75%'] - d['25%'])/d['mean']*100"
   ],
   "metadata": {
    "collapsed": false,
    "ExecuteTime": {
     "end_time": "2023-12-20T13:40:46.028037400Z",
     "start_time": "2023-12-20T13:40:45.672332800Z"
    }
   }
  },
  {
   "cell_type": "code",
   "execution_count": 54,
   "outputs": [
    {
     "data": {
      "text/plain": "count    52704.000000\nmean       427.664764\nstd         18.751526\nmin        305.500000\n25%        415.500000\n50%        423.200012\n75%        437.100006\nmax        524.200012\nName: OT, dtype: float64"
     },
     "metadata": {},
     "output_type": "display_data"
    },
    {
     "data": {
      "text/plain": "(2.206223772576002, 2.927741132201414, 5.050686402374701)"
     },
     "execution_count": 54,
     "metadata": {},
     "output_type": "execute_result"
    }
   ],
   "source": [
    "d = weather.OT.describe()\n",
    "display(d)\n",
    "(d['75%'] - d['mean'])/d['mean']*100,(d['mean'] - d['25%'])/d['25%']*100, (d['75%'] - d['25%'])/d['mean']*100"
   ],
   "metadata": {
    "collapsed": false,
    "ExecuteTime": {
     "end_time": "2023-12-20T13:44:29.829695Z",
     "start_time": "2023-12-20T13:44:29.775607500Z"
    }
   }
  },
  {
   "cell_type": "code",
   "execution_count": 55,
   "outputs": [
    {
     "data": {
      "text/plain": "count    230736.000000\nmean       6740.515625\nstd        1361.918335\nmin        3498.385254\n25%        5751.761108\n50%        6783.570068\n75%        7658.944702\nmax       12865.795898\nName: y, dtype: float64"
     },
     "metadata": {},
     "output_type": "display_data"
    },
    {
     "data": {
      "text/plain": "(13.62550179013104, 17.190465632479622, 28.294327909817728)"
     },
     "execution_count": 55,
     "metadata": {},
     "output_type": "execute_result"
    }
   ],
   "source": [
    "d = aus.y.describe()\n",
    "display(d)\n",
    "(d['75%'] - d['mean'])/d['mean']*100,(d['mean'] - d['25%'])/d['25%']*100, (d['75%'] - d['25%'])/d['mean']*100"
   ],
   "metadata": {
    "collapsed": false,
    "ExecuteTime": {
     "end_time": "2023-12-20T13:45:38.624838600Z",
     "start_time": "2023-12-20T13:45:38.572926500Z"
    }
   }
  },
  {
   "cell_type": "code",
   "execution_count": 56,
   "outputs": [
    {
     "data": {
      "text/plain": "count    432000.000000\nmean        363.690948\nstd         329.669708\nmin         -68.110573\n25%         107.959009\n50%         270.256577\n75%         549.859192\nmax        2030.670776\nName: active power, dtype: float64"
     },
     "metadata": {},
     "output_type": "display_data"
    },
    {
     "data": {
      "text/plain": "(51.188583104152116, 236.8787387737519, 121.50431143892241)"
     },
     "execution_count": 56,
     "metadata": {},
     "output_type": "execute_result"
    }
   ],
   "source": [
    "d = wind['active power'].describe()\n",
    "display(d)\n",
    "(d['75%'] - d['mean'])/d['mean']*100,(d['mean'] - d['25%'])/d['25%']*100, (d['75%'] - d['25%'])/d['mean']*100"
   ],
   "metadata": {
    "collapsed": false,
    "ExecuteTime": {
     "end_time": "2023-12-20T13:46:28.442037300Z",
     "start_time": "2023-12-20T13:46:28.389759400Z"
    }
   }
  },
  {
   "cell_type": "code",
   "execution_count": 26,
   "outputs": [],
   "source": [
    "from scipy.stats import skew, kurtosis\n",
    "\n",
    "def compute_skew_kurtosis(data):\n",
    "    ts_skewness = skew(data)\n",
    "    ts_kurtosis = kurtosis(data, fisher=True)\n",
    "\n",
    "    # Print results\n",
    "    print(f\"Skewness: {ts_skewness}\")\n",
    "    print(f\"Kurtosis: {ts_kurtosis}\")"
   ],
   "metadata": {
    "collapsed": false,
    "ExecuteTime": {
     "end_time": "2023-12-20T13:25:53.532805400Z",
     "start_time": "2023-12-20T13:25:53.510905600Z"
    }
   }
  },
  {
   "cell_type": "code",
   "execution_count": 28,
   "outputs": [
    {
     "name": "stdout",
     "output_type": "stream",
     "text": [
      "Skewness: 0.9667847497500424\n",
      "Kurtosis: 0.7709062803549038\n"
     ]
    }
   ],
   "source": [
    "compute_skew_kurtosis(ettm1.OT)"
   ],
   "metadata": {
    "collapsed": false,
    "ExecuteTime": {
     "end_time": "2023-12-20T13:26:07.574013500Z",
     "start_time": "2023-12-20T13:26:07.478360Z"
    }
   }
  },
  {
   "cell_type": "code",
   "execution_count": 29,
   "outputs": [
    {
     "name": "stdout",
     "output_type": "stream",
     "text": [
      "Skewness: 0.09930423318815919\n",
      "Kurtosis: -0.811803464088662\n"
     ]
    }
   ],
   "source": [
    "compute_skew_kurtosis(ettm2.OT)"
   ],
   "metadata": {
    "collapsed": false,
    "ExecuteTime": {
     "end_time": "2023-12-20T13:26:21.730156300Z",
     "start_time": "2023-12-20T13:26:21.685923900Z"
    }
   }
  },
  {
   "cell_type": "code",
   "execution_count": null,
   "outputs": [],
   "source": [],
   "metadata": {
    "collapsed": false
   }
  }
 ],
 "metadata": {
  "kernelspec": {
   "display_name": "Python 3",
   "language": "python",
   "name": "python3"
  },
  "language_info": {
   "codemirror_mode": {
    "name": "ipython",
    "version": 2
   },
   "file_extension": ".py",
   "mimetype": "text/x-python",
   "name": "python",
   "nbconvert_exporter": "python",
   "pygments_lexer": "ipython2",
   "version": "2.7.6"
  }
 },
 "nbformat": 4,
 "nbformat_minor": 0
}
