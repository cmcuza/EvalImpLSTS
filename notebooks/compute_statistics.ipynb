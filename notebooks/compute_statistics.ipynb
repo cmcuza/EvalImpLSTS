{
 "cells": [
  {
   "cell_type": "code",
   "execution_count": 3,
   "metadata": {
    "collapsed": true,
    "ExecuteTime": {
     "end_time": "2023-09-18T14:51:28.834493700Z",
     "start_time": "2023-09-18T14:51:28.776040600Z"
    }
   },
   "outputs": [],
   "source": [
    "import pandas as pd\n",
    "import os\n",
    "import numpy as np\n",
    "from scipy.stats import spearmanr"
   ]
  },
  {
   "cell_type": "code",
   "execution_count": 5,
   "outputs": [],
   "source": [
    "def compute_rho_eb_te_cr(data_name):\n",
    "    cr_df = pd.read_csv('../results/cr/all_cr.csv')\n",
    "    cr_df = cr_df[cr_df.data == data_name]\n",
    "    te_df = pd.read_csv('../results/te/transformation_error.csv')\n",
    "    te_df = te_df[te_df.data == data_name]\n",
    "    te_df = te_df[te_df.metric == 'nrmse']\n",
    "    cr_df = cr_df.rename({'error_bound': 'eb', 'gzip': 'cr'}, axis=1)\n",
    "    te_df = te_df.rename({'decompression error': 'te'}, axis=1)\n",
    "    cr_df = cr_df[cr_df.eb.isin(te_df.eb)]\n",
    "    cr_df.set_index(['eb', 'compression'], inplace=True)\n",
    "    te_df.set_index(['eb', 'compression'], inplace=True)\n",
    "    cr_df.drop(['data'], axis=1, inplace=True)\n",
    "    te_df.drop(['data'], axis=1, inplace=True)\n",
    "    joined = cr_df.join(te_df)\n",
    "    joined.reset_index(inplace=True)\n",
    "    display(joined.groupby('compression').corr())\n",
    "    return joined\n",
    "\n",
    "def compute_rho_tfe_te_cr(data_name):\n",
    "    all_models_results = pd.read_csv('../results/tfe/all_models_results.csv')\n",
    "    all_models_results = all_models_results[all_models_results.data == data_name]\n",
    "    all_models_results = all_models_results[all_models_results.te_metric == 'nrmse']\n",
    "    if 'SOLAR' in data_name:\n",
    "        all_models_results = all_models_results[all_models_results.model != 'GRU']\n",
    "    all_models_results.drop(['forecasting error', 'error'], axis=1, inplace=True)\n",
    "    display(all_models_results.groupby('compression').corr(method='spearman'))\n",
    "    # columns = all_models_results.columns.tolist()\n",
    "    # ['compression', 'data', 'eb', 'tfe_metric', 'model', 'compression ratio', 'TFE', 'te_metric', 'te']\n",
    "    columns = ['compression ratio', 'TFE', 'te']\n",
    "\n",
    "    all_corr_results = pd.DataFrame()\n",
    "\n",
    "    for eblc in ['PMC', 'SWING', 'SZ']:\n",
    "        correlations = {}\n",
    "        pvalues = {}\n",
    "        ebcl_results = all_models_results[all_models_results.compression == eblc]\n",
    "        for col1 in range(3):\n",
    "            for col2 in range(col1, 3):\n",
    "                if col1 != col2:\n",
    "                    corr, pvalue = spearmanr(ebcl_results[columns[col1]], ebcl_results[columns[col2]])\n",
    "                    correlations[f\"{columns[col1]}_{columns[col2]}\"] = corr\n",
    "                    pvalues[f\"{columns[col1]}_{columns[col2]}\"] = pvalue\n",
    "        eblc_corr = pd.DataFrame([correlations, pvalues], index=['correlation', 'pvalue'])\n",
    "        eblc_corr['eblc'] = eblc\n",
    "        all_corr_results = pd.concat([all_corr_results, eblc_corr])\n",
    "    return all_corr_results\n",
    "\n",
    "def compute_rho_tfe_te_cr_pweather():\n",
    "    pweather_results = pd.read_csv('../results/tfe/pprocessed_weather.csv')\n",
    "    pweather_results.drop(['forecasting error'], axis=1, inplace=True)\n",
    "    display(pweather_results.groupby('compression').corr(method='spearman'))\n",
    "\n",
    "def get_tfe(model_results):\n",
    "    baseline_result  = model_results[model_results.eblc == 'baseline']\n",
    "    model_results['tfe'] = (model_results.nrmse.values - baseline_result.nrmse.values)/baseline_result.nrmse.values\n",
    "    baseline_result = baseline_result.append([baseline_result]*2, ignore_index=True)\n",
    "    baseline_result.at[0, 'eblc'] = 'pmc'\n",
    "    baseline_result.at[1, 'eblc'] = 'sz'\n",
    "    baseline_result.at[2, 'eblc'] = 'swing'\n",
    "    baseline_result['tfe'] = 0.\n",
    "    return pd.concat([model_results, baseline_result])\n",
    "\n",
    "def compute_rho_tfe_te_cr_aus():\n",
    "    all_results = pd.DataFrame()\n",
    "    for root, dirs, files in os.walk('../results/tfe/per_model/'):\n",
    "        for result_file in files:\n",
    "            if 'gru' in result_file or 'arima' in result_file:\n",
    "                continue\n",
    "            print(result_file)\n",
    "            model_results = pd.read_csv(os.path.join(root, result_file))\n",
    "            model_results = model_results[(model_results.data == 'aus')]\n",
    "            model_results = get_tfe(model_results)\n",
    "            all_results = pd.concat([all_results, model_results])\n",
    "\n",
    "    all_results = all_results[['error', 'tfe', 'eblc']]\n",
    "\n",
    "    return all_results\n",
    "\n",
    "\n",
    "def get_feature_diff(features):\n",
    "    raw_feat = features.iloc[0]\n",
    "    num_colums = features.columns[:-3]\n",
    "    features[num_colums] = features[num_colums].astype(float)\n",
    "    features[num_colums] -= raw_feat[num_colums].astype(float)\n",
    "    features[num_colums] = features[num_colums].astype(float)\n",
    "    raw_feat = features[features.compression == 'RAW']\n",
    "    raw_feat = raw_feat.append([raw_feat], ignore_index=True)\n",
    "    features.at[0, 'compression'] = 'PMC'\n",
    "    raw_feat.at[0, 'compression'] = 'SZ'\n",
    "    raw_feat.at[1, 'compression'] = 'SWING'\n",
    "    return pd.concat([raw_feat, features])\n",
    "\n",
    "\n",
    "def get_feature_diff_percentage(features):\n",
    "    raw_feat = features.iloc[0]\n",
    "    num_colums = features.columns[:-3]\n",
    "    features[num_colums] = features[num_colums].astype(float)\n",
    "    features[num_colums] = (features[num_colums] - raw_feat[num_colums].astype(float))/raw_feat[num_colums].astype(float)\n",
    "    features[num_colums] = features[num_colums].astype(float)\n",
    "    raw_feat = features[features.compression == 'RAW']\n",
    "    raw_feat = raw_feat.append([raw_feat], ignore_index=True)\n",
    "    features.at[0, 'compression'] = 'PMC'\n",
    "    raw_feat.at[0, 'compression'] = 'SZ'\n",
    "    raw_feat.at[1, 'compression'] = 'SWING'\n",
    "    return pd.concat([raw_feat, features])\n",
    "\n",
    "def get_features_diff_solar(features):\n",
    "    raw_feat = features.iloc[0]\n",
    "    num_colums = features.columns[2:-1]\n",
    "    features[num_colums] = features[num_colums].astype(float)\n",
    "    features[num_colums] -= raw_feat[num_colums].astype(float)\n",
    "    features[num_colums] = features[num_colums].astype(float)\n",
    "    raw_feat = features[features.compression == 'RAW']\n",
    "    raw_feat = raw_feat.append([raw_feat], ignore_index=True)\n",
    "    features.at[0, 'compression'] = 'PMC'\n",
    "    raw_feat.at[0, 'compression'] = 'SZ'\n",
    "    raw_feat.at[1, 'compression'] = 'SWING'\n",
    "    return pd.concat([raw_feat, features])\n",
    "\n",
    "def get_features_diff_percentage_solar(features):\n",
    "    raw_feat = features.iloc[0]\n",
    "    num_colums = features.columns[2:-1]\n",
    "    features[num_colums] = features[num_colums].astype(float)\n",
    "    features[num_colums] = (features[num_colums] - raw_feat[num_colums].astype(float))/raw_feat[num_colums].astype(float)\n",
    "    features[num_colums] = features[num_colums].astype(float)\n",
    "    raw_feat = features[features.compression == 'RAW']\n",
    "    raw_feat = raw_feat.append([raw_feat], ignore_index=True)\n",
    "    features.at[0, 'compression'] = 'PMC'\n",
    "    raw_feat.at[0, 'compression'] = 'SZ'\n",
    "    raw_feat.at[1, 'compression'] = 'SWING'\n",
    "    return pd.concat([raw_feat, features])\n",
    "\n",
    "def get_baselines_well(features):\n",
    "    num_colums = features.columns[:-3]\n",
    "    features[num_colums] = features[num_colums].astype(float)\n",
    "    raw_feat = features[features.compression == 'RAW']\n",
    "    raw_feat = raw_feat.append([raw_feat], ignore_index=True)\n",
    "    features.at[0, 'compression'] = 'PMC'\n",
    "    raw_feat.at[0, 'compression'] = 'SZ'\n",
    "    raw_feat.at[1, 'compression'] = 'SWING'\n",
    "    return pd.concat([raw_feat, features])\n",
    "\n",
    "def get_baselines_well_solar(features):\n",
    "    num_colums = features.columns[2:-1]\n",
    "    features[num_colums] = features[num_colums].astype(float)\n",
    "    raw_feat = features[features.compression == 'RAW']\n",
    "    raw_feat = raw_feat.append([raw_feat], ignore_index=True)\n",
    "    features.at[0, 'compression'] = 'PMC'\n",
    "    raw_feat.at[0, 'compression'] = 'SZ'\n",
    "    raw_feat.at[1, 'compression'] = 'SWING'\n",
    "    return pd.concat([raw_feat, features])\n",
    "\n",
    "\n",
    "def compute_features():\n",
    "    all_models_results = pd.read_csv('../results/tfe/models_results.csv')\n",
    "    datasets = all_models_results.data.str.lower().unique()\n",
    "    all_datasets_features = pd.DataFrame()\n",
    "    for dataset in datasets:\n",
    "        print(dataset)\n",
    "        features = pd.read_csv(f'../results/features/test_{dataset}_features.csv')\n",
    "        x = features.eb.values\n",
    "        features.eb = np.where(x >= 1.0, x*0.01, x)\n",
    "        features.eblc = features.eblc.str.upper()\n",
    "        features.rename({'eblc': 'compression'}, axis=1, inplace=True)\n",
    "        features = get_baselines_well(features) if 'solar' not in dataset else get_baselines_well_solar(features)\n",
    "        features.set_index(['compression', 'eb'], inplace=True)\n",
    "        model_results = all_models_results[all_models_results.data == dataset.upper()]\n",
    "        model_results = model_results[model_results.te_metric == 'nrmse']\n",
    "        model_results = model_results[['eb',  'te', 'TFE', 'compression']]\n",
    "        joined_df = features.merge(model_results.reset_index(drop=True), on=['compression', 'eb']).drop_duplicates()\n",
    "        joined_df['data'] = dataset\n",
    "        all_datasets_features = pd.concat([all_datasets_features, joined_df])\n",
    "\n",
    "    all_datasets_features.to_csv('../results/features/all_datasets_features.csv', index=False)\n",
    "\n",
    "\n",
    "def compute_features_diff_percentage():\n",
    "    all_models_results = pd.read_csv('../results/tfe/models_results.csv')\n",
    "    datasets = all_models_results.data.str.lower().unique()\n",
    "    all_datasets_features = pd.DataFrame()\n",
    "    for dataset in datasets:\n",
    "        print(dataset)\n",
    "        features = pd.read_csv(f'../results/features/test_{dataset}_features.csv')\n",
    "        x = features.eb.values\n",
    "        features.eb = np.where(x >= 1.0, x*0.01, x)\n",
    "        features.eblc = features.eblc.str.upper()\n",
    "        features.rename({'eblc': 'compression'}, axis=1, inplace=True)\n",
    "        features = get_feature_diff_percentage(features) if 'solar' not in dataset else get_features_diff_percentage_solar(features)\n",
    "        features.set_index(['compression', 'eb'], inplace=True)\n",
    "        model_results = all_models_results[all_models_results.data == dataset.upper()]\n",
    "        model_results = model_results[model_results.te_metric == 'nrmse']\n",
    "        model_results = model_results[['eb', 'te', 'TFE', 'compression']]\n",
    "        joined_df = features.merge(model_results.reset_index(drop=True), on=['compression', 'eb']).drop_duplicates()\n",
    "        joined_df['data'] = dataset\n",
    "        all_datasets_features = pd.concat([all_datasets_features, joined_df])\n",
    "\n",
    "    all_datasets_features.to_csv('../results/features/all_datasets_features_diff_percentage.csv', index=False)\n",
    "    return all_datasets_features.corr('spearman')\n",
    "\n",
    "\n",
    "def compute_features_tfe_corr():\n",
    "    all_models_results = pd.read_csv('../results/tfe/models_results.csv')\n",
    "    datasets = all_models_results.data.str.lower().unique()\n",
    "    all_datasets_features = pd.DataFrame()\n",
    "    for dataset in datasets:\n",
    "        print(dataset)\n",
    "        features = pd.read_csv(f'../results/features/test_{dataset}_features.csv')\n",
    "        x = features.eb.values\n",
    "        features.eb = np.where(x >= 1.0, x*0.01, x)\n",
    "        features.eblc = features.eblc.str.upper()\n",
    "        features.rename({'eblc': 'compression'}, axis=1, inplace=True)\n",
    "        features = get_feature_diff(features) if 'solar' not in dataset else get_features_diff_solar(features)\n",
    "        features.set_index(['compression', 'eb'], inplace=True)\n",
    "        model_results = all_models_results[all_models_results.data == dataset.upper()]\n",
    "        model_results = model_results[model_results.te_metric == 'nrmse']\n",
    "        model_results = model_results[['eb',  'te', 'TFE', 'compression']]\n",
    "        joined_df = features.merge(model_results.reset_index(drop=True), on=['compression', 'eb']).drop_duplicates()\n",
    "        joined_df['data'] = dataset\n",
    "        all_datasets_features = pd.concat([all_datasets_features, joined_df])\n",
    "\n",
    "    all_datasets_features.to_csv('../results/features/all_datasets_features_diff.csv', index=False)\n",
    "    return all_datasets_features.corr('spearman')\n",
    "\n"
   ],
   "metadata": {
    "collapsed": false,
    "ExecuteTime": {
     "end_time": "2023-09-18T20:55:32.309179600Z",
     "start_time": "2023-09-18T20:55:32.163189200Z"
    }
   }
  },
  {
   "cell_type": "code",
   "execution_count": 6,
   "outputs": [
    {
     "name": "stdout",
     "output_type": "stream",
     "text": [
      "ettm2\n",
      "ettm1\n",
      "wind\n",
      "solar\n",
      "weather\n",
      "aus\n"
     ]
    },
    {
     "data": {
      "text/plain": "                         eb      mean       var  max_kl_shift  time_kl_shift  \\\neb                 1.000000 -0.359034 -0.243797      0.601491      -0.092623   \nmean              -0.359034  1.000000  0.114055     -0.267071      -0.112175   \nvar               -0.243797  0.114055  1.000000     -0.482291       0.173313   \nmax_kl_shift       0.601491 -0.267071 -0.482291      1.000000      -0.056249   \ntime_kl_shift     -0.092623 -0.112175  0.173313     -0.056249       1.000000   \nmax_level_shift    0.111844  0.074808 -0.368105      0.267627      -0.164164   \ntime_level_shift   0.012655 -0.111260  0.159886     -0.095061       0.294844   \nmax_var_shift      0.206705 -0.182641 -0.291138      0.322158      -0.012175   \ntime_var_shift     0.096136 -0.088480  0.127246     -0.080377       0.226509   \nx_acf1            -0.198447  0.359082 -0.125419     -0.227111       0.004957   \nx_acf10           -0.039840  0.265078 -0.406538     -0.009593      -0.042717   \ndiff1_acf1        -0.484575  0.339559  0.206609     -0.483192       0.097462   \ndiff1_acf10       -0.351118  0.158497  0.094572     -0.137537       0.045884   \ndiff2_acf1        -0.115134  0.274386 -0.089566     -0.212829      -0.214144   \ndiff2_acf10        0.126458 -0.118514  0.164728      0.261712       0.112336   \nseas_acf1         -0.187885  0.435793 -0.031888     -0.209023       0.054175   \nARCH.LM           -0.200740  0.417069 -0.115345     -0.163199      -0.022134   \ncrossing_points   -0.310248  0.012245  0.536981     -0.491983       0.014000   \nentropy            0.009525 -0.402344  0.223257      0.061153       0.086963   \nflat_spots         0.602027 -0.172786 -0.555331      0.676074      -0.135518   \nalpha              0.086699  0.101253 -0.138023     -0.147338      -0.032169   \nbeta              -0.469697  0.318386  0.179795     -0.330328      -0.009378   \nhurst             -0.032259  0.105099 -0.001155     -0.154450       0.099255   \nlumpiness          0.127215 -0.190817 -0.185046      0.303856      -0.063026   \nnonlinearity       0.269675 -0.145353  0.031632      0.131620      -0.150711   \nx_pacf5           -0.365455  0.267400  0.094442     -0.242543      -0.031887   \ndiff1x_pacf5      -0.381776  0.212152  0.125655     -0.209188      -0.005656   \ndiff2x_pacf5       0.416759 -0.299738 -0.170613      0.511803      -0.011617   \nseas_pacf          0.409882 -0.344222 -0.278092      0.341383       0.011334   \nstability          0.097989  0.372926 -0.397389      0.117109      -0.105644   \nunitroot_kpss      0.077482  0.375830 -0.209421      0.030233      -0.107704   \nunitroot_pp        0.044447  0.267857 -0.386764      0.015687      -0.088686   \nnperiods                NaN       NaN       NaN           NaN            NaN   \nseasonal_period         NaN       NaN       NaN           NaN            NaN   \ntrend             -0.044222  0.284385 -0.177712     -0.116810       0.024801   \nspike              0.396365 -0.356634 -0.182867      0.402394      -0.026763   \nlinearity         -0.025559 -0.117547 -0.037653      0.091374       0.087307   \ncurvature          0.179940 -0.061338 -0.112462      0.186993      -0.067795   \ne_acf1            -0.123872  0.355210  0.209516     -0.357020       0.094092   \ne_acf10           -0.117021  0.295988 -0.062643     -0.145459       0.082439   \nseasonal_strength -0.492407  0.238303  0.298927     -0.542245       0.211817   \npeak               0.147704  0.101138  0.095142     -0.049538      -0.211141   \ntrough             0.058067  0.002329 -0.357770      0.195874       0.022521   \nte                 0.755653 -0.443750 -0.544091      0.818096      -0.113032   \nTFE                0.660665 -0.448635 -0.471729      0.766695      -0.106192   \n\n                   max_level_shift  time_level_shift  max_var_shift  \\\neb                        0.111844          0.012655       0.206705   \nmean                      0.074808         -0.111260      -0.182641   \nvar                      -0.368105          0.159886      -0.291138   \nmax_kl_shift              0.267627         -0.095061       0.322158   \ntime_kl_shift            -0.164164          0.294844      -0.012175   \nmax_level_shift           1.000000         -0.266466       0.400592   \ntime_level_shift         -0.266466          1.000000      -0.039405   \nmax_var_shift             0.400592         -0.039405       1.000000   \ntime_var_shift           -0.121363          0.355796       0.037879   \nx_acf1                    0.040686         -0.049701      -0.094117   \nx_acf10                   0.304925         -0.061538      -0.060465   \ndiff1_acf1               -0.147616          0.038527      -0.086560   \ndiff1_acf10              -0.157780          0.035163      -0.001374   \ndiff2_acf1                0.052606         -0.180920      -0.072854   \ndiff2_acf10              -0.050703          0.131113       0.113508   \nseas_acf1                -0.052544         -0.043332      -0.234302   \nARCH.LM                   0.045432         -0.069865      -0.137789   \ncrossing_points          -0.244476          0.155383      -0.077244   \nentropy                  -0.180245          0.074394       0.180429   \nflat_spots                0.230293         -0.153926       0.208305   \nalpha                     0.089548         -0.128445      -0.023476   \nbeta                     -0.133039          0.039782      -0.077290   \nhurst                     0.012931          0.168162      -0.069594   \nlumpiness                 0.302079         -0.107977       0.708346   \nnonlinearity              0.155242          0.067619       0.265426   \nx_pacf5                  -0.156017          0.033279      -0.052228   \ndiff1x_pacf5             -0.170249          0.023262      -0.020276   \ndiff2x_pacf5              0.049378          0.038611       0.121351   \nseas_pacf                 0.091033          0.001016      -0.012276   \nstability                 0.363818         -0.043480      -0.049711   \nunitroot_kpss             0.158670         -0.054485      -0.204787   \nunitroot_pp               0.277360         -0.108643      -0.094597   \nnperiods                       NaN               NaN            NaN   \nseasonal_period                NaN               NaN            NaN   \ntrend                     0.139070          0.026079      -0.003706   \nspike                     0.233039         -0.016593       0.308884   \nlinearity                -0.213934         -0.022319       0.147684   \ncurvature                 0.181885          0.084425       0.066448   \ne_acf1                   -0.013215          0.044529      -0.033382   \ne_acf10                   0.050439         -0.037906      -0.032224   \nseasonal_strength        -0.285418          0.142394      -0.125600   \npeak                      0.153042         -0.075600       0.001061   \ntrough                    0.022053          0.031703       0.054160   \nte                        0.230332         -0.094383       0.259570   \nTFE                       0.231704         -0.085664       0.252370   \n\n                   time_var_shift    x_acf1  ...     spike  linearity  \\\neb                       0.096136 -0.198447  ...  0.396365  -0.025559   \nmean                    -0.088480  0.359082  ... -0.356634  -0.117547   \nvar                      0.127246 -0.125419  ... -0.182867  -0.037653   \nmax_kl_shift            -0.080377 -0.227111  ...  0.402394   0.091374   \ntime_kl_shift            0.226509  0.004957  ... -0.026763   0.087307   \nmax_level_shift         -0.121363  0.040686  ...  0.233039  -0.213934   \ntime_level_shift         0.355796 -0.049701  ... -0.016593  -0.022319   \nmax_var_shift            0.037879 -0.094117  ...  0.308884   0.147684   \ntime_var_shift           1.000000  0.005830  ... -0.051957  -0.110798   \nx_acf1                   0.005830  1.000000  ... -0.214675  -0.098622   \nx_acf10                  0.013867  0.750099  ... -0.070680  -0.352158   \ndiff1_acf1               0.015421  0.667360  ... -0.146172   0.086801   \ndiff1_acf10             -0.010750  0.391756  ...  0.049498   0.263780   \ndiff2_acf1              -0.137920  0.436208  ... -0.041785  -0.172841   \ndiff2_acf10              0.104162 -0.387144  ...  0.123544   0.165947   \nseas_acf1                0.072567  0.844862  ... -0.334068   0.016172   \nARCH.LM                 -0.029589  0.942499  ... -0.229470  -0.069841   \ncrossing_points          0.162834 -0.281468  ... -0.219437   0.077125   \nentropy                 -0.002427 -0.804551  ...  0.160687   0.286812   \nflat_spots              -0.118531  0.160227  ...  0.410635   0.014956   \nalpha                   -0.023043  0.292252  ... -0.073453  -0.256578   \nbeta                    -0.019406  0.570842  ... -0.082346   0.098169   \nhurst                    0.136557  0.286397  ... -0.155518  -0.005390   \nlumpiness               -0.010097 -0.223591  ...  0.476886   0.220418   \nnonlinearity             0.048885 -0.408094  ...  0.421663  -0.112353   \nx_pacf5                  0.013178  0.526912  ... -0.029426   0.198236   \ndiff1x_pacf5            -0.013921  0.408783  ...  0.005598   0.242588   \ndiff2x_pacf5             0.054761 -0.628153  ...  0.087819   0.066622   \nseas_pacf               -0.047872 -0.408721  ...  0.187428  -0.000420   \nstability               -0.009141  0.560597  ... -0.058773  -0.448334   \nunitroot_kpss           -0.059737  0.393024  ... -0.057351  -0.437522   \nunitroot_pp              0.010365  0.724847  ... -0.080486  -0.365183   \nnperiods                      NaN       NaN  ...       NaN        NaN   \nseasonal_period               NaN       NaN  ...       NaN        NaN   \ntrend                    0.085381  0.654489  ... -0.378913  -0.273910   \nspike                   -0.051957 -0.214675  ...  1.000000   0.016037   \nlinearity               -0.110798 -0.098622  ...  0.016037   1.000000   \ncurvature                0.160414 -0.005033  ...  0.116749  -0.504658   \ne_acf1                   0.076564  0.725630  ... -0.148347  -0.077472   \ne_acf10                  0.053022  0.795162  ... -0.098284  -0.051017   \nseasonal_strength        0.148567  0.147952  ... -0.679465   0.165908   \npeak                    -0.099034 -0.142212  ...  0.294265  -0.413570   \ntrough                  -0.027053  0.355550  ... -0.003661   0.084891   \nte                      -0.135018 -0.175202  ...  0.513353  -0.007492   \nTFE                     -0.133507 -0.305901  ...  0.443070  -0.040620   \n\n                   curvature    e_acf1   e_acf10  seasonal_strength      peak  \\\neb                  0.179940 -0.123872 -0.117021          -0.492407  0.147704   \nmean               -0.061338  0.355210  0.295988           0.238303  0.101138   \nvar                -0.112462  0.209516 -0.062643           0.298927  0.095142   \nmax_kl_shift        0.186993 -0.357020 -0.145459          -0.542245 -0.049538   \ntime_kl_shift      -0.067795  0.094092  0.082439           0.211817 -0.211141   \nmax_level_shift     0.181885 -0.013215  0.050439          -0.285418  0.153042   \ntime_level_shift    0.084425  0.044529 -0.037906           0.142394 -0.075600   \nmax_var_shift       0.066448 -0.033382 -0.032224          -0.125600  0.001061   \ntime_var_shift      0.160414  0.076564  0.053022           0.148567 -0.099034   \nx_acf1             -0.005033  0.725630  0.795162           0.147952 -0.142212   \nx_acf10             0.163236  0.429366  0.639411          -0.155722  0.074362   \ndiff1_acf1         -0.092053  0.693848  0.592370           0.334688 -0.083626   \ndiff1_acf10        -0.084897  0.364590  0.399331           0.102971 -0.173157   \ndiff2_acf1          0.110583  0.275071  0.116152          -0.023881  0.170152   \ndiff2_acf10        -0.051170 -0.225595 -0.113294          -0.084229 -0.096787   \nseas_acf1          -0.116423  0.661741  0.698841           0.260377 -0.227451   \nARCH.LM            -0.001799  0.687776  0.727078           0.139820 -0.185205   \ncrossing_points    -0.104384 -0.018997 -0.354915           0.493601 -0.039373   \nentropy            -0.152367 -0.496892 -0.595638           0.097396  0.002552   \nflat_spots          0.139041 -0.017400  0.162643          -0.580971 -0.014769   \nalpha               0.079635  0.182829  0.092355           0.000945  0.124513   \nbeta               -0.041645  0.546555  0.475306           0.224627 -0.123012   \nhurst              -0.080696  0.205748  0.153276           0.204427 -0.113307   \nlumpiness           0.076802 -0.097886 -0.112746          -0.228870  0.091675   \nnonlinearity        0.087785 -0.205167 -0.379530          -0.236365  0.374384   \nx_pacf5            -0.068190  0.475175  0.454072           0.161499 -0.151915   \ndiff1x_pacf5       -0.078153  0.395215  0.363883           0.163739 -0.161948   \ndiff2x_pacf5        0.000681 -0.634676 -0.450571          -0.209413 -0.078173   \nseas_pacf           0.044362 -0.479895 -0.263178          -0.307711  0.052084   \nstability           0.267572  0.316131  0.468030          -0.238252  0.189194   \nunitroot_kpss       0.171913  0.200133  0.334237          -0.244470  0.302901   \nunitroot_pp         0.126933  0.412911  0.600233          -0.141071  0.065635   \nnperiods                 NaN       NaN       NaN                NaN       NaN   \nseasonal_period          NaN       NaN       NaN                NaN       NaN   \ntrend               0.054033  0.368927  0.430019           0.236181 -0.121491   \nspike               0.116749 -0.148347 -0.098284          -0.679465  0.294265   \nlinearity          -0.504658 -0.077472 -0.051017           0.165908 -0.413570   \ncurvature           1.000000 -0.046873 -0.060909          -0.255455  0.263456   \ne_acf1             -0.046873  1.000000  0.827927           0.300784 -0.040175   \ne_acf10            -0.060909  0.827927  1.000000           0.123990 -0.113008   \nseasonal_strength  -0.255455  0.300784  0.123990           1.000000 -0.392818   \npeak                0.263456 -0.040175 -0.113008          -0.392818  1.000000   \ntrough             -0.057177  0.208142  0.374873          -0.007416 -0.317257   \nte                  0.236790 -0.338056 -0.162191          -0.710672  0.102924   \nTFE                 0.241974 -0.472125 -0.292113          -0.675489  0.170651   \n\n                     trough        te       TFE  \neb                 0.058067  0.755653  0.660665  \nmean               0.002329 -0.443750 -0.448635  \nvar               -0.357770 -0.544091 -0.471729  \nmax_kl_shift       0.195874  0.818096  0.766695  \ntime_kl_shift      0.022521 -0.113032 -0.106192  \nmax_level_shift    0.022053  0.230332  0.231704  \ntime_level_shift   0.031703 -0.094383 -0.085664  \nmax_var_shift      0.054160  0.259570  0.252370  \ntime_var_shift    -0.027053 -0.135018 -0.133507  \nx_acf1             0.355550 -0.175202 -0.305901  \nx_acf10            0.355670  0.095492  0.031070  \ndiff1_acf1         0.095587 -0.477096 -0.596351  \ndiff1_acf10        0.134436 -0.216290 -0.362869  \ndiff2_acf1         0.061065 -0.017835 -0.129355  \ndiff2_acf10       -0.068102  0.048168  0.096088  \nseas_acf1          0.371773 -0.230198 -0.363005  \nARCH.LM            0.355568 -0.152009 -0.307496  \ncrossing_points   -0.281270 -0.584658 -0.505479  \nentropy           -0.344491 -0.029037  0.071870  \nflat_spots         0.344264  0.812840  0.637209  \nalpha              0.105886  0.051966  0.029842  \nbeta               0.105798 -0.369374 -0.510966  \nhurst              0.123224 -0.206658 -0.173043  \nlumpiness         -0.076425  0.183033  0.173686  \nnonlinearity      -0.164845  0.162675  0.207414  \nx_pacf5            0.155728 -0.280376 -0.445620  \ndiff1x_pacf5       0.120947 -0.265585 -0.420329  \ndiff2x_pacf5      -0.027933  0.386811  0.483996  \nseas_pacf         -0.015717  0.388500  0.475499  \nstability          0.302994  0.174314  0.140394  \nunitroot_kpss      0.146242  0.101532  0.104821  \nunitroot_pp        0.383000  0.138246  0.050612  \nnperiods                NaN       NaN       NaN  \nseasonal_period         NaN       NaN       NaN  \ntrend              0.282511 -0.069521 -0.119068  \nspike             -0.003661  0.513353  0.443070  \nlinearity          0.084891 -0.007492 -0.040620  \ncurvature         -0.057177  0.236790  0.241974  \ne_acf1             0.208142 -0.338056 -0.472125  \ne_acf10            0.374873 -0.162191 -0.292113  \nseasonal_strength -0.007416 -0.710672 -0.675489  \npeak              -0.317257  0.102924  0.170651  \ntrough             1.000000  0.191233  0.084229  \nte                 0.191233  1.000000  0.901793  \nTFE                0.084229  0.901793  1.000000  \n\n[45 rows x 45 columns]",
      "text/html": "<div>\n<style scoped>\n    .dataframe tbody tr th:only-of-type {\n        vertical-align: middle;\n    }\n\n    .dataframe tbody tr th {\n        vertical-align: top;\n    }\n\n    .dataframe thead th {\n        text-align: right;\n    }\n</style>\n<table border=\"1\" class=\"dataframe\">\n  <thead>\n    <tr style=\"text-align: right;\">\n      <th></th>\n      <th>eb</th>\n      <th>mean</th>\n      <th>var</th>\n      <th>max_kl_shift</th>\n      <th>time_kl_shift</th>\n      <th>max_level_shift</th>\n      <th>time_level_shift</th>\n      <th>max_var_shift</th>\n      <th>time_var_shift</th>\n      <th>x_acf1</th>\n      <th>...</th>\n      <th>spike</th>\n      <th>linearity</th>\n      <th>curvature</th>\n      <th>e_acf1</th>\n      <th>e_acf10</th>\n      <th>seasonal_strength</th>\n      <th>peak</th>\n      <th>trough</th>\n      <th>te</th>\n      <th>TFE</th>\n    </tr>\n  </thead>\n  <tbody>\n    <tr>\n      <th>eb</th>\n      <td>1.000000</td>\n      <td>-0.359034</td>\n      <td>-0.243797</td>\n      <td>0.601491</td>\n      <td>-0.092623</td>\n      <td>0.111844</td>\n      <td>0.012655</td>\n      <td>0.206705</td>\n      <td>0.096136</td>\n      <td>-0.198447</td>\n      <td>...</td>\n      <td>0.396365</td>\n      <td>-0.025559</td>\n      <td>0.179940</td>\n      <td>-0.123872</td>\n      <td>-0.117021</td>\n      <td>-0.492407</td>\n      <td>0.147704</td>\n      <td>0.058067</td>\n      <td>0.755653</td>\n      <td>0.660665</td>\n    </tr>\n    <tr>\n      <th>mean</th>\n      <td>-0.359034</td>\n      <td>1.000000</td>\n      <td>0.114055</td>\n      <td>-0.267071</td>\n      <td>-0.112175</td>\n      <td>0.074808</td>\n      <td>-0.111260</td>\n      <td>-0.182641</td>\n      <td>-0.088480</td>\n      <td>0.359082</td>\n      <td>...</td>\n      <td>-0.356634</td>\n      <td>-0.117547</td>\n      <td>-0.061338</td>\n      <td>0.355210</td>\n      <td>0.295988</td>\n      <td>0.238303</td>\n      <td>0.101138</td>\n      <td>0.002329</td>\n      <td>-0.443750</td>\n      <td>-0.448635</td>\n    </tr>\n    <tr>\n      <th>var</th>\n      <td>-0.243797</td>\n      <td>0.114055</td>\n      <td>1.000000</td>\n      <td>-0.482291</td>\n      <td>0.173313</td>\n      <td>-0.368105</td>\n      <td>0.159886</td>\n      <td>-0.291138</td>\n      <td>0.127246</td>\n      <td>-0.125419</td>\n      <td>...</td>\n      <td>-0.182867</td>\n      <td>-0.037653</td>\n      <td>-0.112462</td>\n      <td>0.209516</td>\n      <td>-0.062643</td>\n      <td>0.298927</td>\n      <td>0.095142</td>\n      <td>-0.357770</td>\n      <td>-0.544091</td>\n      <td>-0.471729</td>\n    </tr>\n    <tr>\n      <th>max_kl_shift</th>\n      <td>0.601491</td>\n      <td>-0.267071</td>\n      <td>-0.482291</td>\n      <td>1.000000</td>\n      <td>-0.056249</td>\n      <td>0.267627</td>\n      <td>-0.095061</td>\n      <td>0.322158</td>\n      <td>-0.080377</td>\n      <td>-0.227111</td>\n      <td>...</td>\n      <td>0.402394</td>\n      <td>0.091374</td>\n      <td>0.186993</td>\n      <td>-0.357020</td>\n      <td>-0.145459</td>\n      <td>-0.542245</td>\n      <td>-0.049538</td>\n      <td>0.195874</td>\n      <td>0.818096</td>\n      <td>0.766695</td>\n    </tr>\n    <tr>\n      <th>time_kl_shift</th>\n      <td>-0.092623</td>\n      <td>-0.112175</td>\n      <td>0.173313</td>\n      <td>-0.056249</td>\n      <td>1.000000</td>\n      <td>-0.164164</td>\n      <td>0.294844</td>\n      <td>-0.012175</td>\n      <td>0.226509</td>\n      <td>0.004957</td>\n      <td>...</td>\n      <td>-0.026763</td>\n      <td>0.087307</td>\n      <td>-0.067795</td>\n      <td>0.094092</td>\n      <td>0.082439</td>\n      <td>0.211817</td>\n      <td>-0.211141</td>\n      <td>0.022521</td>\n      <td>-0.113032</td>\n      <td>-0.106192</td>\n    </tr>\n    <tr>\n      <th>max_level_shift</th>\n      <td>0.111844</td>\n      <td>0.074808</td>\n      <td>-0.368105</td>\n      <td>0.267627</td>\n      <td>-0.164164</td>\n      <td>1.000000</td>\n      <td>-0.266466</td>\n      <td>0.400592</td>\n      <td>-0.121363</td>\n      <td>0.040686</td>\n      <td>...</td>\n      <td>0.233039</td>\n      <td>-0.213934</td>\n      <td>0.181885</td>\n      <td>-0.013215</td>\n      <td>0.050439</td>\n      <td>-0.285418</td>\n      <td>0.153042</td>\n      <td>0.022053</td>\n      <td>0.230332</td>\n      <td>0.231704</td>\n    </tr>\n    <tr>\n      <th>time_level_shift</th>\n      <td>0.012655</td>\n      <td>-0.111260</td>\n      <td>0.159886</td>\n      <td>-0.095061</td>\n      <td>0.294844</td>\n      <td>-0.266466</td>\n      <td>1.000000</td>\n      <td>-0.039405</td>\n      <td>0.355796</td>\n      <td>-0.049701</td>\n      <td>...</td>\n      <td>-0.016593</td>\n      <td>-0.022319</td>\n      <td>0.084425</td>\n      <td>0.044529</td>\n      <td>-0.037906</td>\n      <td>0.142394</td>\n      <td>-0.075600</td>\n      <td>0.031703</td>\n      <td>-0.094383</td>\n      <td>-0.085664</td>\n    </tr>\n    <tr>\n      <th>max_var_shift</th>\n      <td>0.206705</td>\n      <td>-0.182641</td>\n      <td>-0.291138</td>\n      <td>0.322158</td>\n      <td>-0.012175</td>\n      <td>0.400592</td>\n      <td>-0.039405</td>\n      <td>1.000000</td>\n      <td>0.037879</td>\n      <td>-0.094117</td>\n      <td>...</td>\n      <td>0.308884</td>\n      <td>0.147684</td>\n      <td>0.066448</td>\n      <td>-0.033382</td>\n      <td>-0.032224</td>\n      <td>-0.125600</td>\n      <td>0.001061</td>\n      <td>0.054160</td>\n      <td>0.259570</td>\n      <td>0.252370</td>\n    </tr>\n    <tr>\n      <th>time_var_shift</th>\n      <td>0.096136</td>\n      <td>-0.088480</td>\n      <td>0.127246</td>\n      <td>-0.080377</td>\n      <td>0.226509</td>\n      <td>-0.121363</td>\n      <td>0.355796</td>\n      <td>0.037879</td>\n      <td>1.000000</td>\n      <td>0.005830</td>\n      <td>...</td>\n      <td>-0.051957</td>\n      <td>-0.110798</td>\n      <td>0.160414</td>\n      <td>0.076564</td>\n      <td>0.053022</td>\n      <td>0.148567</td>\n      <td>-0.099034</td>\n      <td>-0.027053</td>\n      <td>-0.135018</td>\n      <td>-0.133507</td>\n    </tr>\n    <tr>\n      <th>x_acf1</th>\n      <td>-0.198447</td>\n      <td>0.359082</td>\n      <td>-0.125419</td>\n      <td>-0.227111</td>\n      <td>0.004957</td>\n      <td>0.040686</td>\n      <td>-0.049701</td>\n      <td>-0.094117</td>\n      <td>0.005830</td>\n      <td>1.000000</td>\n      <td>...</td>\n      <td>-0.214675</td>\n      <td>-0.098622</td>\n      <td>-0.005033</td>\n      <td>0.725630</td>\n      <td>0.795162</td>\n      <td>0.147952</td>\n      <td>-0.142212</td>\n      <td>0.355550</td>\n      <td>-0.175202</td>\n      <td>-0.305901</td>\n    </tr>\n    <tr>\n      <th>x_acf10</th>\n      <td>-0.039840</td>\n      <td>0.265078</td>\n      <td>-0.406538</td>\n      <td>-0.009593</td>\n      <td>-0.042717</td>\n      <td>0.304925</td>\n      <td>-0.061538</td>\n      <td>-0.060465</td>\n      <td>0.013867</td>\n      <td>0.750099</td>\n      <td>...</td>\n      <td>-0.070680</td>\n      <td>-0.352158</td>\n      <td>0.163236</td>\n      <td>0.429366</td>\n      <td>0.639411</td>\n      <td>-0.155722</td>\n      <td>0.074362</td>\n      <td>0.355670</td>\n      <td>0.095492</td>\n      <td>0.031070</td>\n    </tr>\n    <tr>\n      <th>diff1_acf1</th>\n      <td>-0.484575</td>\n      <td>0.339559</td>\n      <td>0.206609</td>\n      <td>-0.483192</td>\n      <td>0.097462</td>\n      <td>-0.147616</td>\n      <td>0.038527</td>\n      <td>-0.086560</td>\n      <td>0.015421</td>\n      <td>0.667360</td>\n      <td>...</td>\n      <td>-0.146172</td>\n      <td>0.086801</td>\n      <td>-0.092053</td>\n      <td>0.693848</td>\n      <td>0.592370</td>\n      <td>0.334688</td>\n      <td>-0.083626</td>\n      <td>0.095587</td>\n      <td>-0.477096</td>\n      <td>-0.596351</td>\n    </tr>\n    <tr>\n      <th>diff1_acf10</th>\n      <td>-0.351118</td>\n      <td>0.158497</td>\n      <td>0.094572</td>\n      <td>-0.137537</td>\n      <td>0.045884</td>\n      <td>-0.157780</td>\n      <td>0.035163</td>\n      <td>-0.001374</td>\n      <td>-0.010750</td>\n      <td>0.391756</td>\n      <td>...</td>\n      <td>0.049498</td>\n      <td>0.263780</td>\n      <td>-0.084897</td>\n      <td>0.364590</td>\n      <td>0.399331</td>\n      <td>0.102971</td>\n      <td>-0.173157</td>\n      <td>0.134436</td>\n      <td>-0.216290</td>\n      <td>-0.362869</td>\n    </tr>\n    <tr>\n      <th>diff2_acf1</th>\n      <td>-0.115134</td>\n      <td>0.274386</td>\n      <td>-0.089566</td>\n      <td>-0.212829</td>\n      <td>-0.214144</td>\n      <td>0.052606</td>\n      <td>-0.180920</td>\n      <td>-0.072854</td>\n      <td>-0.137920</td>\n      <td>0.436208</td>\n      <td>...</td>\n      <td>-0.041785</td>\n      <td>-0.172841</td>\n      <td>0.110583</td>\n      <td>0.275071</td>\n      <td>0.116152</td>\n      <td>-0.023881</td>\n      <td>0.170152</td>\n      <td>0.061065</td>\n      <td>-0.017835</td>\n      <td>-0.129355</td>\n    </tr>\n    <tr>\n      <th>diff2_acf10</th>\n      <td>0.126458</td>\n      <td>-0.118514</td>\n      <td>0.164728</td>\n      <td>0.261712</td>\n      <td>0.112336</td>\n      <td>-0.050703</td>\n      <td>0.131113</td>\n      <td>0.113508</td>\n      <td>0.104162</td>\n      <td>-0.387144</td>\n      <td>...</td>\n      <td>0.123544</td>\n      <td>0.165947</td>\n      <td>-0.051170</td>\n      <td>-0.225595</td>\n      <td>-0.113294</td>\n      <td>-0.084229</td>\n      <td>-0.096787</td>\n      <td>-0.068102</td>\n      <td>0.048168</td>\n      <td>0.096088</td>\n    </tr>\n    <tr>\n      <th>seas_acf1</th>\n      <td>-0.187885</td>\n      <td>0.435793</td>\n      <td>-0.031888</td>\n      <td>-0.209023</td>\n      <td>0.054175</td>\n      <td>-0.052544</td>\n      <td>-0.043332</td>\n      <td>-0.234302</td>\n      <td>0.072567</td>\n      <td>0.844862</td>\n      <td>...</td>\n      <td>-0.334068</td>\n      <td>0.016172</td>\n      <td>-0.116423</td>\n      <td>0.661741</td>\n      <td>0.698841</td>\n      <td>0.260377</td>\n      <td>-0.227451</td>\n      <td>0.371773</td>\n      <td>-0.230198</td>\n      <td>-0.363005</td>\n    </tr>\n    <tr>\n      <th>ARCH.LM</th>\n      <td>-0.200740</td>\n      <td>0.417069</td>\n      <td>-0.115345</td>\n      <td>-0.163199</td>\n      <td>-0.022134</td>\n      <td>0.045432</td>\n      <td>-0.069865</td>\n      <td>-0.137789</td>\n      <td>-0.029589</td>\n      <td>0.942499</td>\n      <td>...</td>\n      <td>-0.229470</td>\n      <td>-0.069841</td>\n      <td>-0.001799</td>\n      <td>0.687776</td>\n      <td>0.727078</td>\n      <td>0.139820</td>\n      <td>-0.185205</td>\n      <td>0.355568</td>\n      <td>-0.152009</td>\n      <td>-0.307496</td>\n    </tr>\n    <tr>\n      <th>crossing_points</th>\n      <td>-0.310248</td>\n      <td>0.012245</td>\n      <td>0.536981</td>\n      <td>-0.491983</td>\n      <td>0.014000</td>\n      <td>-0.244476</td>\n      <td>0.155383</td>\n      <td>-0.077244</td>\n      <td>0.162834</td>\n      <td>-0.281468</td>\n      <td>...</td>\n      <td>-0.219437</td>\n      <td>0.077125</td>\n      <td>-0.104384</td>\n      <td>-0.018997</td>\n      <td>-0.354915</td>\n      <td>0.493601</td>\n      <td>-0.039373</td>\n      <td>-0.281270</td>\n      <td>-0.584658</td>\n      <td>-0.505479</td>\n    </tr>\n    <tr>\n      <th>entropy</th>\n      <td>0.009525</td>\n      <td>-0.402344</td>\n      <td>0.223257</td>\n      <td>0.061153</td>\n      <td>0.086963</td>\n      <td>-0.180245</td>\n      <td>0.074394</td>\n      <td>0.180429</td>\n      <td>-0.002427</td>\n      <td>-0.804551</td>\n      <td>...</td>\n      <td>0.160687</td>\n      <td>0.286812</td>\n      <td>-0.152367</td>\n      <td>-0.496892</td>\n      <td>-0.595638</td>\n      <td>0.097396</td>\n      <td>0.002552</td>\n      <td>-0.344491</td>\n      <td>-0.029037</td>\n      <td>0.071870</td>\n    </tr>\n    <tr>\n      <th>flat_spots</th>\n      <td>0.602027</td>\n      <td>-0.172786</td>\n      <td>-0.555331</td>\n      <td>0.676074</td>\n      <td>-0.135518</td>\n      <td>0.230293</td>\n      <td>-0.153926</td>\n      <td>0.208305</td>\n      <td>-0.118531</td>\n      <td>0.160227</td>\n      <td>...</td>\n      <td>0.410635</td>\n      <td>0.014956</td>\n      <td>0.139041</td>\n      <td>-0.017400</td>\n      <td>0.162643</td>\n      <td>-0.580971</td>\n      <td>-0.014769</td>\n      <td>0.344264</td>\n      <td>0.812840</td>\n      <td>0.637209</td>\n    </tr>\n    <tr>\n      <th>alpha</th>\n      <td>0.086699</td>\n      <td>0.101253</td>\n      <td>-0.138023</td>\n      <td>-0.147338</td>\n      <td>-0.032169</td>\n      <td>0.089548</td>\n      <td>-0.128445</td>\n      <td>-0.023476</td>\n      <td>-0.023043</td>\n      <td>0.292252</td>\n      <td>...</td>\n      <td>-0.073453</td>\n      <td>-0.256578</td>\n      <td>0.079635</td>\n      <td>0.182829</td>\n      <td>0.092355</td>\n      <td>0.000945</td>\n      <td>0.124513</td>\n      <td>0.105886</td>\n      <td>0.051966</td>\n      <td>0.029842</td>\n    </tr>\n    <tr>\n      <th>beta</th>\n      <td>-0.469697</td>\n      <td>0.318386</td>\n      <td>0.179795</td>\n      <td>-0.330328</td>\n      <td>-0.009378</td>\n      <td>-0.133039</td>\n      <td>0.039782</td>\n      <td>-0.077290</td>\n      <td>-0.019406</td>\n      <td>0.570842</td>\n      <td>...</td>\n      <td>-0.082346</td>\n      <td>0.098169</td>\n      <td>-0.041645</td>\n      <td>0.546555</td>\n      <td>0.475306</td>\n      <td>0.224627</td>\n      <td>-0.123012</td>\n      <td>0.105798</td>\n      <td>-0.369374</td>\n      <td>-0.510966</td>\n    </tr>\n    <tr>\n      <th>hurst</th>\n      <td>-0.032259</td>\n      <td>0.105099</td>\n      <td>-0.001155</td>\n      <td>-0.154450</td>\n      <td>0.099255</td>\n      <td>0.012931</td>\n      <td>0.168162</td>\n      <td>-0.069594</td>\n      <td>0.136557</td>\n      <td>0.286397</td>\n      <td>...</td>\n      <td>-0.155518</td>\n      <td>-0.005390</td>\n      <td>-0.080696</td>\n      <td>0.205748</td>\n      <td>0.153276</td>\n      <td>0.204427</td>\n      <td>-0.113307</td>\n      <td>0.123224</td>\n      <td>-0.206658</td>\n      <td>-0.173043</td>\n    </tr>\n    <tr>\n      <th>lumpiness</th>\n      <td>0.127215</td>\n      <td>-0.190817</td>\n      <td>-0.185046</td>\n      <td>0.303856</td>\n      <td>-0.063026</td>\n      <td>0.302079</td>\n      <td>-0.107977</td>\n      <td>0.708346</td>\n      <td>-0.010097</td>\n      <td>-0.223591</td>\n      <td>...</td>\n      <td>0.476886</td>\n      <td>0.220418</td>\n      <td>0.076802</td>\n      <td>-0.097886</td>\n      <td>-0.112746</td>\n      <td>-0.228870</td>\n      <td>0.091675</td>\n      <td>-0.076425</td>\n      <td>0.183033</td>\n      <td>0.173686</td>\n    </tr>\n    <tr>\n      <th>nonlinearity</th>\n      <td>0.269675</td>\n      <td>-0.145353</td>\n      <td>0.031632</td>\n      <td>0.131620</td>\n      <td>-0.150711</td>\n      <td>0.155242</td>\n      <td>0.067619</td>\n      <td>0.265426</td>\n      <td>0.048885</td>\n      <td>-0.408094</td>\n      <td>...</td>\n      <td>0.421663</td>\n      <td>-0.112353</td>\n      <td>0.087785</td>\n      <td>-0.205167</td>\n      <td>-0.379530</td>\n      <td>-0.236365</td>\n      <td>0.374384</td>\n      <td>-0.164845</td>\n      <td>0.162675</td>\n      <td>0.207414</td>\n    </tr>\n    <tr>\n      <th>x_pacf5</th>\n      <td>-0.365455</td>\n      <td>0.267400</td>\n      <td>0.094442</td>\n      <td>-0.242543</td>\n      <td>-0.031887</td>\n      <td>-0.156017</td>\n      <td>0.033279</td>\n      <td>-0.052228</td>\n      <td>0.013178</td>\n      <td>0.526912</td>\n      <td>...</td>\n      <td>-0.029426</td>\n      <td>0.198236</td>\n      <td>-0.068190</td>\n      <td>0.475175</td>\n      <td>0.454072</td>\n      <td>0.161499</td>\n      <td>-0.151915</td>\n      <td>0.155728</td>\n      <td>-0.280376</td>\n      <td>-0.445620</td>\n    </tr>\n    <tr>\n      <th>diff1x_pacf5</th>\n      <td>-0.381776</td>\n      <td>0.212152</td>\n      <td>0.125655</td>\n      <td>-0.209188</td>\n      <td>-0.005656</td>\n      <td>-0.170249</td>\n      <td>0.023262</td>\n      <td>-0.020276</td>\n      <td>-0.013921</td>\n      <td>0.408783</td>\n      <td>...</td>\n      <td>0.005598</td>\n      <td>0.242588</td>\n      <td>-0.078153</td>\n      <td>0.395215</td>\n      <td>0.363883</td>\n      <td>0.163739</td>\n      <td>-0.161948</td>\n      <td>0.120947</td>\n      <td>-0.265585</td>\n      <td>-0.420329</td>\n    </tr>\n    <tr>\n      <th>diff2x_pacf5</th>\n      <td>0.416759</td>\n      <td>-0.299738</td>\n      <td>-0.170613</td>\n      <td>0.511803</td>\n      <td>-0.011617</td>\n      <td>0.049378</td>\n      <td>0.038611</td>\n      <td>0.121351</td>\n      <td>0.054761</td>\n      <td>-0.628153</td>\n      <td>...</td>\n      <td>0.087819</td>\n      <td>0.066622</td>\n      <td>0.000681</td>\n      <td>-0.634676</td>\n      <td>-0.450571</td>\n      <td>-0.209413</td>\n      <td>-0.078173</td>\n      <td>-0.027933</td>\n      <td>0.386811</td>\n      <td>0.483996</td>\n    </tr>\n    <tr>\n      <th>seas_pacf</th>\n      <td>0.409882</td>\n      <td>-0.344222</td>\n      <td>-0.278092</td>\n      <td>0.341383</td>\n      <td>0.011334</td>\n      <td>0.091033</td>\n      <td>0.001016</td>\n      <td>-0.012276</td>\n      <td>-0.047872</td>\n      <td>-0.408721</td>\n      <td>...</td>\n      <td>0.187428</td>\n      <td>-0.000420</td>\n      <td>0.044362</td>\n      <td>-0.479895</td>\n      <td>-0.263178</td>\n      <td>-0.307711</td>\n      <td>0.052084</td>\n      <td>-0.015717</td>\n      <td>0.388500</td>\n      <td>0.475499</td>\n    </tr>\n    <tr>\n      <th>stability</th>\n      <td>0.097989</td>\n      <td>0.372926</td>\n      <td>-0.397389</td>\n      <td>0.117109</td>\n      <td>-0.105644</td>\n      <td>0.363818</td>\n      <td>-0.043480</td>\n      <td>-0.049711</td>\n      <td>-0.009141</td>\n      <td>0.560597</td>\n      <td>...</td>\n      <td>-0.058773</td>\n      <td>-0.448334</td>\n      <td>0.267572</td>\n      <td>0.316131</td>\n      <td>0.468030</td>\n      <td>-0.238252</td>\n      <td>0.189194</td>\n      <td>0.302994</td>\n      <td>0.174314</td>\n      <td>0.140394</td>\n    </tr>\n    <tr>\n      <th>unitroot_kpss</th>\n      <td>0.077482</td>\n      <td>0.375830</td>\n      <td>-0.209421</td>\n      <td>0.030233</td>\n      <td>-0.107704</td>\n      <td>0.158670</td>\n      <td>-0.054485</td>\n      <td>-0.204787</td>\n      <td>-0.059737</td>\n      <td>0.393024</td>\n      <td>...</td>\n      <td>-0.057351</td>\n      <td>-0.437522</td>\n      <td>0.171913</td>\n      <td>0.200133</td>\n      <td>0.334237</td>\n      <td>-0.244470</td>\n      <td>0.302901</td>\n      <td>0.146242</td>\n      <td>0.101532</td>\n      <td>0.104821</td>\n    </tr>\n    <tr>\n      <th>unitroot_pp</th>\n      <td>0.044447</td>\n      <td>0.267857</td>\n      <td>-0.386764</td>\n      <td>0.015687</td>\n      <td>-0.088686</td>\n      <td>0.277360</td>\n      <td>-0.108643</td>\n      <td>-0.094597</td>\n      <td>0.010365</td>\n      <td>0.724847</td>\n      <td>...</td>\n      <td>-0.080486</td>\n      <td>-0.365183</td>\n      <td>0.126933</td>\n      <td>0.412911</td>\n      <td>0.600233</td>\n      <td>-0.141071</td>\n      <td>0.065635</td>\n      <td>0.383000</td>\n      <td>0.138246</td>\n      <td>0.050612</td>\n    </tr>\n    <tr>\n      <th>nperiods</th>\n      <td>NaN</td>\n      <td>NaN</td>\n      <td>NaN</td>\n      <td>NaN</td>\n      <td>NaN</td>\n      <td>NaN</td>\n      <td>NaN</td>\n      <td>NaN</td>\n      <td>NaN</td>\n      <td>NaN</td>\n      <td>...</td>\n      <td>NaN</td>\n      <td>NaN</td>\n      <td>NaN</td>\n      <td>NaN</td>\n      <td>NaN</td>\n      <td>NaN</td>\n      <td>NaN</td>\n      <td>NaN</td>\n      <td>NaN</td>\n      <td>NaN</td>\n    </tr>\n    <tr>\n      <th>seasonal_period</th>\n      <td>NaN</td>\n      <td>NaN</td>\n      <td>NaN</td>\n      <td>NaN</td>\n      <td>NaN</td>\n      <td>NaN</td>\n      <td>NaN</td>\n      <td>NaN</td>\n      <td>NaN</td>\n      <td>NaN</td>\n      <td>...</td>\n      <td>NaN</td>\n      <td>NaN</td>\n      <td>NaN</td>\n      <td>NaN</td>\n      <td>NaN</td>\n      <td>NaN</td>\n      <td>NaN</td>\n      <td>NaN</td>\n      <td>NaN</td>\n      <td>NaN</td>\n    </tr>\n    <tr>\n      <th>trend</th>\n      <td>-0.044222</td>\n      <td>0.284385</td>\n      <td>-0.177712</td>\n      <td>-0.116810</td>\n      <td>0.024801</td>\n      <td>0.139070</td>\n      <td>0.026079</td>\n      <td>-0.003706</td>\n      <td>0.085381</td>\n      <td>0.654489</td>\n      <td>...</td>\n      <td>-0.378913</td>\n      <td>-0.273910</td>\n      <td>0.054033</td>\n      <td>0.368927</td>\n      <td>0.430019</td>\n      <td>0.236181</td>\n      <td>-0.121491</td>\n      <td>0.282511</td>\n      <td>-0.069521</td>\n      <td>-0.119068</td>\n    </tr>\n    <tr>\n      <th>spike</th>\n      <td>0.396365</td>\n      <td>-0.356634</td>\n      <td>-0.182867</td>\n      <td>0.402394</td>\n      <td>-0.026763</td>\n      <td>0.233039</td>\n      <td>-0.016593</td>\n      <td>0.308884</td>\n      <td>-0.051957</td>\n      <td>-0.214675</td>\n      <td>...</td>\n      <td>1.000000</td>\n      <td>0.016037</td>\n      <td>0.116749</td>\n      <td>-0.148347</td>\n      <td>-0.098284</td>\n      <td>-0.679465</td>\n      <td>0.294265</td>\n      <td>-0.003661</td>\n      <td>0.513353</td>\n      <td>0.443070</td>\n    </tr>\n    <tr>\n      <th>linearity</th>\n      <td>-0.025559</td>\n      <td>-0.117547</td>\n      <td>-0.037653</td>\n      <td>0.091374</td>\n      <td>0.087307</td>\n      <td>-0.213934</td>\n      <td>-0.022319</td>\n      <td>0.147684</td>\n      <td>-0.110798</td>\n      <td>-0.098622</td>\n      <td>...</td>\n      <td>0.016037</td>\n      <td>1.000000</td>\n      <td>-0.504658</td>\n      <td>-0.077472</td>\n      <td>-0.051017</td>\n      <td>0.165908</td>\n      <td>-0.413570</td>\n      <td>0.084891</td>\n      <td>-0.007492</td>\n      <td>-0.040620</td>\n    </tr>\n    <tr>\n      <th>curvature</th>\n      <td>0.179940</td>\n      <td>-0.061338</td>\n      <td>-0.112462</td>\n      <td>0.186993</td>\n      <td>-0.067795</td>\n      <td>0.181885</td>\n      <td>0.084425</td>\n      <td>0.066448</td>\n      <td>0.160414</td>\n      <td>-0.005033</td>\n      <td>...</td>\n      <td>0.116749</td>\n      <td>-0.504658</td>\n      <td>1.000000</td>\n      <td>-0.046873</td>\n      <td>-0.060909</td>\n      <td>-0.255455</td>\n      <td>0.263456</td>\n      <td>-0.057177</td>\n      <td>0.236790</td>\n      <td>0.241974</td>\n    </tr>\n    <tr>\n      <th>e_acf1</th>\n      <td>-0.123872</td>\n      <td>0.355210</td>\n      <td>0.209516</td>\n      <td>-0.357020</td>\n      <td>0.094092</td>\n      <td>-0.013215</td>\n      <td>0.044529</td>\n      <td>-0.033382</td>\n      <td>0.076564</td>\n      <td>0.725630</td>\n      <td>...</td>\n      <td>-0.148347</td>\n      <td>-0.077472</td>\n      <td>-0.046873</td>\n      <td>1.000000</td>\n      <td>0.827927</td>\n      <td>0.300784</td>\n      <td>-0.040175</td>\n      <td>0.208142</td>\n      <td>-0.338056</td>\n      <td>-0.472125</td>\n    </tr>\n    <tr>\n      <th>e_acf10</th>\n      <td>-0.117021</td>\n      <td>0.295988</td>\n      <td>-0.062643</td>\n      <td>-0.145459</td>\n      <td>0.082439</td>\n      <td>0.050439</td>\n      <td>-0.037906</td>\n      <td>-0.032224</td>\n      <td>0.053022</td>\n      <td>0.795162</td>\n      <td>...</td>\n      <td>-0.098284</td>\n      <td>-0.051017</td>\n      <td>-0.060909</td>\n      <td>0.827927</td>\n      <td>1.000000</td>\n      <td>0.123990</td>\n      <td>-0.113008</td>\n      <td>0.374873</td>\n      <td>-0.162191</td>\n      <td>-0.292113</td>\n    </tr>\n    <tr>\n      <th>seasonal_strength</th>\n      <td>-0.492407</td>\n      <td>0.238303</td>\n      <td>0.298927</td>\n      <td>-0.542245</td>\n      <td>0.211817</td>\n      <td>-0.285418</td>\n      <td>0.142394</td>\n      <td>-0.125600</td>\n      <td>0.148567</td>\n      <td>0.147952</td>\n      <td>...</td>\n      <td>-0.679465</td>\n      <td>0.165908</td>\n      <td>-0.255455</td>\n      <td>0.300784</td>\n      <td>0.123990</td>\n      <td>1.000000</td>\n      <td>-0.392818</td>\n      <td>-0.007416</td>\n      <td>-0.710672</td>\n      <td>-0.675489</td>\n    </tr>\n    <tr>\n      <th>peak</th>\n      <td>0.147704</td>\n      <td>0.101138</td>\n      <td>0.095142</td>\n      <td>-0.049538</td>\n      <td>-0.211141</td>\n      <td>0.153042</td>\n      <td>-0.075600</td>\n      <td>0.001061</td>\n      <td>-0.099034</td>\n      <td>-0.142212</td>\n      <td>...</td>\n      <td>0.294265</td>\n      <td>-0.413570</td>\n      <td>0.263456</td>\n      <td>-0.040175</td>\n      <td>-0.113008</td>\n      <td>-0.392818</td>\n      <td>1.000000</td>\n      <td>-0.317257</td>\n      <td>0.102924</td>\n      <td>0.170651</td>\n    </tr>\n    <tr>\n      <th>trough</th>\n      <td>0.058067</td>\n      <td>0.002329</td>\n      <td>-0.357770</td>\n      <td>0.195874</td>\n      <td>0.022521</td>\n      <td>0.022053</td>\n      <td>0.031703</td>\n      <td>0.054160</td>\n      <td>-0.027053</td>\n      <td>0.355550</td>\n      <td>...</td>\n      <td>-0.003661</td>\n      <td>0.084891</td>\n      <td>-0.057177</td>\n      <td>0.208142</td>\n      <td>0.374873</td>\n      <td>-0.007416</td>\n      <td>-0.317257</td>\n      <td>1.000000</td>\n      <td>0.191233</td>\n      <td>0.084229</td>\n    </tr>\n    <tr>\n      <th>te</th>\n      <td>0.755653</td>\n      <td>-0.443750</td>\n      <td>-0.544091</td>\n      <td>0.818096</td>\n      <td>-0.113032</td>\n      <td>0.230332</td>\n      <td>-0.094383</td>\n      <td>0.259570</td>\n      <td>-0.135018</td>\n      <td>-0.175202</td>\n      <td>...</td>\n      <td>0.513353</td>\n      <td>-0.007492</td>\n      <td>0.236790</td>\n      <td>-0.338056</td>\n      <td>-0.162191</td>\n      <td>-0.710672</td>\n      <td>0.102924</td>\n      <td>0.191233</td>\n      <td>1.000000</td>\n      <td>0.901793</td>\n    </tr>\n    <tr>\n      <th>TFE</th>\n      <td>0.660665</td>\n      <td>-0.448635</td>\n      <td>-0.471729</td>\n      <td>0.766695</td>\n      <td>-0.106192</td>\n      <td>0.231704</td>\n      <td>-0.085664</td>\n      <td>0.252370</td>\n      <td>-0.133507</td>\n      <td>-0.305901</td>\n      <td>...</td>\n      <td>0.443070</td>\n      <td>-0.040620</td>\n      <td>0.241974</td>\n      <td>-0.472125</td>\n      <td>-0.292113</td>\n      <td>-0.675489</td>\n      <td>0.170651</td>\n      <td>0.084229</td>\n      <td>0.901793</td>\n      <td>1.000000</td>\n    </tr>\n  </tbody>\n</table>\n<p>45 rows × 45 columns</p>\n</div>"
     },
     "execution_count": 6,
     "metadata": {},
     "output_type": "execute_result"
    }
   ],
   "source": [
    "compute_features_tfe_corr()"
   ],
   "metadata": {
    "collapsed": false,
    "ExecuteTime": {
     "end_time": "2023-09-18T20:55:38.426258300Z",
     "start_time": "2023-09-18T20:55:37.276168300Z"
    }
   }
  },
  {
   "cell_type": "code",
   "execution_count": 200,
   "outputs": [
    {
     "name": "stdout",
     "output_type": "stream",
     "text": [
      "ettm2\n",
      "ettm1\n",
      "wind\n",
      "solar\n",
      "weather\n",
      "aus\n"
     ]
    }
   ],
   "source": [
    "features_corr = compute_features_tfe_corr()\n",
    "features_corr = features_corr[['TFE']].abs()\n",
    "features_corr.drop(['eb', 'TFE'], inplace=True)\n",
    "r = features_corr.sort_values(by='TFE', ascending=False)\n",
    "r.index.name = 'ts_feature'\n",
    "r.to_csv('../results/features/spearman_correlation.csv')"
   ],
   "metadata": {
    "collapsed": false,
    "ExecuteTime": {
     "end_time": "2023-09-18T10:06:08.671965100Z",
     "start_time": "2023-09-18T10:06:08.240928900Z"
    }
   }
  },
  {
   "cell_type": "code",
   "execution_count": 204,
   "outputs": [
    {
     "name": "stdout",
     "output_type": "stream",
     "text": [
      "ettm2\n",
      "ettm1\n",
      "wind\n",
      "solar\n",
      "weather\n",
      "aus\n"
     ]
    }
   ],
   "source": [
    "compute_features()"
   ],
   "metadata": {
    "collapsed": false,
    "ExecuteTime": {
     "end_time": "2023-09-18T10:08:35.606402400Z",
     "start_time": "2023-09-18T10:08:35.333505500Z"
    }
   }
  },
  {
   "cell_type": "code",
   "execution_count": 151,
   "outputs": [
    {
     "name": "stdout",
     "output_type": "stream",
     "text": [
      "Correlations with TFE:\n",
      "                        TFE\n",
      "seasonal_strength  0.916137\n",
      "var                0.869453\n",
      "max_kl_shift       0.851600\n",
      "flat_spots         0.798266\n",
      "spike              0.701500\n",
      "diff2x_pacf5       0.694868\n",
      "nonlinearity       0.691763\n",
      "diff1_acf1         0.671335\n",
      "diff2_acf10        0.638921\n",
      "alpha              0.638266\n",
      "-----\n",
      "Correlations with forecasting error:\n",
      "                   forecasting error\n",
      "seasonal_strength           0.735805\n",
      "var                         0.731819\n",
      "max_kl_shift                0.702418\n",
      "flat_spots                  0.687810\n",
      "nonlinearity                0.528525\n",
      "spike                       0.504212\n",
      "diff2x_pacf5                0.486277\n",
      "mean                        0.474727\n",
      "diff1_acf1                  0.467007\n",
      "alpha                       0.460499\n",
      "-----\n"
     ]
    }
   ],
   "source": [
    "corr = compute_features_tfe_corr('test_ettm1', 'ETTM1')\n",
    "# corr = corr[['TFE', 'te', 'compression ratio']]\n",
    "features_of_interest = ['TFE', 'forecasting error']\n",
    "\n",
    "for feature in features_of_interest:\n",
    "    # for eblc in corr.compression.unique():\n",
    "    print(f\"Correlations with {feature}:\")\n",
    "    # Get correlations with the specific feature for each 'compression' group\n",
    "    corr_feature = corr[[feature]] # .xs(key=feature, level=1, axis=1)[feature]\n",
    "\n",
    "    # Drop the correlation of the feature with itself (it's always 1)\n",
    "    corr_feature = corr_feature.drop(index=['eb', 'TFE', 'forecasting error', 'te', 'compression ratio'], errors='ignore')\n",
    "    corr_feature[feature] = np.abs(corr_feature[feature].values)\n",
    "    # Sort the correlations in descending order to get most correlated features first\n",
    "    sorted_corr = corr_feature.sort_values(by=feature, ascending=False)\n",
    "\n",
    "    # Display the top correlated features (e.g., top 5)\n",
    "    print(sorted_corr.head(10))\n",
    "    print(\"-----\")"
   ],
   "metadata": {
    "collapsed": false,
    "ExecuteTime": {
     "end_time": "2023-09-17T14:00:42.474671900Z",
     "start_time": "2023-09-17T14:00:42.345627Z"
    }
   }
  },
  {
   "cell_type": "code",
   "execution_count": 147,
   "outputs": [
    {
     "data": {
      "text/plain": "                        TFE\nmean              -0.929065\nvar               -0.933789\nmax_kl_shift       0.759507\ntime_kl_shift     -0.229471\nmax_level_shift    0.165456\ntime_level_shift  -0.430137\nmax_var_shift      0.596724\ntime_var_shift    -0.137290\nx_acf1            -0.468551\nx_acf10           -0.444785\ndiff1_acf1        -0.326358\ndiff1_acf10        0.234615\ndiff2_acf1        -0.287338\ndiff2_acf10        0.307649\nseas_acf1         -0.205141\nARCH.LM           -0.336696\ncrossing_points   -0.486414\nentropy           -0.168851\nflat_spots         0.793214\nalpha             -0.295344\nbeta              -0.202231\nhurst             -0.389473\nlumpiness          0.636892\nnonlinearity       0.450597\nx_pacf5           -0.062340\ndiff1x_pacf5       0.228859\ndiff2x_pacf5       0.309244\nseas_pacf          0.556418\nstability         -0.253473\nunitroot_kpss     -0.476412\nunitroot_pp       -0.487068\nnperiods                NaN\nseasonal_period         NaN\ntrend             -0.506062\nspike              0.572043\nlinearity          0.439149\ncurvature         -0.007140\ne_acf1            -0.151268\ne_acf10           -0.005407\nseasonal_strength -0.775066\npeak              -0.227222\ntrough             0.493422",
      "text/html": "<div>\n<style scoped>\n    .dataframe tbody tr th:only-of-type {\n        vertical-align: middle;\n    }\n\n    .dataframe tbody tr th {\n        vertical-align: top;\n    }\n\n    .dataframe thead th {\n        text-align: right;\n    }\n</style>\n<table border=\"1\" class=\"dataframe\">\n  <thead>\n    <tr style=\"text-align: right;\">\n      <th></th>\n      <th>TFE</th>\n    </tr>\n  </thead>\n  <tbody>\n    <tr>\n      <th>mean</th>\n      <td>-0.929065</td>\n    </tr>\n    <tr>\n      <th>var</th>\n      <td>-0.933789</td>\n    </tr>\n    <tr>\n      <th>max_kl_shift</th>\n      <td>0.759507</td>\n    </tr>\n    <tr>\n      <th>time_kl_shift</th>\n      <td>-0.229471</td>\n    </tr>\n    <tr>\n      <th>max_level_shift</th>\n      <td>0.165456</td>\n    </tr>\n    <tr>\n      <th>time_level_shift</th>\n      <td>-0.430137</td>\n    </tr>\n    <tr>\n      <th>max_var_shift</th>\n      <td>0.596724</td>\n    </tr>\n    <tr>\n      <th>time_var_shift</th>\n      <td>-0.137290</td>\n    </tr>\n    <tr>\n      <th>x_acf1</th>\n      <td>-0.468551</td>\n    </tr>\n    <tr>\n      <th>x_acf10</th>\n      <td>-0.444785</td>\n    </tr>\n    <tr>\n      <th>diff1_acf1</th>\n      <td>-0.326358</td>\n    </tr>\n    <tr>\n      <th>diff1_acf10</th>\n      <td>0.234615</td>\n    </tr>\n    <tr>\n      <th>diff2_acf1</th>\n      <td>-0.287338</td>\n    </tr>\n    <tr>\n      <th>diff2_acf10</th>\n      <td>0.307649</td>\n    </tr>\n    <tr>\n      <th>seas_acf1</th>\n      <td>-0.205141</td>\n    </tr>\n    <tr>\n      <th>ARCH.LM</th>\n      <td>-0.336696</td>\n    </tr>\n    <tr>\n      <th>crossing_points</th>\n      <td>-0.486414</td>\n    </tr>\n    <tr>\n      <th>entropy</th>\n      <td>-0.168851</td>\n    </tr>\n    <tr>\n      <th>flat_spots</th>\n      <td>0.793214</td>\n    </tr>\n    <tr>\n      <th>alpha</th>\n      <td>-0.295344</td>\n    </tr>\n    <tr>\n      <th>beta</th>\n      <td>-0.202231</td>\n    </tr>\n    <tr>\n      <th>hurst</th>\n      <td>-0.389473</td>\n    </tr>\n    <tr>\n      <th>lumpiness</th>\n      <td>0.636892</td>\n    </tr>\n    <tr>\n      <th>nonlinearity</th>\n      <td>0.450597</td>\n    </tr>\n    <tr>\n      <th>x_pacf5</th>\n      <td>-0.062340</td>\n    </tr>\n    <tr>\n      <th>diff1x_pacf5</th>\n      <td>0.228859</td>\n    </tr>\n    <tr>\n      <th>diff2x_pacf5</th>\n      <td>0.309244</td>\n    </tr>\n    <tr>\n      <th>seas_pacf</th>\n      <td>0.556418</td>\n    </tr>\n    <tr>\n      <th>stability</th>\n      <td>-0.253473</td>\n    </tr>\n    <tr>\n      <th>unitroot_kpss</th>\n      <td>-0.476412</td>\n    </tr>\n    <tr>\n      <th>unitroot_pp</th>\n      <td>-0.487068</td>\n    </tr>\n    <tr>\n      <th>nperiods</th>\n      <td>NaN</td>\n    </tr>\n    <tr>\n      <th>seasonal_period</th>\n      <td>NaN</td>\n    </tr>\n    <tr>\n      <th>trend</th>\n      <td>-0.506062</td>\n    </tr>\n    <tr>\n      <th>spike</th>\n      <td>0.572043</td>\n    </tr>\n    <tr>\n      <th>linearity</th>\n      <td>0.439149</td>\n    </tr>\n    <tr>\n      <th>curvature</th>\n      <td>-0.007140</td>\n    </tr>\n    <tr>\n      <th>e_acf1</th>\n      <td>-0.151268</td>\n    </tr>\n    <tr>\n      <th>e_acf10</th>\n      <td>-0.005407</td>\n    </tr>\n    <tr>\n      <th>seasonal_strength</th>\n      <td>-0.775066</td>\n    </tr>\n    <tr>\n      <th>peak</th>\n      <td>-0.227222</td>\n    </tr>\n    <tr>\n      <th>trough</th>\n      <td>0.493422</td>\n    </tr>\n  </tbody>\n</table>\n</div>"
     },
     "execution_count": 147,
     "metadata": {},
     "output_type": "execute_result"
    }
   ],
   "source": [
    "corr_feature"
   ],
   "metadata": {
    "collapsed": false,
    "ExecuteTime": {
     "end_time": "2023-09-17T13:58:26.846619200Z",
     "start_time": "2023-09-17T13:58:26.720032600Z"
    }
   }
  },
  {
   "cell_type": "code",
   "execution_count": 122,
   "outputs": [
    {
     "data": {
      "text/plain": "                                                          TFE\ncompression                                                  \nPMC         TFE                                      1.000000\nSZ          TFE                                      1.000000\nSWING       TFE                                      1.000000\nPMC         max_kl_shift                             0.986813\nSWING       CO_FirstMin_ac                           0.984505\n...                                                       ...\n            nperiods                                      NaN\n            seasonal_period                               NaN\nSZ          IN_AutoMutualInfoStats_40_gaussian_fmmi       NaN\n            nperiods                                      NaN\n            seasonal_period                               NaN\n\n[204 rows x 1 columns]",
      "text/html": "<div>\n<style scoped>\n    .dataframe tbody tr th:only-of-type {\n        vertical-align: middle;\n    }\n\n    .dataframe tbody tr th {\n        vertical-align: top;\n    }\n\n    .dataframe thead th {\n        text-align: right;\n    }\n</style>\n<table border=\"1\" class=\"dataframe\">\n  <thead>\n    <tr style=\"text-align: right;\">\n      <th></th>\n      <th></th>\n      <th>TFE</th>\n    </tr>\n    <tr>\n      <th>compression</th>\n      <th></th>\n      <th></th>\n    </tr>\n  </thead>\n  <tbody>\n    <tr>\n      <th>PMC</th>\n      <th>TFE</th>\n      <td>1.000000</td>\n    </tr>\n    <tr>\n      <th>SZ</th>\n      <th>TFE</th>\n      <td>1.000000</td>\n    </tr>\n    <tr>\n      <th>SWING</th>\n      <th>TFE</th>\n      <td>1.000000</td>\n    </tr>\n    <tr>\n      <th>PMC</th>\n      <th>max_kl_shift</th>\n      <td>0.986813</td>\n    </tr>\n    <tr>\n      <th rowspan=\"4\" valign=\"top\">SWING</th>\n      <th>CO_FirstMin_ac</th>\n      <td>0.984505</td>\n    </tr>\n    <tr>\n      <th>...</th>\n      <td>...</td>\n    </tr>\n    <tr>\n      <th>nperiods</th>\n      <td>NaN</td>\n    </tr>\n    <tr>\n      <th>seasonal_period</th>\n      <td>NaN</td>\n    </tr>\n    <tr>\n      <th rowspan=\"3\" valign=\"top\">SZ</th>\n      <th>IN_AutoMutualInfoStats_40_gaussian_fmmi</th>\n      <td>NaN</td>\n    </tr>\n    <tr>\n      <th>nperiods</th>\n      <td>NaN</td>\n    </tr>\n    <tr>\n      <th>seasonal_period</th>\n      <td>NaN</td>\n    </tr>\n  </tbody>\n</table>\n<p>204 rows × 1 columns</p>\n</div>"
     },
     "execution_count": 122,
     "metadata": {},
     "output_type": "execute_result"
    }
   ],
   "source": [
    "corr[[feature]].sort_values(by='TFE', ascending=False)"
   ],
   "metadata": {
    "collapsed": false,
    "ExecuteTime": {
     "end_time": "2023-09-17T12:48:25.265005400Z",
     "start_time": "2023-09-17T12:48:25.257986300Z"
    }
   }
  },
  {
   "cell_type": "code",
   "execution_count": 113,
   "outputs": [
    {
     "name": "stdout",
     "output_type": "stream",
     "text": [
      "dlinear_results.csv\n",
      "informer_results.csv\n",
      "nbeats_results.csv\n",
      "transformer_results.csv\n"
     ]
    },
    {
     "data": {
      "text/plain": "                   error       tfe\neblc                              \nbaseline error       NaN       NaN\n         tfe         NaN       NaN\npmc      error  1.000000  0.970638\n         tfe    0.970638  1.000000\nswing    error  1.000000  0.980232\n         tfe    0.980232  1.000000\nsz       error  1.000000  0.973927\n         tfe    0.973927  1.000000",
      "text/html": "<div>\n<style scoped>\n    .dataframe tbody tr th:only-of-type {\n        vertical-align: middle;\n    }\n\n    .dataframe tbody tr th {\n        vertical-align: top;\n    }\n\n    .dataframe thead th {\n        text-align: right;\n    }\n</style>\n<table border=\"1\" class=\"dataframe\">\n  <thead>\n    <tr style=\"text-align: right;\">\n      <th></th>\n      <th></th>\n      <th>error</th>\n      <th>tfe</th>\n    </tr>\n    <tr>\n      <th>eblc</th>\n      <th></th>\n      <th></th>\n      <th></th>\n    </tr>\n  </thead>\n  <tbody>\n    <tr>\n      <th rowspan=\"2\" valign=\"top\">baseline</th>\n      <th>error</th>\n      <td>NaN</td>\n      <td>NaN</td>\n    </tr>\n    <tr>\n      <th>tfe</th>\n      <td>NaN</td>\n      <td>NaN</td>\n    </tr>\n    <tr>\n      <th rowspan=\"2\" valign=\"top\">pmc</th>\n      <th>error</th>\n      <td>1.000000</td>\n      <td>0.970638</td>\n    </tr>\n    <tr>\n      <th>tfe</th>\n      <td>0.970638</td>\n      <td>1.000000</td>\n    </tr>\n    <tr>\n      <th rowspan=\"2\" valign=\"top\">swing</th>\n      <th>error</th>\n      <td>1.000000</td>\n      <td>0.980232</td>\n    </tr>\n    <tr>\n      <th>tfe</th>\n      <td>0.980232</td>\n      <td>1.000000</td>\n    </tr>\n    <tr>\n      <th rowspan=\"2\" valign=\"top\">sz</th>\n      <th>error</th>\n      <td>1.000000</td>\n      <td>0.973927</td>\n    </tr>\n    <tr>\n      <th>tfe</th>\n      <td>0.973927</td>\n      <td>1.000000</td>\n    </tr>\n  </tbody>\n</table>\n</div>"
     },
     "execution_count": 113,
     "metadata": {},
     "output_type": "execute_result"
    }
   ],
   "source": [
    "aus_results = compute_rho_tfe_te_cr_aus()\n",
    "aus_results.groupby('eblc').corr(method='spearman')"
   ],
   "metadata": {
    "collapsed": false,
    "ExecuteTime": {
     "end_time": "2023-09-17T10:21:56.271038Z",
     "start_time": "2023-09-17T10:21:56.156714500Z"
    }
   }
  },
  {
   "cell_type": "code",
   "execution_count": 44,
   "outputs": [
    {
     "data": {
      "text/plain": "                                     eb  compression ratio       TFE        te\ncompression                                                                   \nPMC         eb                 1.000000           1.000000  0.902292  1.000000\n            compression ratio  1.000000           1.000000  0.902292  1.000000\n            TFE                0.902292           0.902292  1.000000  0.902292\n            te                 1.000000           1.000000  0.902292  1.000000\nSWING       eb                 1.000000           1.000000  0.929307  1.000000\n            compression ratio  1.000000           1.000000  0.929307  1.000000\n            TFE                0.929307           0.929307  1.000000  0.929307\n            te                 1.000000           1.000000  0.929307  1.000000\nSZ          eb                 1.000000           1.000000  0.996319  0.995604\n            compression ratio  1.000000           1.000000  0.996319  0.995604\n            TFE                0.996319           0.996319  1.000000  0.991933\n            te                 0.995604           0.995604  0.991933  1.000000",
      "text/html": "<div>\n<style scoped>\n    .dataframe tbody tr th:only-of-type {\n        vertical-align: middle;\n    }\n\n    .dataframe tbody tr th {\n        vertical-align: top;\n    }\n\n    .dataframe thead th {\n        text-align: right;\n    }\n</style>\n<table border=\"1\" class=\"dataframe\">\n  <thead>\n    <tr style=\"text-align: right;\">\n      <th></th>\n      <th></th>\n      <th>eb</th>\n      <th>compression ratio</th>\n      <th>TFE</th>\n      <th>te</th>\n    </tr>\n    <tr>\n      <th>compression</th>\n      <th></th>\n      <th></th>\n      <th></th>\n      <th></th>\n      <th></th>\n    </tr>\n  </thead>\n  <tbody>\n    <tr>\n      <th rowspan=\"4\" valign=\"top\">PMC</th>\n      <th>eb</th>\n      <td>1.000000</td>\n      <td>1.000000</td>\n      <td>0.902292</td>\n      <td>1.000000</td>\n    </tr>\n    <tr>\n      <th>compression ratio</th>\n      <td>1.000000</td>\n      <td>1.000000</td>\n      <td>0.902292</td>\n      <td>1.000000</td>\n    </tr>\n    <tr>\n      <th>TFE</th>\n      <td>0.902292</td>\n      <td>0.902292</td>\n      <td>1.000000</td>\n      <td>0.902292</td>\n    </tr>\n    <tr>\n      <th>te</th>\n      <td>1.000000</td>\n      <td>1.000000</td>\n      <td>0.902292</td>\n      <td>1.000000</td>\n    </tr>\n    <tr>\n      <th rowspan=\"4\" valign=\"top\">SWING</th>\n      <th>eb</th>\n      <td>1.000000</td>\n      <td>1.000000</td>\n      <td>0.929307</td>\n      <td>1.000000</td>\n    </tr>\n    <tr>\n      <th>compression ratio</th>\n      <td>1.000000</td>\n      <td>1.000000</td>\n      <td>0.929307</td>\n      <td>1.000000</td>\n    </tr>\n    <tr>\n      <th>TFE</th>\n      <td>0.929307</td>\n      <td>0.929307</td>\n      <td>1.000000</td>\n      <td>0.929307</td>\n    </tr>\n    <tr>\n      <th>te</th>\n      <td>1.000000</td>\n      <td>1.000000</td>\n      <td>0.929307</td>\n      <td>1.000000</td>\n    </tr>\n    <tr>\n      <th rowspan=\"4\" valign=\"top\">SZ</th>\n      <th>eb</th>\n      <td>1.000000</td>\n      <td>1.000000</td>\n      <td>0.996319</td>\n      <td>0.995604</td>\n    </tr>\n    <tr>\n      <th>compression ratio</th>\n      <td>1.000000</td>\n      <td>1.000000</td>\n      <td>0.996319</td>\n      <td>0.995604</td>\n    </tr>\n    <tr>\n      <th>TFE</th>\n      <td>0.996319</td>\n      <td>0.996319</td>\n      <td>1.000000</td>\n      <td>0.991933</td>\n    </tr>\n    <tr>\n      <th>te</th>\n      <td>0.995604</td>\n      <td>0.995604</td>\n      <td>0.991933</td>\n      <td>1.000000</td>\n    </tr>\n  </tbody>\n</table>\n</div>"
     },
     "metadata": {},
     "output_type": "display_data"
    },
    {
     "data": {
      "text/plain": "             compression ratio_TFE  compression ratio_te        TFE_te   eblc\ncorrelation           9.022916e-01          1.000000e+00  9.022916e-01    PMC\npvalue                1.515094e-26          0.000000e+00  1.515094e-26    PMC\ncorrelation           9.293069e-01          1.000000e+00  9.293069e-01  SWING\npvalue                3.957550e-31          0.000000e+00  3.957550e-31  SWING\ncorrelation           9.963187e-01          9.956044e-01  9.919331e-01     SZ\npvalue                2.738345e-74          1.124893e-71  9.791567e-63     SZ",
      "text/html": "<div>\n<style scoped>\n    .dataframe tbody tr th:only-of-type {\n        vertical-align: middle;\n    }\n\n    .dataframe tbody tr th {\n        vertical-align: top;\n    }\n\n    .dataframe thead th {\n        text-align: right;\n    }\n</style>\n<table border=\"1\" class=\"dataframe\">\n  <thead>\n    <tr style=\"text-align: right;\">\n      <th></th>\n      <th>compression ratio_TFE</th>\n      <th>compression ratio_te</th>\n      <th>TFE_te</th>\n      <th>eblc</th>\n    </tr>\n  </thead>\n  <tbody>\n    <tr>\n      <th>correlation</th>\n      <td>9.022916e-01</td>\n      <td>1.000000e+00</td>\n      <td>9.022916e-01</td>\n      <td>PMC</td>\n    </tr>\n    <tr>\n      <th>pvalue</th>\n      <td>1.515094e-26</td>\n      <td>0.000000e+00</td>\n      <td>1.515094e-26</td>\n      <td>PMC</td>\n    </tr>\n    <tr>\n      <th>correlation</th>\n      <td>9.293069e-01</td>\n      <td>1.000000e+00</td>\n      <td>9.293069e-01</td>\n      <td>SWING</td>\n    </tr>\n    <tr>\n      <th>pvalue</th>\n      <td>3.957550e-31</td>\n      <td>0.000000e+00</td>\n      <td>3.957550e-31</td>\n      <td>SWING</td>\n    </tr>\n    <tr>\n      <th>correlation</th>\n      <td>9.963187e-01</td>\n      <td>9.956044e-01</td>\n      <td>9.919331e-01</td>\n      <td>SZ</td>\n    </tr>\n    <tr>\n      <th>pvalue</th>\n      <td>2.738345e-74</td>\n      <td>1.124893e-71</td>\n      <td>9.791567e-63</td>\n      <td>SZ</td>\n    </tr>\n  </tbody>\n</table>\n</div>"
     },
     "execution_count": 44,
     "metadata": {},
     "output_type": "execute_result"
    }
   ],
   "source": [
    "compute_rho_eb_te_cr('aus')\n",
    "compute_rho_tfe_te_cr('WIND')\n",
    "compute_rho_tfe_te_cr('SOLAR')"
   ],
   "metadata": {
    "collapsed": false,
    "ExecuteTime": {
     "end_time": "2023-09-16T12:02:02.273242700Z",
     "start_time": "2023-09-16T12:02:02.114974500Z"
    }
   }
  },
  {
   "cell_type": "code",
   "execution_count": 50,
   "outputs": [
    {
     "data": {
      "text/plain": "                       eb       TFE        te        cr\ncompression                                            \nPMC         eb   1.000000  0.954628  1.000000  1.000000\n            TFE  0.954628  1.000000  0.954628  0.954628\n            te   1.000000  0.954628  1.000000  1.000000\n            cr   1.000000  0.954628  1.000000  1.000000\nSWING       eb   1.000000  0.981810  1.000000  1.000000\n            TFE  0.981810  1.000000  0.981810  0.981810\n            te   1.000000  0.981810  1.000000  1.000000\n            cr   1.000000  0.981810  1.000000  1.000000\nSZ          eb   1.000000  0.973918  1.000000  0.994505\n            TFE  0.973918  1.000000  0.973918  0.969973\n            te   1.000000  0.973918  1.000000  0.994505\n            cr   0.994505  0.969973  0.994505  1.000000",
      "text/html": "<div>\n<style scoped>\n    .dataframe tbody tr th:only-of-type {\n        vertical-align: middle;\n    }\n\n    .dataframe tbody tr th {\n        vertical-align: top;\n    }\n\n    .dataframe thead th {\n        text-align: right;\n    }\n</style>\n<table border=\"1\" class=\"dataframe\">\n  <thead>\n    <tr style=\"text-align: right;\">\n      <th></th>\n      <th></th>\n      <th>eb</th>\n      <th>TFE</th>\n      <th>te</th>\n      <th>cr</th>\n    </tr>\n    <tr>\n      <th>compression</th>\n      <th></th>\n      <th></th>\n      <th></th>\n      <th></th>\n      <th></th>\n    </tr>\n  </thead>\n  <tbody>\n    <tr>\n      <th rowspan=\"4\" valign=\"top\">PMC</th>\n      <th>eb</th>\n      <td>1.000000</td>\n      <td>0.954628</td>\n      <td>1.000000</td>\n      <td>1.000000</td>\n    </tr>\n    <tr>\n      <th>TFE</th>\n      <td>0.954628</td>\n      <td>1.000000</td>\n      <td>0.954628</td>\n      <td>0.954628</td>\n    </tr>\n    <tr>\n      <th>te</th>\n      <td>1.000000</td>\n      <td>0.954628</td>\n      <td>1.000000</td>\n      <td>1.000000</td>\n    </tr>\n    <tr>\n      <th>cr</th>\n      <td>1.000000</td>\n      <td>0.954628</td>\n      <td>1.000000</td>\n      <td>1.000000</td>\n    </tr>\n    <tr>\n      <th rowspan=\"4\" valign=\"top\">SWING</th>\n      <th>eb</th>\n      <td>1.000000</td>\n      <td>0.981810</td>\n      <td>1.000000</td>\n      <td>1.000000</td>\n    </tr>\n    <tr>\n      <th>TFE</th>\n      <td>0.981810</td>\n      <td>1.000000</td>\n      <td>0.981810</td>\n      <td>0.981810</td>\n    </tr>\n    <tr>\n      <th>te</th>\n      <td>1.000000</td>\n      <td>0.981810</td>\n      <td>1.000000</td>\n      <td>1.000000</td>\n    </tr>\n    <tr>\n      <th>cr</th>\n      <td>1.000000</td>\n      <td>0.981810</td>\n      <td>1.000000</td>\n      <td>1.000000</td>\n    </tr>\n    <tr>\n      <th rowspan=\"4\" valign=\"top\">SZ</th>\n      <th>eb</th>\n      <td>1.000000</td>\n      <td>0.973918</td>\n      <td>1.000000</td>\n      <td>0.994505</td>\n    </tr>\n    <tr>\n      <th>TFE</th>\n      <td>0.973918</td>\n      <td>1.000000</td>\n      <td>0.973918</td>\n      <td>0.969973</td>\n    </tr>\n    <tr>\n      <th>te</th>\n      <td>1.000000</td>\n      <td>0.973918</td>\n      <td>1.000000</td>\n      <td>0.994505</td>\n    </tr>\n    <tr>\n      <th>cr</th>\n      <td>0.994505</td>\n      <td>0.969973</td>\n      <td>0.994505</td>\n      <td>1.000000</td>\n    </tr>\n  </tbody>\n</table>\n</div>"
     },
     "metadata": {},
     "output_type": "display_data"
    }
   ],
   "source": [
    "compute_rho_tfe_te_cr_pweather()"
   ],
   "metadata": {
    "collapsed": false,
    "ExecuteTime": {
     "end_time": "2023-09-16T12:09:23.689750800Z",
     "start_time": "2023-09-16T12:09:23.653421600Z"
    }
   }
  },
  {
   "cell_type": "code",
   "execution_count": 38,
   "outputs": [
    {
     "data": {
      "text/plain": "             compression ratio_TFE  compression ratio_te        TFE_te   eblc\ncorrelation           5.753655e-01                   1.0  5.753655e-01    PMC\npvalue                3.507506e-06                   0.0  3.507506e-06    PMC\ncorrelation           9.802320e-01                   1.0  9.802320e-01  SWING\npvalue                1.107683e-39                   0.0  1.107683e-39  SWING\ncorrelation           9.602217e-01                   1.0  9.602217e-01     SZ\npvalue                1.359577e-31                   0.0  1.359577e-31     SZ",
      "text/html": "<div>\n<style scoped>\n    .dataframe tbody tr th:only-of-type {\n        vertical-align: middle;\n    }\n\n    .dataframe tbody tr th {\n        vertical-align: top;\n    }\n\n    .dataframe thead th {\n        text-align: right;\n    }\n</style>\n<table border=\"1\" class=\"dataframe\">\n  <thead>\n    <tr style=\"text-align: right;\">\n      <th></th>\n      <th>compression ratio_TFE</th>\n      <th>compression ratio_te</th>\n      <th>TFE_te</th>\n      <th>eblc</th>\n    </tr>\n  </thead>\n  <tbody>\n    <tr>\n      <th>correlation</th>\n      <td>5.753655e-01</td>\n      <td>1.0</td>\n      <td>5.753655e-01</td>\n      <td>PMC</td>\n    </tr>\n    <tr>\n      <th>pvalue</th>\n      <td>3.507506e-06</td>\n      <td>0.0</td>\n      <td>3.507506e-06</td>\n      <td>PMC</td>\n    </tr>\n    <tr>\n      <th>correlation</th>\n      <td>9.802320e-01</td>\n      <td>1.0</td>\n      <td>9.802320e-01</td>\n      <td>SWING</td>\n    </tr>\n    <tr>\n      <th>pvalue</th>\n      <td>1.107683e-39</td>\n      <td>0.0</td>\n      <td>1.107683e-39</td>\n      <td>SWING</td>\n    </tr>\n    <tr>\n      <th>correlation</th>\n      <td>9.602217e-01</td>\n      <td>1.0</td>\n      <td>9.602217e-01</td>\n      <td>SZ</td>\n    </tr>\n    <tr>\n      <th>pvalue</th>\n      <td>1.359577e-31</td>\n      <td>0.0</td>\n      <td>1.359577e-31</td>\n      <td>SZ</td>\n    </tr>\n  </tbody>\n</table>\n</div>"
     },
     "execution_count": 38,
     "metadata": {},
     "output_type": "execute_result"
    }
   ],
   "source": [],
   "metadata": {
    "collapsed": false,
    "ExecuteTime": {
     "end_time": "2023-09-16T11:54:31.820452700Z",
     "start_time": "2023-09-16T11:54:31.756144600Z"
    }
   }
  },
  {
   "cell_type": "code",
   "execution_count": 19,
   "outputs": [
    {
     "data": {
      "text/plain": "                                     eb  compression ratio       TFE        te\ncompression                                                                   \nPMC         eb                 1.000000           1.000000  0.575365  1.000000\n            compression ratio  1.000000           1.000000  0.575365  1.000000\n            TFE                0.575365           0.575365  1.000000  0.575365\n            te                 1.000000           1.000000  0.575365  1.000000\nSWING       eb                 1.000000           1.000000  0.980232  1.000000\n            compression ratio  1.000000           1.000000  0.980232  1.000000\n            TFE                0.980232           0.980232  1.000000  0.980232\n            te                 1.000000           1.000000  0.980232  1.000000\nSZ          eb                 1.000000           1.000000  0.960222  1.000000\n            compression ratio  1.000000           1.000000  0.960222  1.000000\n            TFE                0.960222           0.960222  1.000000  0.960222\n            te                 1.000000           1.000000  0.960222  1.000000",
      "text/html": "<div>\n<style scoped>\n    .dataframe tbody tr th:only-of-type {\n        vertical-align: middle;\n    }\n\n    .dataframe tbody tr th {\n        vertical-align: top;\n    }\n\n    .dataframe thead th {\n        text-align: right;\n    }\n</style>\n<table border=\"1\" class=\"dataframe\">\n  <thead>\n    <tr style=\"text-align: right;\">\n      <th></th>\n      <th></th>\n      <th>eb</th>\n      <th>compression ratio</th>\n      <th>TFE</th>\n      <th>te</th>\n    </tr>\n    <tr>\n      <th>compression</th>\n      <th></th>\n      <th></th>\n      <th></th>\n      <th></th>\n      <th></th>\n    </tr>\n  </thead>\n  <tbody>\n    <tr>\n      <th rowspan=\"4\" valign=\"top\">PMC</th>\n      <th>eb</th>\n      <td>1.000000</td>\n      <td>1.000000</td>\n      <td>0.575365</td>\n      <td>1.000000</td>\n    </tr>\n    <tr>\n      <th>compression ratio</th>\n      <td>1.000000</td>\n      <td>1.000000</td>\n      <td>0.575365</td>\n      <td>1.000000</td>\n    </tr>\n    <tr>\n      <th>TFE</th>\n      <td>0.575365</td>\n      <td>0.575365</td>\n      <td>1.000000</td>\n      <td>0.575365</td>\n    </tr>\n    <tr>\n      <th>te</th>\n      <td>1.000000</td>\n      <td>1.000000</td>\n      <td>0.575365</td>\n      <td>1.000000</td>\n    </tr>\n    <tr>\n      <th rowspan=\"4\" valign=\"top\">SWING</th>\n      <th>eb</th>\n      <td>1.000000</td>\n      <td>1.000000</td>\n      <td>0.980232</td>\n      <td>1.000000</td>\n    </tr>\n    <tr>\n      <th>compression ratio</th>\n      <td>1.000000</td>\n      <td>1.000000</td>\n      <td>0.980232</td>\n      <td>1.000000</td>\n    </tr>\n    <tr>\n      <th>TFE</th>\n      <td>0.980232</td>\n      <td>0.980232</td>\n      <td>1.000000</td>\n      <td>0.980232</td>\n    </tr>\n    <tr>\n      <th>te</th>\n      <td>1.000000</td>\n      <td>1.000000</td>\n      <td>0.980232</td>\n      <td>1.000000</td>\n    </tr>\n    <tr>\n      <th rowspan=\"4\" valign=\"top\">SZ</th>\n      <th>eb</th>\n      <td>1.000000</td>\n      <td>1.000000</td>\n      <td>0.960222</td>\n      <td>1.000000</td>\n    </tr>\n    <tr>\n      <th>compression ratio</th>\n      <td>1.000000</td>\n      <td>1.000000</td>\n      <td>0.960222</td>\n      <td>1.000000</td>\n    </tr>\n    <tr>\n      <th>TFE</th>\n      <td>0.960222</td>\n      <td>0.960222</td>\n      <td>1.000000</td>\n      <td>0.960222</td>\n    </tr>\n    <tr>\n      <th>te</th>\n      <td>1.000000</td>\n      <td>1.000000</td>\n      <td>0.960222</td>\n      <td>1.000000</td>\n    </tr>\n  </tbody>\n</table>\n</div>"
     },
     "execution_count": 19,
     "metadata": {},
     "output_type": "execute_result"
    }
   ],
   "source": [
    "compute_rho_tfe_te_cr('SOLAR')"
   ],
   "metadata": {
    "collapsed": false,
    "ExecuteTime": {
     "end_time": "2023-09-16T11:46:21.693255Z",
     "start_time": "2023-09-16T11:46:21.608203600Z"
    }
   }
  },
  {
   "cell_type": "code",
   "execution_count": 66,
   "outputs": [
    {
     "name": "stdout",
     "output_type": "stream",
     "text": [
      "pmc\n"
     ]
    },
    {
     "name": "stderr",
     "output_type": "stream",
     "text": [
      "D:\\Anaconda\\envs\\dart\\lib\\site-packages\\scipy\\stats\\stats.py:1542: UserWarning: kurtosistest only valid for n>=20 ... continuing anyway, n=13\n",
      "  \"anyway, n=%i\" % int(n))\n"
     ]
    },
    {
     "data": {
      "text/plain": "<class 'statsmodels.iolib.summary.Summary'>\n\"\"\"\n                            OLS Regression Results                            \n==============================================================================\nDep. Variable:                     cr   R-squared:                       0.336\nModel:                            OLS   Adj. R-squared:                  0.275\nMethod:                 Least Squares   F-statistic:                     5.559\nDate:                Tue, 12 Sep 2023   Prob (F-statistic):             0.0380\nTime:                        18:11:54   Log-Likelihood:                -115.76\nNo. Observations:                  13   AIC:                             235.5\nDf Residuals:                      11   BIC:                             236.7\nDf Model:                           1                                         \nCovariance Type:            nonrobust                                         \n==============================================================================\n                 coef    std err          t      P>|t|      [0.025      0.975]\n------------------------------------------------------------------------------\nIntercept   -968.9107    948.828     -1.021      0.329   -3057.268    1119.446\nte          2.652e+04   1.12e+04      2.358      0.038    1763.935    5.13e+04\n==============================================================================\nOmnibus:                       13.955   Durbin-Watson:                   0.744\nProb(Omnibus):                  0.001   Jarque-Bera (JB):                9.446\nSkew:                           1.557   Prob(JB):                      0.00889\nKurtosis:                       5.781   Cond. No.                         21.0\n==============================================================================\n\nNotes:\n[1] Standard Errors assume that the covariance matrix of the errors is correctly specified.\n\"\"\"",
      "text/html": "<table class=\"simpletable\">\n<caption>OLS Regression Results</caption>\n<tr>\n  <th>Dep. Variable:</th>           <td>cr</td>        <th>  R-squared:         </th> <td>   0.336</td>\n</tr>\n<tr>\n  <th>Model:</th>                   <td>OLS</td>       <th>  Adj. R-squared:    </th> <td>   0.275</td>\n</tr>\n<tr>\n  <th>Method:</th>             <td>Least Squares</td>  <th>  F-statistic:       </th> <td>   5.559</td>\n</tr>\n<tr>\n  <th>Date:</th>             <td>Tue, 12 Sep 2023</td> <th>  Prob (F-statistic):</th>  <td>0.0380</td> \n</tr>\n<tr>\n  <th>Time:</th>                 <td>18:11:54</td>     <th>  Log-Likelihood:    </th> <td> -115.76</td>\n</tr>\n<tr>\n  <th>No. Observations:</th>      <td>    13</td>      <th>  AIC:               </th> <td>   235.5</td>\n</tr>\n<tr>\n  <th>Df Residuals:</th>          <td>    11</td>      <th>  BIC:               </th> <td>   236.7</td>\n</tr>\n<tr>\n  <th>Df Model:</th>              <td>     1</td>      <th>                     </th>     <td> </td>   \n</tr>\n<tr>\n  <th>Covariance Type:</th>      <td>nonrobust</td>    <th>                     </th>     <td> </td>   \n</tr>\n</table>\n<table class=\"simpletable\">\n<tr>\n      <td></td>         <th>coef</th>     <th>std err</th>      <th>t</th>      <th>P>|t|</th>  <th>[0.025</th>    <th>0.975]</th>  \n</tr>\n<tr>\n  <th>Intercept</th> <td> -968.9107</td> <td>  948.828</td> <td>   -1.021</td> <td> 0.329</td> <td>-3057.268</td> <td> 1119.446</td>\n</tr>\n<tr>\n  <th>te</th>        <td> 2.652e+04</td> <td> 1.12e+04</td> <td>    2.358</td> <td> 0.038</td> <td> 1763.935</td> <td> 5.13e+04</td>\n</tr>\n</table>\n<table class=\"simpletable\">\n<tr>\n  <th>Omnibus:</th>       <td>13.955</td> <th>  Durbin-Watson:     </th> <td>   0.744</td>\n</tr>\n<tr>\n  <th>Prob(Omnibus):</th> <td> 0.001</td> <th>  Jarque-Bera (JB):  </th> <td>   9.446</td>\n</tr>\n<tr>\n  <th>Skew:</th>          <td> 1.557</td> <th>  Prob(JB):          </th> <td> 0.00889</td>\n</tr>\n<tr>\n  <th>Kurtosis:</th>      <td> 5.781</td> <th>  Cond. No.          </th> <td>    21.0</td>\n</tr>\n</table><br/><br/>Notes:<br/>[1] Standard Errors assume that the covariance matrix of the errors is correctly specified."
     },
     "metadata": {},
     "output_type": "display_data"
    },
    {
     "name": "stdout",
     "output_type": "stream",
     "text": [
      "swing\n"
     ]
    },
    {
     "name": "stderr",
     "output_type": "stream",
     "text": [
      "D:\\Anaconda\\envs\\dart\\lib\\site-packages\\scipy\\stats\\stats.py:1542: UserWarning: kurtosistest only valid for n>=20 ... continuing anyway, n=13\n",
      "  \"anyway, n=%i\" % int(n))\n"
     ]
    },
    {
     "data": {
      "text/plain": "<class 'statsmodels.iolib.summary.Summary'>\n\"\"\"\n                            OLS Regression Results                            \n==============================================================================\nDep. Variable:                     cr   R-squared:                       0.595\nModel:                            OLS   Adj. R-squared:                  0.559\nMethod:                 Least Squares   F-statistic:                     16.19\nDate:                Tue, 12 Sep 2023   Prob (F-statistic):            0.00200\nTime:                        18:11:54   Log-Likelihood:                -104.87\nNo. Observations:                  13   AIC:                             213.7\nDf Residuals:                      11   BIC:                             214.9\nDf Model:                           1                                         \nCovariance Type:            nonrobust                                         \n==============================================================================\n                 coef    std err          t      P>|t|      [0.025      0.975]\n------------------------------------------------------------------------------\nIntercept   -620.9022    378.243     -1.642      0.129   -1453.410     211.605\nte          1.184e+04   2943.105      4.024      0.002    5365.485    1.83e+04\n==============================================================================\nOmnibus:                        4.894   Durbin-Watson:                   0.781\nProb(Omnibus):                  0.087   Jarque-Bera (JB):                1.939\nSkew:                           0.803   Prob(JB):                        0.379\nKurtosis:                       3.999   Cond. No.                         12.8\n==============================================================================\n\nNotes:\n[1] Standard Errors assume that the covariance matrix of the errors is correctly specified.\n\"\"\"",
      "text/html": "<table class=\"simpletable\">\n<caption>OLS Regression Results</caption>\n<tr>\n  <th>Dep. Variable:</th>           <td>cr</td>        <th>  R-squared:         </th> <td>   0.595</td>\n</tr>\n<tr>\n  <th>Model:</th>                   <td>OLS</td>       <th>  Adj. R-squared:    </th> <td>   0.559</td>\n</tr>\n<tr>\n  <th>Method:</th>             <td>Least Squares</td>  <th>  F-statistic:       </th> <td>   16.19</td>\n</tr>\n<tr>\n  <th>Date:</th>             <td>Tue, 12 Sep 2023</td> <th>  Prob (F-statistic):</th>  <td>0.00200</td>\n</tr>\n<tr>\n  <th>Time:</th>                 <td>18:11:54</td>     <th>  Log-Likelihood:    </th> <td> -104.87</td>\n</tr>\n<tr>\n  <th>No. Observations:</th>      <td>    13</td>      <th>  AIC:               </th> <td>   213.7</td>\n</tr>\n<tr>\n  <th>Df Residuals:</th>          <td>    11</td>      <th>  BIC:               </th> <td>   214.9</td>\n</tr>\n<tr>\n  <th>Df Model:</th>              <td>     1</td>      <th>                     </th>     <td> </td>   \n</tr>\n<tr>\n  <th>Covariance Type:</th>      <td>nonrobust</td>    <th>                     </th>     <td> </td>   \n</tr>\n</table>\n<table class=\"simpletable\">\n<tr>\n      <td></td>         <th>coef</th>     <th>std err</th>      <th>t</th>      <th>P>|t|</th>  <th>[0.025</th>    <th>0.975]</th>  \n</tr>\n<tr>\n  <th>Intercept</th> <td> -620.9022</td> <td>  378.243</td> <td>   -1.642</td> <td> 0.129</td> <td>-1453.410</td> <td>  211.605</td>\n</tr>\n<tr>\n  <th>te</th>        <td> 1.184e+04</td> <td> 2943.105</td> <td>    4.024</td> <td> 0.002</td> <td> 5365.485</td> <td> 1.83e+04</td>\n</tr>\n</table>\n<table class=\"simpletable\">\n<tr>\n  <th>Omnibus:</th>       <td> 4.894</td> <th>  Durbin-Watson:     </th> <td>   0.781</td>\n</tr>\n<tr>\n  <th>Prob(Omnibus):</th> <td> 0.087</td> <th>  Jarque-Bera (JB):  </th> <td>   1.939</td>\n</tr>\n<tr>\n  <th>Skew:</th>          <td> 0.803</td> <th>  Prob(JB):          </th> <td>   0.379</td>\n</tr>\n<tr>\n  <th>Kurtosis:</th>      <td> 3.999</td> <th>  Cond. No.          </th> <td>    12.8</td>\n</tr>\n</table><br/><br/>Notes:<br/>[1] Standard Errors assume that the covariance matrix of the errors is correctly specified."
     },
     "metadata": {},
     "output_type": "display_data"
    },
    {
     "name": "stdout",
     "output_type": "stream",
     "text": [
      "sz\n"
     ]
    },
    {
     "name": "stderr",
     "output_type": "stream",
     "text": [
      "D:\\Anaconda\\envs\\dart\\lib\\site-packages\\scipy\\stats\\stats.py:1542: UserWarning: kurtosistest only valid for n>=20 ... continuing anyway, n=13\n",
      "  \"anyway, n=%i\" % int(n))\n"
     ]
    },
    {
     "data": {
      "text/plain": "<class 'statsmodels.iolib.summary.Summary'>\n\"\"\"\n                            OLS Regression Results                            \n==============================================================================\nDep. Variable:                     cr   R-squared:                       0.492\nModel:                            OLS   Adj. R-squared:                  0.446\nMethod:                 Least Squares   F-statistic:                     10.66\nDate:                Tue, 12 Sep 2023   Prob (F-statistic):            0.00753\nTime:                        18:11:54   Log-Likelihood:                -69.281\nNo. Observations:                  13   AIC:                             142.6\nDf Residuals:                      11   BIC:                             143.7\nDf Model:                           1                                         \nCovariance Type:            nonrobust                                         \n==============================================================================\n                 coef    std err          t      P>|t|      [0.025      0.975]\n------------------------------------------------------------------------------\nIntercept     34.4219     20.900      1.647      0.128     -11.579      80.423\nte           369.5957    113.191      3.265      0.008     120.464     618.728\n==============================================================================\nOmnibus:                       15.387   Durbin-Watson:                   2.568\nProb(Omnibus):                  0.000   Jarque-Bera (JB):               12.916\nSkew:                           1.413   Prob(JB):                      0.00157\nKurtosis:                       6.982   Cond. No.                         7.65\n==============================================================================\n\nNotes:\n[1] Standard Errors assume that the covariance matrix of the errors is correctly specified.\n\"\"\"",
      "text/html": "<table class=\"simpletable\">\n<caption>OLS Regression Results</caption>\n<tr>\n  <th>Dep. Variable:</th>           <td>cr</td>        <th>  R-squared:         </th> <td>   0.492</td>\n</tr>\n<tr>\n  <th>Model:</th>                   <td>OLS</td>       <th>  Adj. R-squared:    </th> <td>   0.446</td>\n</tr>\n<tr>\n  <th>Method:</th>             <td>Least Squares</td>  <th>  F-statistic:       </th> <td>   10.66</td>\n</tr>\n<tr>\n  <th>Date:</th>             <td>Tue, 12 Sep 2023</td> <th>  Prob (F-statistic):</th>  <td>0.00753</td>\n</tr>\n<tr>\n  <th>Time:</th>                 <td>18:11:54</td>     <th>  Log-Likelihood:    </th> <td> -69.281</td>\n</tr>\n<tr>\n  <th>No. Observations:</th>      <td>    13</td>      <th>  AIC:               </th> <td>   142.6</td>\n</tr>\n<tr>\n  <th>Df Residuals:</th>          <td>    11</td>      <th>  BIC:               </th> <td>   143.7</td>\n</tr>\n<tr>\n  <th>Df Model:</th>              <td>     1</td>      <th>                     </th>     <td> </td>   \n</tr>\n<tr>\n  <th>Covariance Type:</th>      <td>nonrobust</td>    <th>                     </th>     <td> </td>   \n</tr>\n</table>\n<table class=\"simpletable\">\n<tr>\n      <td></td>         <th>coef</th>     <th>std err</th>      <th>t</th>      <th>P>|t|</th>  <th>[0.025</th>    <th>0.975]</th>  \n</tr>\n<tr>\n  <th>Intercept</th> <td>   34.4219</td> <td>   20.900</td> <td>    1.647</td> <td> 0.128</td> <td>  -11.579</td> <td>   80.423</td>\n</tr>\n<tr>\n  <th>te</th>        <td>  369.5957</td> <td>  113.191</td> <td>    3.265</td> <td> 0.008</td> <td>  120.464</td> <td>  618.728</td>\n</tr>\n</table>\n<table class=\"simpletable\">\n<tr>\n  <th>Omnibus:</th>       <td>15.387</td> <th>  Durbin-Watson:     </th> <td>   2.568</td>\n</tr>\n<tr>\n  <th>Prob(Omnibus):</th> <td> 0.000</td> <th>  Jarque-Bera (JB):  </th> <td>  12.916</td>\n</tr>\n<tr>\n  <th>Skew:</th>          <td> 1.413</td> <th>  Prob(JB):          </th> <td> 0.00157</td>\n</tr>\n<tr>\n  <th>Kurtosis:</th>      <td> 6.982</td> <th>  Cond. No.          </th> <td>    7.65</td>\n</tr>\n</table><br/><br/>Notes:<br/>[1] Standard Errors assume that the covariance matrix of the errors is correctly specified."
     },
     "metadata": {},
     "output_type": "display_data"
    }
   ],
   "source": [
    "import statsmodels.formula.api as smf\n",
    "for comp in ['pmc', 'swing', 'sz']:\n",
    "    model = smf.ols(formula='cr ~ te', data=joined[(joined['compression'] == comp)]).fit()\n",
    "    display(model.summary())"
   ],
   "metadata": {
    "collapsed": false,
    "ExecuteTime": {
     "end_time": "2023-09-12T16:11:54.571410100Z",
     "start_time": "2023-09-12T16:11:54.508409300Z"
    }
   }
  }
 ],
 "metadata": {
  "kernelspec": {
   "display_name": "Python 3",
   "language": "python",
   "name": "python3"
  },
  "language_info": {
   "codemirror_mode": {
    "name": "ipython",
    "version": 2
   },
   "file_extension": ".py",
   "mimetype": "text/x-python",
   "name": "python",
   "nbconvert_exporter": "python",
   "pygments_lexer": "ipython2",
   "version": "2.7.6"
  }
 },
 "nbformat": 4,
 "nbformat_minor": 0
}
