{
 "cells": [
  {
   "cell_type": "code",
   "execution_count": 10,
   "outputs": [
    {
     "name": "stdout",
     "output_type": "stream",
     "text": [
      "(194, 48)\n",
      "(229, 48)\n"
     ]
    }
   ],
   "source": [
    "import shap\n",
    "import statsmodels.api as sm\n",
    "import numpy as np\n",
    "import pandas as pd\n",
    "from sklearn.ensemble import GradientBoostingRegressor\n",
    "from sklearn.metrics import mean_squared_error\n",
    "from sklearn.metrics import r2_score\n",
    "from sklearn.preprocessing import StandardScaler\n",
    "\n",
    "np.random.seed(42)\n",
    "features = pd.read_csv('../results/features/all_datasets_features_diff_xg.csv')\n",
    "c = (features.model == 'GRU') & (features.data == 'aus')\n",
    "features = features[~c]\n",
    "c = (features.model == 'GRU') & (features.data == 'solar')\n",
    "features = features[~c]\n",
    "features = features[features.eb < 0.8]\n",
    "features = features.dropna(axis=1)\n",
    "arima_features = features[features.model == 'ARIMA']\n",
    "trans_features = features[features.model == 'TRANSFORMER']\n",
    "informer_features = features[features.model == 'INFORMER']\n",
    "nbeats_features = features[features.model == 'NBEATS']\n",
    "gboost_features = features[features.model == 'GBOOST']\n",
    "linear_features = features[features.model == 'DLINEAR']\n",
    "gru_features = features[features.model == 'GRU']\n",
    "\n",
    "print(arima_features.shape)\n",
    "print(trans_features.shape)"
   ],
   "metadata": {
    "collapsed": false,
    "ExecuteTime": {
     "end_time": "2024-01-05T17:00:35.984800100Z",
     "start_time": "2024-01-05T17:00:35.916774Z"
    }
   }
  },
  {
   "cell_type": "code",
   "execution_count": 13,
   "outputs": [
    {
     "name": "stdout",
     "output_type": "stream",
     "text": [
      "Training MSE: 0.10697657930790697\n",
      "Training R^2: 0.988556011479579\n"
     ]
    },
    {
     "name": "stderr",
     "output_type": "stream",
     "text": [
      "\n",
      "A value is trying to be set on a copy of a slice from a DataFrame.\n",
      "Try using .loc[row_indexer,col_indexer] = value instead\n",
      "\n",
      "See the caveats in the documentation: https://pandas.pydata.org/pandas-docs/stable/user_guide/indexing.html#returning-a-view-versus-a-copy\n",
      "\n",
      "A value is trying to be set on a copy of a slice from a DataFrame.\n",
      "Try using .loc[row_indexer,col_indexer] = value instead\n",
      "\n",
      "See the caveats in the documentation: https://pandas.pydata.org/pandas-docs/stable/user_guide/indexing.html#returning-a-view-versus-a-copy\n",
      "A column-vector y was passed when a 1d array was expected. Please change the shape of y to (n_samples, ), for example using ravel().\n"
     ]
    },
    {
     "data": {
      "text/plain": "           Feature  Importance\n1  max_level_shift    0.392464\n2        seas_acf1    0.280029\n4      unitroot_pp    0.184898\n0     max_kl_shift    0.121703\n3    max_var_shift    0.020905",
      "text/html": "<div>\n<style scoped>\n    .dataframe tbody tr th:only-of-type {\n        vertical-align: middle;\n    }\n\n    .dataframe tbody tr th {\n        vertical-align: top;\n    }\n\n    .dataframe thead th {\n        text-align: right;\n    }\n</style>\n<table border=\"1\" class=\"dataframe\">\n  <thead>\n    <tr style=\"text-align: right;\">\n      <th></th>\n      <th>Feature</th>\n      <th>Importance</th>\n    </tr>\n  </thead>\n  <tbody>\n    <tr>\n      <th>1</th>\n      <td>max_level_shift</td>\n      <td>0.392464</td>\n    </tr>\n    <tr>\n      <th>2</th>\n      <td>seas_acf1</td>\n      <td>0.280029</td>\n    </tr>\n    <tr>\n      <th>4</th>\n      <td>unitroot_pp</td>\n      <td>0.184898</td>\n    </tr>\n    <tr>\n      <th>0</th>\n      <td>max_kl_shift</td>\n      <td>0.121703</td>\n    </tr>\n    <tr>\n      <th>3</th>\n      <td>max_var_shift</td>\n      <td>0.020905</td>\n    </tr>\n  </tbody>\n</table>\n</div>"
     },
     "metadata": {},
     "output_type": "display_data"
    }
   ],
   "source": [
    "X_train = arima_features[['max_kl_shift', 'max_level_shift', 'seas_acf1', 'max_var_shift', 'unitroot_pp']]\n",
    "y_train = arima_features[['TFE']]\n",
    "\n",
    "x_scaler = StandardScaler()\n",
    "y_scaler = StandardScaler()\n",
    "X_train[X_train.columns] = x_scaler.fit_transform(X_train)\n",
    "y_train[y_train.columns] = y_scaler.fit_transform(y_train)\n",
    "\n",
    "gbm = GradientBoostingRegressor()\n",
    "gbm.fit(X_train, y_train)\n",
    "explainer = shap.TreeExplainer(gbm)\n",
    "feature_importance = gbm.feature_importances_\n",
    "\n",
    "features_df = pd.DataFrame({\n",
    "    'Feature': X_train.columns,\n",
    "    'Importance': feature_importance\n",
    "})\n",
    "\n",
    "# Sort the features based on importance\n",
    "features_df = features_df.sort_values(by='Importance', ascending=False)\n",
    "\n",
    "train_predictions = gbm.predict(X_train)\n",
    "mse_train = np.sqrt(mean_squared_error(y_train, train_predictions))\n",
    "r2_train = r2_score(y_train, train_predictions)\n",
    "\n",
    "print(f\"Training MSE: {mse_train}\")\n",
    "print(f\"Training R^2: {r2_train}\")\n",
    "display(features_df)"
   ],
   "metadata": {
    "collapsed": false,
    "ExecuteTime": {
     "end_time": "2024-01-05T17:01:29.054387800Z",
     "start_time": "2024-01-05T17:01:28.980392500Z"
    }
   }
  },
  {
   "cell_type": "code",
   "execution_count": 15,
   "outputs": [
    {
     "name": "stdout",
     "output_type": "stream",
     "text": [
      "Training MSE: 0.025126666631229696\n",
      "Training R^2: 0.9986974148763046\n"
     ]
    },
    {
     "name": "stderr",
     "output_type": "stream",
     "text": [
      "A column-vector y was passed when a 1d array was expected. Please change the shape of y to (n_samples, ), for example using ravel().\n"
     ]
    },
    {
     "data": {
      "text/plain": "           Feature  Importance\n2        seas_acf1    0.427790\n4      unitroot_pp    0.245740\n1  max_level_shift    0.224084\n3    max_var_shift    0.081567\n0     max_kl_shift    0.020819",
      "text/html": "<div>\n<style scoped>\n    .dataframe tbody tr th:only-of-type {\n        vertical-align: middle;\n    }\n\n    .dataframe tbody tr th {\n        vertical-align: top;\n    }\n\n    .dataframe thead th {\n        text-align: right;\n    }\n</style>\n<table border=\"1\" class=\"dataframe\">\n  <thead>\n    <tr style=\"text-align: right;\">\n      <th></th>\n      <th>Feature</th>\n      <th>Importance</th>\n    </tr>\n  </thead>\n  <tbody>\n    <tr>\n      <th>2</th>\n      <td>seas_acf1</td>\n      <td>0.427790</td>\n    </tr>\n    <tr>\n      <th>4</th>\n      <td>unitroot_pp</td>\n      <td>0.245740</td>\n    </tr>\n    <tr>\n      <th>1</th>\n      <td>max_level_shift</td>\n      <td>0.224084</td>\n    </tr>\n    <tr>\n      <th>3</th>\n      <td>max_var_shift</td>\n      <td>0.081567</td>\n    </tr>\n    <tr>\n      <th>0</th>\n      <td>max_kl_shift</td>\n      <td>0.020819</td>\n    </tr>\n  </tbody>\n</table>\n</div>"
     },
     "metadata": {},
     "output_type": "display_data"
    }
   ],
   "source": [
    "X_train = trans_features[['max_kl_shift', 'max_level_shift', 'seas_acf1', 'max_var_shift', 'unitroot_pp']]\n",
    "y_train = trans_features[['TFE']]\n",
    "\n",
    "gbm = GradientBoostingRegressor()\n",
    "gbm.fit(X_train, y_train)\n",
    "feature_importance = gbm.feature_importances_\n",
    "\n",
    "features_df = pd.DataFrame({\n",
    "    'Feature': X_train.columns,\n",
    "    'Importance': feature_importance\n",
    "})\n",
    "\n",
    "features_df = features_df.sort_values(by='Importance', ascending=False)\n",
    "# Sort the features based on importance\n",
    "train_predictions = gbm.predict(X_train)\n",
    "mse_train = np.sqrt(mean_squared_error(y_train, train_predictions))\n",
    "r2_train = r2_score(y_train, train_predictions)\n",
    "\n",
    "print(f\"Training MSE: {mse_train}\")\n",
    "print(f\"Training R^2: {r2_train}\")\n",
    "display(features_df)"
   ],
   "metadata": {
    "collapsed": false,
    "ExecuteTime": {
     "end_time": "2024-01-05T17:02:50.416198500Z",
     "start_time": "2024-01-05T17:02:50.339198700Z"
    }
   }
  },
  {
   "cell_type": "code",
   "execution_count": 19,
   "outputs": [
    {
     "name": "stdout",
     "output_type": "stream",
     "text": [
      "                            OLS Regression Results                            \n",
      "==============================================================================\n",
      "Dep. Variable:                      y   R-squared:                       0.506\n",
      "Model:                            OLS   Adj. R-squared:                  0.502\n",
      "Method:                 Least Squares   F-statistic:                     115.7\n",
      "Date:                Fri, 05 Jan 2024   Prob (F-statistic):           2.52e-35\n",
      "Time:                        18:05:51   Log-Likelihood:                -244.21\n",
      "No. Observations:                 229   AIC:                             494.4\n",
      "Df Residuals:                     226   BIC:                             504.7\n",
      "Df Model:                           2                                         \n",
      "Covariance Type:            nonrobust                                         \n",
      "==============================================================================\n",
      "                 coef    std err          t      P>|t|      [0.025      0.975]\n",
      "------------------------------------------------------------------------------\n",
      "const      -2.082e-17      0.047  -4.45e-16      1.000      -0.092       0.092\n",
      "x1             0.7213      0.047     15.196      0.000       0.628       0.815\n",
      "x2            -0.0918      0.047     -1.934      0.054      -0.185       0.002\n",
      "==============================================================================\n",
      "Omnibus:                       79.746   Durbin-Watson:                   0.604\n",
      "Prob(Omnibus):                  0.000   Jarque-Bera (JB):              924.376\n",
      "Skew:                           0.976   Prob(JB):                    1.88e-201\n",
      "Kurtosis:                      12.647   Cond. No.                         1.19\n",
      "==============================================================================\n",
      "\n",
      "Notes:\n",
      "[1] Standard Errors assume that the covariance matrix of the errors is correctly specified.\n",
      "Coefficients:\n",
      " [-2.08166817e-17  7.21312856e-01 -9.17940927e-02]\n"
     ]
    }
   ],
   "source": [
    "from sklearn.preprocessing import StandardScaler\n",
    "\n",
    "X_train = informer_features[['te', 'max_kl_shift']]\n",
    "y_train = informer_features[['TFE']]\n",
    "\n",
    "x_scaler = StandardScaler()\n",
    "y_scaler = StandardScaler()\n",
    "X_train = x_scaler.fit_transform(X_train)\n",
    "y_train = y_scaler.fit_transform(y_train)\n",
    "\n",
    "# Adding a constant to the model (intercept)\n",
    "X_train = sm.add_constant(X_train)\n",
    "# Create a model and fit it\n",
    "trans_model = sm.OLS(y_train, X_train).fit()\n",
    "\n",
    "\n",
    "print(trans_model.summary())\n",
    "\n",
    "# For a more direct view of the coefficients:\n",
    "print(\"Coefficients:\\n\", trans_model.params)"
   ],
   "metadata": {
    "collapsed": false,
    "ExecuteTime": {
     "end_time": "2024-01-05T17:05:52.031992Z",
     "start_time": "2024-01-05T17:05:51.997107800Z"
    }
   }
  },
  {
   "cell_type": "code",
   "execution_count": 20,
   "outputs": [
    {
     "name": "stdout",
     "output_type": "stream",
     "text": [
      "                            OLS Regression Results                            \n",
      "==============================================================================\n",
      "Dep. Variable:                      y   R-squared:                       0.697\n",
      "Model:                            OLS   Adj. R-squared:                  0.694\n",
      "Method:                 Least Squares   F-statistic:                     220.0\n",
      "Date:                Fri, 05 Jan 2024   Prob (F-statistic):           2.69e-50\n",
      "Time:                        18:06:13   Log-Likelihood:                -159.34\n",
      "No. Observations:                 194   AIC:                             324.7\n",
      "Df Residuals:                     191   BIC:                             334.5\n",
      "Df Model:                           2                                         \n",
      "Covariance Type:            nonrobust                                         \n",
      "==============================================================================\n",
      "                 coef    std err          t      P>|t|      [0.025      0.975]\n",
      "------------------------------------------------------------------------------\n",
      "const       7.633e-17      0.040   1.92e-15      1.000      -0.079       0.079\n",
      "x1             0.8293      0.041     20.438      0.000       0.749       0.909\n",
      "x2             0.0278      0.041      0.685      0.494      -0.052       0.108\n",
      "==============================================================================\n",
      "Omnibus:                      120.489   Durbin-Watson:                   0.531\n",
      "Prob(Omnibus):                  0.000   Jarque-Bera (JB):              929.055\n",
      "Skew:                           2.291   Prob(JB):                    1.81e-202\n",
      "Kurtosis:                      12.692   Cond. No.                         1.22\n",
      "==============================================================================\n",
      "\n",
      "Notes:\n",
      "[1] Standard Errors assume that the covariance matrix of the errors is correctly specified.\n",
      "Coefficients:\n",
      " [7.63278329e-17 8.29250783e-01 2.77805156e-02]\n"
     ]
    }
   ],
   "source": [
    "X_train = arima_features[['te', 'max_kl_shift']]\n",
    "y_train = arima_features[['TFE']]\n",
    "\n",
    "x_scaler = StandardScaler()\n",
    "y_scaler = StandardScaler()\n",
    "X_train = x_scaler.fit_transform(X_train)\n",
    "y_train = y_scaler.fit_transform(y_train)\n",
    "\n",
    "# Adding a constant to the model (intercept)\n",
    "X_train = sm.add_constant(X_train)\n",
    "# Create a model and fit it\n",
    "arima_model = sm.OLS(y_train, X_train).fit()\n",
    "\n",
    "\n",
    "print(arima_model.summary())\n",
    "\n",
    "# For a more direct view of the coefficients:\n",
    "print(\"Coefficients:\\n\", arima_model.params)"
   ],
   "metadata": {
    "collapsed": false,
    "ExecuteTime": {
     "end_time": "2024-01-05T17:06:13.128826Z",
     "start_time": "2024-01-05T17:06:13.118826400Z"
    }
   }
  },
  {
   "cell_type": "code",
   "execution_count": 17,
   "outputs": [
    {
     "name": "stdout",
     "output_type": "stream",
     "text": [
      "                            OLS Regression Results                            \n",
      "==============================================================================\n",
      "Dep. Variable:                      y   R-squared:                       0.478\n",
      "Model:                            OLS   Adj. R-squared:                  0.466\n",
      "Method:                 Least Squares   F-statistic:                     40.84\n",
      "Date:                Fri, 05 Jan 2024   Prob (F-statistic):           1.00e-29\n",
      "Time:                        18:04:02   Log-Likelihood:                -250.51\n",
      "No. Observations:                 229   AIC:                             513.0\n",
      "Df Residuals:                     223   BIC:                             533.6\n",
      "Df Model:                           5                                         \n",
      "Covariance Type:            nonrobust                                         \n",
      "==============================================================================\n",
      "                 coef    std err          t      P>|t|      [0.025      0.975]\n",
      "------------------------------------------------------------------------------\n",
      "const      -2.082e-17      0.048   -4.3e-16      1.000      -0.095       0.095\n",
      "x1            -0.4193      0.058     -7.194      0.000      -0.534      -0.304\n",
      "x2             0.3561      0.147      2.417      0.016       0.066       0.646\n",
      "x3            -0.6454      0.061    -10.512      0.000      -0.766      -0.524\n",
      "x4             0.0258      0.144      0.179      0.858      -0.258       0.310\n",
      "x5            -0.2290      0.064     -3.552      0.000      -0.356      -0.102\n",
      "==============================================================================\n",
      "Omnibus:                      246.242   Durbin-Watson:                   0.991\n",
      "Prob(Omnibus):                  0.000   Jarque-Bera (JB):             7966.914\n",
      "Skew:                           4.405   Prob(JB):                         0.00\n",
      "Kurtosis:                      30.520   Cond. No.                         6.57\n",
      "==============================================================================\n",
      "\n",
      "Notes:\n",
      "[1] Standard Errors assume that the covariance matrix of the errors is correctly specified.\n",
      "Coefficients:\n",
      " [-2.08166817e-17 -4.19284976e-01  3.56139641e-01 -6.45369166e-01\n",
      "  2.58051449e-02 -2.28956354e-01]\n"
     ]
    }
   ],
   "source": [
    "X_train = informer_features[['max_kl_shift', 'max_level_shift', 'seas_acf1', 'max_var_shift', 'unitroot_pp']]\n",
    "y_train = informer_features[['TFE']]\n",
    "\n",
    "x_scaler = StandardScaler()\n",
    "y_scaler = StandardScaler()\n",
    "X_train = x_scaler.fit_transform(X_train)\n",
    "y_train = y_scaler.fit_transform(y_train)\n",
    "\n",
    "# Adding a constant to the model (intercept)\n",
    "X_train = sm.add_constant(X_train)\n",
    "# Create a model and fit it\n",
    "arima_model = sm.OLS(y_train, X_train).fit()\n",
    "\n",
    "\n",
    "print(arima_model.summary())\n",
    "\n",
    "# For a more direct view of the coefficients:\n",
    "print(\"Coefficients:\\n\", arima_model.params)"
   ],
   "metadata": {
    "collapsed": false,
    "ExecuteTime": {
     "end_time": "2024-01-05T17:04:02.357724900Z",
     "start_time": "2024-01-05T17:04:02.331728300Z"
    }
   }
  },
  {
   "cell_type": "code",
   "execution_count": 53,
   "outputs": [
    {
     "name": "stdout",
     "output_type": "stream",
     "text": [
      "                            OLS Regression Results                            \n",
      "==============================================================================\n",
      "Dep. Variable:                      y   R-squared:                       0.425\n",
      "Model:                            OLS   Adj. R-squared:                  0.412\n",
      "Method:                 Least Squares   F-statistic:                     32.99\n",
      "Date:                Sat, 30 Dec 2023   Prob (F-statistic):           3.92e-25\n",
      "Time:                        18:31:41   Log-Likelihood:                -261.54\n",
      "No. Observations:                 229   AIC:                             535.1\n",
      "Df Residuals:                     223   BIC:                             555.7\n",
      "Df Model:                           5                                         \n",
      "Covariance Type:            nonrobust                                         \n",
      "==============================================================================\n",
      "                 coef    std err          t      P>|t|      [0.025      0.975]\n",
      "------------------------------------------------------------------------------\n",
      "const      -2.776e-17      0.051  -5.47e-16      1.000      -0.100       0.100\n",
      "x1            -0.3861      0.061     -6.313      0.000      -0.507      -0.266\n",
      "x2             0.2536      0.155      1.640      0.102      -0.051       0.558\n",
      "x3            -0.5797      0.064     -8.997      0.000      -0.707      -0.453\n",
      "x4             0.1482      0.151      0.980      0.328      -0.150       0.446\n",
      "x5            -0.1818      0.068     -2.687      0.008      -0.315      -0.048\n",
      "==============================================================================\n",
      "Omnibus:                      286.321   Durbin-Watson:                   0.986\n",
      "Prob(Omnibus):                  0.000   Jarque-Bera (JB):            14707.069\n",
      "Skew:                           5.458   Prob(JB):                         0.00\n",
      "Kurtosis:                      40.712   Cond. No.                         6.57\n",
      "==============================================================================\n",
      "\n",
      "Notes:\n",
      "[1] Standard Errors assume that the covariance matrix of the errors is correctly specified.\n",
      "Coefficients:\n",
      " [-2.77555756e-17 -3.86117618e-01  2.53575784e-01 -5.79671206e-01\n",
      "  1.48227922e-01 -1.81768340e-01]\n"
     ]
    }
   ],
   "source": [
    "X_train = nbeats_features[['max_kl_shift', 'max_level_shift', 'seas_acf1', 'max_var_shift', 'unitroot_pp']]\n",
    "y_train = nbeats_features[['TFE']]\n",
    "\n",
    "x_scaler = StandardScaler()\n",
    "y_scaler = StandardScaler()\n",
    "X_train = x_scaler.fit_transform(X_train)\n",
    "y_train = y_scaler.fit_transform(y_train)\n",
    "\n",
    "# Adding a constant to the model (intercept)\n",
    "X_train = sm.add_constant(X_train)\n",
    "# Create a model and fit it\n",
    "arima_model = sm.OLS(y_train, X_train).fit()\n",
    "\n",
    "\n",
    "print(arima_model.summary())\n",
    "\n",
    "# For a more direct view of the coefficients:\n",
    "print(\"Coefficients:\\n\", arima_model.params)"
   ],
   "metadata": {
    "collapsed": false,
    "ExecuteTime": {
     "end_time": "2023-12-30T17:31:41.777514600Z",
     "start_time": "2023-12-30T17:31:41.760213500Z"
    }
   }
  },
  {
   "cell_type": "code",
   "execution_count": 18,
   "outputs": [
    {
     "name": "stdout",
     "output_type": "stream",
     "text": [
      "                            OLS Regression Results                            \n",
      "==============================================================================\n",
      "Dep. Variable:                      y   R-squared:                       0.369\n",
      "Model:                            OLS   Adj. R-squared:                  0.347\n",
      "Method:                 Least Squares   F-statistic:                     17.05\n",
      "Date:                Fri, 05 Jan 2024   Prob (F-statistic):           2.93e-13\n",
      "Time:                        18:05:02   Log-Likelihood:                -180.73\n",
      "No. Observations:                 152   AIC:                             373.5\n",
      "Df Residuals:                     146   BIC:                             391.6\n",
      "Df Model:                           5                                         \n",
      "Covariance Type:            nonrobust                                         \n",
      "==============================================================================\n",
      "                 coef    std err          t      P>|t|      [0.025      0.975]\n",
      "------------------------------------------------------------------------------\n",
      "const      -5.638e-17      0.066  -8.57e-16      1.000      -0.130       0.130\n",
      "x1            -0.2106      0.129     -1.628      0.106      -0.466       0.045\n",
      "x2             0.1563      0.157      0.995      0.321      -0.154       0.467\n",
      "x3             0.0129      0.133      0.097      0.923      -0.250       0.275\n",
      "x4             0.3781      0.185      2.044      0.043       0.013       0.744\n",
      "x5            -0.3921      0.101     -3.880      0.000      -0.592      -0.192\n",
      "==============================================================================\n",
      "Omnibus:                       36.063   Durbin-Watson:                   0.867\n",
      "Prob(Omnibus):                  0.000   Jarque-Bera (JB):               54.714\n",
      "Skew:                           1.248   Prob(JB):                     1.32e-12\n",
      "Kurtosis:                       4.551   Cond. No.                         6.62\n",
      "==============================================================================\n",
      "\n",
      "Notes:\n",
      "[1] Standard Errors assume that the covariance matrix of the errors is correctly specified.\n",
      "Coefficients:\n",
      " [-5.63785130e-17 -2.10563025e-01  1.56344957e-01  1.28819316e-02\n",
      "  3.78116096e-01 -3.92071257e-01]\n"
     ]
    }
   ],
   "source": [
    "X_train = gru_features[['max_kl_shift', 'max_level_shift', 'seas_acf1', 'max_var_shift', 'unitroot_pp']]\n",
    "y_train = gru_features[['TFE']]\n",
    "\n",
    "x_scaler = StandardScaler()\n",
    "y_scaler = StandardScaler()\n",
    "X_train = x_scaler.fit_transform(X_train)\n",
    "y_train = y_scaler.fit_transform(y_train)\n",
    "\n",
    "# Adding a constant to the model (intercept)\n",
    "X_train = sm.add_constant(X_train)\n",
    "# Create a model and fit it\n",
    "arima_model = sm.OLS(y_train, X_train).fit()\n",
    "\n",
    "\n",
    "print(arima_model.summary())\n",
    "\n",
    "# For a more direct view of the coefficients:\n",
    "print(\"Coefficients:\\n\", arima_model.params)"
   ],
   "metadata": {
    "collapsed": false,
    "ExecuteTime": {
     "end_time": "2024-01-05T17:05:02.343033800Z",
     "start_time": "2024-01-05T17:05:02.314214400Z"
    }
   }
  },
  {
   "cell_type": "code",
   "execution_count": 55,
   "outputs": [
    {
     "name": "stdout",
     "output_type": "stream",
     "text": [
      "                            OLS Regression Results                            \n",
      "==============================================================================\n",
      "Dep. Variable:                      y   R-squared:                       0.421\n",
      "Model:                            OLS   Adj. R-squared:                  0.407\n",
      "Method:                 Least Squares   F-statistic:                     30.41\n",
      "Date:                Sat, 30 Dec 2023   Prob (F-statistic):           3.55e-23\n",
      "Time:                        18:32:52   Log-Likelihood:                -246.31\n",
      "No. Observations:                 215   AIC:                             504.6\n",
      "Df Residuals:                     209   BIC:                             524.8\n",
      "Df Model:                           5                                         \n",
      "Covariance Type:            nonrobust                                         \n",
      "==============================================================================\n",
      "                 coef    std err          t      P>|t|      [0.025      0.975]\n",
      "------------------------------------------------------------------------------\n",
      "const       1.388e-17      0.053   2.64e-16      1.000      -0.104       0.104\n",
      "x1            -0.2927      0.063     -4.616      0.000      -0.418      -0.168\n",
      "x2             0.5857      0.160      3.656      0.000       0.270       0.902\n",
      "x3            -0.5352      0.067     -8.024      0.000      -0.667      -0.404\n",
      "x4            -0.1471      0.157     -0.939      0.349      -0.456       0.162\n",
      "x5            -0.2413      0.070     -3.440      0.001      -0.380      -0.103\n",
      "==============================================================================\n",
      "Omnibus:                      201.293   Durbin-Watson:                   1.013\n",
      "Prob(Omnibus):                  0.000   Jarque-Bera (JB):             3426.393\n",
      "Skew:                           3.754   Prob(JB):                         0.00\n",
      "Kurtosis:                      21.059   Cond. No.                         6.56\n",
      "==============================================================================\n",
      "\n",
      "Notes:\n",
      "[1] Standard Errors assume that the covariance matrix of the errors is correctly specified.\n",
      "Coefficients:\n",
      " [ 1.38777878e-17 -2.92749354e-01  5.85675917e-01 -5.35222316e-01\n",
      " -1.47134819e-01 -2.41311326e-01]\n"
     ]
    }
   ],
   "source": [
    "X_train = gboost_features[['max_kl_shift', 'max_level_shift', 'seas_acf1', 'max_var_shift', 'unitroot_pp']]\n",
    "y_train = gboost_features[['TFE']]\n",
    "\n",
    "x_scaler = StandardScaler()\n",
    "y_scaler = StandardScaler()\n",
    "X_train = x_scaler.fit_transform(X_train)\n",
    "y_train = y_scaler.fit_transform(y_train)\n",
    "\n",
    "# Adding a constant to the model (intercept)\n",
    "X_train = sm.add_constant(X_train)\n",
    "# Create a model and fit it\n",
    "arima_model = sm.OLS(y_train, X_train).fit()\n",
    "\n",
    "\n",
    "print(arima_model.summary())\n",
    "\n",
    "# For a more direct view of the coefficients:\n",
    "print(\"Coefficients:\\n\", arima_model.params)"
   ],
   "metadata": {
    "collapsed": false,
    "ExecuteTime": {
     "end_time": "2023-12-30T17:32:52.805686800Z",
     "start_time": "2023-12-30T17:32:52.748388800Z"
    }
   }
  }
 ],
 "metadata": {
  "kernelspec": {
   "display_name": "Python 3",
   "language": "python",
   "name": "python3"
  },
  "language_info": {
   "codemirror_mode": {
    "name": "ipython",
    "version": 2
   },
   "file_extension": ".py",
   "mimetype": "text/x-python",
   "name": "python",
   "nbconvert_exporter": "python",
   "pygments_lexer": "ipython2",
   "version": "2.7.6"
  }
 },
 "nbformat": 4,
 "nbformat_minor": 0
}
