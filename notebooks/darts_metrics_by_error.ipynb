{
 "cells": [
  {
   "cell_type": "code",
   "execution_count": 37,
   "metadata": {
    "collapsed": true,
    "ExecuteTime": {
     "end_time": "2023-09-13T20:26:57.944421800Z",
     "start_time": "2023-09-13T20:26:57.924387600Z"
    }
   },
   "outputs": [],
   "source": [
    "%matplotlib inline\n",
    "import os\n",
    "import pandas as pd\n",
    "import re\n",
    "import pickle as pkl\n",
    "from utils.metrics import *\n",
    "\n",
    "root_baseline_data_path = '../output/%s/%s/%s/'\n",
    "seq_len = 96\n",
    "\n",
    "\n",
    "def get_borders(data_name, data_len):\n",
    "    border1s = [0, 12 * 30 * 24 * 4 - seq_len, 12 * 30 * 24 * 4 + 4 * 30 * 24 * 4 - seq_len]\n",
    "    border2s = [12 * 30 * 24 * 4, 12 * 30 * 24 * 4 + 4 * 30 * 24 * 4, 12 * 30 * 24 * 4 + 8 * 30 * 24 * 4]\n",
    "\n",
    "    if data_name in ['ETTm1', 'ETTm2']:\n",
    "        return border1s, border2s\n",
    "\n",
    "    num_train = int(data_len * 0.7)\n",
    "    num_test = int(data_len * 0.2)\n",
    "    num_vali = data_len - num_train - num_test\n",
    "    border1s = [0, num_train - seq_len, data_len - num_test - seq_len]\n",
    "    border2s = [num_train, num_train + num_vali, data_len]\n",
    "\n",
    "    return border1s, border2s\n",
    "\n",
    "\n",
    "def get_eb(exp_str):\n",
    "    eb = re.findall('eb[_.0-9]+', exp_str)[0]\n",
    "    eb = eb.replace('eb', '')\n",
    "    eb = eb.replace('_', '')\n",
    "    eb = float(eb)\n",
    "    if eb >= 1:\n",
    "        eb *= 0.01\n",
    "\n",
    "    return eb\n",
    "\n",
    "\n",
    "def load(path):\n",
    "    with open(path, 'rb') as f:\n",
    "        return pkl.load(f)\n",
    "\n",
    "\n",
    "def metrics_ensemble(pred, true):\n",
    "    mae = MAE(pred, true)\n",
    "    rmse = RMSE(pred, true)\n",
    "    rse = RSE(pred, true)\n",
    "    nrmse = NRMSE(pred, true)\n",
    "    corr = CORR(pred, true)\n",
    "    psnr = PSNR(pred, true)\n",
    "\n",
    "    return {'mae': mae,\n",
    "            'rmse': rmse,\n",
    "            'nrmse': nrmse,\n",
    "            'rse': rse,\n",
    "            'corr': corr,\n",
    "            'psnr': psnr}\n",
    "\n",
    "\n",
    "def load_pkl(path):\n",
    "    with open(path, 'rb') as f:\n",
    "        return pkl.load(f)\n",
    "\n",
    "\n",
    "def get_baseline(model:str, data:str):\n",
    "    raw_data_path = root_baseline_data_path%(model, data, 'raw') + 'testing_true.pickle'\n",
    "    raw_data = load(raw_data_path)\n",
    "\n",
    "    tmetrics = []\n",
    "    ebs = []\n",
    "    for eblc in ['pmc', 'swing', 'sz']:\n",
    "        for root, dr, files in os.walk(root_baseline_data_path%(model, data, eblc)):\n",
    "            for file in files:\n",
    "                if 'eb_0_output' in file:\n",
    "                    results = metrics_ensemble(load(root+'/'+ file), raw_data)\n",
    "                    tmetrics.append(results)\n",
    "                    ebs.append(0.0)\n",
    "\n",
    "    df = pd.DataFrame(tmetrics)\n",
    "    df['eb'] = ebs\n",
    "    return df.groupby(['eb']).median()\n",
    "\n",
    "\n",
    "def get_transformation_error(data_file: str, data_name: str, eblc_name: str, target_ot: str, ebs_values: tuple):\n",
    "    df = pd.read_parquet(f'../data/compressed/{eblc_name}/{data_file}')\n",
    "    tmetrics = []\n",
    "    ebs = []\n",
    "    border1s, border2s = get_borders(data_name, len(df))\n",
    "    raw_df = df[f'{target_ot}-R'].values[border1s[2]:border2s[2]]\n",
    "    for eb in ebs_values:\n",
    "        decomp_target_var = df[[f'{target_ot}-E{eb}']].values[border1s[2]:border2s[2]][:, 0]\n",
    "        results = metrics_ensemble(decomp_target_var, raw_df)\n",
    "        tmetrics.append(results)\n",
    "        ebs.append(eb)\n",
    "\n",
    "    df = pd.DataFrame(tmetrics)\n",
    "    df['eb'] = ebs\n",
    "    return df\n",
    "\n",
    "def get_forecasting_results(model: str, data_file: str, data_name: str,\n",
    "                            eblc_name: str, target_ot: str, ebs_values: tuple):\n",
    "    df = pd.read_parquet(f'../data/compressed/{eblc_name}/{data_file}')\n",
    "    tmetrics = []\n",
    "    ebs = []\n",
    "    border1s, border2s = get_borders(data_name, len(df))\n",
    "    raw_df = df[f'{target_ot}-R'].values[border1s[2]:border2s[2]]\n",
    "    for eb in ebs_values:\n",
    "        decomp_target_var = df[[f'{target_ot}-E{eb}']].values[border1s[2]:border2s[2]][:, 0]\n",
    "        results = metrics_ensemble(decomp_target_var, raw_df)\n",
    "        tmetrics.append(results)\n",
    "        ebs.append(eb)\n",
    "\n",
    "    df = pd.DataFrame(tmetrics)\n",
    "    df['eb'] = ebs\n",
    "    dec_error = df.groupby(['eb']).median()\n",
    "\n",
    "    raw_data_path = root_baseline_data_path%(model, data_name, 'raw') + 'testing_true.pickle'\n",
    "    raw_data = load(raw_data_path)\n",
    "\n",
    "    tmetrics = []\n",
    "    ebs = []\n",
    "    for root, dr, files in os.walk(root_baseline_data_path%(model, data_name, eblc_name) + 'predictions'):\n",
    "        for file in files:\n",
    "            if 'eb_0_output' not in file:\n",
    "                results = metrics_ensemble(load(root+'/'+ file), raw_data)\n",
    "                tmetrics.append(results)\n",
    "                ebs.append(get_eb(file))\n",
    "\n",
    "    df = pd.DataFrame(tmetrics)\n",
    "    df['eb'] = ebs\n",
    "    fr = df.groupby(['eb']).median()\n",
    "    fr.sort_index(inplace=True)\n",
    "    return forecasting_results, dec_error\n",
    "\n",
    "\n",
    "def concat_baseline_forecasting_result(baseline_results, forecasting_results, dec_error):\n",
    "    concat_forecasting_results = pd.concat([baseline_results, forecasting_results], axis=0)\n",
    "    metric_indexed_results = pd.DataFrame()\n",
    "    metric_indexed_results['error'] = [0.0]+list(dec_error['nrmse'].values)\n",
    "    metric_indexed_results['mae'] = concat_forecasting_results['mae'].values\n",
    "    metric_indexed_results['rmse'] = concat_forecasting_results['rmse'].values\n",
    "    metric_indexed_results['nrmse'] = concat_forecasting_results['nrmse'].values\n",
    "    metric_indexed_results['rse'] = concat_forecasting_results['rse'].values\n",
    "    metric_indexed_results['corr'] = concat_forecasting_results['corr'].values\n",
    "    metric_indexed_results['data_corr'] = [1.0]+list(dec_error['corr'].values)\n",
    "    metric_indexed_results.set_index('error', inplace=True)\n",
    "    metric_indexed_results['eb'] = [0.0]+list(dec_error.index)\n",
    "    return metric_indexed_results\n",
    "\n"
   ]
  },
  {
   "cell_type": "code",
   "execution_count": 43,
   "outputs": [
    {
     "name": "stdout",
     "output_type": "stream",
     "text": [
      "Baseline gru\n"
     ]
    },
    {
     "data": {
      "text/plain": "          mae      rmse     nrmse       rse      corr       psnr\neb                                                              \n0.0  0.607733  0.827525  0.134297  0.957168  0.581284  17.438654",
      "text/html": "<div>\n<style scoped>\n    .dataframe tbody tr th:only-of-type {\n        vertical-align: middle;\n    }\n\n    .dataframe tbody tr th {\n        vertical-align: top;\n    }\n\n    .dataframe thead th {\n        text-align: right;\n    }\n</style>\n<table border=\"1\" class=\"dataframe\">\n  <thead>\n    <tr style=\"text-align: right;\">\n      <th></th>\n      <th>mae</th>\n      <th>rmse</th>\n      <th>nrmse</th>\n      <th>rse</th>\n      <th>corr</th>\n      <th>psnr</th>\n    </tr>\n    <tr>\n      <th>eb</th>\n      <th></th>\n      <th></th>\n      <th></th>\n      <th></th>\n      <th></th>\n      <th></th>\n    </tr>\n  </thead>\n  <tbody>\n    <tr>\n      <th>0.0</th>\n      <td>0.607733</td>\n      <td>0.827525</td>\n      <td>0.134297</td>\n      <td>0.957168</td>\n      <td>0.581284</td>\n      <td>17.438654</td>\n    </tr>\n  </tbody>\n</table>\n</div>"
     },
     "metadata": {},
     "output_type": "display_data"
    },
    {
     "name": "stdout",
     "output_type": "stream",
     "text": [
      "gru pmc aus_electrical_demand\n",
      "gru swing aus_electrical_demand\n",
      "gru sz aus_electrical_demand\n",
      "Baseline nbeats\n"
     ]
    },
    {
     "data": {
      "text/plain": "          mae    rmse     nrmse      rse     corr       psnr\neb                                                          \n0.0  0.161433  0.2522  0.040929  0.29171  0.96059  27.759378",
      "text/html": "<div>\n<style scoped>\n    .dataframe tbody tr th:only-of-type {\n        vertical-align: middle;\n    }\n\n    .dataframe tbody tr th {\n        vertical-align: top;\n    }\n\n    .dataframe thead th {\n        text-align: right;\n    }\n</style>\n<table border=\"1\" class=\"dataframe\">\n  <thead>\n    <tr style=\"text-align: right;\">\n      <th></th>\n      <th>mae</th>\n      <th>rmse</th>\n      <th>nrmse</th>\n      <th>rse</th>\n      <th>corr</th>\n      <th>psnr</th>\n    </tr>\n    <tr>\n      <th>eb</th>\n      <th></th>\n      <th></th>\n      <th></th>\n      <th></th>\n      <th></th>\n      <th></th>\n    </tr>\n  </thead>\n  <tbody>\n    <tr>\n      <th>0.0</th>\n      <td>0.161433</td>\n      <td>0.2522</td>\n      <td>0.040929</td>\n      <td>0.29171</td>\n      <td>0.96059</td>\n      <td>27.759378</td>\n    </tr>\n  </tbody>\n</table>\n</div>"
     },
     "metadata": {},
     "output_type": "display_data"
    },
    {
     "name": "stdout",
     "output_type": "stream",
     "text": [
      "nbeats pmc aus_electrical_demand\n",
      "nbeats swing aus_electrical_demand\n",
      "nbeats sz aus_electrical_demand\n",
      "Baseline transformer\n"
     ]
    },
    {
     "data": {
      "text/plain": "          mae      rmse     nrmse       rse      corr       psnr\neb                                                              \n0.0  0.168923  0.258873  0.042012  0.299429  0.959474  27.532525",
      "text/html": "<div>\n<style scoped>\n    .dataframe tbody tr th:only-of-type {\n        vertical-align: middle;\n    }\n\n    .dataframe tbody tr th {\n        vertical-align: top;\n    }\n\n    .dataframe thead th {\n        text-align: right;\n    }\n</style>\n<table border=\"1\" class=\"dataframe\">\n  <thead>\n    <tr style=\"text-align: right;\">\n      <th></th>\n      <th>mae</th>\n      <th>rmse</th>\n      <th>nrmse</th>\n      <th>rse</th>\n      <th>corr</th>\n      <th>psnr</th>\n    </tr>\n    <tr>\n      <th>eb</th>\n      <th></th>\n      <th></th>\n      <th></th>\n      <th></th>\n      <th></th>\n      <th></th>\n    </tr>\n  </thead>\n  <tbody>\n    <tr>\n      <th>0.0</th>\n      <td>0.168923</td>\n      <td>0.258873</td>\n      <td>0.042012</td>\n      <td>0.299429</td>\n      <td>0.959474</td>\n      <td>27.532525</td>\n    </tr>\n  </tbody>\n</table>\n</div>"
     },
     "metadata": {},
     "output_type": "display_data"
    },
    {
     "name": "stdout",
     "output_type": "stream",
     "text": [
      "transformer pmc aus_electrical_demand\n",
      "transformer swing aus_electrical_demand\n",
      "transformer sz aus_electrical_demand\n"
     ]
    }
   ],
   "source": [
    "target_variables_map = {'ettm1':'OT', 'ettm2': 'OT', 'aus_electrical_demand': 'y', 'weather': 'OT', 'wind': 'active power'}\n",
    "bounds = [(0.01, 0.03, 0.05, 0.07, 0.10, 0.15, 0.20, 0.25, 0.30, 0.40, 0.50, 0.65, 0.8), (1, 3, 5, 7, 10, 15, 20, 25, 30, 40, 50, 65, 80)]\n",
    "# for data in ['ettm1', 'ettm2', 'weather', 'aus_electrical_demand', 'solar']:\n",
    "for m in ['gru', 'nbeats', 'transformer']:\n",
    "    print('Baseline', m)\n",
    "    display(get_baseline(m, 'aus'))\n",
    "    all_results = pd.DataFrame()\n",
    "    for data in ['aus_electrical_demand']:\n",
    "        data_results = pd.DataFrame()\n",
    "        for eblc in ['pmc', 'swing', 'sz']:\n",
    "            print(m, eblc, data)\n",
    "            if 'solar' in data:\n",
    "                baseline_results, forecasting_results, dec_error = get_forecasting_results(model='arima', eblc_name=eblc, ebs_values=bounds[0] if eblc == 'sz' else bounds[1])\n",
    "            elif 'aus' in data:\n",
    "                baseline_results = get_baseline(m, 'aus')\n",
    "                forecasting_results, dec_error = get_forecasting_results(model=m,\n",
    "                                                                         data_file=f'{data}_points.parquet',\n",
    "                                                                         data_name='aus',\n",
    "                                                                         eblc_name=eblc,\n",
    "                                                                         target_ot='y',\n",
    "                                                                         ebs_values=bounds[0] if eblc == 'sz' else np.asarray(bounds[1])*1.0)\n",
    "            else:\n",
    "                baseline_results = get_baseline(m, data)\n",
    "                forecasting_results, dec_error = get_forecasting_results(model=m,\n",
    "                                                                         data_file=f'{data}_output_data_points.parquet',\n",
    "                                                                         data_name=data,\n",
    "                                                                         eblc_name=eblc,\n",
    "                                                                         target_ot=target_variables_map[data] if eblc == 'sz' else target_variables_map[data].replace(' ', '_'),\n",
    "                                                                         ebs_values=bounds[0] if eblc == 'sz' else bounds[1])\n",
    "            concatenated = concat_baseline_forecasting_result(baseline_results, forecasting_results, dec_error)\n",
    "            concatenated['eblc'] = eblc\n",
    "            concatenated.at[0, 'eblc'] = 'baseline'\n",
    "            data_results = pd.concat([data_results, concatenated])\n",
    "            data_results.drop_duplicates(inplace=True)\n",
    "\n",
    "        data_results['data'] = data\n",
    "        all_results = pd.concat([all_results, data_results])\n",
    "    all_results.to_csv(f'../results/tfe/{m}_results.csv')"
   ],
   "metadata": {
    "collapsed": false,
    "ExecuteTime": {
     "end_time": "2023-09-14T09:29:52.565865600Z",
     "start_time": "2023-09-14T09:29:09.265707Z"
    }
   }
  },
  {
   "cell_type": "code",
   "execution_count": null,
   "outputs": [],
   "source": [],
   "metadata": {
    "collapsed": false
   }
  }
 ],
 "metadata": {
  "kernelspec": {
   "display_name": "Python 3",
   "language": "python",
   "name": "python3"
  },
  "language_info": {
   "codemirror_mode": {
    "name": "ipython",
    "version": 2
   },
   "file_extension": ".py",
   "mimetype": "text/x-python",
   "name": "python",
   "nbconvert_exporter": "python",
   "pygments_lexer": "ipython2",
   "version": "2.7.6"
  }
 },
 "nbformat": 4,
 "nbformat_minor": 0
}
